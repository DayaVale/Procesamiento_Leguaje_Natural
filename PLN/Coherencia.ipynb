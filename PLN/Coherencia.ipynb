{
  "nbformat": 4,
  "nbformat_minor": 0,
  "metadata": {
    "colab": {
      "provenance": []
    },
    "kernelspec": {
      "name": "python3",
      "display_name": "Python 3"
    },
    "language_info": {
      "name": "python"
    }
  },
  "cells": [
    {
      "cell_type": "markdown",
      "source": [
        "# LDA: Latent Dirichlet Allocation\n",
        "\n",
        "\n",
        "* El LDA, es un ***modelo probabilístico*** que se enmarca dentro de los ***modelos generativos*** ya que trata de describir como se crea un documento. (http://www.jmlr.org/papers/volume3/blei03a/blei03a.pdf)\n",
        "\n",
        "\n",
        "* El LDA propone que ***un documento se crea mediante la selección de los temas y las palabras de acuerdo a las representaciones probabilísticas del texto natural del documento***.\n",
        "\n",
        "\n",
        "* El LDA calcula **dos matrices de probabilidad P(w|z) y P(z|θ)**, donde:\n",
        "\n",
        "    - **P(w|z)**: es la probabilidad de que dado un tema salga una palabra\n",
        "    - **P(z|θ)**: es la probabilidad de que un documento pertenezca a un tema.\n",
        "    \n",
        "$$ P(w|\\theta) = \\sum_{z \\in  Z} P(w | z) \\cdot P(z|\\theta) $$\n",
        "\n",
        "\n",
        "* La representación en \"*Plate Notation*\" o notación de placas del LDA es la siguiente:\n",
        "\n",
        "<center><img src=\"https://github.com/Fabian830348/cursos/blob/master/Imagen/LDA.png?raw=true\" alt=\"centered image\" width=\"500\" height=\"300\"></center>\n",
        "\n",
        "* Donde\n",
        "\n",
        "    + ***$K$***: Número de temas. \n",
        "    + ***$N$***: Número de palabras\n",
        "    + ***$M$***: Número de documentos: \n",
        "    + ***$\\alpha$***: Parámetro de Dirichlet. Este parámetro es un vector de $K$ componentes que describe el conocimiento a priori que se tiene sobre como los temas se distribuyen en los documentos. \n",
        "        * Pocos temas -> Valor de $\\alpha$ pequeño\n",
        "        * Muchos temas  -> Valor de $\\alpha$ grande\n",
        "    + ***$\\beta$***: Parámetro de Dirichlet. Este parámetro es un vector de $N$ componentes que describe el conocimiento a priori que se tiene sobre como las palabras se distribuyen en cada tema. \n",
        "        * Tema con pocas palabras -> Valor de $\\beta$ cercano a cero\n",
        "        * Tema con muchas palabras -> Valor de $\\beta$ cercano a uno\n",
        "    + ***$\\theta$***: Distribución de probabilidad de que un documento pertenezca a un tema. \n",
        "    + ***$Z$***: Distribución de probabilidad de que una palabra pertenezca a un tema. \n",
        "    + ***$W$***: Identifica todas las palabras en todos los documentos.\n",
        "    + ***$\\varphi$***: Distribución de probabilidad de que dado un tema salga una palabra.\n",
        "    \n",
        "* Haciendo la comparación con el LSI, el ***LDA nos tienen que proporcionar***:\n",
        "    - Matriz de probabilidades \"***Temas-Palabras***\": Nos indica la probabilidad de que dado un tema, salga una palabra. \n",
        "    - Matriz de probabilidades \"***Documentos-Temas***\": Nos indica la probabilidad de que un documento pertenezca a un tema.\n",
        "    \n",
        "    \n",
        "* De esta manera podemos ver las relaciones entre palabras y entre documentos.\n",
        "\n",
        "\n",
        "* ***OBSERVACIÓN IMPORTANTE***: *El LDA trabaja con distribuciones de probabilidad que representan la probabilidad de pertenencia de cada palabra o documento a cada tema. Estas distribuciones de probabilidad no tienen que ser tratadas como vectores de factores latentes (como en el LSI) para calcular similaridades entre documentos, ya que al tratarse de distribuciones de probabilidad no hay que aplicar medidas de distancias para calcular similaridades; si no la ***Divergencia de Kullback-Liebler (KL)*** para estudiar las similaridades entre distribuciones de probabilidad.*\n",
        "\n",
        "\n",
        "$$ KL(p ||q) = \\sum_{i}p(i)ln \\frac{p(i)}{q(i)} $$"
      ],
      "metadata": {
        "id": "Da1XR-VIVk0Z"
      }
    },
    {
      "cell_type": "markdown",
      "source": [
        "Vamos a revisar el ejemplo que hicimos con LSI, ahora con LDA"
      ],
      "metadata": {
        "id": "a2oyBauKVshC"
      }
    },
    {
      "cell_type": "code",
      "execution_count": 1,
      "metadata": {
        "id": "0iQbdxmJVfxX"
      },
      "outputs": [],
      "source": [
        "documento = [\"juego juego juego soccer soccer campeonato campeonato campeonato ronaldo ronaldo ronaldo ronaldo ronaldo messi\",\n",
        "      \"soccer soccer soccer soccer soccer ronaldo ronaldo ronaldo ronaldo messi messi\",\n",
        "      \"juego juego soccer soccer soccer soccer soccer soccer soccer messi messi messi messi messi\",\n",
        "      \"educacion educacion educacion educacion MEN MEN MEN MEN MEN MEN gaviria gaviria gaviria gaviria gaviria\",\n",
        "      \"educacion educacion educacion educacion MEN MEN MEN deuda deuda deuda deuda colegios colegios colegios gaviria\",\n",
        "      \"educacion educacion educacion educacion deuda deuda deuda deuda deuda deuda colegios colegios colegios colegios colegios\",\n",
        "      \"dinero fmi fmi fmi fmi fmi ue ue ue ue pib pib pib ibex ibex\",\n",
        "      \"colegios gaviria dinero dinero dinero dinero fmi fmi fmi fmi ue ue ue ue pib\",\n",
        "      \"MEN deuda colegios gaviria dinero dinero dinero dinero fmi fmi fmi fmi ue ue ue \",\n",
        "      \"soccer educacion pib\",\n",
        "      \"soccer colegios campeonato gaviria\"]"
      ]
    },
    {
      "cell_type": "markdown",
      "source": [
        "Bolsa de palabras"
      ],
      "metadata": {
        "id": "4p98zlFnVver"
      }
    },
    {
      "cell_type": "code",
      "source": [
        "# Tokenizamos\n",
        "# para imprimir de otra forma\n",
        "from pprint import pprint\n",
        "# diccionario de gensim\n",
        "from gensim import corpora\n",
        "from collections import defaultdict\n",
        "documents = [word.split() for word in documento]\n",
        "\n",
        "# Creamos el diccionario (vocabulario)\n",
        "frequency = defaultdict(int)\n",
        "for doc in documents:\n",
        "    for token in doc:\n",
        "        frequency[token] += 1\n",
        "        \n",
        "documents = [[token for token in doc] for doc in documents]\n",
        "dictionary = corpora.Dictionary(documents)\n",
        "print('Diccionario:')\n",
        "pprint(dictionary.token2id)\n",
        "\n",
        "# Creamos la Bolsa de Palabras\n",
        "corpus = [dictionary.doc2bow(doc) for doc in documents]\n",
        "print('\\nBolsa de Palabras:')\n",
        "pprint(corpus)"
      ],
      "metadata": {
        "colab": {
          "base_uri": "https://localhost:8080/"
        },
        "id": "eZXZbZVSVv1c",
        "outputId": "2d0420b9-2098-4b05-f944-ebe7cc8f98d1"
      },
      "execution_count": 2,
      "outputs": [
        {
          "output_type": "stream",
          "name": "stdout",
          "text": [
            "Diccionario:\n",
            "{'MEN': 5,\n",
            " 'campeonato': 0,\n",
            " 'colegios': 8,\n",
            " 'deuda': 9,\n",
            " 'dinero': 10,\n",
            " 'educacion': 6,\n",
            " 'fmi': 11,\n",
            " 'gaviria': 7,\n",
            " 'ibex': 12,\n",
            " 'juego': 1,\n",
            " 'messi': 2,\n",
            " 'pib': 13,\n",
            " 'ronaldo': 3,\n",
            " 'soccer': 4,\n",
            " 'ue': 14}\n",
            "\n",
            "Bolsa de Palabras:\n",
            "[[(0, 3), (1, 3), (2, 1), (3, 5), (4, 2)],\n",
            " [(2, 2), (3, 4), (4, 5)],\n",
            " [(1, 2), (2, 5), (4, 7)],\n",
            " [(5, 6), (6, 4), (7, 5)],\n",
            " [(5, 3), (6, 4), (7, 1), (8, 3), (9, 4)],\n",
            " [(6, 4), (8, 5), (9, 6)],\n",
            " [(10, 1), (11, 5), (12, 2), (13, 3), (14, 4)],\n",
            " [(7, 1), (8, 1), (10, 4), (11, 4), (13, 1), (14, 4)],\n",
            " [(5, 1), (7, 1), (8, 1), (9, 1), (10, 4), (11, 4), (14, 3)],\n",
            " [(4, 1), (6, 1), (13, 1)],\n",
            " [(0, 1), (4, 1), (7, 1), (8, 1)]]\n"
          ]
        }
      ]
    },
    {
      "cell_type": "markdown",
      "source": [
        "## Generación del Modelo:\n",
        "\n",
        "* Gensim tiene implementado el LDA en la clase ***LdaModel***: https://radimrehurek.com/gensim/models/ldamodel.html\n",
        "\n",
        "\n",
        "* Como parámetros relevantes necesita:\n",
        "    1. Corpus\n",
        "    2. Número de Topics\n",
        "    3. Diccionario o Vocabulario del Corpus"
      ],
      "metadata": {
        "id": "LCnLlAfFVzbz"
      }
    },
    {
      "cell_type": "code",
      "source": [
        "from gensim.models import LdaModel\n",
        "\n",
        "lda_model = LdaModel(corpus=corpus, \n",
        "                     num_topics=3, \n",
        "                     id2word=dictionary, \n",
        "                     random_state=168)"
      ],
      "metadata": {
        "colab": {
          "base_uri": "https://localhost:8080/"
        },
        "id": "MJFeUr5PV10U",
        "outputId": "a8604aaa-ddfa-46ea-d327-3209506ba2d6"
      },
      "execution_count": 4,
      "outputs": [
        {
          "output_type": "stream",
          "name": "stderr",
          "text": [
            "WARNING:gensim.models.ldamodel:too few updates, training might not converge; consider increasing the number of passes or iterations to improve accuracy\n"
          ]
        }
      ]
    },
    {
      "cell_type": "markdown",
      "source": [
        "## Matriz de probabilidades \"***Documentos-Temas***\"\n",
        "\n",
        "* Obtenemos la probabilidad de que cada documento pertenezca a uno de los 3 temas de la siguiente manera:"
      ],
      "metadata": {
        "id": "n8sjeSdUV3lZ"
      }
    },
    {
      "cell_type": "code",
      "source": [
        "import numpy as np\n",
        "docs_topics = np.array([[tup[1] for tup in lst] for lst in lda_model[corpus]])\n",
        "docs_topics"
      ],
      "metadata": {
        "colab": {
          "base_uri": "https://localhost:8080/"
        },
        "id": "rqeC1n79V4PH",
        "outputId": "148f06cf-dfec-47ca-885b-8082e14559f5"
      },
      "execution_count": 5,
      "outputs": [
        {
          "output_type": "execute_result",
          "data": {
            "text/plain": [
              "array([[0.9554735 , 0.02226917, 0.02225735],\n",
              "       [0.9443553 , 0.0278324 , 0.02781233],\n",
              "       [0.955479  , 0.02226874, 0.02225227],\n",
              "       [0.02358867, 0.95468956, 0.02172177],\n",
              "       [0.02161127, 0.9571557 , 0.02123298],\n",
              "       [0.02107015, 0.95780784, 0.02112204],\n",
              "       [0.02093267, 0.02089469, 0.9581726 ],\n",
              "       [0.02132919, 0.02236205, 0.9563087 ],\n",
              "       [0.02175598, 0.10594881, 0.8722952 ],\n",
              "       [0.47131312, 0.26471376, 0.26397315],\n",
              "       [0.6613934 , 0.2684572 , 0.07014938]], dtype=float32)"
            ]
          },
          "metadata": {},
          "execution_count": 5
        }
      ]
    },
    {
      "cell_type": "markdown",
      "source": [
        "Se puede observar que:\n",
        "\n",
        "- Devuelve para cada documento la probabilidad de que el documento pertenezca a cada tema y que es un vector de probabilidades ya que la suma de las probabilidades es igual a $1$.\n",
        "\n",
        "- Para ver los factores de cada una de las palabras se hace lo siguiente:"
      ],
      "metadata": {
        "id": "8xvRLux9V62W"
      }
    },
    {
      "cell_type": "code",
      "source": [
        "import pandas as pd\n",
        "pd.options.display.float_format = '{:,.2f}'.format\n",
        "index = ['Doc {}'.format(i+1) for i,doc in enumerate(documents)]\n",
        "pd.DataFrame(docs_topics, index=index, columns=['Topic 1', 'Topic 2', 'Topic 3']).head(11)"
      ],
      "metadata": {
        "colab": {
          "base_uri": "https://localhost:8080/",
          "height": 394
        },
        "id": "c65CTmI5V8hc",
        "outputId": "867d419c-70c8-425c-c8fb-883bf24884e5"
      },
      "execution_count": 6,
      "outputs": [
        {
          "output_type": "execute_result",
          "data": {
            "text/plain": [
              "        Topic 1  Topic 2  Topic 3\n",
              "Doc 1      0.96     0.02     0.02\n",
              "Doc 2      0.94     0.03     0.03\n",
              "Doc 3      0.96     0.02     0.02\n",
              "Doc 4      0.02     0.95     0.02\n",
              "Doc 5      0.02     0.96     0.02\n",
              "Doc 6      0.02     0.96     0.02\n",
              "Doc 7      0.02     0.02     0.96\n",
              "Doc 8      0.02     0.02     0.96\n",
              "Doc 9      0.02     0.11     0.87\n",
              "Doc 10     0.47     0.26     0.26\n",
              "Doc 11     0.66     0.27     0.07"
            ],
            "text/html": [
              "\n",
              "  <div id=\"df-6dee68b2-c388-434a-9794-f8e3019f0d67\">\n",
              "    <div class=\"colab-df-container\">\n",
              "      <div>\n",
              "<style scoped>\n",
              "    .dataframe tbody tr th:only-of-type {\n",
              "        vertical-align: middle;\n",
              "    }\n",
              "\n",
              "    .dataframe tbody tr th {\n",
              "        vertical-align: top;\n",
              "    }\n",
              "\n",
              "    .dataframe thead th {\n",
              "        text-align: right;\n",
              "    }\n",
              "</style>\n",
              "<table border=\"1\" class=\"dataframe\">\n",
              "  <thead>\n",
              "    <tr style=\"text-align: right;\">\n",
              "      <th></th>\n",
              "      <th>Topic 1</th>\n",
              "      <th>Topic 2</th>\n",
              "      <th>Topic 3</th>\n",
              "    </tr>\n",
              "  </thead>\n",
              "  <tbody>\n",
              "    <tr>\n",
              "      <th>Doc 1</th>\n",
              "      <td>0.96</td>\n",
              "      <td>0.02</td>\n",
              "      <td>0.02</td>\n",
              "    </tr>\n",
              "    <tr>\n",
              "      <th>Doc 2</th>\n",
              "      <td>0.94</td>\n",
              "      <td>0.03</td>\n",
              "      <td>0.03</td>\n",
              "    </tr>\n",
              "    <tr>\n",
              "      <th>Doc 3</th>\n",
              "      <td>0.96</td>\n",
              "      <td>0.02</td>\n",
              "      <td>0.02</td>\n",
              "    </tr>\n",
              "    <tr>\n",
              "      <th>Doc 4</th>\n",
              "      <td>0.02</td>\n",
              "      <td>0.95</td>\n",
              "      <td>0.02</td>\n",
              "    </tr>\n",
              "    <tr>\n",
              "      <th>Doc 5</th>\n",
              "      <td>0.02</td>\n",
              "      <td>0.96</td>\n",
              "      <td>0.02</td>\n",
              "    </tr>\n",
              "    <tr>\n",
              "      <th>Doc 6</th>\n",
              "      <td>0.02</td>\n",
              "      <td>0.96</td>\n",
              "      <td>0.02</td>\n",
              "    </tr>\n",
              "    <tr>\n",
              "      <th>Doc 7</th>\n",
              "      <td>0.02</td>\n",
              "      <td>0.02</td>\n",
              "      <td>0.96</td>\n",
              "    </tr>\n",
              "    <tr>\n",
              "      <th>Doc 8</th>\n",
              "      <td>0.02</td>\n",
              "      <td>0.02</td>\n",
              "      <td>0.96</td>\n",
              "    </tr>\n",
              "    <tr>\n",
              "      <th>Doc 9</th>\n",
              "      <td>0.02</td>\n",
              "      <td>0.11</td>\n",
              "      <td>0.87</td>\n",
              "    </tr>\n",
              "    <tr>\n",
              "      <th>Doc 10</th>\n",
              "      <td>0.47</td>\n",
              "      <td>0.26</td>\n",
              "      <td>0.26</td>\n",
              "    </tr>\n",
              "    <tr>\n",
              "      <th>Doc 11</th>\n",
              "      <td>0.66</td>\n",
              "      <td>0.27</td>\n",
              "      <td>0.07</td>\n",
              "    </tr>\n",
              "  </tbody>\n",
              "</table>\n",
              "</div>\n",
              "      <button class=\"colab-df-convert\" onclick=\"convertToInteractive('df-6dee68b2-c388-434a-9794-f8e3019f0d67')\"\n",
              "              title=\"Convert this dataframe to an interactive table.\"\n",
              "              style=\"display:none;\">\n",
              "        \n",
              "  <svg xmlns=\"http://www.w3.org/2000/svg\" height=\"24px\"viewBox=\"0 0 24 24\"\n",
              "       width=\"24px\">\n",
              "    <path d=\"M0 0h24v24H0V0z\" fill=\"none\"/>\n",
              "    <path d=\"M18.56 5.44l.94 2.06.94-2.06 2.06-.94-2.06-.94-.94-2.06-.94 2.06-2.06.94zm-11 1L8.5 8.5l.94-2.06 2.06-.94-2.06-.94L8.5 2.5l-.94 2.06-2.06.94zm10 10l.94 2.06.94-2.06 2.06-.94-2.06-.94-.94-2.06-.94 2.06-2.06.94z\"/><path d=\"M17.41 7.96l-1.37-1.37c-.4-.4-.92-.59-1.43-.59-.52 0-1.04.2-1.43.59L10.3 9.45l-7.72 7.72c-.78.78-.78 2.05 0 2.83L4 21.41c.39.39.9.59 1.41.59.51 0 1.02-.2 1.41-.59l7.78-7.78 2.81-2.81c.8-.78.8-2.07 0-2.86zM5.41 20L4 18.59l7.72-7.72 1.47 1.35L5.41 20z\"/>\n",
              "  </svg>\n",
              "      </button>\n",
              "      \n",
              "  <style>\n",
              "    .colab-df-container {\n",
              "      display:flex;\n",
              "      flex-wrap:wrap;\n",
              "      gap: 12px;\n",
              "    }\n",
              "\n",
              "    .colab-df-convert {\n",
              "      background-color: #E8F0FE;\n",
              "      border: none;\n",
              "      border-radius: 50%;\n",
              "      cursor: pointer;\n",
              "      display: none;\n",
              "      fill: #1967D2;\n",
              "      height: 32px;\n",
              "      padding: 0 0 0 0;\n",
              "      width: 32px;\n",
              "    }\n",
              "\n",
              "    .colab-df-convert:hover {\n",
              "      background-color: #E2EBFA;\n",
              "      box-shadow: 0px 1px 2px rgba(60, 64, 67, 0.3), 0px 1px 3px 1px rgba(60, 64, 67, 0.15);\n",
              "      fill: #174EA6;\n",
              "    }\n",
              "\n",
              "    [theme=dark] .colab-df-convert {\n",
              "      background-color: #3B4455;\n",
              "      fill: #D2E3FC;\n",
              "    }\n",
              "\n",
              "    [theme=dark] .colab-df-convert:hover {\n",
              "      background-color: #434B5C;\n",
              "      box-shadow: 0px 1px 3px 1px rgba(0, 0, 0, 0.15);\n",
              "      filter: drop-shadow(0px 1px 2px rgba(0, 0, 0, 0.3));\n",
              "      fill: #FFFFFF;\n",
              "    }\n",
              "  </style>\n",
              "\n",
              "      <script>\n",
              "        const buttonEl =\n",
              "          document.querySelector('#df-6dee68b2-c388-434a-9794-f8e3019f0d67 button.colab-df-convert');\n",
              "        buttonEl.style.display =\n",
              "          google.colab.kernel.accessAllowed ? 'block' : 'none';\n",
              "\n",
              "        async function convertToInteractive(key) {\n",
              "          const element = document.querySelector('#df-6dee68b2-c388-434a-9794-f8e3019f0d67');\n",
              "          const dataTable =\n",
              "            await google.colab.kernel.invokeFunction('convertToInteractive',\n",
              "                                                     [key], {});\n",
              "          if (!dataTable) return;\n",
              "\n",
              "          const docLinkHtml = 'Like what you see? Visit the ' +\n",
              "            '<a target=\"_blank\" href=https://colab.research.google.com/notebooks/data_table.ipynb>data table notebook</a>'\n",
              "            + ' to learn more about interactive tables.';\n",
              "          element.innerHTML = '';\n",
              "          dataTable['output_type'] = 'display_data';\n",
              "          await google.colab.output.renderOutput(dataTable, element);\n",
              "          const docLink = document.createElement('div');\n",
              "          docLink.innerHTML = docLinkHtml;\n",
              "          element.appendChild(docLink);\n",
              "        }\n",
              "      </script>\n",
              "    </div>\n",
              "  </div>\n",
              "  "
            ]
          },
          "metadata": {},
          "execution_count": 6
        }
      ]
    },
    {
      "cell_type": "markdown",
      "source": [
        "## Matriz de probabilidades \"***Temas-Palabras***\"\n",
        "\n",
        "\n",
        "* Obtenemos la probabilidad de que dado uno de los 3 temas aparezca una de las 15 palabras. Al igual que en la matriz anterior la suma de todas las probabilidades de las palabras en un tema tiene que sumar $1$.\n",
        "\n",
        "\n",
        "* A continuación obtenemos la probabilidad de que dado un tema aparezca una palabra:"
      ],
      "metadata": {
        "id": "cGgOrpMAV-G-"
      }
    },
    {
      "cell_type": "code",
      "source": [
        "words_topics = lda_model.get_topics()\n",
        "words_topics"
      ],
      "metadata": {
        "colab": {
          "base_uri": "https://localhost:8080/"
        },
        "id": "OqAWZTUPV-mV",
        "outputId": "a2058d04-83a5-4f16-855e-8a1a27dcaab4"
      },
      "execution_count": 7,
      "outputs": [
        {
          "output_type": "execute_result",
          "data": {
            "text/plain": [
              "array([[0.07191385, 0.0890931 , 0.13870066, 0.15540098, 0.26856998,\n",
              "        0.06613757, 0.05746236, 0.08111633, 0.02175319, 0.00639754,\n",
              "        0.00625349, 0.00662619, 0.0057096 , 0.01868423, 0.00618097],\n",
              "       [0.00883434, 0.00860135, 0.00886778, 0.00929843, 0.0141044 ,\n",
              "        0.13715626, 0.24607545, 0.06816376, 0.200732  , 0.24763934,\n",
              "        0.0089917 , 0.009497  , 0.00826988, 0.01391833, 0.00985006],\n",
              "       [0.00720722, 0.00698804, 0.00781871, 0.00761892, 0.00916188,\n",
              "        0.02773269, 0.0079182 , 0.04699612, 0.04775178, 0.02722945,\n",
              "        0.18444683, 0.2632963 , 0.046198  , 0.08595766, 0.22367825]],\n",
              "      dtype=float32)"
            ]
          },
          "metadata": {},
          "execution_count": 7
        }
      ]
    },
    {
      "cell_type": "markdown",
      "source": [
        "Colocamos los resultados en una tabla"
      ],
      "metadata": {
        "id": "0zAbtYC8WBsu"
      }
    },
    {
      "cell_type": "code",
      "source": [
        "pd.DataFrame(words_topics, index=['Topic 1', 'Topic 2', 'Topic 3'], columns=dictionary.token2id.keys()).head()"
      ],
      "metadata": {
        "colab": {
          "base_uri": "https://localhost:8080/",
          "height": 143
        },
        "id": "Q9rYErceWDDl",
        "outputId": "a76167dc-6713-498b-db2a-6d1b3b1e3aa2"
      },
      "execution_count": 8,
      "outputs": [
        {
          "output_type": "execute_result",
          "data": {
            "text/plain": [
              "         campeonato  juego  messi  ronaldo  soccer  MEN  educacion  gaviria  \\\n",
              "Topic 1        0.07   0.09   0.14     0.16    0.27 0.07       0.06     0.08   \n",
              "Topic 2        0.01   0.01   0.01     0.01    0.01 0.14       0.25     0.07   \n",
              "Topic 3        0.01   0.01   0.01     0.01    0.01 0.03       0.01     0.05   \n",
              "\n",
              "         colegios  deuda  dinero  fmi  ibex  pib   ue  \n",
              "Topic 1      0.02   0.01    0.01 0.01  0.01 0.02 0.01  \n",
              "Topic 2      0.20   0.25    0.01 0.01  0.01 0.01 0.01  \n",
              "Topic 3      0.05   0.03    0.18 0.26  0.05 0.09 0.22  "
            ],
            "text/html": [
              "\n",
              "  <div id=\"df-70fece39-56e4-46f5-a463-a653555463b0\">\n",
              "    <div class=\"colab-df-container\">\n",
              "      <div>\n",
              "<style scoped>\n",
              "    .dataframe tbody tr th:only-of-type {\n",
              "        vertical-align: middle;\n",
              "    }\n",
              "\n",
              "    .dataframe tbody tr th {\n",
              "        vertical-align: top;\n",
              "    }\n",
              "\n",
              "    .dataframe thead th {\n",
              "        text-align: right;\n",
              "    }\n",
              "</style>\n",
              "<table border=\"1\" class=\"dataframe\">\n",
              "  <thead>\n",
              "    <tr style=\"text-align: right;\">\n",
              "      <th></th>\n",
              "      <th>campeonato</th>\n",
              "      <th>juego</th>\n",
              "      <th>messi</th>\n",
              "      <th>ronaldo</th>\n",
              "      <th>soccer</th>\n",
              "      <th>MEN</th>\n",
              "      <th>educacion</th>\n",
              "      <th>gaviria</th>\n",
              "      <th>colegios</th>\n",
              "      <th>deuda</th>\n",
              "      <th>dinero</th>\n",
              "      <th>fmi</th>\n",
              "      <th>ibex</th>\n",
              "      <th>pib</th>\n",
              "      <th>ue</th>\n",
              "    </tr>\n",
              "  </thead>\n",
              "  <tbody>\n",
              "    <tr>\n",
              "      <th>Topic 1</th>\n",
              "      <td>0.07</td>\n",
              "      <td>0.09</td>\n",
              "      <td>0.14</td>\n",
              "      <td>0.16</td>\n",
              "      <td>0.27</td>\n",
              "      <td>0.07</td>\n",
              "      <td>0.06</td>\n",
              "      <td>0.08</td>\n",
              "      <td>0.02</td>\n",
              "      <td>0.01</td>\n",
              "      <td>0.01</td>\n",
              "      <td>0.01</td>\n",
              "      <td>0.01</td>\n",
              "      <td>0.02</td>\n",
              "      <td>0.01</td>\n",
              "    </tr>\n",
              "    <tr>\n",
              "      <th>Topic 2</th>\n",
              "      <td>0.01</td>\n",
              "      <td>0.01</td>\n",
              "      <td>0.01</td>\n",
              "      <td>0.01</td>\n",
              "      <td>0.01</td>\n",
              "      <td>0.14</td>\n",
              "      <td>0.25</td>\n",
              "      <td>0.07</td>\n",
              "      <td>0.20</td>\n",
              "      <td>0.25</td>\n",
              "      <td>0.01</td>\n",
              "      <td>0.01</td>\n",
              "      <td>0.01</td>\n",
              "      <td>0.01</td>\n",
              "      <td>0.01</td>\n",
              "    </tr>\n",
              "    <tr>\n",
              "      <th>Topic 3</th>\n",
              "      <td>0.01</td>\n",
              "      <td>0.01</td>\n",
              "      <td>0.01</td>\n",
              "      <td>0.01</td>\n",
              "      <td>0.01</td>\n",
              "      <td>0.03</td>\n",
              "      <td>0.01</td>\n",
              "      <td>0.05</td>\n",
              "      <td>0.05</td>\n",
              "      <td>0.03</td>\n",
              "      <td>0.18</td>\n",
              "      <td>0.26</td>\n",
              "      <td>0.05</td>\n",
              "      <td>0.09</td>\n",
              "      <td>0.22</td>\n",
              "    </tr>\n",
              "  </tbody>\n",
              "</table>\n",
              "</div>\n",
              "      <button class=\"colab-df-convert\" onclick=\"convertToInteractive('df-70fece39-56e4-46f5-a463-a653555463b0')\"\n",
              "              title=\"Convert this dataframe to an interactive table.\"\n",
              "              style=\"display:none;\">\n",
              "        \n",
              "  <svg xmlns=\"http://www.w3.org/2000/svg\" height=\"24px\"viewBox=\"0 0 24 24\"\n",
              "       width=\"24px\">\n",
              "    <path d=\"M0 0h24v24H0V0z\" fill=\"none\"/>\n",
              "    <path d=\"M18.56 5.44l.94 2.06.94-2.06 2.06-.94-2.06-.94-.94-2.06-.94 2.06-2.06.94zm-11 1L8.5 8.5l.94-2.06 2.06-.94-2.06-.94L8.5 2.5l-.94 2.06-2.06.94zm10 10l.94 2.06.94-2.06 2.06-.94-2.06-.94-.94-2.06-.94 2.06-2.06.94z\"/><path d=\"M17.41 7.96l-1.37-1.37c-.4-.4-.92-.59-1.43-.59-.52 0-1.04.2-1.43.59L10.3 9.45l-7.72 7.72c-.78.78-.78 2.05 0 2.83L4 21.41c.39.39.9.59 1.41.59.51 0 1.02-.2 1.41-.59l7.78-7.78 2.81-2.81c.8-.78.8-2.07 0-2.86zM5.41 20L4 18.59l7.72-7.72 1.47 1.35L5.41 20z\"/>\n",
              "  </svg>\n",
              "      </button>\n",
              "      \n",
              "  <style>\n",
              "    .colab-df-container {\n",
              "      display:flex;\n",
              "      flex-wrap:wrap;\n",
              "      gap: 12px;\n",
              "    }\n",
              "\n",
              "    .colab-df-convert {\n",
              "      background-color: #E8F0FE;\n",
              "      border: none;\n",
              "      border-radius: 50%;\n",
              "      cursor: pointer;\n",
              "      display: none;\n",
              "      fill: #1967D2;\n",
              "      height: 32px;\n",
              "      padding: 0 0 0 0;\n",
              "      width: 32px;\n",
              "    }\n",
              "\n",
              "    .colab-df-convert:hover {\n",
              "      background-color: #E2EBFA;\n",
              "      box-shadow: 0px 1px 2px rgba(60, 64, 67, 0.3), 0px 1px 3px 1px rgba(60, 64, 67, 0.15);\n",
              "      fill: #174EA6;\n",
              "    }\n",
              "\n",
              "    [theme=dark] .colab-df-convert {\n",
              "      background-color: #3B4455;\n",
              "      fill: #D2E3FC;\n",
              "    }\n",
              "\n",
              "    [theme=dark] .colab-df-convert:hover {\n",
              "      background-color: #434B5C;\n",
              "      box-shadow: 0px 1px 3px 1px rgba(0, 0, 0, 0.15);\n",
              "      filter: drop-shadow(0px 1px 2px rgba(0, 0, 0, 0.3));\n",
              "      fill: #FFFFFF;\n",
              "    }\n",
              "  </style>\n",
              "\n",
              "      <script>\n",
              "        const buttonEl =\n",
              "          document.querySelector('#df-70fece39-56e4-46f5-a463-a653555463b0 button.colab-df-convert');\n",
              "        buttonEl.style.display =\n",
              "          google.colab.kernel.accessAllowed ? 'block' : 'none';\n",
              "\n",
              "        async function convertToInteractive(key) {\n",
              "          const element = document.querySelector('#df-70fece39-56e4-46f5-a463-a653555463b0');\n",
              "          const dataTable =\n",
              "            await google.colab.kernel.invokeFunction('convertToInteractive',\n",
              "                                                     [key], {});\n",
              "          if (!dataTable) return;\n",
              "\n",
              "          const docLinkHtml = 'Like what you see? Visit the ' +\n",
              "            '<a target=\"_blank\" href=https://colab.research.google.com/notebooks/data_table.ipynb>data table notebook</a>'\n",
              "            + ' to learn more about interactive tables.';\n",
              "          element.innerHTML = '';\n",
              "          dataTable['output_type'] = 'display_data';\n",
              "          await google.colab.output.renderOutput(dataTable, element);\n",
              "          const docLink = document.createElement('div');\n",
              "          docLink.innerHTML = docLinkHtml;\n",
              "          element.appendChild(docLink);\n",
              "        }\n",
              "      </script>\n",
              "    </div>\n",
              "  </div>\n",
              "  "
            ]
          },
          "metadata": {},
          "execution_count": 8
        }
      ]
    },
    {
      "cell_type": "markdown",
      "source": [
        "## Palabras (terminos) más representativas de un tema (topic)\n",
        "\n",
        "Dado que podemos obtener la probabilidad de que dada una palabra (termino) esta pertenezca a un tema (topic), podemos obtener las palabras más representativas por topic de la siguiente manera:"
      ],
      "metadata": {
        "id": "nJ_JGwnBWEWN"
      }
    },
    {
      "cell_type": "code",
      "source": [
        "dictionary.id2token\n",
        "for i in range(3):\n",
        "    print('\\nTopic {i}'.format(i=i+1))\n",
        "    pprint([dictionary.id2token[term[0]] for term in lda_model.get_topic_terms(i)[0:5]])"
      ],
      "metadata": {
        "colab": {
          "base_uri": "https://localhost:8080/"
        },
        "id": "xlq5d72XWGZR",
        "outputId": "c755968e-f129-4754-defc-b37967b0a1c7"
      },
      "execution_count": 9,
      "outputs": [
        {
          "output_type": "stream",
          "name": "stdout",
          "text": [
            "\n",
            "Topic 1\n",
            "['soccer', 'ronaldo', 'messi', 'juego', 'gaviria']\n",
            "\n",
            "Topic 2\n",
            "['deuda', 'educacion', 'colegios', 'MEN', 'gaviria']\n",
            "\n",
            "Topic 3\n",
            "['fmi', 'ue', 'dinero', 'pib', 'colegios']\n"
          ]
        }
      ]
    },
    {
      "cell_type": "markdown",
      "source": [
        "## Temas y Palabras\n",
        "\n",
        "* Gensim nos devuelve un \"formula\" por tema (Topic) que aplicada a las apariciones de las palabras en los documentos nos indica la pertenencia del nuevo documento a ese tema. El que mayor valor tenga tras aplicar la fórmula del tema al documento significará que tiene mayor propensión a pertenecer a ese tema.\n",
        "\n",
        "* Esa fórmula la construye como el sumatorio de la aparición de la palabra en el documento, multiplicado por la probabilidad de que en ese temá aparezca esa palabra:"
      ],
      "metadata": {
        "id": "qDEsDEjvWJRn"
      }
    },
    {
      "cell_type": "code",
      "source": [
        "lda_model.print_topics(num_words=15)"
      ],
      "metadata": {
        "colab": {
          "base_uri": "https://localhost:8080/"
        },
        "id": "ABTLnLM9WLe4",
        "outputId": "828cac5d-6707-4cc9-f7ec-04a91dec223e"
      },
      "execution_count": 10,
      "outputs": [
        {
          "output_type": "execute_result",
          "data": {
            "text/plain": [
              "[(0,\n",
              "  '0.269*\"soccer\" + 0.155*\"ronaldo\" + 0.139*\"messi\" + 0.089*\"juego\" + 0.081*\"gaviria\" + 0.072*\"campeonato\" + 0.066*\"MEN\" + 0.057*\"educacion\" + 0.022*\"colegios\" + 0.019*\"pib\" + 0.007*\"fmi\" + 0.006*\"deuda\" + 0.006*\"dinero\" + 0.006*\"ue\" + 0.006*\"ibex\"'),\n",
              " (1,\n",
              "  '0.248*\"deuda\" + 0.246*\"educacion\" + 0.201*\"colegios\" + 0.137*\"MEN\" + 0.068*\"gaviria\" + 0.014*\"soccer\" + 0.014*\"pib\" + 0.010*\"ue\" + 0.009*\"fmi\" + 0.009*\"ronaldo\" + 0.009*\"dinero\" + 0.009*\"messi\" + 0.009*\"campeonato\" + 0.009*\"juego\" + 0.008*\"ibex\"'),\n",
              " (2,\n",
              "  '0.263*\"fmi\" + 0.224*\"ue\" + 0.184*\"dinero\" + 0.086*\"pib\" + 0.048*\"colegios\" + 0.047*\"gaviria\" + 0.046*\"ibex\" + 0.028*\"MEN\" + 0.027*\"deuda\" + 0.009*\"soccer\" + 0.008*\"educacion\" + 0.008*\"messi\" + 0.008*\"ronaldo\" + 0.007*\"campeonato\" + 0.007*\"juego\"')]"
            ]
          },
          "metadata": {},
          "execution_count": 10
        }
      ]
    },
    {
      "cell_type": "markdown",
      "source": [
        "Vamos a ver la visualización de lo anterior"
      ],
      "metadata": {
        "id": "AE1piwAMWNn0"
      }
    },
    {
      "cell_type": "markdown",
      "source": [
        "# Visualización\n",
        "\n",
        "* La librería llamada \"***pyLDAvis***\" nos permite visualizar las relaciones entre los temas (topic) y dentro de cada tema la importancia de sus palabras (terms).\n",
        "\n",
        "* La parte de visualización de esta librería nos permite ver:\n",
        "    - Parte Izquierda: Visualización de los temas en función de dos componentes (2 Dimensiones)\n",
        "    - Parte Derecha: Seleccionado un Topic, podemos ver las palabras (terms) más relevantes de ese tema y la frecuencia con la que aparecen tanto en el corpus como en el tema.\n",
        "    \n",
        "    * En esta visualización podemos apreciar como se distinguen los tres temas claramente ya que las dos componentes que las definen son claramente distintas."
      ],
      "metadata": {
        "id": "kHHrvH-sWSTe"
      }
    },
    {
      "cell_type": "code",
      "source": [
        "pip install pyLDAvis"
      ],
      "metadata": {
        "colab": {
          "base_uri": "https://localhost:8080/"
        },
        "id": "2MVAHTJaWTA6",
        "outputId": "3f4b3745-bbef-41fd-c582-3f39aa54d786"
      },
      "execution_count": 11,
      "outputs": [
        {
          "output_type": "stream",
          "name": "stdout",
          "text": [
            "Looking in indexes: https://pypi.org/simple, https://us-python.pkg.dev/colab-wheels/public/simple/\n",
            "Collecting pyLDAvis\n",
            "  Downloading pyLDAvis-3.4.0-py3-none-any.whl (2.6 MB)\n",
            "\u001b[2K     \u001b[90m━━━━━━━━━━━━━━━━━━━━━━━━━━━━━━━━━━━━━━━━\u001b[0m \u001b[32m2.6/2.6 MB\u001b[0m \u001b[31m51.6 MB/s\u001b[0m eta \u001b[36m0:00:00\u001b[0m\n",
            "\u001b[?25hRequirement already satisfied: numpy>=1.22.0 in /usr/local/lib/python3.9/dist-packages (from pyLDAvis) (1.22.4)\n",
            "Requirement already satisfied: numexpr in /usr/local/lib/python3.9/dist-packages (from pyLDAvis) (2.8.4)\n",
            "Requirement already satisfied: scikit-learn>=1.0.0 in /usr/local/lib/python3.9/dist-packages (from pyLDAvis) (1.2.2)\n",
            "Requirement already satisfied: pandas>=1.3.4 in /usr/local/lib/python3.9/dist-packages (from pyLDAvis) (1.5.3)\n",
            "Requirement already satisfied: jinja2 in /usr/local/lib/python3.9/dist-packages (from pyLDAvis) (3.1.2)\n",
            "Requirement already satisfied: setuptools in /usr/local/lib/python3.9/dist-packages (from pyLDAvis) (67.6.1)\n",
            "Requirement already satisfied: gensim in /usr/local/lib/python3.9/dist-packages (from pyLDAvis) (4.3.1)\n",
            "Requirement already satisfied: scipy in /usr/local/lib/python3.9/dist-packages (from pyLDAvis) (1.10.1)\n",
            "Requirement already satisfied: joblib>=1.2.0 in /usr/local/lib/python3.9/dist-packages (from pyLDAvis) (1.2.0)\n",
            "Collecting funcy\n",
            "  Downloading funcy-2.0-py2.py3-none-any.whl (30 kB)\n",
            "Requirement already satisfied: pytz>=2020.1 in /usr/local/lib/python3.9/dist-packages (from pandas>=1.3.4->pyLDAvis) (2022.7.1)\n",
            "Requirement already satisfied: python-dateutil>=2.8.1 in /usr/local/lib/python3.9/dist-packages (from pandas>=1.3.4->pyLDAvis) (2.8.2)\n",
            "Requirement already satisfied: threadpoolctl>=2.0.0 in /usr/local/lib/python3.9/dist-packages (from scikit-learn>=1.0.0->pyLDAvis) (3.1.0)\n",
            "Requirement already satisfied: smart-open>=1.8.1 in /usr/local/lib/python3.9/dist-packages (from gensim->pyLDAvis) (6.3.0)\n",
            "Requirement already satisfied: MarkupSafe>=2.0 in /usr/local/lib/python3.9/dist-packages (from jinja2->pyLDAvis) (2.1.2)\n",
            "Requirement already satisfied: six>=1.5 in /usr/local/lib/python3.9/dist-packages (from python-dateutil>=2.8.1->pandas>=1.3.4->pyLDAvis) (1.16.0)\n",
            "Installing collected packages: funcy, pyLDAvis\n",
            "Successfully installed funcy-2.0 pyLDAvis-3.4.0\n"
          ]
        }
      ]
    },
    {
      "cell_type": "code",
      "source": [
        "import pyLDAvis\n",
        "import pyLDAvis.gensim"
      ],
      "metadata": {
        "id": "mL5K8rizWU_G"
      },
      "execution_count": 12,
      "outputs": []
    },
    {
      "cell_type": "code",
      "source": [
        "vis = pyLDAvis.gensim.prepare(lda_model, corpus, dictionary)\n",
        "pyLDAvis.display(vis)"
      ],
      "metadata": {
        "colab": {
          "base_uri": "https://localhost:8080/",
          "height": 956
        },
        "id": "Cj3vqyDEYWkO",
        "outputId": "b6e91331-dcae-44ea-e431-2a824c760872"
      },
      "execution_count": 13,
      "outputs": [
        {
          "output_type": "stream",
          "name": "stderr",
          "text": [
            "/usr/local/lib/python3.9/dist-packages/ipykernel/ipkernel.py:283: DeprecationWarning: `should_run_async` will not call `transform_cell` automatically in the future. Please pass the result to `transformed_cell` argument and any exception that happen during thetransform in `preprocessing_exc_tuple` in IPython 7.17 and above.\n",
            "  and should_run_async(code)\n",
            "/usr/local/lib/python3.9/dist-packages/pyLDAvis/_prepare.py:243: FutureWarning: In a future version of pandas all arguments of DataFrame.drop except for the argument 'labels' will be keyword-only.\n",
            "  default_term_info = default_term_info.sort_values(\n"
          ]
        },
        {
          "output_type": "execute_result",
          "data": {
            "text/plain": [
              "<IPython.core.display.HTML object>"
            ],
            "text/html": [
              "\n",
              "<link rel=\"stylesheet\" type=\"text/css\" href=\"https://cdn.jsdelivr.net/gh/bmabey/pyLDAvis@3.4.0/pyLDAvis/js/ldavis.v1.0.0.css\">\n",
              "\n",
              "\n",
              "<div id=\"ldavis_el1631401525512156161204520594\" style=\"background-color:white;\"></div>\n",
              "<script type=\"text/javascript\">\n",
              "\n",
              "var ldavis_el1631401525512156161204520594_data = {\"mdsDat\": {\"x\": [0.05088481269278388, -0.23711713137014725, 0.18623231867736337], \"y\": [-0.17938320467887484, 0.05734994899859278, 0.12203325568028206], \"topics\": [1, 2, 3], \"cluster\": [1, 1, 1], \"Freq\": [35.353047256036774, 32.91505349961753, 31.731899244345698]}, \"tinfo\": {\"Term\": [\"fmi\", \"soccer\", \"ue\", \"deuda\", \"dinero\", \"educacion\", \"ronaldo\", \"messi\", \"colegios\", \"juego\", \"campeonato\", \"pib\", \"MEN\", \"ibex\", \"gaviria\", \"deuda\", \"educacion\", \"colegios\", \"MEN\", \"gaviria\", \"ibex\", \"pib\", \"campeonato\", \"juego\", \"messi\", \"ronaldo\", \"soccer\", \"dinero\", \"ue\", \"fmi\", \"fmi\", \"ue\", \"dinero\", \"ibex\", \"pib\", \"gaviria\", \"colegios\", \"MEN\", \"deuda\", \"campeonato\", \"juego\", \"messi\", \"ronaldo\", \"soccer\", \"educacion\", \"soccer\", \"ronaldo\", \"messi\", \"juego\", \"campeonato\", \"gaviria\", \"MEN\", \"educacion\", \"pib\", \"ibex\", \"colegios\", \"dinero\", \"ue\", \"fmi\", \"deuda\"], \"Freq\": [12.0, 12.0, 10.0, 13.0, 8.0, 14.0, 7.0, 6.0, 12.0, 4.0, 3.0, 5.0, 10.0, 2.0, 8.0, 11.90653540641744, 11.83134326418096, 9.651223219262713, 6.594492946171133, 3.2773234319395836, 0.3976168448388926, 0.6691955398812606, 0.4247562388891754, 0.41355414039132987, 0.42636395265253796, 0.4470699840744278, 0.6781416269367674, 0.4323221746073838, 0.473592469910644, 0.4566172622224842, 11.786320384592903, 10.01283880808079, 8.256664986632202, 2.0680292572762973, 3.8478494063590785, 2.103756393942575, 2.1375834596835652, 1.2414393715034133, 1.218912007877354, 0.3226275072240503, 0.3128158312961663, 0.35000026849844823, 0.34105710291704183, 0.41012657378472067, 0.35445407043410415, 11.590240233091238, 6.706388691516139, 5.985680306296012, 3.8448467218939237, 3.1034695741792646, 3.500606138574385, 2.854192376064142, 2.479810356533456, 0.8063252178940835, 0.24639982243039116, 0.9387670930939525, 0.2698716061818707, 0.2667422895616965, 0.2859555540844466, 0.27608811864366867], \"Total\": [12.0, 12.0, 10.0, 13.0, 8.0, 14.0, 7.0, 6.0, 12.0, 4.0, 3.0, 5.0, 10.0, 2.0, 8.0, 13.401535532938462, 14.66560769114852, 12.72757377204023, 10.690124693738689, 8.881685964456544, 2.712045924545581, 5.323370164134422, 3.85085332029249, 4.57121669358142, 6.7620445274469985, 7.494515778507608, 12.678508433812727, 8.958858767421457, 10.75317356755313, 12.528893200899835, 12.528893200899835, 10.75317356755313, 8.958858767421457, 2.712045924545581, 5.323370164134422, 8.881685964456544, 12.72757377204023, 10.690124693738689, 13.401535532938462, 3.85085332029249, 4.57121669358142, 6.7620445274469985, 7.494515778507608, 12.678508433812727, 14.66560769114852, 12.678508433812727, 7.494515778507608, 6.7620445274469985, 4.57121669358142, 3.85085332029249, 8.881685964456544, 10.690124693738689, 14.66560769114852, 5.323370164134422, 2.712045924545581, 12.72757377204023, 8.958858767421457, 10.75317356755313, 12.528893200899835, 13.401535532938462], \"Category\": [\"Default\", \"Default\", \"Default\", \"Default\", \"Default\", \"Default\", \"Default\", \"Default\", \"Default\", \"Default\", \"Default\", \"Default\", \"Default\", \"Default\", \"Default\", \"Topic1\", \"Topic1\", \"Topic1\", \"Topic1\", \"Topic1\", \"Topic1\", \"Topic1\", \"Topic1\", \"Topic1\", \"Topic1\", \"Topic1\", \"Topic1\", \"Topic1\", \"Topic1\", \"Topic1\", \"Topic2\", \"Topic2\", \"Topic2\", \"Topic2\", \"Topic2\", \"Topic2\", \"Topic2\", \"Topic2\", \"Topic2\", \"Topic2\", \"Topic2\", \"Topic2\", \"Topic2\", \"Topic2\", \"Topic2\", \"Topic3\", \"Topic3\", \"Topic3\", \"Topic3\", \"Topic3\", \"Topic3\", \"Topic3\", \"Topic3\", \"Topic3\", \"Topic3\", \"Topic3\", \"Topic3\", \"Topic3\", \"Topic3\", \"Topic3\"], \"logprob\": [15.0, 14.0, 13.0, 12.0, 11.0, 10.0, 9.0, 8.0, 7.0, 6.0, 5.0, 4.0, 3.0, 2.0, 1.0, -1.3958, -1.4021, -1.6058, -1.9866, -2.6858, -4.7951, -4.2745, -4.7291, -4.7558, -4.7253, -4.6779, -4.2613, -4.7115, -4.6203, -4.6568, -1.3345, -1.4975, -1.6904, -3.0748, -2.4539, -3.0577, -3.0417, -3.5851, -3.6035, -4.9327, -4.9636, -4.8512, -4.8771, -4.6927, -4.8386, -1.3146, -1.8617, -1.9754, -2.4181, -2.6323, -2.5119, -2.716, -2.8566, -3.9801, -5.1656, -3.828, -5.0746, -5.0863, -5.0167, -5.0518], \"loglift\": [15.0, 14.0, 13.0, 12.0, 11.0, 10.0, 9.0, 8.0, 7.0, 6.0, 5.0, 4.0, 3.0, 2.0, 1.0, 0.9215, 0.825, 0.7631, 0.5567, 0.0428, -0.8802, -1.034, -1.1647, -1.363, -1.724, -1.7794, -1.8885, -1.9914, -2.0828, -2.2722, 1.0501, 1.0399, 1.0296, 0.8401, 0.7866, -0.329, -0.6729, -1.0418, -1.2862, -1.3683, -1.5707, -1.8499, -1.9786, -2.32, -2.6114, 1.0581, 1.0367, 1.0259, 0.9748, 0.9321, 0.2168, -0.1727, -0.6295, -0.7395, -1.2507, -1.4591, -2.3546, -2.5488, -2.6321, -2.7346]}, \"token.table\": {\"Topic\": [1, 2, 3, 3, 1, 2, 3, 1, 2, 2, 1, 3, 2, 1, 2, 3, 2, 3, 3, 1, 2, 3, 3, 1, 3, 2], \"Freq\": [0.6548099484845082, 0.09354427835492975, 0.28063283506478925, 0.7790481097244535, 0.7856957012473085, 0.15713914024946168, 0.07856957012473084, 0.8954197801070071, 0.07461831500891726, 0.8929708802969067, 0.8182408975280747, 0.1363734829213458, 0.9577861194585129, 0.33777370783043276, 0.22518247188695517, 0.45036494377391034, 0.737450638980279, 0.8750405566239111, 0.8873056034526429, 0.18785092322479882, 0.7514036928991953, 0.18785092322479882, 0.9340163136455386, 0.07887363132819847, 0.9464835759383816, 0.9299580200373802], \"Term\": [\"MEN\", \"MEN\", \"MEN\", \"campeonato\", \"colegios\", \"colegios\", \"colegios\", \"deuda\", \"deuda\", \"dinero\", \"educacion\", \"educacion\", \"fmi\", \"gaviria\", \"gaviria\", \"gaviria\", \"ibex\", \"juego\", \"messi\", \"pib\", \"pib\", \"pib\", \"ronaldo\", \"soccer\", \"soccer\", \"ue\"]}, \"R\": 15, \"lambda.step\": 0.01, \"plot.opts\": {\"xlab\": \"PC1\", \"ylab\": \"PC2\"}, \"topic.order\": [2, 3, 1]};\n",
              "\n",
              "function LDAvis_load_lib(url, callback){\n",
              "  var s = document.createElement('script');\n",
              "  s.src = url;\n",
              "  s.async = true;\n",
              "  s.onreadystatechange = s.onload = callback;\n",
              "  s.onerror = function(){console.warn(\"failed to load library \" + url);};\n",
              "  document.getElementsByTagName(\"head\")[0].appendChild(s);\n",
              "}\n",
              "\n",
              "if(typeof(LDAvis) !== \"undefined\"){\n",
              "   // already loaded: just create the visualization\n",
              "   !function(LDAvis){\n",
              "       new LDAvis(\"#\" + \"ldavis_el1631401525512156161204520594\", ldavis_el1631401525512156161204520594_data);\n",
              "   }(LDAvis);\n",
              "}else if(typeof define === \"function\" && define.amd){\n",
              "   // require.js is available: use it to load d3/LDAvis\n",
              "   require.config({paths: {d3: \"https://d3js.org/d3.v5\"}});\n",
              "   require([\"d3\"], function(d3){\n",
              "      window.d3 = d3;\n",
              "      LDAvis_load_lib(\"https://cdn.jsdelivr.net/gh/bmabey/pyLDAvis@3.4.0/pyLDAvis/js/ldavis.v3.0.0.js\", function(){\n",
              "        new LDAvis(\"#\" + \"ldavis_el1631401525512156161204520594\", ldavis_el1631401525512156161204520594_data);\n",
              "      });\n",
              "    });\n",
              "}else{\n",
              "    // require.js not available: dynamically load d3 & LDAvis\n",
              "    LDAvis_load_lib(\"https://d3js.org/d3.v5.js\", function(){\n",
              "         LDAvis_load_lib(\"https://cdn.jsdelivr.net/gh/bmabey/pyLDAvis@3.4.0/pyLDAvis/js/ldavis.v3.0.0.js\", function(){\n",
              "                 new LDAvis(\"#\" + \"ldavis_el1631401525512156161204520594\", ldavis_el1631401525512156161204520594_data);\n",
              "            })\n",
              "         });\n",
              "}\n",
              "</script>"
            ]
          },
          "metadata": {},
          "execution_count": 13
        }
      ]
    },
    {
      "cell_type": "markdown",
      "source": [
        "# Selección del número óptimo de Topics (coherencia)\n",
        "\n",
        "* Dado que las técnicas de \"*Topic Modeling*\" (tanto LSI como LDA) ***generan automáticamente 'N' temas (Topics)*** a partir de los documentos del corpus ***de forma no supervisada***, tenemos que evaluar de alguna manera si los temas que genera son \"***Coherentes***\" entre sí; es decir, si hay dos o más temas que son tan similares entre sí que podrían formar un tema o si hay temas que son muy genéricos y que podrían dividirse en dos o más temas.\n",
        "\n",
        "* Este es un problema común que también tenemos las personas a la hora de asignar un tema a un texto ya que se trata de una tarea que en ocasiones puede ser muy subjetiva.\n",
        "\n",
        "* Por esta razón es necesario cuantificar un nivel de ***Coherencia*** sobre la segmentación realizada.\n",
        "\n",
        "* Para hacer una analogía con Clustering, la ***Coherencia*** en el Topic Modeling viene a ser como la ***Inercia*** en el K-Means.\n",
        "\n",
        "* La ***Coherencia*** es por tanto una medida que ***nos sirve para ver lo bien o mal que están definidos los temas (Topics) por sus palabras (Terms) más representativas del Topic***.\n",
        "\n",
        "* Para más información ver el siguiente artículo: http://svn.aksw.org/papers/2015/WSDM_Topic_Evaluation/public.pdf\n",
        "\n",
        "\n",
        "### ¿Como se calcula la Coherencia?\n",
        "\n",
        "\n",
        "* La coherencia de un modelo se calcula dadas las 'N' palabras más relevantes de un tema (Topic) como:\n",
        "\n",
        "\n",
        "$$ coherence = \\sum_{i>j} score(w_{i},w_{j})$$\n",
        "\n",
        "\n",
        "* Siendo w<sub>i</sub> y w<sub>j</sub> dos pares de palabras relevantes del tema (Topic).\n",
        "\n",
        "\n",
        "* Existen dos métodos para el cálculo del ***score*** de la coherencia que son:\n",
        "    - Extrinsic UCI measure\n",
        "    - Intrinsic UMass measure\n",
        "   \n",
        "   \n",
        "* Antes de explicar como se calcula el score definimos:\n",
        "\n",
        "    - **D**: Número de documentos del corpus.\n",
        "    - **D(w<sub>i</sub>)**: Número de documentos en el que aparece la palabra w<sub>i</sub> en el corpus.\n",
        "    - **D(w<sub>i</sub>, w<sub>j</sub>)**: Número de documentos en el que aparecen conjuntamente las palabras w<sub>i</sub> y w<sub>j</sub> en el corpus.\n",
        "    - **p(w<sub>i</sub>)**: Probabilidad de que aparezca la palabra w<sub>i</sub> en un documento del corpus:\n",
        "    \n",
        "    $$p(w_{i}) = \\frac{D(w_{i})}{D}$$\n",
        "    \n",
        "    - **p(w<sub>i</sub>, w<sub>i</sub>)**: Probabilidad de que aparezcan conjuntamente las palabras w<sub>i</sub> y w<sub>j</sub> en un documento del corpus:\n",
        "    \n",
        "    $$p(w_{i}, w_{j}) = \\frac{D(w_{i}, w_{j})}{D}$$\n",
        "    \n",
        "* ***Score: Extrinsic UCI measure***\n",
        "    \n",
        "    $$score_{c\\_uci} (w_{i}, w_{j}) = log \\frac{p(w_{i},w_{j})}{p(w_{i}) p(w_{j})}$$\n",
        "\n",
        "\n",
        "* ***Score: Intrinsic UMass measure***\n",
        "    \n",
        "    $$score_{c\\_mass} (w_{i}, w_{j}) = log \\frac{D(w_{i},w_{j}) + 1}{D(w_{i})}$$"
      ],
      "metadata": {
        "id": "RW_HZn5eWXGj"
      }
    },
    {
      "cell_type": "code",
      "source": [
        "import warnings\n",
        "warnings.filterwarnings('ignore')\n",
        "from gensim.models import CoherenceModel\n",
        "from tqdm import tqdm\n",
        "\n",
        "coherence = []\n",
        "min_topics = 1\n",
        "max_topics = 5\n",
        "for num_topics in tqdm(range(min_topics, max_topics, 1)):\n",
        "    lda_model = LdaModel(corpus=corpus,\n",
        "                         id2word=dictionary,\n",
        "                         num_topics=num_topics,\n",
        "                         random_state=0,\n",
        "                        # chunksize=100,\n",
        "                        # passes=10,\n",
        "                         alpha='auto',\n",
        "                         per_word_topics=True)\n",
        "    coherencemodel = CoherenceModel(model=lda_model, texts=documents, dictionary=dictionary, coherence='u_mass')\n",
        "    coherence.append(coherencemodel.get_coherence())"
      ],
      "metadata": {
        "colab": {
          "base_uri": "https://localhost:8080/"
        },
        "id": "9rPYDL3BWqcx",
        "outputId": "821cf550-bbe7-44be-9ed8-c9b2dc9d0b43"
      },
      "execution_count": 14,
      "outputs": [
        {
          "output_type": "stream",
          "name": "stderr",
          "text": [
            "/usr/local/lib/python3.9/dist-packages/ipykernel/ipkernel.py:283: DeprecationWarning: `should_run_async` will not call `transform_cell` automatically in the future. Please pass the result to `transformed_cell` argument and any exception that happen during thetransform in `preprocessing_exc_tuple` in IPython 7.17 and above.\n",
            "  and should_run_async(code)\n",
            "  0%|          | 0/4 [00:00<?, ?it/s]WARNING:gensim.models.ldamodel:too few updates, training might not converge; consider increasing the number of passes or iterations to improve accuracy\n",
            "WARNING:gensim.models.ldamodel:too few updates, training might not converge; consider increasing the number of passes or iterations to improve accuracy\n",
            "WARNING:gensim.models.ldamodel:too few updates, training might not converge; consider increasing the number of passes or iterations to improve accuracy\n",
            "WARNING:gensim.models.ldamodel:too few updates, training might not converge; consider increasing the number of passes or iterations to improve accuracy\n",
            "100%|██████████| 4/4 [00:00<00:00, 48.83it/s]\n"
          ]
        }
      ]
    },
    {
      "cell_type": "code",
      "source": [
        "index = [\"Num Topics: {num}\".format(num=num) for num in range(min_topics, max_topics, 1)]\n",
        "pd.DataFrame(coherence, index=index, columns=['Coherence'])"
      ],
      "metadata": {
        "colab": {
          "base_uri": "https://localhost:8080/",
          "height": 175
        },
        "id": "Kn7jC8xsXCaS",
        "outputId": "a40d8722-9bf7-4a96-e1f6-c04a29a08d3c"
      },
      "execution_count": 15,
      "outputs": [
        {
          "output_type": "execute_result",
          "data": {
            "text/plain": [
              "               Coherence\n",
              "Num Topics: 1     -14.01\n",
              "Num Topics: 2     -13.96\n",
              "Num Topics: 3     -13.95\n",
              "Num Topics: 4     -13.97"
            ],
            "text/html": [
              "\n",
              "  <div id=\"df-ad7237d0-577c-418f-b5d7-9d5b560376cf\">\n",
              "    <div class=\"colab-df-container\">\n",
              "      <div>\n",
              "<style scoped>\n",
              "    .dataframe tbody tr th:only-of-type {\n",
              "        vertical-align: middle;\n",
              "    }\n",
              "\n",
              "    .dataframe tbody tr th {\n",
              "        vertical-align: top;\n",
              "    }\n",
              "\n",
              "    .dataframe thead th {\n",
              "        text-align: right;\n",
              "    }\n",
              "</style>\n",
              "<table border=\"1\" class=\"dataframe\">\n",
              "  <thead>\n",
              "    <tr style=\"text-align: right;\">\n",
              "      <th></th>\n",
              "      <th>Coherence</th>\n",
              "    </tr>\n",
              "  </thead>\n",
              "  <tbody>\n",
              "    <tr>\n",
              "      <th>Num Topics: 1</th>\n",
              "      <td>-14.01</td>\n",
              "    </tr>\n",
              "    <tr>\n",
              "      <th>Num Topics: 2</th>\n",
              "      <td>-13.96</td>\n",
              "    </tr>\n",
              "    <tr>\n",
              "      <th>Num Topics: 3</th>\n",
              "      <td>-13.95</td>\n",
              "    </tr>\n",
              "    <tr>\n",
              "      <th>Num Topics: 4</th>\n",
              "      <td>-13.97</td>\n",
              "    </tr>\n",
              "  </tbody>\n",
              "</table>\n",
              "</div>\n",
              "      <button class=\"colab-df-convert\" onclick=\"convertToInteractive('df-ad7237d0-577c-418f-b5d7-9d5b560376cf')\"\n",
              "              title=\"Convert this dataframe to an interactive table.\"\n",
              "              style=\"display:none;\">\n",
              "        \n",
              "  <svg xmlns=\"http://www.w3.org/2000/svg\" height=\"24px\"viewBox=\"0 0 24 24\"\n",
              "       width=\"24px\">\n",
              "    <path d=\"M0 0h24v24H0V0z\" fill=\"none\"/>\n",
              "    <path d=\"M18.56 5.44l.94 2.06.94-2.06 2.06-.94-2.06-.94-.94-2.06-.94 2.06-2.06.94zm-11 1L8.5 8.5l.94-2.06 2.06-.94-2.06-.94L8.5 2.5l-.94 2.06-2.06.94zm10 10l.94 2.06.94-2.06 2.06-.94-2.06-.94-.94-2.06-.94 2.06-2.06.94z\"/><path d=\"M17.41 7.96l-1.37-1.37c-.4-.4-.92-.59-1.43-.59-.52 0-1.04.2-1.43.59L10.3 9.45l-7.72 7.72c-.78.78-.78 2.05 0 2.83L4 21.41c.39.39.9.59 1.41.59.51 0 1.02-.2 1.41-.59l7.78-7.78 2.81-2.81c.8-.78.8-2.07 0-2.86zM5.41 20L4 18.59l7.72-7.72 1.47 1.35L5.41 20z\"/>\n",
              "  </svg>\n",
              "      </button>\n",
              "      \n",
              "  <style>\n",
              "    .colab-df-container {\n",
              "      display:flex;\n",
              "      flex-wrap:wrap;\n",
              "      gap: 12px;\n",
              "    }\n",
              "\n",
              "    .colab-df-convert {\n",
              "      background-color: #E8F0FE;\n",
              "      border: none;\n",
              "      border-radius: 50%;\n",
              "      cursor: pointer;\n",
              "      display: none;\n",
              "      fill: #1967D2;\n",
              "      height: 32px;\n",
              "      padding: 0 0 0 0;\n",
              "      width: 32px;\n",
              "    }\n",
              "\n",
              "    .colab-df-convert:hover {\n",
              "      background-color: #E2EBFA;\n",
              "      box-shadow: 0px 1px 2px rgba(60, 64, 67, 0.3), 0px 1px 3px 1px rgba(60, 64, 67, 0.15);\n",
              "      fill: #174EA6;\n",
              "    }\n",
              "\n",
              "    [theme=dark] .colab-df-convert {\n",
              "      background-color: #3B4455;\n",
              "      fill: #D2E3FC;\n",
              "    }\n",
              "\n",
              "    [theme=dark] .colab-df-convert:hover {\n",
              "      background-color: #434B5C;\n",
              "      box-shadow: 0px 1px 3px 1px rgba(0, 0, 0, 0.15);\n",
              "      filter: drop-shadow(0px 1px 2px rgba(0, 0, 0, 0.3));\n",
              "      fill: #FFFFFF;\n",
              "    }\n",
              "  </style>\n",
              "\n",
              "      <script>\n",
              "        const buttonEl =\n",
              "          document.querySelector('#df-ad7237d0-577c-418f-b5d7-9d5b560376cf button.colab-df-convert');\n",
              "        buttonEl.style.display =\n",
              "          google.colab.kernel.accessAllowed ? 'block' : 'none';\n",
              "\n",
              "        async function convertToInteractive(key) {\n",
              "          const element = document.querySelector('#df-ad7237d0-577c-418f-b5d7-9d5b560376cf');\n",
              "          const dataTable =\n",
              "            await google.colab.kernel.invokeFunction('convertToInteractive',\n",
              "                                                     [key], {});\n",
              "          if (!dataTable) return;\n",
              "\n",
              "          const docLinkHtml = 'Like what you see? Visit the ' +\n",
              "            '<a target=\"_blank\" href=https://colab.research.google.com/notebooks/data_table.ipynb>data table notebook</a>'\n",
              "            + ' to learn more about interactive tables.';\n",
              "          element.innerHTML = '';\n",
              "          dataTable['output_type'] = 'display_data';\n",
              "          await google.colab.output.renderOutput(dataTable, element);\n",
              "          const docLink = document.createElement('div');\n",
              "          docLink.innerHTML = docLinkHtml;\n",
              "          element.appendChild(docLink);\n",
              "        }\n",
              "      </script>\n",
              "    </div>\n",
              "  </div>\n",
              "  "
            ]
          },
          "metadata": {},
          "execution_count": 15
        }
      ]
    },
    {
      "cell_type": "code",
      "source": [
        "import matplotlib.pyplot as plt\n",
        "%matplotlib inline\n",
        "\n",
        "plt.figure(figsize=(10,6))\n",
        "plt.plot(range(min_topics, max_topics, 1), coherence)\n",
        "plt.xlabel(\"Num Topics\")\n",
        "plt.ylabel(\"Coherence score\")\n",
        "plt.grid()\n",
        "plt.show()"
      ],
      "metadata": {
        "colab": {
          "base_uri": "https://localhost:8080/",
          "height": 542
        },
        "id": "SIOB80-8XFRz",
        "outputId": "bef6188d-2418-4a9b-ffcd-ce3e2cc90735"
      },
      "execution_count": 16,
      "outputs": [
        {
          "output_type": "display_data",
          "data": {
            "text/plain": [
              "<Figure size 1000x600 with 1 Axes>"
            ],
            "image/png": "[encoded data removed]"
          },
          "metadata": {}
        }
      ]
    }
  ]
}