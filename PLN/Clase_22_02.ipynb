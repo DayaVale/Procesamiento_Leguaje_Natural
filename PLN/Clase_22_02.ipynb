{
  "nbformat": 4,
  "nbformat_minor": 0,
  "metadata": {
    "colab": {
      "provenance": []
    },
    "kernelspec": {
      "name": "python3",
      "display_name": "Python 3"
    },
    "language_info": {
      "name": "python"
    }
  },
  "cells": [
    {
      "cell_type": "markdown",
      "source": [
        "# Introducción a la librería NLTK\n",
        "\n",
        "\n",
        "* NLTK (https://www.nltk.org/) es una librería para Python, usada para el análisis y la manipulación del lenguaje natural.\n",
        "\n",
        "\n",
        "* Se instala bien con el gestor de paquetes \"pip\" o con \"conda\" en caso de utilizarlo. Para instalarlo con pip o conda se realiza de la siguiente manera respectivamente:\n",
        "\n",
        "```\n",
        ">> pip install nltk\n",
        ">> conda install nltk\n",
        "```\n",
        "<hr>\n",
        "\n",
        "## 1.- Instalación y descargar de las bases de datos\n",
        "\n",
        "* NLTK utiliza una serie de bases de datos léxicas para la manipulación del lenguaje natural.\n",
        "\n",
        "* También dispone de una una serie de corpus (colección de textos) que nos podemos descargar para practicar los conceptos.\n",
        "\n",
        "* Para descargarnos las bases de datos y los corpus realizaremos lo siguiente:"
      ],
      "metadata": {
        "id": "g-zT6k9qzCqj"
      }
    },
    {
      "cell_type": "code",
      "execution_count": 1,
      "metadata": {
        "colab": {
          "base_uri": "https://localhost:8080/"
        },
        "id": "bKFvNs-uy-Wb",
        "outputId": "23dfcc95-e624-4208-f745-2d2ce35b8667"
      },
      "outputs": [
        {
          "output_type": "stream",
          "name": "stderr",
          "text": [
            "[nltk_data] Downloading collection 'all'\n",
            "[nltk_data]    | \n",
            "[nltk_data]    | Downloading package abc to /root/nltk_data...\n",
            "[nltk_data]    |   Unzipping corpora/abc.zip.\n",
            "[nltk_data]    | Downloading package alpino to /root/nltk_data...\n",
            "[nltk_data]    |   Unzipping corpora/alpino.zip.\n",
            "[nltk_data]    | Downloading package averaged_perceptron_tagger to\n",
            "[nltk_data]    |     /root/nltk_data...\n",
            "[nltk_data]    |   Unzipping taggers/averaged_perceptron_tagger.zip.\n",
            "[nltk_data]    | Downloading package averaged_perceptron_tagger_ru to\n",
            "[nltk_data]    |     /root/nltk_data...\n",
            "[nltk_data]    |   Unzipping\n",
            "[nltk_data]    |       taggers/averaged_perceptron_tagger_ru.zip.\n",
            "[nltk_data]    | Downloading package basque_grammars to\n",
            "[nltk_data]    |     /root/nltk_data...\n",
            "[nltk_data]    |   Unzipping grammars/basque_grammars.zip.\n",
            "[nltk_data]    | Downloading package bcp47 to /root/nltk_data...\n",
            "[nltk_data]    | Downloading package biocreative_ppi to\n",
            "[nltk_data]    |     /root/nltk_data...\n",
            "[nltk_data]    |   Unzipping corpora/biocreative_ppi.zip.\n",
            "[nltk_data]    | Downloading package bllip_wsj_no_aux to\n",
            "[nltk_data]    |     /root/nltk_data...\n",
            "[nltk_data]    |   Unzipping models/bllip_wsj_no_aux.zip.\n",
            "[nltk_data]    | Downloading package book_grammars to\n",
            "[nltk_data]    |     /root/nltk_data...\n",
            "[nltk_data]    |   Unzipping grammars/book_grammars.zip.\n",
            "[nltk_data]    | Downloading package brown to /root/nltk_data...\n",
            "[nltk_data]    |   Unzipping corpora/brown.zip.\n",
            "[nltk_data]    | Downloading package brown_tei to /root/nltk_data...\n",
            "[nltk_data]    |   Unzipping corpora/brown_tei.zip.\n",
            "[nltk_data]    | Downloading package cess_cat to /root/nltk_data...\n",
            "[nltk_data]    |   Unzipping corpora/cess_cat.zip.\n",
            "[nltk_data]    | Downloading package cess_esp to /root/nltk_data...\n",
            "[nltk_data]    |   Unzipping corpora/cess_esp.zip.\n",
            "[nltk_data]    | Downloading package chat80 to /root/nltk_data...\n",
            "[nltk_data]    |   Unzipping corpora/chat80.zip.\n",
            "[nltk_data]    | Downloading package city_database to\n",
            "[nltk_data]    |     /root/nltk_data...\n",
            "[nltk_data]    |   Unzipping corpora/city_database.zip.\n",
            "[nltk_data]    | Downloading package cmudict to /root/nltk_data...\n",
            "[nltk_data]    |   Unzipping corpora/cmudict.zip.\n",
            "[nltk_data]    | Downloading package comparative_sentences to\n",
            "[nltk_data]    |     /root/nltk_data...\n",
            "[nltk_data]    |   Unzipping corpora/comparative_sentences.zip.\n",
            "[nltk_data]    | Downloading package comtrans to /root/nltk_data...\n",
            "[nltk_data]    | Downloading package conll2000 to /root/nltk_data...\n",
            "[nltk_data]    |   Unzipping corpora/conll2000.zip.\n",
            "[nltk_data]    | Downloading package conll2002 to /root/nltk_data...\n",
            "[nltk_data]    |   Unzipping corpora/conll2002.zip.\n",
            "[nltk_data]    | Downloading package conll2007 to /root/nltk_data...\n",
            "[nltk_data]    | Downloading package crubadan to /root/nltk_data...\n",
            "[nltk_data]    |   Unzipping corpora/crubadan.zip.\n",
            "[nltk_data]    | Downloading package dependency_treebank to\n",
            "[nltk_data]    |     /root/nltk_data...\n",
            "[nltk_data]    |   Unzipping corpora/dependency_treebank.zip.\n",
            "[nltk_data]    | Downloading package dolch to /root/nltk_data...\n",
            "[nltk_data]    |   Unzipping corpora/dolch.zip.\n",
            "[nltk_data]    | Downloading package europarl_raw to\n",
            "[nltk_data]    |     /root/nltk_data...\n",
            "[nltk_data]    |   Unzipping corpora/europarl_raw.zip.\n",
            "[nltk_data]    | Downloading package extended_omw to\n",
            "[nltk_data]    |     /root/nltk_data...\n",
            "[nltk_data]    | Downloading package floresta to /root/nltk_data...\n",
            "[nltk_data]    |   Unzipping corpora/floresta.zip.\n",
            "[nltk_data]    | Downloading package framenet_v15 to\n",
            "[nltk_data]    |     /root/nltk_data...\n",
            "[nltk_data]    |   Unzipping corpora/framenet_v15.zip.\n",
            "[nltk_data]    | Downloading package framenet_v17 to\n",
            "[nltk_data]    |     /root/nltk_data...\n",
            "[nltk_data]    |   Unzipping corpora/framenet_v17.zip.\n",
            "[nltk_data]    | Downloading package gazetteers to /root/nltk_data...\n",
            "[nltk_data]    |   Unzipping corpora/gazetteers.zip.\n",
            "[nltk_data]    | Downloading package genesis to /root/nltk_data...\n",
            "[nltk_data]    |   Unzipping corpora/genesis.zip.\n",
            "[nltk_data]    | Downloading package gutenberg to /root/nltk_data...\n",
            "[nltk_data]    |   Unzipping corpora/gutenberg.zip.\n",
            "[nltk_data]    | Downloading package ieer to /root/nltk_data...\n",
            "[nltk_data]    |   Unzipping corpora/ieer.zip.\n",
            "[nltk_data]    | Downloading package inaugural to /root/nltk_data...\n",
            "[nltk_data]    |   Unzipping corpora/inaugural.zip.\n",
            "[nltk_data]    | Downloading package indian to /root/nltk_data...\n",
            "[nltk_data]    |   Unzipping corpora/indian.zip.\n",
            "[nltk_data]    | Downloading package jeita to /root/nltk_data...\n",
            "[nltk_data]    | Downloading package kimmo to /root/nltk_data...\n",
            "[nltk_data]    |   Unzipping corpora/kimmo.zip.\n",
            "[nltk_data]    | Downloading package knbc to /root/nltk_data...\n",
            "[nltk_data]    | Downloading package large_grammars to\n",
            "[nltk_data]    |     /root/nltk_data...\n",
            "[nltk_data]    |   Unzipping grammars/large_grammars.zip.\n",
            "[nltk_data]    | Downloading package lin_thesaurus to\n",
            "[nltk_data]    |     /root/nltk_data...\n",
            "[nltk_data]    |   Unzipping corpora/lin_thesaurus.zip.\n",
            "[nltk_data]    | Downloading package mac_morpho to /root/nltk_data...\n",
            "[nltk_data]    |   Unzipping corpora/mac_morpho.zip.\n",
            "[nltk_data]    | Downloading package machado to /root/nltk_data...\n",
            "[nltk_data]    | Downloading package masc_tagged to /root/nltk_data...\n",
            "[nltk_data]    | Downloading package maxent_ne_chunker to\n",
            "[nltk_data]    |     /root/nltk_data...\n",
            "[nltk_data]    |   Unzipping chunkers/maxent_ne_chunker.zip.\n",
            "[nltk_data]    | Downloading package maxent_treebank_pos_tagger to\n",
            "[nltk_data]    |     /root/nltk_data...\n",
            "[nltk_data]    |   Unzipping taggers/maxent_treebank_pos_tagger.zip.\n",
            "[nltk_data]    | Downloading package moses_sample to\n",
            "[nltk_data]    |     /root/nltk_data...\n",
            "[nltk_data]    |   Unzipping models/moses_sample.zip.\n",
            "[nltk_data]    | Downloading package movie_reviews to\n",
            "[nltk_data]    |     /root/nltk_data...\n",
            "[nltk_data]    |   Unzipping corpora/movie_reviews.zip.\n",
            "[nltk_data]    | Downloading package mte_teip5 to /root/nltk_data...\n",
            "[nltk_data]    |   Unzipping corpora/mte_teip5.zip.\n",
            "[nltk_data]    | Downloading package mwa_ppdb to /root/nltk_data...\n",
            "[nltk_data]    |   Unzipping misc/mwa_ppdb.zip.\n",
            "[nltk_data]    | Downloading package names to /root/nltk_data...\n",
            "[nltk_data]    |   Unzipping corpora/names.zip.\n",
            "[nltk_data]    | Downloading package nombank.1.0 to /root/nltk_data...\n",
            "[nltk_data]    | Downloading package nonbreaking_prefixes to\n",
            "[nltk_data]    |     /root/nltk_data...\n",
            "[nltk_data]    |   Unzipping corpora/nonbreaking_prefixes.zip.\n",
            "[nltk_data]    | Downloading package nps_chat to /root/nltk_data...\n",
            "[nltk_data]    |   Unzipping corpora/nps_chat.zip.\n",
            "[nltk_data]    | Downloading package omw to /root/nltk_data...\n",
            "[nltk_data]    | Downloading package omw-1.4 to /root/nltk_data...\n",
            "[nltk_data]    | Downloading package opinion_lexicon to\n",
            "[nltk_data]    |     /root/nltk_data...\n",
            "[nltk_data]    |   Unzipping corpora/opinion_lexicon.zip.\n",
            "[nltk_data]    | Downloading package panlex_swadesh to\n",
            "[nltk_data]    |     /root/nltk_data...\n",
            "[nltk_data]    | Downloading package paradigms to /root/nltk_data...\n",
            "[nltk_data]    |   Unzipping corpora/paradigms.zip.\n",
            "[nltk_data]    | Downloading package pe08 to /root/nltk_data...\n",
            "[nltk_data]    |   Unzipping corpora/pe08.zip.\n",
            "[nltk_data]    | Downloading package perluniprops to\n",
            "[nltk_data]    |     /root/nltk_data...\n",
            "[nltk_data]    |   Unzipping misc/perluniprops.zip.\n",
            "[nltk_data]    | Downloading package pil to /root/nltk_data...\n",
            "[nltk_data]    |   Unzipping corpora/pil.zip.\n",
            "[nltk_data]    | Downloading package pl196x to /root/nltk_data...\n",
            "[nltk_data]    |   Unzipping corpora/pl196x.zip.\n",
            "[nltk_data]    | Downloading package porter_test to /root/nltk_data...\n",
            "[nltk_data]    |   Unzipping stemmers/porter_test.zip.\n",
            "[nltk_data]    | Downloading package ppattach to /root/nltk_data...\n",
            "[nltk_data]    |   Unzipping corpora/ppattach.zip.\n",
            "[nltk_data]    | Downloading package problem_reports to\n",
            "[nltk_data]    |     /root/nltk_data...\n",
            "[nltk_data]    |   Unzipping corpora/problem_reports.zip.\n",
            "[nltk_data]    | Downloading package product_reviews_1 to\n",
            "[nltk_data]    |     /root/nltk_data...\n",
            "[nltk_data]    |   Unzipping corpora/product_reviews_1.zip.\n",
            "[nltk_data]    | Downloading package product_reviews_2 to\n",
            "[nltk_data]    |     /root/nltk_data...\n",
            "[nltk_data]    |   Unzipping corpora/product_reviews_2.zip.\n",
            "[nltk_data]    | Downloading package propbank to /root/nltk_data...\n",
            "[nltk_data]    | Downloading package pros_cons to /root/nltk_data...\n",
            "[nltk_data]    |   Unzipping corpora/pros_cons.zip.\n",
            "[nltk_data]    | Downloading package ptb to /root/nltk_data...\n",
            "[nltk_data]    |   Unzipping corpora/ptb.zip.\n",
            "[nltk_data]    | Downloading package punkt to /root/nltk_data...\n",
            "[nltk_data]    |   Unzipping tokenizers/punkt.zip.\n",
            "[nltk_data]    | Downloading package qc to /root/nltk_data...\n",
            "[nltk_data]    |   Unzipping corpora/qc.zip.\n",
            "[nltk_data]    | Downloading package reuters to /root/nltk_data...\n",
            "[nltk_data]    | Downloading package rslp to /root/nltk_data...\n",
            "[nltk_data]    |   Unzipping stemmers/rslp.zip.\n",
            "[nltk_data]    | Downloading package rte to /root/nltk_data...\n",
            "[nltk_data]    |   Unzipping corpora/rte.zip.\n",
            "[nltk_data]    | Downloading package sample_grammars to\n",
            "[nltk_data]    |     /root/nltk_data...\n",
            "[nltk_data]    |   Unzipping grammars/sample_grammars.zip.\n",
            "[nltk_data]    | Downloading package semcor to /root/nltk_data...\n",
            "[nltk_data]    | Downloading package senseval to /root/nltk_data...\n",
            "[nltk_data]    |   Unzipping corpora/senseval.zip.\n",
            "[nltk_data]    | Downloading package sentence_polarity to\n",
            "[nltk_data]    |     /root/nltk_data...\n",
            "[nltk_data]    |   Unzipping corpora/sentence_polarity.zip.\n",
            "[nltk_data]    | Downloading package sentiwordnet to\n",
            "[nltk_data]    |     /root/nltk_data...\n",
            "[nltk_data]    |   Unzipping corpora/sentiwordnet.zip.\n",
            "[nltk_data]    | Downloading package shakespeare to /root/nltk_data...\n",
            "[nltk_data]    |   Unzipping corpora/shakespeare.zip.\n",
            "[nltk_data]    | Downloading package sinica_treebank to\n",
            "[nltk_data]    |     /root/nltk_data...\n",
            "[nltk_data]    |   Unzipping corpora/sinica_treebank.zip.\n",
            "[nltk_data]    | Downloading package smultron to /root/nltk_data...\n",
            "[nltk_data]    |   Unzipping corpora/smultron.zip.\n",
            "[nltk_data]    | Downloading package snowball_data to\n",
            "[nltk_data]    |     /root/nltk_data...\n",
            "[nltk_data]    | Downloading package spanish_grammars to\n",
            "[nltk_data]    |     /root/nltk_data...\n",
            "[nltk_data]    |   Unzipping grammars/spanish_grammars.zip.\n",
            "[nltk_data]    | Downloading package state_union to /root/nltk_data...\n",
            "[nltk_data]    |   Unzipping corpora/state_union.zip.\n",
            "[nltk_data]    | Downloading package stopwords to /root/nltk_data...\n",
            "[nltk_data]    |   Unzipping corpora/stopwords.zip.\n",
            "[nltk_data]    | Downloading package subjectivity to\n",
            "[nltk_data]    |     /root/nltk_data...\n",
            "[nltk_data]    |   Unzipping corpora/subjectivity.zip.\n",
            "[nltk_data]    | Downloading package swadesh to /root/nltk_data...\n",
            "[nltk_data]    |   Unzipping corpora/swadesh.zip.\n",
            "[nltk_data]    | Downloading package switchboard to /root/nltk_data...\n",
            "[nltk_data]    |   Unzipping corpora/switchboard.zip.\n",
            "[nltk_data]    | Downloading package tagsets to /root/nltk_data...\n",
            "[nltk_data]    |   Unzipping help/tagsets.zip.\n",
            "[nltk_data]    | Downloading package timit to /root/nltk_data...\n",
            "[nltk_data]    |   Unzipping corpora/timit.zip.\n",
            "[nltk_data]    | Downloading package toolbox to /root/nltk_data...\n",
            "[nltk_data]    |   Unzipping corpora/toolbox.zip.\n",
            "[nltk_data]    | Downloading package treebank to /root/nltk_data...\n",
            "[nltk_data]    |   Unzipping corpora/treebank.zip.\n",
            "[nltk_data]    | Downloading package twitter_samples to\n",
            "[nltk_data]    |     /root/nltk_data...\n",
            "[nltk_data]    |   Unzipping corpora/twitter_samples.zip.\n",
            "[nltk_data]    | Downloading package udhr to /root/nltk_data...\n",
            "[nltk_data]    |   Unzipping corpora/udhr.zip.\n",
            "[nltk_data]    | Downloading package udhr2 to /root/nltk_data...\n",
            "[nltk_data]    |   Unzipping corpora/udhr2.zip.\n",
            "[nltk_data]    | Downloading package unicode_samples to\n",
            "[nltk_data]    |     /root/nltk_data...\n",
            "[nltk_data]    |   Unzipping corpora/unicode_samples.zip.\n",
            "[nltk_data]    | Downloading package universal_tagset to\n",
            "[nltk_data]    |     /root/nltk_data...\n",
            "[nltk_data]    |   Unzipping taggers/universal_tagset.zip.\n",
            "[nltk_data]    | Downloading package universal_treebanks_v20 to\n",
            "[nltk_data]    |     /root/nltk_data...\n",
            "[nltk_data]    | Downloading package vader_lexicon to\n",
            "[nltk_data]    |     /root/nltk_data...\n",
            "[nltk_data]    | Downloading package verbnet to /root/nltk_data...\n",
            "[nltk_data]    |   Unzipping corpora/verbnet.zip.\n",
            "[nltk_data]    | Downloading package verbnet3 to /root/nltk_data...\n",
            "[nltk_data]    |   Unzipping corpora/verbnet3.zip.\n",
            "[nltk_data]    | Downloading package webtext to /root/nltk_data...\n",
            "[nltk_data]    |   Unzipping corpora/webtext.zip.\n",
            "[nltk_data]    | Downloading package wmt15_eval to /root/nltk_data...\n",
            "[nltk_data]    |   Unzipping models/wmt15_eval.zip.\n",
            "[nltk_data]    | Downloading package word2vec_sample to\n",
            "[nltk_data]    |     /root/nltk_data...\n",
            "[nltk_data]    |   Unzipping models/word2vec_sample.zip.\n",
            "[nltk_data]    | Downloading package wordnet to /root/nltk_data...\n",
            "[nltk_data]    | Downloading package wordnet2021 to /root/nltk_data...\n",
            "[nltk_data]    | Downloading package wordnet2022 to /root/nltk_data...\n",
            "[nltk_data]    |   Unzipping corpora/wordnet2022.zip.\n",
            "[nltk_data]    | Downloading package wordnet31 to /root/nltk_data...\n",
            "[nltk_data]    | Downloading package wordnet_ic to /root/nltk_data...\n",
            "[nltk_data]    |   Unzipping corpora/wordnet_ic.zip.\n",
            "[nltk_data]    | Downloading package words to /root/nltk_data...\n",
            "[nltk_data]    |   Unzipping corpora/words.zip.\n",
            "[nltk_data]    | Downloading package ycoe to /root/nltk_data...\n",
            "[nltk_data]    |   Unzipping corpora/ycoe.zip.\n",
            "[nltk_data]    | \n",
            "[nltk_data]  Done downloading collection all\n"
          ]
        },
        {
          "output_type": "execute_result",
          "data": {
            "text/plain": [
              "True"
            ]
          },
          "metadata": {},
          "execution_count": 1
        }
      ],
      "source": [
        "import nltk\n",
        "nltk.download(\"all\")"
      ]
    },
    {
      "cell_type": "markdown",
      "source": [
        "Aunque todavía no profundizaremos en **Corpus** revisaremos algunos ejemplos para mostrar el concepto y algunas instrucciones útiles en Pythpn y la librería NLTK\n",
        "\n",
        "- NLTK dispone de una serie de ***Corpus*** con los que poder trabajar y realizar pruebas.\n",
        "\n",
        "- Algunos de los ***corpus*** que pueden ser de interés son:\n",
        "\n",
        "|Corpus|Content|\n",
        "|---|---|\n",
        "|Brown Corpus|15 genres, 1.15M words, tagged, categorized|\n",
        "|CESS Treebanks|1M words, tagged and parsed (Catalan, Spanish)|\n",
        "|Gutenberg (selections)|18 texts, 2M words|\n",
        "|Inaugural Address Corpus|U.S. Presidential Inaugural Addresses (1789–present)|\n",
        "|Movie Reviews|2k movie reviews with sentiment polarity classification|\n",
        "|Reuters Corpus|1.3M words, 10k news documents, categorized|\n",
        "|Stopwords Corpus|2,400 stopwords for 11 languages|\n",
        "|WordNet 3.0 (English)|145k synonym sets|\n",
        "\n",
        "\n",
        "* Para más información: [corpus](http://www.nltk.org/howto/)\n",
        "\n",
        "### Manejo de Corpus (funcionalidades)\n",
        "\n",
        "Dentro de NLTK podemos encontrarnos diferentes tipos de Corpus que podrían clasificarse en:\n",
        "\n",
        "* Textos planos: como el corpus de *Gutenberg*\n",
        "* Textos categorizados: como el corpus de *Bronwn* (15 generos)\n",
        "* Textos multicategóricos: como el corpus de *Reuters* (1 documentos, varias categorias)\n",
        "* Textos temporales: como el corpus *Inaugural Address Corpus*, discursos presidenciales a lo largo de la historia\n",
        "\n",
        "Para el manejo de estos corpus NLTK nos ofrece las siguientes funciones:\n",
        "\n",
        "|Example|Description|\n",
        "|---|---|\n",
        "|fileids()|the files of the corpus|\n",
        "|fileids([categories])|the files of the corpus corresponding to these categories|\n",
        "|categories()|the categories of the corpus|\n",
        "|categories([fileids])|the categories of the corpus corresponding to these files|\n",
        "|raw()|the raw content of the corpus|\n",
        "|raw(fileids=[f1,f2,f3])|the raw content of the specified files|\n",
        "|raw(categories=[c1,c2])|the raw content of the specified categories|\n",
        "|words()|the words of the whole corpus|\n",
        "|words(fileids=[f1,f2,f3])|the words of the specified fileids|\n",
        "|words(categories=[c1,c2])|the words of the specified categories|\n",
        "|sents()|the sentences of the whole corpus|\n",
        "|sents(fileids=[f1,f2,f3])|the sentences of the specified fileids|\n",
        "|sents(categories=[c1,c2])|the sentences of the specified categories|\n",
        "|abspath(fileid)|the location of the given file on disk|\n",
        "|encoding(fileid)|the encoding of the file (if known)|\n",
        "|open(fileid)|open a stream for reading the given corpus file|\n",
        "|root|if the path to the root of locally installed corpus|\n",
        "|readme()|the contents of the README file of the corpus|\n",
        "\n",
        "### Ejemplo con el corpus de Gutenberg\n",
        "\n",
        "**1. ¿Que ficheros componen el corpus?**"
      ],
      "metadata": {
        "id": "oY7Ua-e6zIVU"
      }
    },
    {
      "cell_type": "code",
      "source": [
        "from nltk.corpus import gutenberg\n",
        "gutenberg.fileids()"
      ],
      "metadata": {
        "colab": {
          "base_uri": "https://localhost:8080/"
        },
        "id": "0nATjLl4zLbC",
        "outputId": "78218859-96b0-4da1-f10c-c09fae8f31ff"
      },
      "execution_count": 2,
      "outputs": [
        {
          "output_type": "execute_result",
          "data": {
            "text/plain": [
              "['austen-emma.txt',\n",
              " 'austen-persuasion.txt',\n",
              " 'austen-sense.txt',\n",
              " 'bible-kjv.txt',\n",
              " 'blake-poems.txt',\n",
              " 'bryant-stories.txt',\n",
              " 'burgess-busterbrown.txt',\n",
              " 'carroll-alice.txt',\n",
              " 'chesterton-ball.txt',\n",
              " 'chesterton-brown.txt',\n",
              " 'chesterton-thursday.txt',\n",
              " 'edgeworth-parents.txt',\n",
              " 'melville-moby_dick.txt',\n",
              " 'milton-paradise.txt',\n",
              " 'shakespeare-caesar.txt',\n",
              " 'shakespeare-hamlet.txt',\n",
              " 'shakespeare-macbeth.txt',\n",
              " 'whitman-leaves.txt']"
            ]
          },
          "metadata": {},
          "execution_count": 2
        }
      ]
    },
    {
      "cell_type": "markdown",
      "source": [
        "**2. ¿Cual es el contenido del fichero \"blake-poems.txt\"?**\n",
        "\n",
        "(Por lectura mostramos solo los 300 primeros caracteres)"
      ],
      "metadata": {
        "id": "P6YTUK4ZzOqz"
      }
    },
    {
      "cell_type": "code",
      "source": [
        "blake = gutenberg.raw(\"blake-poems.txt\")\n",
        "blake[:300]"
      ],
      "metadata": {
        "colab": {
          "base_uri": "https://localhost:8080/",
          "height": 55
        },
        "id": "PMdHHQV6zQPu",
        "outputId": "ef768d3c-c662-43d1-e3a6-0ecfeae8be27"
      },
      "execution_count": 3,
      "outputs": [
        {
          "output_type": "execute_result",
          "data": {
            "text/plain": [
              "'[Poems by William Blake 1789]\\n\\n \\nSONGS OF INNOCENCE AND OF EXPERIENCE\\nand THE BOOK of THEL\\n\\n\\n SONGS OF INNOCENCE\\n \\n \\n INTRODUCTION\\n \\n Piping down the valleys wild,\\n   Piping songs of pleasant glee,\\n On a cloud I saw a child,\\n   And he laughing said to me:\\n \\n \"Pipe a song about a Lamb!\"\\n   So I piped'"
            ],
            "application/vnd.google.colaboratory.intrinsic+json": {
              "type": "string"
            }
          },
          "metadata": {},
          "execution_count": 3
        }
      ]
    },
    {
      "cell_type": "code",
      "source": [
        "# otro ejemplo con la biblia\n",
        "biblia = gutenberg.raw(\"bible-kjv.txt\")\n",
        "biblia[:1000]"
      ],
      "metadata": {
        "colab": {
          "base_uri": "https://localhost:8080/",
          "height": 128
        },
        "id": "x7hC4PhRzSWv",
        "outputId": "2af4cbe8-28ea-4a8a-f39d-14feeafa0c6c"
      },
      "execution_count": 4,
      "outputs": [
        {
          "output_type": "execute_result",
          "data": {
            "text/plain": [
              "'[The King James Bible]\\n\\nThe Old Testament of the King James Bible\\n\\nThe First Book of Moses:  Called Genesis\\n\\n\\n1:1 In the beginning God created the heaven and the earth.\\n\\n1:2 And the earth was without form, and void; and darkness was upon\\nthe face of the deep. And the Spirit of God moved upon the face of the\\nwaters.\\n\\n1:3 And God said, Let there be light: and there was light.\\n\\n1:4 And God saw the light, that it was good: and God divided the light\\nfrom the darkness.\\n\\n1:5 And God called the light Day, and the darkness he called Night.\\nAnd the evening and the morning were the first day.\\n\\n1:6 And God said, Let there be a firmament in the midst of the waters,\\nand let it divide the waters from the waters.\\n\\n1:7 And God made the firmament, and divided the waters which were\\nunder the firmament from the waters which were above the firmament:\\nand it was so.\\n\\n1:8 And God called the firmament Heaven. And the evening and the\\nmorning were the second day.\\n\\n1:9 And God said, Let the waters under the heav'"
            ],
            "application/vnd.google.colaboratory.intrinsic+json": {
              "type": "string"
            }
          },
          "metadata": {},
          "execution_count": 4
        }
      ]
    },
    {
      "cell_type": "code",
      "source": [
        "print(biblia[:1000])"
      ],
      "metadata": {
        "colab": {
          "base_uri": "https://localhost:8080/"
        },
        "id": "UXw6hWZqzUHJ",
        "outputId": "bc3e69e3-20ca-49f9-91c6-397d1d45a7fa"
      },
      "execution_count": 5,
      "outputs": [
        {
          "output_type": "stream",
          "name": "stdout",
          "text": [
            "[The King James Bible]\n",
            "\n",
            "The Old Testament of the King James Bible\n",
            "\n",
            "The First Book of Moses:  Called Genesis\n",
            "\n",
            "\n",
            "1:1 In the beginning God created the heaven and the earth.\n",
            "\n",
            "1:2 And the earth was without form, and void; and darkness was upon\n",
            "the face of the deep. And the Spirit of God moved upon the face of the\n",
            "waters.\n",
            "\n",
            "1:3 And God said, Let there be light: and there was light.\n",
            "\n",
            "1:4 And God saw the light, that it was good: and God divided the light\n",
            "from the darkness.\n",
            "\n",
            "1:5 And God called the light Day, and the darkness he called Night.\n",
            "And the evening and the morning were the first day.\n",
            "\n",
            "1:6 And God said, Let there be a firmament in the midst of the waters,\n",
            "and let it divide the waters from the waters.\n",
            "\n",
            "1:7 And God made the firmament, and divided the waters which were\n",
            "under the firmament from the waters which were above the firmament:\n",
            "and it was so.\n",
            "\n",
            "1:8 And God called the firmament Heaven. And the evening and the\n",
            "morning were the second day.\n",
            "\n",
            "1:9 And God said, Let the waters under the heav\n"
          ]
        }
      ]
    },
    {
      "cell_type": "markdown",
      "source": [
        "Para cargar alguno de estos libros en variables y poder manipularlos directamente, podemos utilizar varios métodos.\n",
        "\n",
        "- `gutenberg.raw` recupera el texto como una única cadena de caracteres.\n",
        "- `gutenberg.words` recupera el texto tokenizado en palabras. El método devuelve una lista palabras.\n",
        "- `gutenberg.sents` recupera el texto segmentado por oraciones. El método devuelve una lista de oraciones. Cada oración es a su vez una lista de palabras.\n",
        "- `gutenberg.paras` recupera el texto  segmentado por párrafos. El método devuelve una lista de párrafos.  Cada párrafo es una lista de oraciones, cada oración es a su vez una lista de palabras.\n",
        "\n",
        "Veamos algunos ejemplos"
      ],
      "metadata": {
        "id": "0gbS9Au2zWPm"
      }
    },
    {
      "cell_type": "code",
      "source": [
        "# cargo la vesión 'craw=cruda' de un par de libros. Como son libros del Proyecto Gutenberg, se trata de ficheros en texto plano\n",
        "alice = gutenberg.raw(\"carroll-alice.txt\")\n",
        "print(alice[:200]) # imprimo los primeros 200 caracteres del libro de Alicia\n",
        "\n",
        "bible = gutenberg.raw(\"bible-kjv.txt\")\n",
        "print(bible[:200]) # imprimo los primeros 200 caracteres de la Biblia"
      ],
      "metadata": {
        "colab": {
          "base_uri": "https://localhost:8080/"
        },
        "id": "NndykukvzYvp",
        "outputId": "17425489-513e-40f1-d4bf-5807bcbac84b"
      },
      "execution_count": 6,
      "outputs": [
        {
          "output_type": "stream",
          "name": "stdout",
          "text": [
            "[Alice's Adventures in Wonderland by Lewis Carroll 1865]\n",
            "\n",
            "CHAPTER I. Down the Rabbit-Hole\n",
            "\n",
            "Alice was beginning to get very tired of sitting by her sister on the\n",
            "bank, and of having nothing to do: once\n",
            "[The King James Bible]\n",
            "\n",
            "The Old Testament of the King James Bible\n",
            "\n",
            "The First Book of Moses:  Called Genesis\n",
            "\n",
            "\n",
            "1:1 In the beginning God created the heaven and the earth.\n",
            "\n",
            "1:2 And the earth was without \n"
          ]
        }
      ]
    },
    {
      "cell_type": "code",
      "source": [
        "gutenberg.words(\"bible-kjv.txt\")[:10]"
      ],
      "metadata": {
        "colab": {
          "base_uri": "https://localhost:8080/"
        },
        "id": "n9kBsQSrzV-w",
        "outputId": "9b463d91-adf5-46af-bcc7-3243c1b62552"
      },
      "execution_count": 7,
      "outputs": [
        {
          "output_type": "execute_result",
          "data": {
            "text/plain": [
              "['[', 'The', 'King', 'James', 'Bible', ']', 'The', 'Old', 'Testament', 'of']"
            ]
          },
          "metadata": {},
          "execution_count": 7
        }
      ]
    },
    {
      "cell_type": "code",
      "source": [
        "gutenberg.sents(\"bible-kjv.txt\")[:5]"
      ],
      "metadata": {
        "colab": {
          "base_uri": "https://localhost:8080/"
        },
        "id": "YWJiS8shzckq",
        "outputId": "d76ecd04-f121-4e87-a5ab-2701f3c856cd"
      },
      "execution_count": 8,
      "outputs": [
        {
          "output_type": "execute_result",
          "data": {
            "text/plain": [
              "[['[', 'The', 'King', 'James', 'Bible', ']'],\n",
              " ['The', 'Old', 'Testament', 'of', 'the', 'King', 'James', 'Bible'],\n",
              " ['The', 'First', 'Book', 'of', 'Moses', ':', 'Called', 'Genesis'],\n",
              " ['1',\n",
              "  ':',\n",
              "  '1',\n",
              "  'In',\n",
              "  'the',\n",
              "  'beginning',\n",
              "  'God',\n",
              "  'created',\n",
              "  'the',\n",
              "  'heaven',\n",
              "  'and',\n",
              "  'the',\n",
              "  'earth',\n",
              "  '.'],\n",
              " ['1',\n",
              "  ':',\n",
              "  '2',\n",
              "  'And',\n",
              "  'the',\n",
              "  'earth',\n",
              "  'was',\n",
              "  'without',\n",
              "  'form',\n",
              "  ',',\n",
              "  'and',\n",
              "  'void',\n",
              "  ';',\n",
              "  'and',\n",
              "  'darkness',\n",
              "  'was',\n",
              "  'upon',\n",
              "  'the',\n",
              "  'face',\n",
              "  'of',\n",
              "  'the',\n",
              "  'deep',\n",
              "  '.']]"
            ]
          },
          "metadata": {},
          "execution_count": 8
        }
      ]
    },
    {
      "cell_type": "code",
      "source": [
        "gutenberg.paras(\"bible-kjv.txt\")[:3]"
      ],
      "metadata": {
        "colab": {
          "base_uri": "https://localhost:8080/"
        },
        "id": "yUpuiAmjzdC4",
        "outputId": "38be79e5-e658-46a1-a21a-a5f2db45bf58"
      },
      "execution_count": 9,
      "outputs": [
        {
          "output_type": "execute_result",
          "data": {
            "text/plain": [
              "[[['[', 'The', 'King', 'James', 'Bible', ']']],\n",
              " [['The', 'Old', 'Testament', 'of', 'the', 'King', 'James', 'Bible']],\n",
              " [['The', 'First', 'Book', 'of', 'Moses', ':', 'Called', 'Genesis']]]"
            ]
          },
          "metadata": {},
          "execution_count": 9
        }
      ]
    },
    {
      "cell_type": "markdown",
      "source": [
        "De cada uno de los documentos mostramos: \n",
        "\n",
        "- Número de caracteres \n",
        "\n",
        "- Número de palabras\n",
        "\n",
        "- Número de frases \n",
        " \n",
        "- Número de medio de caracteres por palabra \n",
        " \n",
        "- Número medio de palabras por frase\n",
        " \n",
        "- Diversidad léxica (número de palabras / palabras distintas del texto)"
      ],
      "metadata": {
        "id": "bZvR0W5lziNE"
      }
    },
    {
      "cell_type": "code",
      "source": [
        "print(\"car\", \"pal\", \"ora\", \"car/pal\", \"pal/ora\", sep = \"--------\")\n",
        "for libro in gutenberg.fileids():\n",
        "    num_car = len(gutenberg.raw(libro))\n",
        "    num_pal = len(gutenberg.words(libro))\n",
        "    num_ora = len(gutenberg.sents(libro))\n",
        "    avg_car_pal = int(num_car/num_pal)\n",
        "    avg_pal_ora = int(num_pal/num_ora)\n",
        "    print(\" {num_car:<10} {num_pal:<10} {num_ora:<10} {avg_car_pal:<10} {avg_pal_ora:<10} {libro:<10}\"\n",
        "          .format(num_car=num_car, num_pal=num_pal, num_ora=num_ora, avg_car_pal=avg_car_pal,\n",
        "                  avg_pal_ora = avg_pal_ora , libro = libro))"
      ],
      "metadata": {
        "colab": {
          "base_uri": "https://localhost:8080/"
        },
        "id": "QD4Jn5uXzgDj",
        "outputId": "0d4e0767-20fe-4232-c47a-46c807861cd2"
      },
      "execution_count": 20,
      "outputs": [
        {
          "output_type": "stream",
          "name": "stdout",
          "text": [
            "car--------pal--------ora--------car/pal--------pal/ora\n",
            " 887071     192427     7717       4          24         austen-emma.txt\n",
            " 466292     98171      3747       4          26         austen-persuasion.txt\n",
            " 673022     141576     4999       4          28         austen-sense.txt\n",
            " 4332554    1010654    30103      4          33         bible-kjv.txt\n",
            " 38153      8354       438        4          19         blake-poems.txt\n",
            " 249439     55563      2863       4          19         bryant-stories.txt\n",
            " 84663      18963      1054       4          17         burgess-busterbrown.txt\n",
            " 144395     34110      1703       4          20         carroll-alice.txt\n",
            " 457450     96996      4779       4          20         chesterton-ball.txt\n",
            " 406629     86063      3806       4          22         chesterton-brown.txt\n",
            " 320525     69213      3728       4          18         chesterton-thursday.txt\n",
            " 935158     210663     10230      4          20         edgeworth-parents.txt\n",
            " 1242990    260819     10059      4          25         melville-moby_dick.txt\n",
            " 468220     96825      1851       4          52         milton-paradise.txt\n",
            " 112310     25833      2163       4          11         shakespeare-caesar.txt\n",
            " 162881     37360      3106       4          12         shakespeare-hamlet.txt\n",
            " 100351     23140      1907       4          12         shakespeare-macbeth.txt\n",
            " 711215     154883     4250       4          36         whitman-leaves.txt\n"
          ]
        }
      ]
    },
    {
      "cell_type": "markdown",
      "source": [
        "## Ejemplo con el corpus de Brown\n",
        "\n",
        "Este es un corpus que contiene una serie de textos categorizados (o tageados) con un tipos de genero\n",
        "\n",
        "1. ¿Cuales son las categorias del corpus de Brown?"
      ],
      "metadata": {
        "id": "QQHtwHAmzmhi"
      }
    },
    {
      "cell_type": "code",
      "source": [
        "from nltk.corpus import brown\n",
        "brown.categories()"
      ],
      "metadata": {
        "colab": {
          "base_uri": "https://localhost:8080/"
        },
        "id": "3H6foOLUznNm",
        "outputId": "de146e72-2962-4058-de15-d84e8b13d72c"
      },
      "execution_count": 21,
      "outputs": [
        {
          "output_type": "execute_result",
          "data": {
            "text/plain": [
              "['adventure',\n",
              " 'belles_lettres',\n",
              " 'editorial',\n",
              " 'fiction',\n",
              " 'government',\n",
              " 'hobbies',\n",
              " 'humor',\n",
              " 'learned',\n",
              " 'lore',\n",
              " 'mystery',\n",
              " 'news',\n",
              " 'religion',\n",
              " 'reviews',\n",
              " 'romance',\n",
              " 'science_fiction']"
            ]
          },
          "metadata": {},
          "execution_count": 21
        }
      ]
    },
    {
      "cell_type": "markdown",
      "source": [
        "## ¿30 palabras que documentos en la categoria \"news\" y \"religion\""
      ],
      "metadata": {
        "id": "YpzR2OlxzrCA"
      }
    },
    {
      "cell_type": "code",
      "source": [
        "print(brown.words(categories = \"news\")[:30])\n",
        "print(brown.words(categories = \"religion\")[:30])"
      ],
      "metadata": {
        "colab": {
          "base_uri": "https://localhost:8080/"
        },
        "id": "W_7jSGLJzsuM",
        "outputId": "d294873c-f754-4bd8-c244-62983860e124"
      },
      "execution_count": 22,
      "outputs": [
        {
          "output_type": "stream",
          "name": "stdout",
          "text": [
            "['The', 'Fulton', 'County', 'Grand', 'Jury', 'said', 'Friday', 'an', 'investigation', 'of', \"Atlanta's\", 'recent', 'primary', 'election', 'produced', '``', 'no', 'evidence', \"''\", 'that', 'any', 'irregularities', 'took', 'place', '.', 'The', 'jury', 'further', 'said', 'in']\n",
            "['As', 'a', 'result', ',', 'although', 'we', 'still', 'make', 'use', 'of', 'this', 'distinction', ',', 'there', 'is', 'much', 'confusion', 'as', 'to', 'the', 'meaning', 'of', 'the', 'basic', 'terms', 'employed', '.', 'Just', 'what', 'is']\n"
          ]
        }
      ]
    },
    {
      "cell_type": "code",
      "source": [
        "genres = ['news', 'religion', 'hobbies', 'science_fiction', 'romance', 'humor']\n",
        "modals = ['can', 'could', 'may', 'might', 'must', 'will']\n",
        "\n",
        "tabla = nltk.ConditionalFreqDist( \n",
        "         (genre, word)\n",
        "         for genre in brown.categories()\n",
        "         for word in  brown.words(categories=genre))\n",
        "\n",
        "tabla.tabulate(conditions=genres, samples=modals)"
      ],
      "metadata": {
        "colab": {
          "base_uri": "https://localhost:8080/"
        },
        "id": "pSggeSTxzpBl",
        "outputId": "4a546f4b-658e-42a6-b5f4-dedc5e5c0e3c"
      },
      "execution_count": 23,
      "outputs": [
        {
          "output_type": "stream",
          "name": "stdout",
          "text": [
            "                  can could   may might  must  will \n",
            "           news    93    86    66    38    50   389 \n",
            "       religion    82    59    78    12    54    71 \n",
            "        hobbies   268    58   131    22    83   264 \n",
            "science_fiction    16    49     4    12     8    16 \n",
            "        romance    74   193    11    51    45    43 \n",
            "          humor    16    30     8     8     9    13 \n"
          ]
        }
      ]
    },
    {
      "cell_type": "markdown",
      "source": [
        "En el fichero \"news\" qué documentos encontramos"
      ],
      "metadata": {
        "id": "0I6zmJomzzyX"
      }
    },
    {
      "cell_type": "code",
      "source": [
        "brown.fileids(['news'])[0:5]"
      ],
      "metadata": {
        "colab": {
          "base_uri": "https://localhost:8080/"
        },
        "id": "S2iei5fhz0QT",
        "outputId": "94d948ba-fea1-4997-f2db-a51be7290287"
      },
      "execution_count": 24,
      "outputs": [
        {
          "output_type": "execute_result",
          "data": {
            "text/plain": [
              "['ca01', 'ca02', 'ca03', 'ca04', 'ca05']"
            ]
          },
          "metadata": {},
          "execution_count": 24
        }
      ]
    },
    {
      "cell_type": "markdown",
      "source": [
        "## Otros corpus de interes"
      ],
      "metadata": {
        "id": "DIHKk58fz2gd"
      }
    },
    {
      "cell_type": "code",
      "source": [
        "# webtext: colección de web text, incluidas conversaciones de Firefox\n",
        "from nltk.corpus import webtext\n",
        "for fileid in webtext.fileids():\n",
        "   print(fileid, webtext.raw(fileid)[:100], '...')"
      ],
      "metadata": {
        "colab": {
          "base_uri": "https://localhost:8080/"
        },
        "id": "sCDGDOEDz4c1",
        "outputId": "bba45d72-e1b5-4fe5-cac3-f17a6672f32a"
      },
      "execution_count": 25,
      "outputs": [
        {
          "output_type": "stream",
          "name": "stdout",
          "text": [
            "firefox.txt Cookie Manager: \"Don't allow sites that set removed cookies to set future cookies\" should stay check ...\n",
            "grail.txt SCENE 1: [wind] [clop clop clop] \n",
            "KING ARTHUR: Whoa there!  [clop clop clop] \n",
            "SOLDIER #1: Halt!  Who ...\n",
            "overheard.txt White guy: So, do you have any plans for this evening?\n",
            "Asian girl: Yeah, being angry!\n",
            "White guy: Oh, ...\n",
            "pirates.txt PIRATES OF THE CARRIBEAN: DEAD MAN'S CHEST, by Ted Elliott & Terry Rossio\n",
            "[view looking straight dow ...\n",
            "singles.txt 25 SEXY MALE, seeks attrac older single lady, for discreet encounters.\n",
            "35YO Security Guard, seeking  ...\n",
            "wine.txt Lovely delicate, fragrant Rhone wine. Polished leather and strawberries. Perhaps a bit dilute, but g ...\n"
          ]
        }
      ]
    },
    {
      "cell_type": "code",
      "source": [
        "# Reuters : contiene 10788 documentos con 1.3 millones de palabras. Documentos de diferentes tópicos llamados training and test\n",
        "from nltk.corpus import reuters\n",
        "print(len(reuters.fileids()))\n",
        "print(reuters.fileids()[0:10])"
      ],
      "metadata": {
        "colab": {
          "base_uri": "https://localhost:8080/"
        },
        "id": "utew7dX2z7TZ",
        "outputId": "3649f209-62fa-46d7-c2af-cb581a1874f4"
      },
      "execution_count": 26,
      "outputs": [
        {
          "output_type": "stream",
          "name": "stdout",
          "text": [
            "10788\n",
            "['test/14826', 'test/14828', 'test/14829', 'test/14832', 'test/14833', 'test/14839', 'test/14840', 'test/14841', 'test/14842', 'test/14843']\n"
          ]
        }
      ]
    },
    {
      "cell_type": "code",
      "source": [
        "print(reuters.categories()[0:10])"
      ],
      "metadata": {
        "colab": {
          "base_uri": "https://localhost:8080/"
        },
        "id": "xYsUZaJWz8nm",
        "outputId": "267988ac-ab10-4b26-a753-66ca92b1c69a"
      },
      "execution_count": 27,
      "outputs": [
        {
          "output_type": "stream",
          "name": "stdout",
          "text": [
            "['acq', 'alum', 'barley', 'bop', 'carcass', 'castor-oil', 'cocoa', 'coconut', 'coconut-oil', 'coffee']\n"
          ]
        }
      ]
    },
    {
      "cell_type": "code",
      "source": [
        "print(reuters.words(\"test/14829\")[0:20])"
      ],
      "metadata": {
        "colab": {
          "base_uri": "https://localhost:8080/"
        },
        "id": "HHhPG-paz9zT",
        "outputId": "9dd2adf1-81a6-4570-d5a3-c5f8b7798f74"
      },
      "execution_count": 28,
      "outputs": [
        {
          "output_type": "stream",
          "name": "stdout",
          "text": [
            "['JAPAN', 'TO', 'REVISE', 'LONG', '-', 'TERM', 'ENERGY', 'DEMAND', 'DOWNWARDS', 'The', 'Ministry', 'of', 'International', 'Trade', 'and', 'Industry', '(', 'MITI', ')', 'will']\n"
          ]
        }
      ]
    },
    {
      "cell_type": "code",
      "source": [
        "# inaugural: 55 textos uno de cada dirección presidencial\n",
        "from nltk.corpus import inaugural\n",
        "print(inaugural.fileids()[0:10])"
      ],
      "metadata": {
        "colab": {
          "base_uri": "https://localhost:8080/"
        },
        "id": "O5Uj4ZBjz_JR",
        "outputId": "15b1d920-4ebd-4f85-fe3d-330ed1674a71"
      },
      "execution_count": 30,
      "outputs": [
        {
          "output_type": "stream",
          "name": "stdout",
          "text": [
            "['1789-Washington.txt', '1793-Washington.txt', '1797-Adams.txt', '1801-Jefferson.txt', '1805-Jefferson.txt', '1809-Madison.txt', '1813-Madison.txt', '1817-Monroe.txt', '1821-Monroe.txt', '1825-Adams.txt']\n"
          ]
        }
      ]
    },
    {
      "cell_type": "code",
      "source": [
        "print(inaugural.words(\"1789-Washington.txt\")[:20])"
      ],
      "metadata": {
        "colab": {
          "base_uri": "https://localhost:8080/"
        },
        "id": "RdawWouH0Ahj",
        "outputId": "2493fb9c-a25a-4c6e-8fbf-7b18d9153dc9"
      },
      "execution_count": 31,
      "outputs": [
        {
          "output_type": "stream",
          "name": "stdout",
          "text": [
            "['Fellow', '-', 'Citizens', 'of', 'the', 'Senate', 'and', 'of', 'the', 'House', 'of', 'Representatives', ':', 'Among', 'the', 'vicissitudes', 'incident', 'to', 'life', 'no']\n"
          ]
        }
      ]
    },
    {
      "cell_type": "markdown",
      "source": [
        "##¿Si quiero sacar de los campos anteriores las fechas?"
      ],
      "metadata": {
        "id": "fySDmrS70BmC"
      }
    },
    {
      "cell_type": "code",
      "source": [
        "for fileid in inaugural.fileids():\n",
        "    print(fileid[:4])"
      ],
      "metadata": {
        "id": "K_kYtVRY0CIe"
      },
      "execution_count": null,
      "outputs": []
    },
    {
      "cell_type": "code",
      "source": [
        "print([fileid[:4] for fileid in inaugural.fileids()])"
      ],
      "metadata": {
        "id": "K7wkiLQj0ECt"
      },
      "execution_count": null,
      "outputs": []
    },
    {
      "cell_type": "code",
      "source": [
        "#Tarea entender este código\n",
        "tabla1 = nltk.ConditionalFreqDist( \n",
        "               (target, fileid[:4])\n",
        "               for fileid in inaugural.fileids()\n",
        "               for w in inaugural.words(fileid)\n",
        "               for target in ['america', 'citizens']\n",
        "               if w.lower().startswith(target))\n",
        "tabla1.tabulate()\n",
        "tabla1.plot()"
      ],
      "metadata": {
        "colab": {
          "base_uri": "https://localhost:8080/",
          "height": 389
        },
        "id": "yZempDcA0FL4",
        "outputId": "7a1cb504-cbed-4e34-ca06-8ca6d1c55625"
      },
      "execution_count": 34,
      "outputs": [
        {
          "output_type": "stream",
          "name": "stdout",
          "text": [
            "         1789 1793 1797 1801 1805 1809 1813 1817 1821 1825 1829 1833 1837 1841 1845 1849 1853 1857 1861 1865 1869 1873 1877 1881 1885 1889 1893 1897 1901 1905 1909 1917 1921 1925 1929 1933 1937 1941 1945 1949 1953 1957 1961 1965 1969 1973 1977 1981 1985 1989 1993 1997 2001 2005 2009 2013 2017 2021 \n",
            " america    2    1    8    0    1    0    1    1    2    0    0    2    2    7    0    2    2    3    2    1    0    0    1    2    4    6    9    9    7    0   12    4   24   11   12    2    5   12    2    4    6    7    7   10   10   23    5   16   21   11   33   31   20   30   15   19   35   40 \n",
            "citizens    5    1    5    7   10    1    4    9   15    2    2    3    6   27   11    2    3    7    6    0    3    2    8    7    8    9    7   10    2    1    6    3    6    3   10    1    1    0    1    1    3    0    5    1    1    1    0    3    6    2    2    9   10    6    2    6    4    1 \n"
          ]
        },
        {
          "output_type": "display_data",
          "data": {
            "text/plain": [
              "<Figure size 432x288 with 1 Axes>"
            ],
            "image/png": "[encoded data removed]"
          },
          "metadata": {
            "needs_background": "light"
          }
        },
        {
          "output_type": "execute_result",
          "data": {
            "text/plain": [
              "<matplotlib.axes._subplots.AxesSubplot at 0x7f28ccb2d9d0>"
            ]
          },
          "metadata": {},
          "execution_count": 34
        }
      ]
    },
    {
      "cell_type": "markdown",
      "source": [
        "##Tokenización\n",
        "\n",
        "Dividir cadenas de texto en partes más pequeñas : tokens"
      ],
      "metadata": {
        "id": "WcytD3-T2bOv"
      }
    },
    {
      "cell_type": "code",
      "source": [
        "# importamos la librería word_tokenize que divide una cadena es subcadenas mas sencillas.\n",
        "# identifica con puntuación o palabras \n",
        "from nltk import word_tokenize"
      ],
      "metadata": {
        "id": "rQo8uG492c9E"
      },
      "execution_count": 165,
      "outputs": []
    },
    {
      "cell_type": "code",
      "source": [
        "# separa cuando encuentra espacio\n",
        "documento = \"Cien años de sole.dad 100.56 es una novela del escritor colombiano Gabriel García Márquez, ganador del Premio Nobel de Literatura en 1982. Es considerada una obra maestra de la literatura hispanoamericana y universal. Así como una de las obras más traducidas y leídas en español.\"\n",
        "words = nltk.word_tokenize(documento)\n",
        "print (words)"
      ],
      "metadata": {
        "id": "peR3W0U12hHy"
      },
      "execution_count": null,
      "outputs": []
    },
    {
      "cell_type": "code",
      "source": [
        "# separa el texto cuando hay punto.\n",
        "from nltk.tokenize import wordpunct_tokenize\n",
        "print(wordpunct_tokenize(documento))"
      ],
      "metadata": {
        "id": "8uxPxQ8h2jlI"
      },
      "execution_count": null,
      "outputs": []
    },
    {
      "cell_type": "code",
      "source": [
        "\n",
        "text = word_tokenize(\"And now for something completely different\")\n",
        "nltk.pos_tag(text)"
      ],
      "metadata": {
        "colab": {
          "base_uri": "https://localhost:8080/"
        },
        "id": "j7LTo8bhzVWE",
        "outputId": "e6e3ff40-3b04-4cb2-b960-573221861d6b"
      },
      "execution_count": 166,
      "outputs": [
        {
          "output_type": "execute_result",
          "data": {
            "text/plain": [
              "[('And', 'CC'),\n",
              " ('now', 'RB'),\n",
              " ('for', 'IN'),\n",
              " ('something', 'NN'),\n",
              " ('completely', 'RB'),\n",
              " ('different', 'JJ')]"
            ]
          },
          "metadata": {},
          "execution_count": 166
        }
      ]
    },
    {
      "cell_type": "code",
      "source": [
        "nltk.help.upenn_tagset('JJ')"
      ],
      "metadata": {
        "colab": {
          "base_uri": "https://localhost:8080/"
        },
        "id": "oMGKpRGnzkVJ",
        "outputId": "b87d7fa3-9e3d-40ac-a6cc-54dce471cabf"
      },
      "execution_count": 168,
      "outputs": [
        {
          "output_type": "stream",
          "name": "stdout",
          "text": [
            "JJ: adjective or numeral, ordinal\n",
            "    third ill-mannered pre-war regrettable oiled calamitous first separable\n",
            "    ectoplasmic battery-powered participatory fourth still-to-be-named\n",
            "    multilingual multi-disciplinary ...\n"
          ]
        }
      ]
    },
    {
      "cell_type": "code",
      "source": [
        "text = word_tokenize(\"They refuse to permit us to obtain the refuse permit\")\n",
        "nltk.pos_tag(text)"
      ],
      "metadata": {
        "colab": {
          "base_uri": "https://localhost:8080/"
        },
        "id": "fDaCKlGeznqA",
        "outputId": "5a432b87-8463-41bd-e2bf-1adcda6fdfef"
      },
      "execution_count": 169,
      "outputs": [
        {
          "output_type": "execute_result",
          "data": {
            "text/plain": [
              "[('They', 'PRP'),\n",
              " ('refuse', 'VBP'),\n",
              " ('to', 'TO'),\n",
              " ('permit', 'VB'),\n",
              " ('us', 'PRP'),\n",
              " ('to', 'TO'),\n",
              " ('obtain', 'VB'),\n",
              " ('the', 'DT'),\n",
              " ('refuse', 'NN'),\n",
              " ('permit', 'NN')]"
            ]
          },
          "metadata": {},
          "execution_count": 169
        }
      ]
    },
    {
      "cell_type": "markdown",
      "source": [
        "## Stop words\n",
        "\n",
        "\n",
        "* Son las palabras que no aportan nada al significado de la frase.\n",
        "\n",
        "* NLTK tiene para una serie de idiomas un listado de Stop Words.\n",
        "\n",
        "* Para el Español dispone de un listado de stop words:"
      ],
      "metadata": {
        "id": "TekS2f5g2q1E"
      }
    },
    {
      "cell_type": "code",
      "source": [
        "from nltk.corpus import stopwords\n",
        "print(set(stopwords.words('spanish')))"
      ],
      "metadata": {
        "colab": {
          "base_uri": "https://localhost:8080/"
        },
        "id": "GpdajA2X2qHa",
        "outputId": "9848fe87-066d-4d8c-acaf-2f937eb0a2da"
      },
      "execution_count": 36,
      "outputs": [
        {
          "output_type": "stream",
          "name": "stdout",
          "text": [
            "{'ha', 'había', 'seamos', 'estés', 'al', 'hubiera', 'algunas', 'estuviésemos', 'sintiendo', 'hubo', 'tuviese', 'tengan', 'donde', 'tuvo', 'estaré', 'estuvisteis', 'tendrían', 'tengamos', 'erais', 'está', 'teniendo', 'estadas', 'seáis', 'tienes', 'tiene', 'un', 'a', 'estáis', 'estarás', 'suya', 'esté', 'era', 'vuestro', 'ya', 'mi', 'lo', 'habrás', 'hubiese', 'tenidos', 'muy', 'suyas', 'uno', 'o', 'ellos', 'con', 'mis', 'ella', 'estuvimos', 'mí', 'están', 'habrían', 'habéis', 'pero', 'antes', 'estar', 'esto', 'una', 'tuve', 'estuviera', 'nosotros', 'hubieras', 'hemos', 'fueron', 'tuvieseis', 'fui', 'tanto', 'estuvo', 'nos', 'ante', 'contra', 'otros', 'tenida', 'eso', 'seréis', 'hubieran', 'tendrás', 'vuestra', 'estado', 'nuestra', 'tendréis', 'ellas', 'éramos', 'unos', 'hubimos', 'tuviéramos', 'su', 'porque', 'hubiesen', 'hubieses', 'por', 'tenía', 'eran', 'nada', 'mucho', 'nuestras', 'algo', 'fuisteis', 'tengo', 'tuyos', 'no', 'tus', 'habré', 'habidos', 'sentidos', 'otras', 'nosotras', 'otro', 'estaban', 'me', 'desde', 'esa', 'entre', 'tendré', 'habías', 'tuviera', 'serían', 'seas', 'estoy', 'mías', 'tuviesen', 'estuviese', 'estás', 'seré', 'teníamos', 'estaría', 'tendrán', 'habría', 'fuiste', 'la', 'habido', 'siente', 'y', 'tuyo', 'serás', 'estas', 'hubiste', 'habréis', 'míos', 'estarán', 'seremos', 'poco', 'fuésemos', 'hasta', 'estos', 'tened', 'sea', 'qué', 'habríais', 'para', 'tendríais', 'eras', 'tuyas', 'somos', 'habida', 'habríamos', 'tuviste', 'tuvieron', 'estabas', 'serías', 'tuvieran', 'esta', 'sean', 'todo', 'tendrá', 'tendrías', 'tuvieses', 'mío', 'esas', 'he', 'hayan', 'tendría', 'estando', 'has', 'ni', 'estada', 'durante', 'muchos', 'los', 'vosotras', 'se', 'suyo', 'de', 'estén', 'habidas', 'más', 'tenemos', 'estuve', 'vosotros', 'como', 'vuestras', 'son', 'estamos', 'estuviesen', 'haya', 'hubieron', 'seríais', 'han', 'estad', 'estuvieron', 'sentido', 'otra', 'también', 'sería', 'tu', 'tenían', 'hubierais', 'fuimos', 'fueseis', 'sí', 'será', 'estaríamos', 'estemos', 'hubiésemos', 'tuvieras', 'tenéis', 'tienen', 'hayamos', 'hubisteis', 'tuvimos', 'este', 'estuvierais', 'hubieseis', 'teníais', 'habían', 'fueran', 'hay', 'tendríamos', 'estaba', 'estuviste', 'fuéramos', 'seríamos', 'tú', 'suyos', 'el', 'habíamos', 'sus', 'estuvieses', 'tenidas', 'fuera', 'tengáis', 'fuese', 'serán', 'en', 'le', 'e', 'fueses', 'es', 'sentid', 'estabais', 'tuvisteis', 'tenga', 'habremos', 'habíais', 'estábamos', 'del', 'tuviésemos', 'hube', 'estados', 'habiendo', 'estaríais', 'él', 'fuesen', 'ese', 'estarían', 'hubiéramos', 'estéis', 'estará', 'tengas', 'sin', 'cual', 'tuvierais', 'fueras', 'vuestros', 'fue', 'esos', 'nuestro', 'tenido', 'que', 'todos', 'quienes', 'estaréis', 'ti', 'sentida', 'soy', 'sentidas', 'las', 'estaremos', 'estarías', 'os', 'quien', 'hayas', 'sois', 'yo', 'estuvieran', 'te', 'tendremos', 'fuerais', 'algunos', 'estuvieras', 'estuviéramos', 'mía', 'tuya', 'habrías', 'habrán', 'hayáis', 'estuvieseis', 'habrá', 'cuando', 'tenías', 'les', 'sobre', 'eres', 'nuestros'}\n"
          ]
        }
      ]
    },
    {
      "cell_type": "code",
      "source": [
        "doc = \"Un radar multa a Fabian Sanchez por conducir demasiado rapido en la autopista\"\n",
        "words = nltk.word_tokenize(doc)\n",
        "for word in words:\n",
        "        if word in stopwords.words('spanish'):\n",
        "            print (word)"
      ],
      "metadata": {
        "colab": {
          "base_uri": "https://localhost:8080/"
        },
        "id": "Is_vhe1S2tNQ",
        "outputId": "1c3120c3-2009-4287-d594-c94a5a207410"
      },
      "execution_count": 37,
      "outputs": [
        {
          "output_type": "stream",
          "name": "stdout",
          "text": [
            "a\n",
            "por\n",
            "en\n",
            "la\n"
          ]
        }
      ]
    },
    {
      "cell_type": "markdown",
      "source": [
        "## n-grams\n",
        "\n",
        "* Modelo de representación que selecciona secuencias contiguas de N elementos de la selección de texto."
      ],
      "metadata": {
        "id": "bnQEPqNC22KL"
      }
    },
    {
      "cell_type": "code",
      "source": [
        "from nltk import ngrams\n",
        "doc = \"Un radar multa a Fabian Sanchez por conducir demasiado rapido en la autopista\"\n",
        "words = nltk.word_tokenize(doc)\n",
        "num_elementos = 3\n",
        "n_grams = ngrams(words, num_elementos)\n",
        "for grams in n_grams:\n",
        "    print (grams)"
      ],
      "metadata": {
        "id": "6Zf7tBNx21Ki"
      },
      "execution_count": null,
      "outputs": []
    },
    {
      "cell_type": "code",
      "source": [],
      "metadata": {
        "id": "WYcqW-vgBNZG"
      },
      "execution_count": null,
      "outputs": []
    },
    {
      "cell_type": "markdown",
      "source": [
        "## ETIQUETADO MORFOLÓGICO : (*part-of-speech tagging*)\n",
        "\n",
        "NLTK nos da algunas herramientas para crear etiquetadores morfológicos, es decir, identificar si una palabra es verbo, sustantivo, adjetivo , etc.\n",
        "\n",
        "CC : coodinate conjunction\n",
        "CD : cardinal number\n",
        "DT : determiner\n",
        "EX ; existencial there\n",
        "FW : foeign word\n",
        "IN : preprosition or subordinating\n",
        "JJ : adjetive\n",
        "JJR : adjetive, comparative\n",
        "JJS : adjetive superlative\n",
        "...\n",
        "BV : verbo forma base\n",
        "VBD : verbo pasado\n",
        "VBG : verb gerundio\n",
        "\n",
        "ver\n",
        "\n",
        "[TAGGING](https://pythonspot.com/nltk-speech-tagging/)\n",
        "\n",
        "Usaremos primer : nltk.pos_tag que es un etiquetador morfológico basado en aprendizaje automático. A partir de miles de ejemplos de oraciones etiquetadas manualmente, el sistema *ha aprendido*, calculando frecuencias y generalizando cuál es la categoría gramatical más probable para cada token. \n"
      ],
      "metadata": {
        "id": "n9oYzmfvBOBt"
      }
    },
    {
      "cell_type": "code",
      "source": [
        "# inicialmente usaremos una función de NLTK denominada : nltk.pos_tag\n",
        "\n",
        "oracion1 = \"This is the lost dog I found at the park\".split()\n",
        "oracion2 = \"The progress of the humankind as I progress\".split()\n",
        "oracion3 = \"When I went to the University, I played soccer\".split()\n",
        "print(nltk.pos_tag(oracion1))\n",
        "print(nltk.pos_tag(oracion2))\n",
        "print(nltk.pos_tag(oracion3))"
      ],
      "metadata": {
        "colab": {
          "base_uri": "https://localhost:8080/"
        },
        "id": "gT7aP-oaBpXU",
        "outputId": "9937343e-fafd-423a-b79d-5d16e56558f5"
      },
      "execution_count": 38,
      "outputs": [
        {
          "output_type": "stream",
          "name": "stdout",
          "text": [
            "[('This', 'DT'), ('is', 'VBZ'), ('the', 'DT'), ('lost', 'JJ'), ('dog', 'NN'), ('I', 'PRP'), ('found', 'VBD'), ('at', 'IN'), ('the', 'DT'), ('park', 'NN')]\n",
            "[('The', 'DT'), ('progress', 'NN'), ('of', 'IN'), ('the', 'DT'), ('humankind', 'NN'), ('as', 'IN'), ('I', 'PRP'), ('progress', 'VBP')]\n",
            "[('When', 'WRB'), ('I', 'PRP'), ('went', 'VBD'), ('to', 'TO'), ('the', 'DT'), ('University,', 'NNP'), ('I', 'PRP'), ('played', 'VBD'), ('soccer', 'NN')]\n"
          ]
        }
      ]
    },
    {
      "cell_type": "markdown",
      "source": [
        "Este etiquetador comete bastante errores."
      ],
      "metadata": {
        "id": "nH_Mi79CDyBV"
      }
    },
    {
      "cell_type": "code",
      "source": [
        "oracion4 = \"Green colorless ideas sleep furiously\".split()\n",
        "\n",
        "print(nltk.pos_tag(oracion3))\n",
        "\n",
        "print(nltk.pos_tag([\"My\", \"name\", \"is\", \"Prince\"]))\n",
        "\n",
        "print(nltk.pos_tag('He was born during the summer of 1988'.split()))\n",
        "\n",
        "print(nltk.pos_tag(\"She's Tony's sister\".split()))\n",
        "\n",
        "print(nltk.pos_tag('''My name is Xrtwewvdk'''.split()))"
      ],
      "metadata": {
        "colab": {
          "base_uri": "https://localhost:8080/"
        },
        "id": "_bzh9W39DxZg",
        "outputId": "9889dd92-48be-478b-d5ff-2d0d30fc275a"
      },
      "execution_count": 39,
      "outputs": [
        {
          "output_type": "stream",
          "name": "stdout",
          "text": [
            "[('When', 'WRB'), ('I', 'PRP'), ('went', 'VBD'), ('to', 'TO'), ('the', 'DT'), ('University,', 'NNP'), ('I', 'PRP'), ('played', 'VBD'), ('soccer', 'NN')]\n",
            "[('My', 'PRP$'), ('name', 'NN'), ('is', 'VBZ'), ('Prince', 'NNP')]\n",
            "[('He', 'PRP'), ('was', 'VBD'), ('born', 'VBN'), ('during', 'IN'), ('the', 'DT'), ('summer', 'NN'), ('of', 'IN'), ('1988', 'CD')]\n",
            "[(\"She's\", 'NNP'), (\"Tony's\", 'NNP'), ('sister', 'NN')]\n",
            "[('My', 'PRP$'), ('name', 'NN'), ('is', 'VBZ'), ('Xrtwewvdk', 'JJ')]\n"
          ]
        }
      ]
    },
    {
      "cell_type": "markdown",
      "source": [
        "Veamos un ejemplo con el corpus de Brown, para entrenar nuestros propios etiquetadores.\n",
        "\n",
        "Para ello importamos el corpus de Brown y almacenamos en un par de variables las noticias de este corpus en su versión etiquetada morfológicamente y sin etiquetar."
      ],
      "metadata": {
        "id": "256lTJYiEMdO"
      }
    },
    {
      "cell_type": "code",
      "source": [
        "# recupera todas las oraciones del corpus\n",
        "brown.sents()"
      ],
      "metadata": {
        "colab": {
          "base_uri": "https://localhost:8080/"
        },
        "id": "k7_cWvGXFJh_",
        "outputId": "5451a15a-f0c8-4d61-f639-f470d20773cb"
      },
      "execution_count": 49,
      "outputs": [
        {
          "output_type": "execute_result",
          "data": {
            "text/plain": [
              "[['The', 'Fulton', 'County', 'Grand', 'Jury', 'said', 'Friday', 'an', 'investigation', 'of', \"Atlanta's\", 'recent', 'primary', 'election', 'produced', '``', 'no', 'evidence', \"''\", 'that', 'any', 'irregularities', 'took', 'place', '.'], ['The', 'jury', 'further', 'said', 'in', 'term-end', 'presentments', 'that', 'the', 'City', 'Executive', 'Committee', ',', 'which', 'had', 'over-all', 'charge', 'of', 'the', 'election', ',', '``', 'deserves', 'the', 'praise', 'and', 'thanks', 'of', 'the', 'City', 'of', 'Atlanta', \"''\", 'for', 'the', 'manner', 'in', 'which', 'the', 'election', 'was', 'conducted', '.'], ...]"
            ]
          },
          "metadata": {},
          "execution_count": 49
        }
      ]
    },
    {
      "cell_type": "code",
      "source": [
        "len(brown.sents())"
      ],
      "metadata": {
        "colab": {
          "base_uri": "https://localhost:8080/"
        },
        "id": "S1CJ1iMuFegK",
        "outputId": "d1133aaf-c535-4f48-c90b-87c0c3c68058"
      },
      "execution_count": 50,
      "outputs": [
        {
          "output_type": "execute_result",
          "data": {
            "text/plain": [
              "57340"
            ]
          },
          "metadata": {},
          "execution_count": 50
        }
      ]
    },
    {
      "cell_type": "code",
      "source": [
        "Tenemos 57340 oraciones"
      ],
      "metadata": {
        "id": "aOEIvYrNFgsp"
      },
      "execution_count": null,
      "outputs": []
    },
    {
      "cell_type": "code",
      "source": [
        "# .sents : recupera el texto por oraciones de la categoría news\n",
        "brown_sents = brown.sents(categories=\"news\")\n",
        "print(brown_sents[0:10])"
      ],
      "metadata": {
        "colab": {
          "base_uri": "https://localhost:8080/"
        },
        "id": "2a1Ih20uDv4D",
        "outputId": "0c1483b8-3a3e-43a3-f622-bb5cf539bac3"
      },
      "execution_count": 51,
      "outputs": [
        {
          "output_type": "stream",
          "name": "stdout",
          "text": [
            "[['The', 'Fulton', 'County', 'Grand', 'Jury', 'said', 'Friday', 'an', 'investigation', 'of', \"Atlanta's\", 'recent', 'primary', 'election', 'produced', '``', 'no', 'evidence', \"''\", 'that', 'any', 'irregularities', 'took', 'place', '.'], ['The', 'jury', 'further', 'said', 'in', 'term-end', 'presentments', 'that', 'the', 'City', 'Executive', 'Committee', ',', 'which', 'had', 'over-all', 'charge', 'of', 'the', 'election', ',', '``', 'deserves', 'the', 'praise', 'and', 'thanks', 'of', 'the', 'City', 'of', 'Atlanta', \"''\", 'for', 'the', 'manner', 'in', 'which', 'the', 'election', 'was', 'conducted', '.'], ['The', 'September-October', 'term', 'jury', 'had', 'been', 'charged', 'by', 'Fulton', 'Superior', 'Court', 'Judge', 'Durwood', 'Pye', 'to', 'investigate', 'reports', 'of', 'possible', '``', 'irregularities', \"''\", 'in', 'the', 'hard-fought', 'primary', 'which', 'was', 'won', 'by', 'Mayor-nominate', 'Ivan', 'Allen', 'Jr.', '.'], ['``', 'Only', 'a', 'relative', 'handful', 'of', 'such', 'reports', 'was', 'received', \"''\", ',', 'the', 'jury', 'said', ',', '``', 'considering', 'the', 'widespread', 'interest', 'in', 'the', 'election', ',', 'the', 'number', 'of', 'voters', 'and', 'the', 'size', 'of', 'this', 'city', \"''\", '.'], ['The', 'jury', 'said', 'it', 'did', 'find', 'that', 'many', 'of', \"Georgia's\", 'registration', 'and', 'election', 'laws', '``', 'are', 'outmoded', 'or', 'inadequate', 'and', 'often', 'ambiguous', \"''\", '.'], ['It', 'recommended', 'that', 'Fulton', 'legislators', 'act', '``', 'to', 'have', 'these', 'laws', 'studied', 'and', 'revised', 'to', 'the', 'end', 'of', 'modernizing', 'and', 'improving', 'them', \"''\", '.'], ['The', 'grand', 'jury', 'commented', 'on', 'a', 'number', 'of', 'other', 'topics', ',', 'among', 'them', 'the', 'Atlanta', 'and', 'Fulton', 'County', 'purchasing', 'departments', 'which', 'it', 'said', '``', 'are', 'well', 'operated', 'and', 'follow', 'generally', 'accepted', 'practices', 'which', 'inure', 'to', 'the', 'best', 'interest', 'of', 'both', 'governments', \"''\", '.'], ['Merger', 'proposed'], ['However', ',', 'the', 'jury', 'said', 'it', 'believes', '``', 'these', 'two', 'offices', 'should', 'be', 'combined', 'to', 'achieve', 'greater', 'efficiency', 'and', 'reduce', 'the', 'cost', 'of', 'administration', \"''\", '.'], ['The', 'City', 'Purchasing', 'Department', ',', 'the', 'jury', 'said', ',', '``', 'is', 'lacking', 'in', 'experienced', 'clerical', 'personnel', 'as', 'a', 'result', 'of', 'city', 'personnel', 'policies', \"''\", '.']]\n"
          ]
        }
      ]
    },
    {
      "cell_type": "code",
      "source": [
        "len(brown_sents)"
      ],
      "metadata": {
        "colab": {
          "base_uri": "https://localhost:8080/"
        },
        "id": "u5vOBPbAFlrX",
        "outputId": "336a0d9b-ea75-421c-83e0-e24dca89a93f"
      },
      "execution_count": 52,
      "outputs": [
        {
          "output_type": "execute_result",
          "data": {
            "text/plain": [
              "4623"
            ]
          },
          "metadata": {},
          "execution_count": 52
        }
      ]
    },
    {
      "cell_type": "markdown",
      "source": [
        "4623 corresponden a noticias.\n",
        "Si quisieramos hacer una nube de palabras"
      ],
      "metadata": {
        "id": "GUFhikjUFpOL"
      }
    },
    {
      "cell_type": "code",
      "source": [
        "palabras = brown.words(categories=\"news\")"
      ],
      "metadata": {
        "id": "pC1YxY3xF3x6"
      },
      "execution_count": 53,
      "outputs": []
    },
    {
      "cell_type": "code",
      "source": [
        "len(palabras)"
      ],
      "metadata": {
        "colab": {
          "base_uri": "https://localhost:8080/"
        },
        "id": "qOISRgcLF9jr",
        "outputId": "d0c3250a-aee2-483a-9cec-28b3408f488c"
      },
      "execution_count": 54,
      "outputs": [
        {
          "output_type": "execute_result",
          "data": {
            "text/plain": [
              "100554"
            ]
          },
          "metadata": {},
          "execution_count": 54
        }
      ]
    },
    {
      "cell_type": "markdown",
      "source": [
        "Vamos a recordar como hacer una nube de palabras"
      ],
      "metadata": {
        "id": "Q3M1Dt7KJDWi"
      }
    },
    {
      "cell_type": "code",
      "source": [
        "from wordcloud import WordCloud, ImageColorGenerator\n",
        "import matplotlib.pyplot as plt\n",
        "wordcloud = WordCloud(max_font_size=50,\n",
        "                      max_words=100, \n",
        "                      background_color=\"white\").generate(\" \".join(palabras))\n",
        "plt.figure()\n",
        "plt.imshow(wordcloud, interpolation=\"bilinear\")\n",
        "plt.axis(\"off\")\n",
        "plt.show()"
      ],
      "metadata": {
        "colab": {
          "base_uri": "https://localhost:8080/",
          "height": 198
        },
        "id": "AEsf2OaaFtRm",
        "outputId": "e6e55539-6917-4eb7-b7fb-572f009587bf"
      },
      "execution_count": 56,
      "outputs": [
        {
          "output_type": "display_data",
          "data": {
            "text/plain": [
              "<Figure size 432x288 with 1 Axes>"
            ],
            "image/png": "[encoded data removed]"
          },
          "metadata": {
            "needs_background": "light"
          }
        }
      ]
    },
    {
      "cell_type": "markdown",
      "source": [
        "Vemos que se presentan artículos, entonces usaremos unas palabras de parada para limpiar el texto."
      ],
      "metadata": {
        "id": "OhTcl5LVJI-P"
      }
    },
    {
      "cell_type": "code",
      "source": [
        "from stop_words import get_stop_words\n",
        "stop_words=get_stop_words(\"en\")"
      ],
      "metadata": {
        "id": "2KnCG562GnYp"
      },
      "execution_count": 85,
      "outputs": []
    },
    {
      "cell_type": "code",
      "source": [
        "!pip install wordcloud\n",
        "!pip install stop-words"
      ],
      "metadata": {
        "id": "3Fr16n1WG2cE"
      },
      "execution_count": null,
      "outputs": []
    },
    {
      "cell_type": "markdown",
      "source": [
        "Creamos una lista con las palabras que no estan en las stop_wods"
      ],
      "metadata": {
        "id": "LgpVrUJiJSA0"
      }
    },
    {
      "cell_type": "code",
      "source": [
        "quitar_stop=[p for p in list(palabras)  if p not in stop_words] ; quitar_stop[0:10]"
      ],
      "metadata": {
        "colab": {
          "base_uri": "https://localhost:8080/"
        },
        "id": "o4uJmgzTFo8r",
        "outputId": "f5eda7b6-a3d1-4d26-9854-660c252db551"
      },
      "execution_count": 81,
      "outputs": [
        {
          "output_type": "execute_result",
          "data": {
            "text/plain": [
              "['Fulton',\n",
              " 'County',\n",
              " 'Grand',\n",
              " 'Jury',\n",
              " 'said',\n",
              " 'Friday',\n",
              " 'investigation',\n",
              " \"Atlanta's\",\n",
              " 'recent',\n",
              " 'primary']"
            ]
          },
          "metadata": {},
          "execution_count": 81
        }
      ]
    },
    {
      "cell_type": "markdown",
      "source": [
        "Hacemos la nube de palabras"
      ],
      "metadata": {
        "id": "dHPq1p54JXLm"
      }
    },
    {
      "cell_type": "code",
      "source": [
        "wordcloud = WordCloud(max_font_size=50,\n",
        "                      max_words=100, \n",
        "                      background_color=\"white\").generate(\" \".join(quitar_stop))\n",
        "plt.figure()\n",
        "plt.imshow(wordcloud, interpolation=\"bilinear\")\n",
        "plt.axis(\"off\")\n",
        "plt.show()"
      ],
      "metadata": {
        "colab": {
          "base_uri": "https://localhost:8080/",
          "height": 198
        },
        "id": "x2-ffikDIPkJ",
        "outputId": "0da4268e-d413-4a19-a362-321f54e18b78"
      },
      "execution_count": 84,
      "outputs": [
        {
          "output_type": "display_data",
          "data": {
            "text/plain": [
              "<Figure size 432x288 with 1 Axes>"
            ],
            "image/png": "[encoded data removed]"
          },
          "metadata": {
            "needs_background": "light"
          }
        }
      ]
    },
    {
      "cell_type": "code",
      "source": [
        "brown_tagged_sents = brown.tagged_sents(categories=\"news\") "
      ],
      "metadata": {
        "id": "nY8Ay0JtEWnf"
      },
      "execution_count": 86,
      "outputs": []
    },
    {
      "cell_type": "code",
      "source": [
        "print(brown_sents[0])  # la primera lista de palabras\n",
        "print(brown_tagged_sents[0])   # tagging de esa lista"
      ],
      "metadata": {
        "colab": {
          "base_uri": "https://localhost:8080/"
        },
        "id": "LbAY-6DDSjkn",
        "outputId": "fdd3468e-4083-443c-f9da-868723628896"
      },
      "execution_count": 88,
      "outputs": [
        {
          "output_type": "stream",
          "name": "stdout",
          "text": [
            "['The', 'Fulton', 'County', 'Grand', 'Jury', 'said', 'Friday', 'an', 'investigation', 'of', \"Atlanta's\", 'recent', 'primary', 'election', 'produced', '``', 'no', 'evidence', \"''\", 'that', 'any', 'irregularities', 'took', 'place', '.']\n",
            "[('The', 'AT'), ('Fulton', 'NP-TL'), ('County', 'NN-TL'), ('Grand', 'JJ-TL'), ('Jury', 'NN-TL'), ('said', 'VBD'), ('Friday', 'NR'), ('an', 'AT'), ('investigation', 'NN'), ('of', 'IN'), (\"Atlanta's\", 'NP$'), ('recent', 'JJ'), ('primary', 'NN'), ('election', 'NN'), ('produced', 'VBD'), ('``', '``'), ('no', 'AT'), ('evidence', 'NN'), (\"''\", \"''\"), ('that', 'CS'), ('any', 'DTI'), ('irregularities', 'NNS'), ('took', 'VBD'), ('place', 'NN'), ('.', '.')]\n"
          ]
        }
      ]
    },
    {
      "cell_type": "markdown",
      "source": [
        "### Etiquetador basado en Expresiones Regulares\n",
        "\n",
        "- Las expresiones regulares nos permiten especificar cadenas de texto.\n",
        "\n",
        "- Esta nos permite identificar patrones en las palabras para poderlas clasificar\n",
        "\n",
        "- Vamos a crear nuestra propia lista para etiquetar. (tagging)\n",
        "\n",
        "- El primer elemento es la expresión regular y la segunda la categoría gramatical. \n",
        "\n",
        "- Usamos la instrucción `RegexpTagger`. \n",
        "\n",
        "- Este ejemplo lo haremos en inglés\n",
        "\n",
        "Usaremos Raw String Notation (r'texto') : una forma en la cual Python nos permite implementar expresiones regulares.\n",
        "\n",
        "- El método que usamos es **.tag**\n",
        "\n"
      ],
      "metadata": {
        "id": "DsOlg_eaU5Te"
      }
    },
    {
      "cell_type": "code",
      "source": [
        "# Observación acerca de r\n",
        "print('Hola mundo', 'estamos en clase de PLN')\n",
        "print('Hola mundo', '\\nestamos en clase de PLN')\n",
        "print('Hola mundo', r'\\n estamos en clase de PLN')"
      ],
      "metadata": {
        "colab": {
          "base_uri": "https://localhost:8080/"
        },
        "id": "5ZT2OwWNbMTR",
        "outputId": "7c676567-8871-46b9-bffc-0e1085b08f89"
      },
      "execution_count": 103,
      "outputs": [
        {
          "output_type": "stream",
          "name": "stdout",
          "text": [
            "Hola mundo estamos en clase de PLN\n",
            "Hola mundo \n",
            "estamos en clase de PLN\n",
            "Hola mundo \\n estamos en clase de PLN\n"
          ]
        }
      ]
    },
    {
      "cell_type": "code",
      "source": [
        "¿Cuál es el error?\n",
        "pattern = [(r'(March)$','MAR')]\n",
        "tagger=nltk.RegexpTagger(pattern)\n",
        "print(tagger.tag('He was born in March 1991'))"
      ],
      "metadata": {
        "id": "QqFSv8ZNdXkZ"
      },
      "execution_count": null,
      "outputs": []
    },
    {
      "cell_type": "code",
      "source": [
        "pattern = [(r'(March)$','MAR')]\n",
        "tagger = nltk.RegexpTagger(pattern)\n",
        "print(tagger.tag(nltk.word_tokenize('He was born in March 1991')))"
      ],
      "metadata": {
        "colab": {
          "base_uri": "https://localhost:8080/"
        },
        "id": "4CgbeXLtdnRm",
        "outputId": "1b2fcb9f-5cea-4d20-dc56-78bd50cdb0cf"
      },
      "execution_count": 112,
      "outputs": [
        {
          "output_type": "stream",
          "name": "stdout",
          "text": [
            "[('He', None), ('was', None), ('born', None), ('in', None), ('March', 'MAR'), ('1991', None)]\n"
          ]
        }
      ]
    },
    {
      "cell_type": "code",
      "source": [
        "patrones = [\n",
        "    (r'[Aa]m$', 'VBP'),               # irregular forms of 'to be' \n",
        "    (r'[Aa]re$', 'VBP'),              #  \n",
        "    (r'[Ii]s$', 'VBZ'),               #  \n",
        "    (r'[Ww]as$', 'VBD'),              #  \n",
        "    (r'[Ww]ere$', 'VBD'),             #  \n",
        "    (r'[Bb]een$', 'VBN'),             #  \n",
        "\n",
        "    (r'[Hh]ave$', 'VBP'),             # irregular forms of 'to be' \n",
        "    (r'[Hh]as$', 'VBZ'),              #  \n",
        "    (r'[Hh]ad$', 'VBD'),              #\n",
        "\n",
        "    (r'^I$', 'PRP'),                  # personal pronouns\n",
        "    (r'[Yy]ou$', 'PRP'),              # \n",
        "    (r'[Hh]e$', 'PRP'),               # \n",
        "    (r'[Ss]he$', 'PRP'),              # \n",
        "    (r'[Ii]t$', 'PRP'),               # \n",
        "    (r'[Tt]hey$', 'PRP'),             # \n",
        "    (r'[Aa]n?$', 'AT'),               #  (? se repite el caracter una o cero vez)\n",
        "    (r'[Tt]he$', 'AT'),               # \n",
        "\n",
        "    (r'[Ww]h.+$', 'WP'),              # wh- pronoun  (. es cualquier caracter y + que se repite una o más veces)\n",
        "\n",
        "    (r'.*ing$', 'VBG'),               # gerunds\n",
        "\n",
        "    (r'.*ed$', 'VBD'),                # simple past\n",
        "\n",
        "    (r'.*es$', 'VBZ'),                # 3rd singular present\n",
        "\n",
        "    (r'[Cc]an(not|n\\'t)?$', 'MD'),    # modals\n",
        "    (r'[Mm]ight$', 'MD'),             # \n",
        "    (r'[Mm]ay$', 'MD'),               # \n",
        "\n",
        "    (r'.+ould$', 'MD'),               # modals: could, should, would\n",
        "\n",
        "    (r'.*ly$', 'RB'),                 # adverbs (.* re repite un caracter cero o más veces)\n",
        "\n",
        "    (r'.*\\'s$', 'NN$'),               # possessive nouns\n",
        "\n",
        "    (r'.*s$', 'NNS'),                 # plural nouns\n",
        "\n",
        "    (r'-?[0-9]+(.[0-9]+)?$', 'CD'),   # cardinal numbers\n",
        "\n",
        "    (r'^to$', 'TO'),                  # to \n",
        "\n",
        "    (r'^in$', 'IN'),                  # in prep\n",
        "\n",
        "    (r'^[A-Z]+([a-z])*$', 'NNP'),     # proper nouns \n",
        "    \n",
        "    (r'.*', 'NN')                     # nouns (default)\n",
        "]\n",
        "\n",
        "regexTagger = nltk.RegexpTagger(patrones)"
      ],
      "metadata": {
        "id": "4BjC2rsJU9zM"
      },
      "execution_count": 113,
      "outputs": []
    },
    {
      "cell_type": "markdown",
      "source": [
        "Ejemplo de regexTagger.tag"
      ],
      "metadata": {
        "id": "fxMzzp-rf7aO"
      }
    },
    {
      "cell_type": "code",
      "source": [
        "print(regexTagger.tag(\"I was taking a sunbath in Alpedrete\".split()))\n",
        "\n",
        "print(regexTagger.tag(\"She would have found 100 dollars in the bag\".split()))\n",
        "\n",
        "print(regexTagger.tag(\"DSFdfdsfsd 1852 to dgdfgould fXXXdg in XXXfdg\".split()))"
      ],
      "metadata": {
        "colab": {
          "base_uri": "https://localhost:8080/"
        },
        "id": "4HqgGDiAf68b",
        "outputId": "fe3770a9-4a6b-4a36-ac9f-a5bb04e95a81"
      },
      "execution_count": 114,
      "outputs": [
        {
          "output_type": "stream",
          "name": "stdout",
          "text": [
            "[('I', 'PRP'), ('was', 'VBD'), ('taking', 'VBG'), ('a', 'AT'), ('sunbath', 'NN'), ('in', 'IN'), ('Alpedrete', 'NNP')]\n",
            "[('She', 'PRP'), ('would', 'MD'), ('have', 'VBP'), ('found', 'NN'), ('100', 'CD'), ('dollars', 'NNS'), ('in', 'IN'), ('the', 'AT'), ('bag', 'NN')]\n",
            "[('DSFdfdsfsd', 'NNP'), ('1852', 'CD'), ('to', 'TO'), ('dgdfgould', 'MD'), ('fXXXdg', 'NN'), ('in', 'IN'), ('XXXfdg', 'NNP')]\n"
          ]
        }
      ]
    },
    {
      "cell_type": "markdown",
      "source": [
        "Observación: el anterior \"diccionario para tagging se puede mejorar.\n",
        "\n",
        "Para evaluar la precisión de este tagging vamos usar la instrucción **evaluate**.\n",
        "\n",
        "Esta precisión se calcula como el porcentaje de tokens correctamente etiquetados por el tagger, teniendo en cuenta el corpus especificado como referencia."
      ],
      "metadata": {
        "id": "kr48-A_MgGCq"
      }
    },
    {
      "cell_type": "code",
      "source": [
        "regexTagger.evaluate(brown_tagged_sents)"
      ],
      "metadata": {
        "id": "YJps6YAPgYd-"
      },
      "execution_count": null,
      "outputs": []
    },
    {
      "cell_type": "markdown",
      "source": [
        "### Etiquetado basado en ngramas\n",
        "\n",
        "Vamos a hacer algunas precisiones:\n",
        "\n",
        "- La función `nltk.pos_tag` tiene un etiquetador morfológico que funciona con información estadística.Es decir, que funciona de la siguiente manera:\n",
        " \n",
        "* Se etiqueta manualmente una colección de datos. Cuanto más grande y más representativa sea la colección, mejores datos podremos extraer.\n",
        "\n",
        "* El sistema de aprendizaje procesa la colección de entrenamiento y \"aprende\" a partir de los ejemplos observados. En el caso del etiquetado morfológico, el sistema calcula frecuencias y generaliza (de distintas maneras) cuáles son las categorías gramaticales más probables para cada palabra. \n",
        "\n",
        "* Una vez que el sistema ha sido entrenado, se evalúa su rendimiento sobre datos no observados.\n",
        "\n",
        "Vamos usar el ejemplo que tenemos de los etiquetados en el corpus de Brown de la categoría noticias. \n",
        "\n",
        "- Utilizaremos ese corpus para entrenar el tagging\n",
        "\n",
        "- Separaremos en dos conjuntos entrenamiento y prueba (90% y 10%)\n",
        "\n"
      ],
      "metadata": {
        "id": "cf6RphZDg4YG"
      }
    },
    {
      "cell_type": "code",
      "source": [
        "brown_tagged_sents = brown.tagged_sents(categories=\"news\") \n",
        "print(len(brown_tagged_sents))\n",
        "print(brown_tagged_sents[0:10])"
      ],
      "metadata": {
        "colab": {
          "base_uri": "https://localhost:8080/"
        },
        "id": "wAQi7n6Vg75W",
        "outputId": "3163b825-f488-43a0-81ec-c1871eab8cb1"
      },
      "execution_count": 117,
      "outputs": [
        {
          "output_type": "stream",
          "name": "stdout",
          "text": [
            "4623\n",
            "[[('The', 'AT'), ('Fulton', 'NP-TL'), ('County', 'NN-TL'), ('Grand', 'JJ-TL'), ('Jury', 'NN-TL'), ('said', 'VBD'), ('Friday', 'NR'), ('an', 'AT'), ('investigation', 'NN'), ('of', 'IN'), (\"Atlanta's\", 'NP$'), ('recent', 'JJ'), ('primary', 'NN'), ('election', 'NN'), ('produced', 'VBD'), ('``', '``'), ('no', 'AT'), ('evidence', 'NN'), (\"''\", \"''\"), ('that', 'CS'), ('any', 'DTI'), ('irregularities', 'NNS'), ('took', 'VBD'), ('place', 'NN'), ('.', '.')], [('The', 'AT'), ('jury', 'NN'), ('further', 'RBR'), ('said', 'VBD'), ('in', 'IN'), ('term-end', 'NN'), ('presentments', 'NNS'), ('that', 'CS'), ('the', 'AT'), ('City', 'NN-TL'), ('Executive', 'JJ-TL'), ('Committee', 'NN-TL'), (',', ','), ('which', 'WDT'), ('had', 'HVD'), ('over-all', 'JJ'), ('charge', 'NN'), ('of', 'IN'), ('the', 'AT'), ('election', 'NN'), (',', ','), ('``', '``'), ('deserves', 'VBZ'), ('the', 'AT'), ('praise', 'NN'), ('and', 'CC'), ('thanks', 'NNS'), ('of', 'IN'), ('the', 'AT'), ('City', 'NN-TL'), ('of', 'IN-TL'), ('Atlanta', 'NP-TL'), (\"''\", \"''\"), ('for', 'IN'), ('the', 'AT'), ('manner', 'NN'), ('in', 'IN'), ('which', 'WDT'), ('the', 'AT'), ('election', 'NN'), ('was', 'BEDZ'), ('conducted', 'VBN'), ('.', '.')], [('The', 'AT'), ('September-October', 'NP'), ('term', 'NN'), ('jury', 'NN'), ('had', 'HVD'), ('been', 'BEN'), ('charged', 'VBN'), ('by', 'IN'), ('Fulton', 'NP-TL'), ('Superior', 'JJ-TL'), ('Court', 'NN-TL'), ('Judge', 'NN-TL'), ('Durwood', 'NP'), ('Pye', 'NP'), ('to', 'TO'), ('investigate', 'VB'), ('reports', 'NNS'), ('of', 'IN'), ('possible', 'JJ'), ('``', '``'), ('irregularities', 'NNS'), (\"''\", \"''\"), ('in', 'IN'), ('the', 'AT'), ('hard-fought', 'JJ'), ('primary', 'NN'), ('which', 'WDT'), ('was', 'BEDZ'), ('won', 'VBN'), ('by', 'IN'), ('Mayor-nominate', 'NN-TL'), ('Ivan', 'NP'), ('Allen', 'NP'), ('Jr.', 'NP'), ('.', '.')], [('``', '``'), ('Only', 'RB'), ('a', 'AT'), ('relative', 'JJ'), ('handful', 'NN'), ('of', 'IN'), ('such', 'JJ'), ('reports', 'NNS'), ('was', 'BEDZ'), ('received', 'VBN'), (\"''\", \"''\"), (',', ','), ('the', 'AT'), ('jury', 'NN'), ('said', 'VBD'), (',', ','), ('``', '``'), ('considering', 'IN'), ('the', 'AT'), ('widespread', 'JJ'), ('interest', 'NN'), ('in', 'IN'), ('the', 'AT'), ('election', 'NN'), (',', ','), ('the', 'AT'), ('number', 'NN'), ('of', 'IN'), ('voters', 'NNS'), ('and', 'CC'), ('the', 'AT'), ('size', 'NN'), ('of', 'IN'), ('this', 'DT'), ('city', 'NN'), (\"''\", \"''\"), ('.', '.')], [('The', 'AT'), ('jury', 'NN'), ('said', 'VBD'), ('it', 'PPS'), ('did', 'DOD'), ('find', 'VB'), ('that', 'CS'), ('many', 'AP'), ('of', 'IN'), (\"Georgia's\", 'NP$'), ('registration', 'NN'), ('and', 'CC'), ('election', 'NN'), ('laws', 'NNS'), ('``', '``'), ('are', 'BER'), ('outmoded', 'JJ'), ('or', 'CC'), ('inadequate', 'JJ'), ('and', 'CC'), ('often', 'RB'), ('ambiguous', 'JJ'), (\"''\", \"''\"), ('.', '.')], [('It', 'PPS'), ('recommended', 'VBD'), ('that', 'CS'), ('Fulton', 'NP'), ('legislators', 'NNS'), ('act', 'VB'), ('``', '``'), ('to', 'TO'), ('have', 'HV'), ('these', 'DTS'), ('laws', 'NNS'), ('studied', 'VBN'), ('and', 'CC'), ('revised', 'VBN'), ('to', 'IN'), ('the', 'AT'), ('end', 'NN'), ('of', 'IN'), ('modernizing', 'VBG'), ('and', 'CC'), ('improving', 'VBG'), ('them', 'PPO'), (\"''\", \"''\"), ('.', '.')], [('The', 'AT'), ('grand', 'JJ'), ('jury', 'NN'), ('commented', 'VBD'), ('on', 'IN'), ('a', 'AT'), ('number', 'NN'), ('of', 'IN'), ('other', 'AP'), ('topics', 'NNS'), (',', ','), ('among', 'IN'), ('them', 'PPO'), ('the', 'AT'), ('Atlanta', 'NP'), ('and', 'CC'), ('Fulton', 'NP-TL'), ('County', 'NN-TL'), ('purchasing', 'VBG'), ('departments', 'NNS'), ('which', 'WDT'), ('it', 'PPS'), ('said', 'VBD'), ('``', '``'), ('are', 'BER'), ('well', 'QL'), ('operated', 'VBN'), ('and', 'CC'), ('follow', 'VB'), ('generally', 'RB'), ('accepted', 'VBN'), ('practices', 'NNS'), ('which', 'WDT'), ('inure', 'VB'), ('to', 'IN'), ('the', 'AT'), ('best', 'JJT'), ('interest', 'NN'), ('of', 'IN'), ('both', 'ABX'), ('governments', 'NNS'), (\"''\", \"''\"), ('.', '.')], [('Merger', 'NN-HL'), ('proposed', 'VBN-HL')], [('However', 'WRB'), (',', ','), ('the', 'AT'), ('jury', 'NN'), ('said', 'VBD'), ('it', 'PPS'), ('believes', 'VBZ'), ('``', '``'), ('these', 'DTS'), ('two', 'CD'), ('offices', 'NNS'), ('should', 'MD'), ('be', 'BE'), ('combined', 'VBN'), ('to', 'TO'), ('achieve', 'VB'), ('greater', 'JJR'), ('efficiency', 'NN'), ('and', 'CC'), ('reduce', 'VB'), ('the', 'AT'), ('cost', 'NN'), ('of', 'IN'), ('administration', 'NN'), (\"''\", \"''\"), ('.', '.')], [('The', 'AT'), ('City', 'NN-TL'), ('Purchasing', 'VBG-TL'), ('Department', 'NN-TL'), (',', ','), ('the', 'AT'), ('jury', 'NN'), ('said', 'VBD'), (',', ','), ('``', '``'), ('is', 'BEZ'), ('lacking', 'VBG'), ('in', 'IN'), ('experienced', 'VBN'), ('clerical', 'JJ'), ('personnel', 'NNS'), ('as', 'CS'), ('a', 'AT'), ('result', 'NN'), ('of', 'IN'), ('city', 'NN'), ('personnel', 'NNS'), ('policies', 'NNS'), (\"''\", \"''\"), ('.', '.')]]\n"
          ]
        }
      ]
    },
    {
      "cell_type": "markdown",
      "source": [
        "Vamos a aprender de ese corpus a etiquetar. Entre más elementos tenga mejor va a ser el etiquetado."
      ],
      "metadata": {
        "id": "jgekcLcTjwY6"
      }
    },
    {
      "cell_type": "markdown",
      "source": [
        "Revisemos el tamaño y dividamos los datos"
      ],
      "metadata": {
        "id": "9NUmgsSRj-B6"
      }
    },
    {
      "cell_type": "code",
      "source": [
        "print(len(brown_tagged_sents))\n",
        "print(len(brown_tagged_sents)*0.90)"
      ],
      "metadata": {
        "colab": {
          "base_uri": "https://localhost:8080/"
        },
        "id": "mYWWjwHDkBIj",
        "outputId": "1f3974e1-6db1-405c-b380-23e3bfe6fb80"
      },
      "execution_count": 118,
      "outputs": [
        {
          "output_type": "stream",
          "name": "stdout",
          "text": [
            "4623\n",
            "4160.7\n"
          ]
        }
      ]
    },
    {
      "cell_type": "code",
      "source": [
        "tamaño = int(len(brown_tagged_sents)*0.90)"
      ],
      "metadata": {
        "id": "si961SgRkHdX"
      },
      "execution_count": 121,
      "outputs": []
    },
    {
      "cell_type": "code",
      "source": [
        "# ojo no lo estoy haciendo aleatorio (tarea hacerlo aleatorio)\n",
        "corpusdeEntrenamiento = brown_tagged_sents[: size]\n",
        "corpusdeTest = brown_tagged_sents[size : ]"
      ],
      "metadata": {
        "id": "DEPpkIG1oy5M"
      },
      "execution_count": 131,
      "outputs": []
    },
    {
      "cell_type": "markdown",
      "source": [
        "Vamos a crear un etiquetador basado en unigramas:\n",
        "\n",
        "- Unigrama: secuencias de una palabra o palabras sueltas\n",
        "\n",
        "- Para esto usamos : **nltk.UnigramTagger**\n"
      ],
      "metadata": {
        "id": "xlVFy6nwpkqD"
      }
    },
    {
      "cell_type": "code",
      "source": [
        "unigramTagger = nltk.UnigramTagger(corpusdeEntrenamiento)\n"
      ],
      "metadata": {
        "id": "ksP_nBM7py9G"
      },
      "execution_count": null,
      "outputs": []
    },
    {
      "cell_type": "code",
      "source": [
        "# Evaluamos en el corpus de test\n",
        "print(unigramTagger.evaluate(corpusdeTest))"
      ],
      "metadata": {
        "colab": {
          "base_uri": "https://localhost:8080/"
        },
        "id": "H6qZLXYiqQLK",
        "outputId": "ee171361-5d92-4776-f8f0-a0c8c0a6f241"
      },
      "execution_count": 137,
      "outputs": [
        {
          "output_type": "stream",
          "name": "stdout",
          "text": [
            "0.8121200039868434\n"
          ]
        },
        {
          "output_type": "stream",
          "name": "stderr",
          "text": [
            "<ipython-input-137-7d55cf65fd35>:2: DeprecationWarning: \n",
            "  Function evaluate() has been deprecated.  Use accuracy(gold)\n",
            "  instead.\n",
            "  print(unigramTagger.evaluate(corpusdeTest))\n"
          ]
        }
      ]
    },
    {
      "cell_type": "markdown",
      "source": [
        "Hay un 81% de coincidencia en el etiquetado "
      ],
      "metadata": {
        "id": "m7QdAxCMqTcc"
      }
    },
    {
      "cell_type": "code",
      "source": [
        "# Veamos el etiquetado de estas oraciones \n",
        "\n",
        "# oracion1 = \"This is the lost dog I found at the park\".split()\n",
        "print(unigramTagger.tag(oracion1))\n",
        "# oracion2 = \"The progress of the humankind as I progress\".split()\n",
        "print(unigramTagger.tag(oracion2))\n",
        "# oracion3 = \"When I went to the University, I played soccer\".split()\n",
        "print(unigramTagger.tag(oracion3))"
      ],
      "metadata": {
        "colab": {
          "base_uri": "https://localhost:8080/"
        },
        "id": "k3ZSp9rJq5N3",
        "outputId": "e59ef8c4-2766-42c7-cfdf-b60ccfb61f29"
      },
      "execution_count": 138,
      "outputs": [
        {
          "output_type": "stream",
          "name": "stdout",
          "text": [
            "[('This', 'DT'), ('is', 'BEZ'), ('the', 'AT'), ('lost', 'VBD'), ('dog', 'NN'), ('I', 'PPSS'), ('found', 'VBN'), ('at', 'IN'), ('the', 'AT'), ('park', 'NN')]\n",
            "[('The', 'AT'), ('progress', 'NN'), ('of', 'IN'), ('the', 'AT'), ('humankind', None), ('as', 'CS'), ('I', 'PPSS'), ('progress', 'NN')]\n",
            "[('When', 'WRB'), ('I', 'PPSS'), ('went', 'VBD'), ('to', 'TO'), ('the', 'AT'), ('University,', None), ('I', 'PPSS'), ('played', 'VBD'), ('soccer', None)]\n"
          ]
        }
      ]
    },
    {
      "cell_type": "markdown",
      "source": [
        "En algunos casos funciona bien, pero por ejemplo en la oración 2, la palabra *progress* no está siendo bien clasificada. esto sucede porque *progress* puede ser un sustantivo \"the progress\" o puede ser un verbo cuando va después de un pronombre \"I progress\".\n",
        "\n",
        "¿Qué sucede si tomamos no unogramas sino bigramas o trigramas?\n"
      ],
      "metadata": {
        "id": "bXhEHaXornPG"
      }
    },
    {
      "cell_type": "code",
      "source": [
        "# usamos la clase BigramTagger\n",
        "bigramTagger = nltk.BigramTagger(corpusdeEntrenamiento)\n",
        "# Usamos la clase TrigramTagger\n",
        "trigramTagger = nltk.TrigramTagger(corpusdeEntrenamiento)"
      ],
      "metadata": {
        "id": "2uaGIhMZsZTB"
      },
      "execution_count": 140,
      "outputs": []
    },
    {
      "cell_type": "code",
      "source": [
        "print(unigramTagger.tag(oracion2))\n",
        "print(bigramTagger.tag(oracion2))\n",
        "print(trigramTagger.tag(oracion2))\n"
      ],
      "metadata": {
        "colab": {
          "base_uri": "https://localhost:8080/"
        },
        "id": "eIPTPGtWsl8v",
        "outputId": "36fe15e0-011e-4aac-d800-343fcdc48db5"
      },
      "execution_count": 141,
      "outputs": [
        {
          "output_type": "stream",
          "name": "stdout",
          "text": [
            "[('The', 'AT'), ('progress', 'NN'), ('of', 'IN'), ('the', 'AT'), ('humankind', None), ('as', 'CS'), ('I', 'PPSS'), ('progress', 'NN')]\n",
            "[('The', 'AT'), ('progress', None), ('of', None), ('the', None), ('humankind', None), ('as', None), ('I', None), ('progress', None)]\n",
            "[('The', 'AT'), ('progress', None), ('of', None), ('the', None), ('humankind', None), ('as', None), ('I', None), ('progress', None)]\n"
          ]
        }
      ]
    },
    {
      "cell_type": "code",
      "source": [
        "#nltk.help.upenn_tagset()"
      ],
      "metadata": {
        "id": "ZY5kLNXDtlfs"
      },
      "execution_count": null,
      "outputs": []
    },
    {
      "cell_type": "code",
      "source": [
        "brown_tagged_sents[0]"
      ],
      "metadata": {
        "id": "LOPPvOw-ugcw"
      },
      "execution_count": null,
      "outputs": []
    },
    {
      "cell_type": "code",
      "source": [
        "brown.sents()[0]"
      ],
      "metadata": {
        "id": "TAuMHMMiuXnd"
      },
      "execution_count": null,
      "outputs": []
    },
    {
      "cell_type": "code",
      "source": [
        "print(bigramTagger.tag(brown.sents()[0]))"
      ],
      "metadata": {
        "colab": {
          "base_uri": "https://localhost:8080/"
        },
        "id": "ezU55NrUvEMH",
        "outputId": "82189f26-1076-4cd4-c0eb-05b8bf5fdc23"
      },
      "execution_count": 148,
      "outputs": [
        {
          "output_type": "stream",
          "name": "stdout",
          "text": [
            "[('The', 'AT'), ('Fulton', 'NP-TL'), ('County', 'NN-TL'), ('Grand', 'JJ-TL'), ('Jury', 'NN-TL'), ('said', 'VBD'), ('Friday', 'NR'), ('an', 'AT'), ('investigation', 'NN'), ('of', 'IN'), (\"Atlanta's\", 'NP$'), ('recent', 'JJ'), ('primary', 'NN'), ('election', 'NN'), ('produced', 'VBD'), ('``', '``'), ('no', 'AT'), ('evidence', 'NN'), (\"''\", \"''\"), ('that', 'CS'), ('any', 'DTI'), ('irregularities', 'NNS'), ('took', 'VBD'), ('place', 'NN'), ('.', '.')]\n"
          ]
        }
      ]
    },
    {
      "cell_type": "code",
      "source": [
        "# vamos a evaluar en el corpus de test\n",
        "print(bigramTagger.evaluate(corpusdeTest))\n",
        "print(trigramTagger.evaluate(corpusdeTest))"
      ],
      "metadata": {
        "colab": {
          "base_uri": "https://localhost:8080/"
        },
        "id": "vm3L36QKvPUR",
        "outputId": "6edddf62-4d4c-4d3f-d5b2-08901a016e2c"
      },
      "execution_count": 149,
      "outputs": [
        {
          "output_type": "stream",
          "name": "stdout",
          "text": [
            "0.10206319146815508\n",
            "0.0626931127279976\n"
          ]
        },
        {
          "output_type": "stream",
          "name": "stderr",
          "text": [
            "<ipython-input-149-ef3787f4fc5d>:2: DeprecationWarning: \n",
            "  Function evaluate() has been deprecated.  Use accuracy(gold)\n",
            "  instead.\n",
            "  print(bigramTagger.evaluate(corpusdeTest))\n",
            "<ipython-input-149-ef3787f4fc5d>:3: DeprecationWarning: \n",
            "  Function evaluate() has been deprecated.  Use accuracy(gold)\n",
            "  instead.\n",
            "  print(trigramTagger.evaluate(corpusdeTest))\n"
          ]
        }
      ]
    },
    {
      "cell_type": "markdown",
      "source": [
        "## ¿Por qué ocurre esto?"
      ],
      "metadata": {
        "id": "P58ckiDdvkGp"
      }
    },
    {
      "cell_type": "markdown",
      "source": [
        "## Vamos a combinar etiquetadores\n",
        "\n",
        "- La idea es que cuando un trigramma no encuentre coincidencia no lo etiquete como *none*, sino que haga un bigramma y si este lo etiqueta como *none* aplique un unigramma. "
      ],
      "metadata": {
        "id": "dZv4RwcHvsAp"
      }
    },
    {
      "cell_type": "code",
      "source": [
        "#unigramTagger = nltk.UnigramTagger(corpusdeEntrenamiento, backoff=regexTagger)\n",
        "unigramTagger = nltk.UnigramTagger(corpusdeEntrenamiento)\n",
        "bigramTagger = nltk.BigramTagger(corpusdeEntrenamiento, backoff=unigramTagger)\n",
        "trigramTagger = nltk.TrigramTagger(corpusdeEntrenamiento, backoff=bigramTagger)\n",
        "print(trigramTagger.evaluate(corpusdeTest))"
      ],
      "metadata": {
        "colab": {
          "base_uri": "https://localhost:8080/"
        },
        "id": "jLD3afTMwHS5",
        "outputId": "f088ee56-a92f-4531-bd8f-1cce01e66138"
      },
      "execution_count": 153,
      "outputs": [
        {
          "output_type": "stream",
          "name": "stdout",
          "text": [
            "0.8185986245390212\n"
          ]
        },
        {
          "output_type": "stream",
          "name": "stderr",
          "text": [
            "<ipython-input-153-0c299a28df4f>:5: DeprecationWarning: \n",
            "  Function evaluate() has been deprecated.  Use accuracy(gold)\n",
            "  instead.\n",
            "  print(trigramTagger.evaluate(corpusdeTest))\n"
          ]
        }
      ]
    },
    {
      "cell_type": "code",
      "source": [
        "#unigramTagger = nltk.UnigramTagger(corpusdeEntrenamiento, backoff=regexTagger)\n",
        "unigramTagger = nltk.UnigramTagger(corpusdeEntrenamiento , backoff=regexTagger)\n",
        "bigramTagger = nltk.BigramTagger(corpusdeEntrenamiento, backoff=unigramTagger)\n",
        "trigramTagger = nltk.TrigramTagger(corpusdeEntrenamiento, backoff=bigramTagger)\n",
        "print(trigramTagger.evaluate(corpusdeTest))"
      ],
      "metadata": {
        "colab": {
          "base_uri": "https://localhost:8080/"
        },
        "id": "ywweZuODxWSi",
        "outputId": "2b427b82-89e5-4b1f-d600-a5ab5f8184ee"
      },
      "execution_count": 155,
      "outputs": [
        {
          "output_type": "stream",
          "name": "stdout",
          "text": [
            "0.8656433768563739\n"
          ]
        },
        {
          "output_type": "stream",
          "name": "stderr",
          "text": [
            "<ipython-input-155-eb1c3a7ec26e>:5: DeprecationWarning: \n",
            "  Function evaluate() has been deprecated.  Use accuracy(gold)\n",
            "  instead.\n",
            "  print(trigramTagger.evaluate(corpusdeTest))\n"
          ]
        }
      ]
    },
    {
      "cell_type": "code",
      "source": [
        "print(trigramTagger.tag(oracion1))\n",
        "print(trigramTagger.tag(oracion2))\n",
        "print(trigramTagger.tag(oracion3))"
      ],
      "metadata": {
        "colab": {
          "base_uri": "https://localhost:8080/"
        },
        "id": "hS-SSLJmwy5p",
        "outputId": "f811b68e-d68f-48bb-a1f3-c1c381418db2"
      },
      "execution_count": 152,
      "outputs": [
        {
          "output_type": "stream",
          "name": "stdout",
          "text": [
            "[('This', 'DT'), ('is', 'BEZ'), ('the', 'AT'), ('lost', 'VBD'), ('dog', 'NN'), ('I', 'PPSS'), ('found', 'VBD'), ('at', 'IN'), ('the', 'AT'), ('park', 'NN')]\n",
            "[('The', 'AT'), ('progress', 'NN'), ('of', 'IN'), ('the', 'AT'), ('humankind', 'NN'), ('as', 'CS'), ('I', 'PPSS'), ('progress', 'NN')]\n",
            "[('When', 'WRB'), ('I', 'PPSS'), ('went', 'VBD'), ('to', 'TO'), ('the', 'AT'), ('University,', 'NN'), ('I', 'PPSS'), ('played', 'VBD'), ('soccer', 'NN')]\n"
          ]
        }
      ]
    },
    {
      "cell_type": "markdown",
      "source": [
        "## Ejercicio en clase\n",
        "\n",
        "Entrenar con todo el corpus de **brown**"
      ],
      "metadata": {
        "id": "Amg1YAYbxiBW"
      }
    },
    {
      "cell_type": "code",
      "source": [
        "oracionNoAnotadas = brown.sents()\n",
        "oracionAnotadas = brown.tagged_sents() # esta es la colección que usaremos para el training\n",
        "\n",
        "# como ves, son el mismo corpus\n",
        "print(oracionNoAnotadas[100])\n",
        "print(oracionAnotadas[100])"
      ],
      "metadata": {
        "colab": {
          "base_uri": "https://localhost:8080/"
        },
        "id": "ucdQD4wDxzWx",
        "outputId": "68ff39d3-fa35-45dc-d5b5-ff925300945b"
      },
      "execution_count": 156,
      "outputs": [
        {
          "output_type": "stream",
          "name": "stdout",
          "text": [
            "['Daniel', 'personally', 'led', 'the', 'fight', 'for', 'the', 'measure', ',', 'which', 'he', 'had', 'watered', 'down', 'considerably', 'since', 'its', 'rejection', 'by', 'two', 'previous', 'Legislatures', ',', 'in', 'a', 'public', 'hearing', 'before', 'the', 'House', 'Committee', 'on', 'Revenue', 'and', 'Taxation', '.']\n",
            "[('Daniel', 'NP'), ('personally', 'RB'), ('led', 'VBD'), ('the', 'AT'), ('fight', 'NN'), ('for', 'IN'), ('the', 'AT'), ('measure', 'NN'), (',', ','), ('which', 'WDT'), ('he', 'PPS'), ('had', 'HVD'), ('watered', 'VBN'), ('down', 'RP'), ('considerably', 'RB'), ('since', 'IN'), ('its', 'PP$'), ('rejection', 'NN'), ('by', 'IN'), ('two', 'CD'), ('previous', 'JJ'), ('Legislatures', 'NNS-TL'), (',', ','), ('in', 'IN'), ('a', 'AT'), ('public', 'JJ'), ('hearing', 'NN'), ('before', 'IN'), ('the', 'AT'), ('House', 'NN-TL'), ('Committee', 'NN-TL'), ('on', 'IN-TL'), ('Revenue', 'NN-TL'), ('and', 'CC-TL'), ('Taxation', 'NN-TL'), ('.', '.')]\n"
          ]
        }
      ]
    },
    {
      "cell_type": "code",
      "source": [
        "totalOraciones = len(oracionNoAnotadas)\n",
        "print(\"El corpus tiene\", totalOraciones, \"oraciones\")\n",
        "\n",
        "# en este caso, vamos a utilizar para entrenar un 75% de los datos\n",
        "# y como test el 25% restante\n",
        "limite = int(totalOraciones * 0.75) # ojo, esto tiene que ser un entero\n",
        "print(\"Vamos a usar las primeras\", limite, \"oraciones para entrenar y las\", totalOraciones-limite, \"restantes como test.\\n\\n\")\n",
        "\n",
        "# creo el corpus de entrenamiento\n",
        "corpusEntrenamiento = oracionAnotadas[:limite]\n",
        "corpusTest = oracionAnotadas[limite:]\n",
        "\n",
        "# como ves, son corpus diferentes\n",
        "print(corpusEntrenamiento[0])\n",
        "print(corpusTest[0])"
      ],
      "metadata": {
        "colab": {
          "base_uri": "https://localhost:8080/"
        },
        "id": "_GwR5eerx7IF",
        "outputId": "1228ea28-503c-45c1-e5c4-334b4222b2b4"
      },
      "execution_count": 157,
      "outputs": [
        {
          "output_type": "stream",
          "name": "stdout",
          "text": [
            "El corpus tiene 57340 oraciones\n",
            "Vamos a usar las primeras 43005 oraciones para entrenar y las 14335 restantes como test.\n",
            "\n",
            "\n",
            "[('The', 'AT'), ('Fulton', 'NP-TL'), ('County', 'NN-TL'), ('Grand', 'JJ-TL'), ('Jury', 'NN-TL'), ('said', 'VBD'), ('Friday', 'NR'), ('an', 'AT'), ('investigation', 'NN'), ('of', 'IN'), (\"Atlanta's\", 'NP$'), ('recent', 'JJ'), ('primary', 'NN'), ('election', 'NN'), ('produced', 'VBD'), ('``', '``'), ('no', 'AT'), ('evidence', 'NN'), (\"''\", \"''\"), ('that', 'CS'), ('any', 'DTI'), ('irregularities', 'NNS'), ('took', 'VBD'), ('place', 'NN'), ('.', '.')]\n",
            "[('When', 'WRB'), ('the', 'AT'), ('Plymouth', 'NP'), ('neared', 'VBD'), (',', ','), ('it', 'PPS'), ('veered', 'VBD'), ('toward', 'IN'), ('him', 'PPO'), ('and', 'CC'), ('seemed', 'VBD'), ('about', 'RB'), ('to', 'TO'), ('run', 'VB'), ('him', 'PPO'), ('down', 'RP'), ('.', '.')]\n"
          ]
        }
      ]
    },
    {
      "cell_type": "code",
      "source": [
        "# fíjate cómo importo ahora las clases para crear etiquetadores basados en ngramas y cómo los uso después\n",
        "from nltk import UnigramTagger, BigramTagger, TrigramTagger\n",
        "\n",
        "# creamos de manera incremental tres etiquetadore basados en ngramas, \n",
        "# usando como respaldp etiquetadores más sencillos\n",
        "unigramTagger = UnigramTagger(corpusEntrenamiento, backoff=regexTagger)  \n",
        "bigramTagger = BigramTagger(corpusEntrenamiento, backoff=unigramTagger)\n",
        "trigramTagger = TrigramTagger(corpusEntrenamiento, backoff=bigramTagger)"
      ],
      "metadata": {
        "id": "_iyBxaolyD72"
      },
      "execution_count": 161,
      "outputs": []
    },
    {
      "cell_type": "code",
      "source": [
        "print(trigramTagger.tag(oracion1))\n",
        "print(trigramTagger.tag(oracion2))\n",
        "print(trigramTagger.tag(oracion3))"
      ],
      "metadata": {
        "colab": {
          "base_uri": "https://localhost:8080/"
        },
        "id": "DWyiRfdayXcp",
        "outputId": "3dd2328c-ee04-4d97-f34c-432d49818099"
      },
      "execution_count": 162,
      "outputs": [
        {
          "output_type": "stream",
          "name": "stdout",
          "text": [
            "[('This', 'DT'), ('is', 'BEZ'), ('the', 'AT'), ('lost', 'VBN'), ('dog', 'NN'), ('I', 'PPSS'), ('found', 'VBD'), ('at', 'IN'), ('the', 'AT'), ('park', 'NN')]\n",
            "[('The', 'AT'), ('progress', 'NN'), ('of', 'IN'), ('the', 'AT'), ('humankind', 'NN'), ('as', 'CS'), ('I', 'PPSS'), ('progress', 'NN')]\n",
            "[('When', 'WRB'), ('I', 'PPSS'), ('went', 'VBD'), ('to', 'TO'), ('the', 'AT'), ('University,', 'NN'), ('I', 'PPSS'), ('played', 'VBD'), ('soccer', 'NN')]\n"
          ]
        }
      ]
    },
    {
      "cell_type": "code",
      "source": [
        "# vamos a ver qué precisión tiene, analizando el corpus de test\n",
        "print(trigramTagger.evaluate(corpusTest))"
      ],
      "metadata": {
        "colab": {
          "base_uri": "https://localhost:8080/"
        },
        "id": "vY-15CzjyaA0",
        "outputId": "46397c87-68dc-4f9d-f7aa-fd9ee3e335dc"
      },
      "execution_count": 163,
      "outputs": [
        {
          "output_type": "stream",
          "name": "stderr",
          "text": [
            "<ipython-input-163-0b862cbb55d3>:2: DeprecationWarning: \n",
            "  Function evaluate() has been deprecated.  Use accuracy(gold)\n",
            "  instead.\n",
            "  print(trigramTagger.evaluate(corpusTest))\n"
          ]
        },
        {
          "output_type": "stream",
          "name": "stdout",
          "text": [
            "0.9110325217064731\n"
          ]
        }
      ]
    }
  ]
}