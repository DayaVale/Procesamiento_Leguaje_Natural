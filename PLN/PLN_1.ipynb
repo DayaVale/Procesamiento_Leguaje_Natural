{
  "cells": [
    {
      "cell_type": "markdown",
      "metadata": {
        "id": "y4HtffMo3eev"
      },
      "source": [
        "# Introducción al Procesamiento del Lenguaje Natural, con Python\n",
        "\n",
        "- **NLTK** (https://www.nltk.org/): Es una librería desarrollada por Steven Bird y Edward Loper para el Procesamiento de Lenguaje Natural, principalmente en inglés, que tiene herramientas para trabajar con: corpus, recursos léxicos, algoritmos de procesamiento de PLN, etc.\n",
        "\n",
        "<span></span><br>\n",
        "\n",
        "- **SpaCy** (https://spacy.io/): Es una librería para el NLP incorpora funcionalidades como Tokenización, Lematización, PoS, NER, etc. en varios idiomas. A diferencia de NLTK que tienen fines de caracter didáctico, SpaCy es más aplciado en la solución de problemas reales.\n",
        "\n",
        "Más adelante revisaremos algunos elementos de estas librerías y cuál es la diferencia de trabajar una o la otra. Por ahora, vamos a abordar unos conceptos claves de procesamiento de lenguaje natutal que estaremos desarrollando en esta y las siguientes sesiones.\n",
        "\n",
        "<FONT SIZE=3 COLOR=\"blue\"> **Corpus** </FONT> (en Latín \"cuerpo\") en el PLN se refiere a una colección de textos, como por ejemplo: artículos,libros, twees, entre otos.\n",
        "\n",
        "<span></span><br>\n",
        "\n",
        "<FONT SIZE=3 COLOR=\"blue\"> **Bag of Words** </FONT> (Bolsa de Palabras) es un método que se utiliza en el procesamiento de lenguaje natural para representar documentos ignorando el orden de las palabras y la gramática. Es decir, los documentos parecen bolsas de palabras, donde el centro de atención es el número de ocurrencias de una palabra dentro del texto.\n",
        "\n",
        "<span></span><br>\n",
        "\n",
        "<FONT SIZE=3 COLOR=\"blue\"> **Normalización** </FONT> Es una etapa en el Procesamiento de Lenguaje Natural donde se busca poner todo el texto en igualdad de condiciones, es decir, todo en el mismo tipo de letra , eliminar signos de puntuación, quitar palabras, etc. Aca podemos mencionar tres tareas,\n",
        "\n",
        "1. Segmentación/tokenización de las palabras.\n",
        "2. Normalización del formato de las palabras\n",
        "3. Segmentación de las oraciones en el texto\n",
        "\n",
        "<span></span><br>\n",
        "\n",
        "<FONT SIZE=3 COLOR=\"blue\"> **Tokenización** </FONT>: Es el proceso de dividir las cadenas de texto de un documento en piezas más pequeñas que se denominan *tokens*. Aca tenemos dos tareas principales:\n",
        "\n",
        "<span></span><br>\n",
        "\n",
        "1. **Segmentación:** Dada una cadena de texto (suficientemente grande) se divide en partes más pequeñaa como oraciones o párrafos\n",
        "\n",
        "<span></span><br>\n",
        "\n",
        "2. **Tokenización:** Dada una cadena de texto se divida en palabras (no en oraciones)\n",
        "\n",
        "<FONT SIZE=3 COLOR=\"blue\"> **Stemming:** </FONT>: Es la tarea en procesamiento de lenguaje natural de eliminar: sufijos, prefijos, etc. para obtener el tallo de la palabra:\n",
        "\n",
        "- Caminando : caminar\n",
        "\n",
        "- Anteriormente: anterior\n",
        "\n",
        "<span></span><br>\n",
        "\n",
        "<FONT SIZE=3 COLOR=\"blue\"> **Lematización:** </FONT> es el proceso en el que se identifica y sustituye una palabra (plurales, femeninos, conjugaciones, etc) por su *lema* (raíz). Esto quiere decir por una palabra qe sea válida en el idioma. \n",
        "\n",
        "También se puede ver como la sustitución de una palabra en forma flexionada por una palabra que está en un diccionario.\n",
        "\n",
        "- Carros : Carro\n",
        "\n",
        "- Comiendo : comer\n",
        "\n",
        "- Entrenaría : entrenar \n",
        "\n",
        "<span></span><br>\n",
        "\n",
        "<FONT SIZE=3 COLOR=\"blue\"> **Stop Words:** </FONT> Son palabras que no aportan al significado de las fraces u oraciones : preprosiciones, conjunciones, adverbios, artículos, etc.\n",
        "\n",
        "<span></span><br>\n",
        "\n",
        "<FONT SIZE=3 COLOR=\"blue\"> **Part of Speech (PoS): Tagging** </FONT> Proceso mediante el cual se asigna una etiqueta de categoría a las partes tokenizadas de una oración. Es decir, si es sustantivo, verbo, etc. \n",
        "\n",
        "    - Artículo o determinante: un, el, las\n",
        "    - Sustantivo o nombre: hombre, tren, carro, mueble\n",
        "    - Pronombre: yo, tu, el, ella  \n",
        "    - Verbo: correr, pensar --acción\n",
        "    - Adjetivo: alto, valente, nuevo.\n",
        "    - Adverbio: tarde, temprano, anoche, constantemente.\n",
        "    - Preposición: a, ante, con , contra, (unir palabras)\n",
        "    - Conjunción: y, o, ni, que\n",
        "    - Interjección: ¡ay! ,¡oh! (sentimiento)\n",
        "\n",
        "<span></span><br>\n",
        "\n",
        "<FONT SIZE=3 COLOR=\"blue\"> **n-grammas:** </FONT> modelo de representación para simplificar los contenidos de un texto. En la bolsa de palabras no hay orden en la representación en los n-gramas nos interesa preservar secuencias contiguas de N-elementos de la seleeción de texto.\n",
        "\n",
        "A continuación, revisaremos algunos ejemplos de cada uno de estos metodos y su trabajo en la librería NTLK y Spacy"
      ]
    },
    {
      "cell_type": "markdown",
      "source": [
        "# FUNCIONES ELEMENTALES PARA CADENAS DE TEXTO\n",
        "\n"
      ],
      "metadata": {
        "id": "cJ03-YQ4sbYq"
      }
    },
    {
      "cell_type": "code",
      "source": [
        "oracion = \"\\r Cien años de soledad \\n \\n  es una novela del escritor colombiano Gabriel?¡ García Márquez, \\r ganador del Premio Nobel de Literatura!! en 1982. Es considerada una obra maestra* de la literatura hispanoamericana y universal \\n\""
      ],
      "metadata": {
        "id": "5Dy6Z9RNsix9"
      },
      "execution_count": 188,
      "outputs": []
    },
    {
      "cell_type": "code",
      "source": [
        "print(\"\\r fabian \\n sanchez\")"
      ],
      "metadata": {
        "id": "lhw3nyUDtwu0"
      },
      "execution_count": null,
      "outputs": []
    },
    {
      "cell_type": "code",
      "source": [
        "print(oracion)"
      ],
      "metadata": {
        "colab": {
          "base_uri": "https://localhost:8080/"
        },
        "id": "h9yhExSPs3C4",
        "outputId": "556d14c5-0029-4810-85d8-bd0d366fc368"
      },
      "execution_count": 189,
      "outputs": [
        {
          "output_type": "stream",
          "name": "stdout",
          "text": [
            "Cien años de soledad \n",
            " \n",
            "  es una novela del escritor colombiano Gabriel?¡ García Márquez, \r ganador del Premio Nobel de Literatura!! en 1982. Es considerada una obra maestra* de la literatura hispanoamericana y universal\n"
          ]
        }
      ]
    },
    {
      "cell_type": "code",
      "source": [
        "# Función split() corta los textos usando un delimitador \n",
        "oracion.split()"
      ],
      "metadata": {
        "id": "kGotyv39s864"
      },
      "execution_count": null,
      "outputs": []
    },
    {
      "cell_type": "code",
      "source": [
        "print(oracion.split())"
      ],
      "metadata": {
        "colab": {
          "base_uri": "https://localhost:8080/"
        },
        "id": "4vhWuRk2tKLm",
        "outputId": "bb734464-8852-4a2d-b369-b669a35993e5"
      },
      "execution_count": 191,
      "outputs": [
        {
          "output_type": "stream",
          "name": "stdout",
          "text": [
            "['Cien', 'años', 'de', 'soledad', 'es', 'una', 'novela', 'del', 'escritor', 'colombiano', 'Gabriel?¡', 'García', 'Márquez,', 'ganador', 'del', 'Premio', 'Nobel', 'de', 'Literatura!!', 'en', '1982.', 'Es', 'considerada', 'una', 'obra', 'maestra*', 'de', 'la', 'literatura', 'hispanoamericana', 'y', 'universal']\n"
          ]
        }
      ]
    },
    {
      "cell_type": "code",
      "source": [
        "print(oracion.split(\"c\"))"
      ],
      "metadata": {
        "colab": {
          "base_uri": "https://localhost:8080/"
        },
        "id": "3KuZ7z8XtOb5",
        "outputId": "5bb6e777-b749-4bbd-8e63-7ef087d441b0"
      },
      "execution_count": 192,
      "outputs": [
        {
          "output_type": "stream",
          "name": "stdout",
          "text": [
            "['Cien años de soledad \\n \\n  es una novela del es', 'ritor ', 'olombiano Gabriel?¡ Gar', 'ía Márquez, \\r ganador del Premio Nobel de Literatura!! en 1982. Es ', 'onsiderada una obra maestra* de la literatura hispanoameri', 'ana y universal']\n"
          ]
        }
      ]
    },
    {
      "cell_type": "code",
      "source": [
        "for t in oracion.split(\"c\"):\n",
        "  print(t)\n"
      ],
      "metadata": {
        "colab": {
          "base_uri": "https://localhost:8080/"
        },
        "id": "N3yLch7etVOl",
        "outputId": "bb8c6b27-c560-4a26-cee2-86fd0b7c1012"
      },
      "execution_count": 193,
      "outputs": [
        {
          "output_type": "stream",
          "name": "stdout",
          "text": [
            "Cien años de soledad \n",
            " \n",
            "  es una novela del es\n",
            "ritor \n",
            "olombiano Gabriel?¡ Gar\n",
            "ía Márquez, \r ganador del Premio Nobel de Literatura!! en 1982. Es \n",
            "onsiderada una obra maestra* de la literatura hispanoameri\n",
            "ana y universal\n"
          ]
        }
      ]
    },
    {
      "cell_type": "code",
      "source": [
        "# Función strip() permite borrar los \\n \\r al principio y final del texto\n",
        "oracion.strip()"
      ],
      "metadata": {
        "colab": {
          "base_uri": "https://localhost:8080/",
          "height": 35
        },
        "id": "trRfXD70tfie",
        "outputId": "d59f11e4-2aa8-4c56-f072-02abfec58d38"
      },
      "execution_count": 200,
      "outputs": [
        {
          "output_type": "execute_result",
          "data": {
            "text/plain": [
              "'Cien años de soledad \\n \\n  es una novela del escritor colombiano Gabriel?¡ García Márquez, \\r ganador del Premio Nobel de Literatura!! en 1982. Es considerada una obra maestra* de la literatura hispanoamericana y universal'"
            ],
            "application/vnd.google.colaboratory.intrinsic+json": {
              "type": "string"
            }
          },
          "metadata": {},
          "execution_count": 200
        }
      ]
    },
    {
      "cell_type": "code",
      "source": [
        "# upper y lower : para mayúsculas y minúsculas\n",
        "\n",
        "oracion.lower()"
      ],
      "metadata": {
        "colab": {
          "base_uri": "https://localhost:8080/",
          "height": 35
        },
        "id": "vm7Z_JeduNto",
        "outputId": "73cbcecb-0717-4307-d728-523dfb123a74"
      },
      "execution_count": 201,
      "outputs": [
        {
          "output_type": "execute_result",
          "data": {
            "text/plain": [
              "'cien años de soledad \\n \\n  es una novela del escritor colombiano gabriel?¡ garcía márquez, \\r ganador del premio nobel de literatura!! en 1982. es considerada una obra maestra* de la literatura hispanoamericana y universal'"
            ],
            "application/vnd.google.colaboratory.intrinsic+json": {
              "type": "string"
            }
          },
          "metadata": {},
          "execution_count": 201
        }
      ]
    },
    {
      "cell_type": "code",
      "source": [
        "oracion.upper()"
      ],
      "metadata": {
        "colab": {
          "base_uri": "https://localhost:8080/",
          "height": 35
        },
        "id": "7FXeVcJYuVXS",
        "outputId": "80879012-4952-4413-efc3-779401ea8d86"
      },
      "execution_count": 202,
      "outputs": [
        {
          "output_type": "execute_result",
          "data": {
            "text/plain": [
              "'CIEN AÑOS DE SOLEDAD \\n \\n  ES UNA NOVELA DEL ESCRITOR COLOMBIANO GABRIEL?¡ GARCÍA MÁRQUEZ, \\r GANADOR DEL PREMIO NOBEL DE LITERATURA!! EN 1982. ES CONSIDERADA UNA OBRA MAESTRA* DE LA LITERATURA HISPANOAMERICANA Y UNIVERSAL'"
            ],
            "application/vnd.google.colaboratory.intrinsic+json": {
              "type": "string"
            }
          },
          "metadata": {},
          "execution_count": 202
        }
      ]
    },
    {
      "cell_type": "code",
      "source": [
        "# La instrccuión replace : reemplaza cadena de carcateres\n",
        "\n",
        "oracion.replace(\"c\" , \"C\")"
      ],
      "metadata": {
        "colab": {
          "base_uri": "https://localhost:8080/",
          "height": 35
        },
        "id": "O24tbkP5uZPm",
        "outputId": "8f8607c4-e9a1-4872-b1f0-09d4174d6cb0"
      },
      "execution_count": 203,
      "outputs": [
        {
          "output_type": "execute_result",
          "data": {
            "text/plain": [
              "'Cien años de soledad \\n \\n  es una novela del esCritor Colombiano Gabriel?¡ GarCía Márquez, \\r ganador del Premio Nobel de Literatura!! en 1982. Es Considerada una obra maestra* de la literatura hispanoameriCana y universal'"
            ],
            "application/vnd.google.colaboratory.intrinsic+json": {
              "type": "string"
            }
          },
          "metadata": {},
          "execution_count": 203
        }
      ]
    },
    {
      "cell_type": "code",
      "source": [
        "oracion.replace(\"a\", \"%%\", 5)"
      ],
      "metadata": {
        "colab": {
          "base_uri": "https://localhost:8080/",
          "height": 35
        },
        "id": "hI5MDONGukAC",
        "outputId": "ac9653d5-795a-44fe-c34c-8bd032a62c96"
      },
      "execution_count": 204,
      "outputs": [
        {
          "output_type": "execute_result",
          "data": {
            "text/plain": [
              "'Cien %%ños de soled%%d \\n \\n  es un%% novel%% del escritor colombi%%no Gabriel?¡ García Márquez, \\r ganador del Premio Nobel de Literatura!! en 1982. Es considerada una obra maestra* de la literatura hispanoamericana y universal'"
            ],
            "application/vnd.google.colaboratory.intrinsic+json": {
              "type": "string"
            }
          },
          "metadata": {},
          "execution_count": 204
        }
      ]
    },
    {
      "cell_type": "markdown",
      "source": [
        "## Expresión regular\n",
        "\n",
        "- Las expresiones regulares son secuencias de carcateres para establecer patrones de búsqueda. \n",
        "\n",
        "- Se utilizan en el procesamiento de texto para la identificación de palabras similares y en Python se utilizan llamando el paquete **re**"
      ],
      "metadata": {
        "id": "cS0vHJWRuqqh"
      }
    },
    {
      "cell_type": "code",
      "source": [
        "import re # pueden ver la documentación econ help()"
      ],
      "metadata": {
        "id": "4MvV7I5wuyYF"
      },
      "execution_count": 205,
      "outputs": []
    },
    {
      "cell_type": "code",
      "source": [
        "# ejemplo\n",
        "\n",
        "sen = \" Fabián Sánchez\"\n",
        "sen2 = re.sub(\"[A-Z]+\", \" \", sen) ; sen2\n",
        "sen3 = re.sub(\"[A-Z]+\", \"HOLA\", sen) ; sen3\n",
        "sen4 = re.sub(\"[^A-Z]+\", \" \", sen) ; sen4"
      ],
      "metadata": {
        "colab": {
          "base_uri": "https://localhost:8080/",
          "height": 35
        },
        "id": "bw7AyWeDu9E-",
        "outputId": "ecf88448-6cbd-41ad-8f02-43ea0f0f3731"
      },
      "execution_count": 210,
      "outputs": [
        {
          "output_type": "execute_result",
          "data": {
            "text/plain": [
              "' F S '"
            ],
            "application/vnd.google.colaboratory.intrinsic+json": {
              "type": "string"
            }
          },
          "metadata": {},
          "execution_count": 210
        }
      ]
    },
    {
      "cell_type": "code",
      "source": [
        "#ejemplo\n",
        "text = \"FABian Sanchez 238 años \\n Hola curso $45789 como ¡ chao\"\n",
        "text2 = re.sub(\"[^A-Z0-9]+\" , \" \" , text)\n",
        "print(text2)"
      ],
      "metadata": {
        "id": "P6rWt8Bju4rc"
      },
      "execution_count": null,
      "outputs": []
    },
    {
      "cell_type": "code",
      "source": [
        "oracion2 = re.sub (\"[^A-Za-z0-9óáéíúñ]+\",' ',oracion) ; oracion2"
      ],
      "metadata": {
        "colab": {
          "base_uri": "https://localhost:8080/",
          "height": 35
        },
        "id": "z8gP_YZyvw3F",
        "outputId": "7fe30b05-1d5d-4edb-96c8-2a3f0d8f7649"
      },
      "execution_count": 215,
      "outputs": [
        {
          "output_type": "execute_result",
          "data": {
            "text/plain": [
              "'Cien años de soledad es una novela del escritor colombiano Gabriel García Márquez ganador del Premio Nobel de Literatura en 1982 Es considerada una obra maestra de la literatura hispanoamericana y universal'"
            ],
            "application/vnd.google.colaboratory.intrinsic+json": {
              "type": "string"
            }
          },
          "metadata": {},
          "execution_count": 215
        }
      ]
    },
    {
      "cell_type": "markdown",
      "source": [
        "Vamos a hacer una tabla de frecuencias"
      ],
      "metadata": {
        "id": "8Mo6OVrUwGxK"
      }
    },
    {
      "cell_type": "code",
      "source": [
        "frecuencias={}\n",
        "for palabra in oracion2.split():\n",
        "    if palabra in frecuencias:\n",
        "        frecuencias[palabra]+=1\n",
        "    else:\n",
        "        frecuencias[palabra]=1\n",
        "print(frecuencias) "
      ],
      "metadata": {
        "colab": {
          "base_uri": "https://localhost:8080/"
        },
        "id": "3Y9QE-88wIws",
        "outputId": "2b0bb5ba-7ee9-494e-f7e4-2d93bb0c4194"
      },
      "execution_count": 218,
      "outputs": [
        {
          "output_type": "stream",
          "name": "stdout",
          "text": [
            "{'Cien': 1, 'años': 1, 'de': 3, 'soledad': 1, 'es': 1, 'una': 2, 'novela': 1, 'del': 2, 'escritor': 1, 'colombiano': 1, 'Gabriel': 1, 'García': 1, 'Márquez': 1, 'ganador': 1, 'Premio': 1, 'Nobel': 1, 'Literatura': 1, 'en': 1, '1982': 1, 'Es': 1, 'considerada': 1, 'obra': 1, 'maestra': 1, 'la': 1, 'literatura': 1, 'hispanoamericana': 1, 'y': 1, 'universal': 1}\n"
          ]
        }
      ]
    },
    {
      "cell_type": "markdown",
      "source": [
        "## Revisaremos algunos elementos de gráficos útiles"
      ],
      "metadata": {
        "id": "9sk3bctcwVCq"
      }
    },
    {
      "cell_type": "code",
      "source": [
        "!pip install wordcloud\n",
        "!pip install stop-words"
      ],
      "metadata": {
        "colab": {
          "base_uri": "https://localhost:8080/"
        },
        "id": "wK6cILLswY3C",
        "outputId": "d0f60a0c-5d9b-4bee-b820-9292dc506ed4"
      },
      "execution_count": 219,
      "outputs": [
        {
          "output_type": "stream",
          "name": "stdout",
          "text": [
            "Looking in indexes: https://pypi.org/simple, https://us-python.pkg.dev/colab-wheels/public/simple/\n",
            "Requirement already satisfied: wordcloud in /usr/local/lib/python3.8/dist-packages (1.8.2.2)\n",
            "Requirement already satisfied: pillow in /usr/local/lib/python3.8/dist-packages (from wordcloud) (7.1.2)\n",
            "Requirement already satisfied: matplotlib in /usr/local/lib/python3.8/dist-packages (from wordcloud) (3.2.2)\n",
            "Requirement already satisfied: numpy>=1.6.1 in /usr/local/lib/python3.8/dist-packages (from wordcloud) (1.21.6)\n",
            "Requirement already satisfied: kiwisolver>=1.0.1 in /usr/local/lib/python3.8/dist-packages (from matplotlib->wordcloud) (1.4.4)\n",
            "Requirement already satisfied: python-dateutil>=2.1 in /usr/local/lib/python3.8/dist-packages (from matplotlib->wordcloud) (2.8.2)\n",
            "Requirement already satisfied: cycler>=0.10 in /usr/local/lib/python3.8/dist-packages (from matplotlib->wordcloud) (0.11.0)\n",
            "Requirement already satisfied: pyparsing!=2.0.4,!=2.1.2,!=2.1.6,>=2.0.1 in /usr/local/lib/python3.8/dist-packages (from matplotlib->wordcloud) (3.0.9)\n",
            "Requirement already satisfied: six>=1.5 in /usr/local/lib/python3.8/dist-packages (from python-dateutil>=2.1->matplotlib->wordcloud) (1.15.0)\n",
            "Looking in indexes: https://pypi.org/simple, https://us-python.pkg.dev/colab-wheels/public/simple/\n",
            "Collecting stop-words\n",
            "  Downloading stop-words-2018.7.23.tar.gz (31 kB)\n",
            "  Preparing metadata (setup.py) ... \u001b[?25l\u001b[?25hdone\n",
            "Building wheels for collected packages: stop-words\n",
            "  Building wheel for stop-words (setup.py) ... \u001b[?25l\u001b[?25hdone\n",
            "  Created wheel for stop-words: filename=stop_words-2018.7.23-py3-none-any.whl size=32910 sha256=4e063ced17627b039cfb1d997eb64c08610892345355ba2fe88de7a38556c4af\n",
            "  Stored in directory: /root/.cache/pip/wheels/eb/03/0d/3bd31c983789aeb0b4d5e2ca48590288d9db1586cf5f225062\n",
            "Successfully built stop-words\n",
            "Installing collected packages: stop-words\n",
            "Successfully installed stop-words-2018.7.23\n"
          ]
        }
      ]
    },
    {
      "cell_type": "code",
      "source": [
        "import numpy as np \n",
        "from wordcloud import WordCloud, ImageColorGenerator\n",
        "from stop_words import get_stop_words\n",
        "import matplotlib.pyplot as plt\n",
        "# %matplotlib inline"
      ],
      "metadata": {
        "id": "VZVzX6LMwdte"
      },
      "execution_count": 231,
      "outputs": []
    },
    {
      "cell_type": "code",
      "source": [
        "#ejemplo: diagrama de barras de palabras\n",
        "\n",
        "plt.figure(figsize=(16,8))\n",
        "plt.bar(range(len(frecuencias)),\n",
        "        list(frecuencias.values()), \n",
        "        align='center') # diagrama de barras\n",
        "plt.xticks(range(len(frecuencias)),\n",
        "           list(frecuencias.keys()),\n",
        "           rotation=60)\n",
        "plt.xlabel(\"Palabra\")\n",
        "plt.ylabel(\"Cantidad de palabras\")\n",
        "plt.show()\n",
        "\n"
      ],
      "metadata": {
        "colab": {
          "base_uri": "https://localhost:8080/",
          "height": 572
        },
        "id": "Ljm_vno-woaW",
        "outputId": "4be2072e-3fbb-4a73-ae09-65764dcc61f6"
      },
      "execution_count": 232,
      "outputs": [
        {
          "output_type": "display_data",
          "data": {
            "text/plain": [
              "<Figure size 1152x576 with 1 Axes>"
            ],
            "image/png": "[encoded data removed]"
          },
          "metadata": {
            "needs_background": "light"
          }
        }
      ]
    },
    {
      "cell_type": "code",
      "source": [
        "# Para organziarlas\n",
        "import operator\n",
        "frecuencias_ordenadas=sorted(frecuencias.items(),key=operator.itemgetter(1),reverse=True)\n",
        "dictfrecord=dict((key,value) for key,value in frecuencias_ordenadas)"
      ],
      "metadata": {
        "id": "jSwXzwvdxD7X"
      },
      "execution_count": 233,
      "outputs": []
    },
    {
      "cell_type": "code",
      "source": [
        "plt.figure(figsize=(15,10))\n",
        "plt.bar(range(len(dictfrecord)), \n",
        "        list(dictfrecord.values()), \n",
        "        align='center', color = \"green\")\n",
        "plt.xticks(range(len(dictfrecord)), \n",
        "           list(dictfrecord.keys()),\n",
        "           rotation=60)\n",
        "plt.xlabel(\"Palabra\")\n",
        "plt.ylabel(\"Cantidad de palabras\")\n",
        "plt.show()"
      ],
      "metadata": {
        "colab": {
          "base_uri": "https://localhost:8080/",
          "height": 680
        },
        "id": "c_i2c1zsxJwM",
        "outputId": "4476f26b-11be-4449-8796-9bc2d5a71d50"
      },
      "execution_count": 237,
      "outputs": [
        {
          "output_type": "display_data",
          "data": {
            "text/plain": [
              "<Figure size 1080x720 with 1 Axes>"
            ],
            "image/png": "[encoded data removed]"
          },
          "metadata": {
            "needs_background": "light"
          }
        }
      ]
    },
    {
      "cell_type": "markdown",
      "source": [
        "## Finalmente, Word Cloud"
      ],
      "metadata": {
        "id": "0Ga5mQlXxZlO"
      }
    },
    {
      "cell_type": "code",
      "source": [
        "wordcloud = WordCloud(max_font_size=50, max_words=100, background_color=\"white\").generate(oracion2)\n",
        "plt.figure()\n",
        "plt.imshow(wordcloud, interpolation=\"bilinear\")\n",
        "plt.axis(\"off\")\n",
        "plt.show()"
      ],
      "metadata": {
        "colab": {
          "base_uri": "https://localhost:8080/",
          "height": 198
        },
        "id": "_xmXhWfzxfTl",
        "outputId": "9387b26b-320f-4638-cf75-29a44321a56b"
      },
      "execution_count": 235,
      "outputs": [
        {
          "output_type": "display_data",
          "data": {
            "text/plain": [
              "<Figure size 432x288 with 1 Axes>"
            ],
            "image/png": "[encoded data removed]"
          },
          "metadata": {
            "needs_background": "light"
          }
        }
      ]
    },
    {
      "cell_type": "code",
      "source": [
        "stop_words=get_stop_words(\"es\")\n",
        "stop_words\n",
        "wordcloud = WordCloud(stopwords=stop_words, max_font_size=50, max_words=100, background_color=\"white\").generate(oracion2)\n",
        "plt.figure()\n",
        "plt.imshow(wordcloud, interpolation=\"bilinear\")\n",
        "plt.axis(\"off\")\n",
        "plt.show()"
      ],
      "metadata": {
        "colab": {
          "base_uri": "https://localhost:8080/",
          "height": 198
        },
        "id": "fvEg5j9LxpMj",
        "outputId": "9c3c5a90-45fe-4b88-c86f-a877b0edd516"
      },
      "execution_count": 230,
      "outputs": [
        {
          "output_type": "display_data",
          "data": {
            "text/plain": [
              "<Figure size 432x288 with 1 Axes>"
            ],
            "image/png": "[encoded data removed]"
          },
          "metadata": {
            "needs_background": "light"
          }
        }
      ]
    },
    {
      "cell_type": "markdown",
      "source": [
        "==============================================================================================="
      ],
      "metadata": {
        "id": "bxklZUWjyEGb"
      }
    },
    {
      "cell_type": "markdown",
      "source": [
        "# Introducción a la librería NLTK\n",
        "\n",
        "\n",
        "* NLTK (https://www.nltk.org/) es una librería para Python, usada para el análisis y la manipulación del lenguaje natural.\n",
        "\n",
        "\n",
        "* Se instala bien con el gestor de paquetes \"pip\" o con \"conda\" en caso de utilizarlo. Para instalarlo con pip o conda se realiza de la siguiente manera respectivamente:\n",
        "\n",
        "```\n",
        ">> pip install nltk\n",
        ">> conda install nltk\n",
        "```\n",
        "<hr>\n",
        "\n",
        "## 1.- Instalación y descargar de las bases de datos\n",
        "\n",
        "* NLTK utiliza una serie de bases de datos léxicas para la manipulación del lenguaje natural.\n",
        "\n",
        "* También dispone de una una serie de corpus (colección de textos) que nos podemos descargar para practicar los conceptos.\n",
        "\n",
        "* Para descargarnos las bases de datos y los corpus realizaremos lo siguiente:\n",
        "\n",
        "    1. Importar la librería nltk\n",
        "    2. llamar a al método \"download\"<sup>(*)</sup>\n",
        "    3. Aparecerá una ventana emergente para seleccionar todo lo que NLTK nos permite descargar\n",
        "    \n",
        "    \n",
        "###### (*): Si utilizas un MAC es posible que al ejecutar el método \"download()\" haga un logout de la sesión. Para evitarlo y para que se descargue todo el contenido, es necesario pasarle al método \"download\" como parámetros aquello que nos queramos descargar, en nuestro caso todo:\n",
        "\n",
        "```\n",
        ">> nltk.download('all')\n",
        "```"
      ],
      "metadata": {
        "id": "sFdx4vh13k__"
      }
    },
    {
      "cell_type": "markdown",
      "source": [
        "Primero, importamos la librería NLTK"
      ],
      "metadata": {
        "id": "ovAad4nXUqoM"
      }
    },
    {
      "cell_type": "code",
      "source": [
        "import nltk\n",
        "nltk.download(\"all\")\n"
      ],
      "metadata": {
        "id": "DcfMJDI-3qzZ"
      },
      "execution_count": null,
      "outputs": []
    },
    {
      "cell_type": "markdown",
      "source": [
        "Aunque todavía no profundizaremos en **Corpus** revisaremos algunos ejemplos para mostrar el concepto y algunas instrucciones útiles en Pythpn y la librería NLTK\n",
        "\n",
        "- NLTK dispone de una serie de ***Corpus*** con los que poder trabajar y realizar pruebas.\n",
        "\n",
        "- Algunos de los ***corpus*** que pueden ser de interés son:\n",
        "\n",
        "|Corpus|Content|\n",
        "|---|---|\n",
        "|Brown Corpus|15 genres, 1.15M words, tagged, categorized|\n",
        "|CESS Treebanks|1M words, tagged and parsed (Catalan, Spanish)|\n",
        "|Gutenberg (selections)|18 texts, 2M words|\n",
        "|Inaugural Address Corpus|U.S. Presidential Inaugural Addresses (1789–present)|\n",
        "|Movie Reviews|2k movie reviews with sentiment polarity classification|\n",
        "|Reuters Corpus|1.3M words, 10k news documents, categorized|\n",
        "|Stopwords Corpus|2,400 stopwords for 11 languages|\n",
        "|WordNet 3.0 (English)|145k synonym sets|\n",
        "\n",
        "\n",
        "* Para más información: [corpus](http://www.nltk.org/howto/)\n",
        "\n",
        "### Manejo de Corpus (funcionalidades)\n",
        "\n",
        "Dentro de NLTK podemos encontrarnos diferentes tipos de Corpus que podrían clasificarse en:\n",
        "\n",
        "* Textos planos: como el corpus de *Gutenberg*\n",
        "* Textos categorizados: como el corpus de *Bronwn* (15 generos)\n",
        "* Textos multicategóricos: como el corpus de *Reuters* (1 documentos, varias categorias)\n",
        "* Textos temporales: como el corpus *Inaugural Address Corpus*, discursos presidenciales a lo largo de la historia\n",
        "\n",
        "Para el manejo de estos corpus NLTK nos ofrece las siguientes funciones:\n",
        "\n",
        "|Example|Description|\n",
        "|---|---|\n",
        "|fileids()|the files of the corpus|\n",
        "|fileids([categories])|the files of the corpus corresponding to these categories|\n",
        "|categories()|the categories of the corpus|\n",
        "|categories([fileids])|the categories of the corpus corresponding to these files|\n",
        "|raw()|the raw content of the corpus|\n",
        "|raw(fileids=[f1,f2,f3])|the raw content of the specified files|\n",
        "|raw(categories=[c1,c2])|the raw content of the specified categories|\n",
        "|words()|the words of the whole corpus|\n",
        "|words(fileids=[f1,f2,f3])|the words of the specified fileids|\n",
        "|words(categories=[c1,c2])|the words of the specified categories|\n",
        "|sents()|the sentences of the whole corpus|\n",
        "|sents(fileids=[f1,f2,f3])|the sentences of the specified fileids|\n",
        "|sents(categories=[c1,c2])|the sentences of the specified categories|\n",
        "|abspath(fileid)|the location of the given file on disk|\n",
        "|encoding(fileid)|the encoding of the file (if known)|\n",
        "|open(fileid)|open a stream for reading the given corpus file|\n",
        "|root|if the path to the root of locally installed corpus|\n",
        "|readme()|the contents of the README file of the corpus|\n",
        "\n",
        "### Ejemplo con el corpus de Gutenberg\n",
        "\n",
        "**1. ¿Que ficheros componen el corpus?**"
      ],
      "metadata": {
        "id": "OovXSiNpVR49"
      }
    },
    {
      "cell_type": "code",
      "source": [
        "from nltk.corpus import gutenberg\n",
        "gutenberg.fileids()"
      ],
      "metadata": {
        "id": "_myh1I0D4P1I"
      },
      "execution_count": null,
      "outputs": []
    },
    {
      "cell_type": "markdown",
      "source": [
        "**2. ¿Cual es el contenido del fichero \"blake-poems.txt\"?**\n",
        "\n",
        "(Por lectura mostramos solo los 300 primeros caracteres)"
      ],
      "metadata": {
        "id": "Qt2Y6Xq-4Zfs"
      }
    },
    {
      "cell_type": "code",
      "source": [
        "blake = gutenberg.raw(\"blake-poems.txt\")\n",
        "blake[:300]\n"
      ],
      "metadata": {
        "id": "JHnnFiKE4ZNI"
      },
      "execution_count": null,
      "outputs": []
    },
    {
      "cell_type": "code",
      "source": [
        "print(blake[:300])"
      ],
      "metadata": {
        "id": "iTVgeJcsyuDK"
      },
      "execution_count": null,
      "outputs": []
    },
    {
      "cell_type": "code",
      "source": [
        "# otro ejemplo con la biblia\n",
        "biblia = gutenberg.raw(\"bible-kjv.txt\")\n",
        "biblia[:1000]"
      ],
      "metadata": {
        "id": "mDMGOCJEWkOh"
      },
      "execution_count": null,
      "outputs": []
    },
    {
      "cell_type": "code",
      "source": [
        "print(biblia[:1000])"
      ],
      "metadata": {
        "id": "r1BhMJTJyzpm"
      },
      "execution_count": null,
      "outputs": []
    },
    {
      "cell_type": "markdown",
      "source": [
        "Para cargar alguno de estos libros en variables y poder manipularlos directamente, podemos utilizar varios métodos.\n",
        "\n",
        "- `gutenberg.raw` recupera el texto como una única cadena de caracteres.\n",
        "- `gutenberg.words` recupera el texto tokenizado en palabras. El método devuelve una lista palabras.\n",
        "- `gutenberg.sents` recupera el texto segmentado por oraciones. El método devuelve una lista de oraciones. Cada oración es a su vez una lista de palabras.\n",
        "- `gutenberg.paras` recupera el texto  segmentado por párrafos. El método devuelve una lista de párrafos.  Cada párrafo es una lista de oraciones, cada oración es a su vez una lista de palabras.\n",
        "\n",
        "Veamos algunos ejemplos"
      ],
      "metadata": {
        "id": "mvQdKJ9340r4"
      }
    },
    {
      "cell_type": "code",
      "source": [
        "# cargo la vesión 'craw=cruda' de un par de libros. Como son libros del Proyecto Gutenberg, se trata de ficheros en texto plano\n",
        "alice = gutenberg.raw(\"carroll-alice.txt\")\n",
        "print(alice[:200]) # imprimo los primeros 200 caracteres del libro de Alicia\n",
        "\n",
        "bible = gutenberg.raw(\"bible-kjv.txt\")\n",
        "print(bible[:200]) # imprimo los primeros 200 caracteres de la Biblia"
      ],
      "metadata": {
        "id": "Vcjy1gG442hM"
      },
      "execution_count": null,
      "outputs": []
    },
    {
      "cell_type": "code",
      "source": [
        "gutenberg.words(\"bible-kjv.txt\")[:10]"
      ],
      "metadata": {
        "id": "1_DWbQ_71nqY"
      },
      "execution_count": null,
      "outputs": []
    },
    {
      "cell_type": "code",
      "source": [
        "gutenberg.sents(\"bible-kjv.txt\")[:5]"
      ],
      "metadata": {
        "id": "3m49QoB61psg"
      },
      "execution_count": null,
      "outputs": []
    },
    {
      "cell_type": "code",
      "source": [
        "gutenberg.paras(\"bible-kjv.txt\")[:3]"
      ],
      "metadata": {
        "id": "tdEoYEtf2B_s"
      },
      "execution_count": null,
      "outputs": []
    },
    {
      "cell_type": "markdown",
      "source": [
        "De cada uno de los documentos mostramos: \n",
        "\n",
        "- Número de caracteres \n",
        "\n",
        "- Número de palabras\n",
        "\n",
        "- Número de frases \n",
        " \n",
        "- Número de medio de caracteres por palabra \n",
        " \n",
        "- Número medio de palabras por frase\n",
        " \n",
        "- Diversidad léxica (número de palabras / palabras distintas del texto)"
      ],
      "metadata": {
        "id": "28J8dTIY4_6A"
      }
    },
    {
      "cell_type": "code",
      "source": [
        "print(\"car\", \"pal\", \"ora\", \"car/pal\", \"pal/ora\", sep = \"--------\")\n",
        "for libro in gutenberg.fileids():\n",
        "    num_car = len(gutenberg.raw(libro))\n",
        "    num_pal = len(gutenberg.words(libro))\n",
        "    num_ora = len(gutenberg.sents(libro))\n",
        "    avg_car_pal = int(num_car/num_pal)\n",
        "    avg_pal_ora = int(num_pal/num_ora)\n",
        "    print(\"{num_car:<10} {num_pal:<10} {num_ora:<10} {avg_car_pal:<10} {avg_pal_ora:<10}\"\n",
        "          .format(num_car=num_car, num_pal=num_pal, num_ora=num_ora, avg_car_pal=avg_car_pal,\n",
        "                  avg_pal_ora = avg_pal_ora, libro=libro))\n",
        "    "
      ],
      "metadata": {
        "id": "nJ1Runtb5KIz"
      },
      "execution_count": null,
      "outputs": []
    },
    {
      "cell_type": "markdown",
      "source": [
        "## Ejemplo con el corpus de Brown\n",
        "\n",
        "Este es un corpus que contiene una serie de textos categorizados (o tageados) con un tipos de genero\n",
        "\n",
        "1. ¿Cuales son las categorias del corpus de Brown?"
      ],
      "metadata": {
        "id": "kHSJHD1K6wwm"
      }
    },
    {
      "cell_type": "code",
      "source": [
        "from nltk.corpus import brown\n",
        "brown.categories()"
      ],
      "metadata": {
        "id": "wdQ-80KJ6vDE"
      },
      "execution_count": null,
      "outputs": []
    },
    {
      "cell_type": "markdown",
      "source": [
        "## ¿30 palabras que documentos en la categoria \"news\" y \"religion\""
      ],
      "metadata": {
        "id": "W32q05ppV33C"
      }
    },
    {
      "cell_type": "code",
      "source": [
        "print(brown.words(categories = \"news\")[:30])\n",
        "print(brown.words(categories = \"religion\")[:30])"
      ],
      "metadata": {
        "id": "m1ILFrRJUbrh"
      },
      "execution_count": null,
      "outputs": []
    },
    {
      "cell_type": "markdown",
      "source": [
        "## ¿Cuántas veces aparecen los verbos modales en cada una de las categorias?"
      ],
      "metadata": {
        "id": "Kr4T4Luq618g"
      }
    },
    {
      "cell_type": "code",
      "source": [
        "genres = ['news', 'religion', 'hobbies', 'science_fiction', 'romance', 'humor']\n",
        "modals = ['can', 'could', 'may', 'might', 'must', 'will']\n",
        "\n",
        "tabla = nltk.ConditionalFreqDist( \n",
        "         (genre, word)\n",
        "         for genre in brown.categories()\n",
        "         for word in  brown.words(categories=genre))\n",
        "\n",
        "tabla.tabulate(conditions=genres, samples=modals)"
      ],
      "metadata": {
        "id": "boAo37r1TzsJ"
      },
      "execution_count": null,
      "outputs": []
    },
    {
      "cell_type": "code",
      "source": [
        "genres = ['news', 'religion', 'hobbies']\n",
        "clave = [\"election\" , \"Good\" , \"soccer\"]\n",
        "\n",
        "tabla = nltk.ConditionalFreqDist( \n",
        "         (genre, word)\n",
        "         for genre in brown.categories()\n",
        "         for word in  brown.words(categories=genre))\n",
        "\n",
        "tabla.tabulate(conditions=genres, samples=clave)"
      ],
      "metadata": {
        "id": "OpTzbVxrWLWQ"
      },
      "execution_count": null,
      "outputs": []
    },
    {
      "cell_type": "code",
      "source": [
        "En el fichero \"news\" qué documentos encontramos"
      ],
      "metadata": {
        "id": "DGuQhlPnWhtT"
      },
      "execution_count": null,
      "outputs": []
    },
    {
      "cell_type": "code",
      "source": [
        "brown.fileids(['news'])[0:5]"
      ],
      "metadata": {
        "id": "LWr3CU-x60m0"
      },
      "execution_count": null,
      "outputs": []
    },
    {
      "cell_type": "markdown",
      "source": [
        "## Otros corpus de interes"
      ],
      "metadata": {
        "id": "aN2XDss1Sa2v"
      }
    },
    {
      "cell_type": "code",
      "source": [
        "# webtext: colección de web text, incluidas conversaciones de Firefox\n",
        "from nltk.corpus import webtext\n",
        "for fileid in webtext.fileids():\n",
        "   print(fileid, webtext.raw(fileid)[:100], '...')"
      ],
      "metadata": {
        "id": "uqnvnZEOS2ls"
      },
      "execution_count": null,
      "outputs": []
    },
    {
      "cell_type": "code",
      "source": [
        "# Reuters : contiene 10788 documentos con 1.3 millones de palabras. Documentos de diferentes tópicos llamados training and test\n",
        "from nltk.corpus import reuters\n",
        "print(len(reuters.fileids()))\n",
        "print(reuters.fileids()[0:10])"
      ],
      "metadata": {
        "id": "vDgDSwkkTBEe"
      },
      "execution_count": null,
      "outputs": []
    },
    {
      "cell_type": "code",
      "source": [
        "print(reuters.categories()[0:10])"
      ],
      "metadata": {
        "id": "5MymFEMuXRvA"
      },
      "execution_count": null,
      "outputs": []
    },
    {
      "cell_type": "code",
      "source": [
        "print(reuters.words(\"test/14829\")[0:20])"
      ],
      "metadata": {
        "colab": {
          "base_uri": "https://localhost:8080/"
        },
        "id": "ZraifqBrYhpw",
        "outputId": "683ba1a1-df4a-4b20-d0db-573fb6e1a8a2"
      },
      "execution_count": 65,
      "outputs": [
        {
          "output_type": "stream",
          "name": "stdout",
          "text": [
            "['JAPAN', 'TO', 'REVISE', 'LONG', '-', 'TERM', 'ENERGY', 'DEMAND', 'DOWNWARDS', 'The', 'Ministry', 'of', 'International', 'Trade', 'and', 'Industry', '(', 'MITI', ')', 'will']\n"
          ]
        }
      ]
    },
    {
      "cell_type": "code",
      "source": [
        "# inaugural: 55 textos uno de cada dirección presidencial\n",
        "from nltk.corpus import inaugural\n",
        "print(inaugural.fileids()[0:10])"
      ],
      "metadata": {
        "id": "c0OhYwPxY3rT"
      },
      "execution_count": null,
      "outputs": []
    },
    {
      "cell_type": "code",
      "source": [
        "print(inaugural.words(\"1789-Washington.txt\")[:20])"
      ],
      "metadata": {
        "id": "QGa0jjZxZatk"
      },
      "execution_count": null,
      "outputs": []
    },
    {
      "cell_type": "code",
      "source": [
        "##¿Si quiero sacar de los campos anteriores las fechas?"
      ],
      "metadata": {
        "id": "QMi7WJTBcWSn"
      },
      "execution_count": null,
      "outputs": []
    },
    {
      "cell_type": "code",
      "source": [
        "for fileid in inaugural.fileids():\n",
        "    print(fileid[:4])"
      ],
      "metadata": {
        "id": "7AQ08x2qbpjf"
      },
      "execution_count": null,
      "outputs": []
    },
    {
      "cell_type": "code",
      "source": [
        "print([fileid[:4] for fileid in inaugural.fileids()])"
      ],
      "metadata": {
        "id": "HQAa67HHcik7"
      },
      "execution_count": null,
      "outputs": []
    },
    {
      "cell_type": "code",
      "source": [
        "#Tarea entender este código\n",
        "tabla1 = nltk.ConditionalFreqDist( \n",
        "               (target, fileid[:4])\n",
        "               for fileid in inaugural.fileids()\n",
        "               for w in inaugural.words(fileid)\n",
        "               for target in ['america', 'citizens']\n",
        "               if w.lower().startswith(target))\n",
        "tabla1.tabulate()\n",
        "tabla1.plot()"
      ],
      "metadata": {
        "id": "a7xWSzmoc7MP"
      },
      "execution_count": null,
      "outputs": []
    },
    {
      "cell_type": "markdown",
      "source": [
        "##Tokenización\n",
        "\n",
        "Dividir cadenas de texto en partes más pequeñas : tokens\n"
      ],
      "metadata": {
        "id": "0CmXpJ8aexaX"
      }
    },
    {
      "cell_type": "code",
      "source": [
        "# importamos la librería word_tokenize que divide una cadena es subcadenas mas sencillas.\n",
        "# identifica con puntuación o palabras \n",
        "import nltk\n",
        "from nltk import word_tokenize\n"
      ],
      "metadata": {
        "id": "7b1JNEFvf9qt"
      },
      "execution_count": 130,
      "outputs": []
    },
    {
      "cell_type": "code",
      "source": [
        "# separa cuando encuentra espacio\n",
        "documento = \"Cien años de sole.dad 100.56 es una novela del escritor colombiano Gabriel García Márquez, ganador del Premio Nobel de Literatura en 1982. Es considerada una obra maestra de la literatura hispanoamericana y universal. Así como una de las obras más traducidas y leídas en español.\"\n",
        "words = nltk.word_tokenize(documento)\n",
        "print (words)"
      ],
      "metadata": {
        "colab": {
          "base_uri": "https://localhost:8080/"
        },
        "id": "Zg8lmGwggGgU",
        "outputId": "de8d30a8-902e-4fa1-f5cd-705876a203b0"
      },
      "execution_count": 147,
      "outputs": [
        {
          "output_type": "stream",
          "name": "stdout",
          "text": [
            "['Cien', 'años', 'de', 'sole.dad', '100.56', 'es', 'una', 'novela', 'del', 'escritor', 'colombiano', 'Gabriel', 'García', 'Márquez', ',', 'ganador', 'del', 'Premio', 'Nobel', 'de', 'Literatura', 'en', '1982', '.', 'Es', 'considerada', 'una', 'obra', 'maestra', 'de', 'la', 'literatura', 'hispanoamericana', 'y', 'universal', '.', 'Así', 'como', 'una', 'de', 'las', 'obras', 'más', 'traducidas', 'y', 'leídas', 'en', 'español', '.']\n"
          ]
        }
      ]
    },
    {
      "cell_type": "code",
      "source": [
        "# separa el texto cuando hay punto.\n",
        "from nltk.tokenize import wordpunct_tokenize\n",
        "print(wordpunct_tokenize(documento))"
      ],
      "metadata": {
        "colab": {
          "base_uri": "https://localhost:8080/"
        },
        "id": "tjokt3UehETl",
        "outputId": "63978204-1ccb-4325-e5c0-05fcec50d08f"
      },
      "execution_count": 148,
      "outputs": [
        {
          "output_type": "stream",
          "name": "stdout",
          "text": [
            "['Cien', 'años', 'de', 'sole', '.', 'dad', '100', '.', '56', 'es', 'una', 'novela', 'del', 'escritor', 'colombiano', 'Gabriel', 'García', 'Márquez', ',', 'ganador', 'del', 'Premio', 'Nobel', 'de', 'Literatura', 'en', '1982', '.', 'Es', 'considerada', 'una', 'obra', 'maestra', 'de', 'la', 'literatura', 'hispanoamericana', 'y', 'universal', '.', 'Así', 'como', 'una', 'de', 'las', 'obras', 'más', 'traducidas', 'y', 'leídas', 'en', 'español', '.']\n"
          ]
        }
      ]
    },
    {
      "cell_type": "code",
      "source": [
        "# niveles se oraciones\n",
        "from nltk.tokenize import sent_tokenize\n",
        "print(sent_tokenize(documento))"
      ],
      "metadata": {
        "colab": {
          "base_uri": "https://localhost:8080/"
        },
        "id": "tmvcjjC7gkop",
        "outputId": "62dccba8-2226-4509-e2b4-c1c1d6a0a78d"
      },
      "execution_count": 150,
      "outputs": [
        {
          "output_type": "stream",
          "name": "stdout",
          "text": [
            "['Cien años de sole.dad 100.56 es una novela del escritor colombiano Gabriel García Márquez, ganador del Premio Nobel de Literatura en 1982.', 'Es considerada una obra maestra de la literatura hispanoamericana y universal.', 'Así como una de las obras más traducidas y leídas en español.']\n"
          ]
        }
      ]
    },
    {
      "cell_type": "markdown",
      "source": [
        "## Stemming\n",
        "\n",
        "- Proceso de eliminar los afijos\n",
        "\n",
        "- Para realizar el Stemming con NLTK tenemos que seleccionar el \"Stemmer\" adecuado dependiendo del idioma.\n",
        "\n",
        "- En NLTK existen dos \"Stemmers\" que son los siguientes:\n",
        "    * PorterStemmer\n",
        "    * SnowballStemmer\n",
        "\n",
        "\n",
        "- Para más información sobre estos ver el siguiente enlace:\n",
        "http://www.nltk.org/howto/stem.html\n",
        "<span></span><br><br>\n",
        "\n",
        "- *Ejemplo en Inglés* con el *PorterStemmer*"
      ],
      "metadata": {
        "id": "x8tIKhysicki"
      }
    },
    {
      "cell_type": "code",
      "source": [
        "from nltk.stem import PorterStemmer \n",
        "stm = PorterStemmer()"
      ],
      "metadata": {
        "id": "ZttBw0n3icBF"
      },
      "execution_count": 159,
      "outputs": []
    },
    {
      "cell_type": "code",
      "source": [
        "print(stm.stem('running'))\n",
        "print(stm.stem('minimum'))\n"
      ],
      "metadata": {
        "colab": {
          "base_uri": "https://localhost:8080/"
        },
        "id": "MAMmfgI_iwoI",
        "outputId": "c7d36e3c-e2b2-4986-d276-df104aade66c"
      },
      "execution_count": 160,
      "outputs": [
        {
          "output_type": "stream",
          "name": "stdout",
          "text": [
            "run\n",
            "minimum\n"
          ]
        }
      ]
    },
    {
      "cell_type": "code",
      "source": [
        "from nltk.stem.snowball import SnowballStemmer"
      ],
      "metadata": {
        "id": "pV356wQOnUto"
      },
      "execution_count": 161,
      "outputs": []
    },
    {
      "cell_type": "markdown",
      "source": [
        "* Los Stemmers de NLTK para idiomas distintos al Ingles son relativamente malos ya que NLTK esta pensado para la lengua inglesa.\n",
        "\n",
        "*Ejemplo en Español* con el *SnowballStemmer*"
      ],
      "metadata": {
        "id": "AtaciRyXoGjc"
      }
    },
    {
      "cell_type": "code",
      "source": [
        "print(\" \".join(SnowballStemmer.languages))"
      ],
      "metadata": {
        "id": "29_nCT1pnW0D"
      },
      "execution_count": null,
      "outputs": []
    },
    {
      "cell_type": "code",
      "source": [
        "stemmer = SnowballStemmer(\"spanish\")"
      ],
      "metadata": {
        "id": "74fWtahYnaBz"
      },
      "execution_count": 170,
      "outputs": []
    },
    {
      "cell_type": "code",
      "source": [
        "print(stemmer.stem(\"precisamente\"))"
      ],
      "metadata": {
        "id": "77vKVyKkneA7"
      },
      "execution_count": null,
      "outputs": []
    },
    {
      "cell_type": "code",
      "source": [
        "print(stemmer.stem(\"increible\"))\n",
        "print (stm.stem('corriendo'))\n",
        "print (stm.stem('mínimo'))"
      ],
      "metadata": {
        "id": "XcboyR3FnuOG"
      },
      "execution_count": null,
      "outputs": []
    },
    {
      "cell_type": "markdown",
      "source": [
        "## Stop words\n",
        "\n",
        "\n",
        "* Son las palabras que no aportan nada al significado de la frase.\n",
        "\n",
        "* NLTK tiene para una serie de idiomas un listado de Stop Words.\n",
        "\n",
        "* Para el Español dispone de un listado de stop words:"
      ],
      "metadata": {
        "id": "HkZcnnE-qs9i"
      }
    },
    {
      "cell_type": "code",
      "source": [
        "from nltk.corpus import stopwords\n",
        "print(set(stopwords.words('spanish')))"
      ],
      "metadata": {
        "id": "_XwsqK0mqxaW"
      },
      "execution_count": null,
      "outputs": []
    },
    {
      "cell_type": "code",
      "source": [
        "doc = \"Un radar multa a Fabian Sanchez por conducir demasiado rapido en la autopista\"\n",
        "words = nltk.word_tokenize(doc)\n",
        "for word in words:\n",
        "        if word in stopwords.words('spanish'):\n",
        "            print (word)"
      ],
      "metadata": {
        "id": "B449PXf2qzXy"
      },
      "execution_count": null,
      "outputs": []
    },
    {
      "cell_type": "markdown",
      "source": [
        "## Lematización"
      ],
      "metadata": {
        "id": "Q_EmdtGXoSv2"
      }
    },
    {
      "cell_type": "markdown",
      "source": [
        "- Proceso lingüístico que sustituye una palabra con forma flexionada (plurales, femeninos, verbos conjugados, etc.) por su lema; es decir, por una palabra válida en el idioma.\n",
        "\n",
        "-La Lematización que hace NLTK solo es buena para la lengua inglesa."
      ],
      "metadata": {
        "id": "_wcBGZizqLR7"
      }
    },
    {
      "cell_type": "code",
      "source": [
        "from nltk.stem import WordNetLemmatizer\n",
        "lemm = WordNetLemmatizer()\n",
        "print (lemm.lemmatize('dogs'))\n",
        "print (lemm.lemmatize('perros'))"
      ],
      "metadata": {
        "id": "h9vyy2MtoSOi"
      },
      "execution_count": null,
      "outputs": []
    },
    {
      "cell_type": "markdown",
      "source": [
        "## n-grams\n",
        "\n",
        "* Modelo de representación que selecciona secuencias contiguas de N elementos de la selección de texto."
      ],
      "metadata": {
        "id": "qiJBRIQcrMth"
      }
    },
    {
      "cell_type": "code",
      "source": [
        "from nltk import ngrams\n",
        "doc = \"Un radar multa a Fabian Sanchez por conducir demasiado rapido en la autopista\"\n",
        "words = nltk.word_tokenize(doc)\n",
        "num_elementos = 3\n",
        "n_grams = ngrams(words, num_elementos)\n",
        "for grams in n_grams:\n",
        "    print (grams)"
      ],
      "metadata": {
        "id": "GrOSjIwxrRA1"
      },
      "execution_count": null,
      "outputs": []
    }
  ],
  "metadata": {
    "kernelspec": {
      "display_name": "Python 3 (ipykernel)",
      "language": "python",
      "name": "python3"
    },
    "language_info": {
      "codemirror_mode": {
        "name": "ipython",
        "version": 3
      },
      "file_extension": ".py",
      "mimetype": "text/x-python",
      "name": "python",
      "nbconvert_exporter": "python",
      "pygments_lexer": "ipython3",
      "version": "3.7.11"
    },
    "colab": {
      "provenance": []
    }
  },
  "nbformat": 4,
  "nbformat_minor": 0
}