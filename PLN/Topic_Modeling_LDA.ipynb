{
  "cells": [
    {
      "cell_type": "markdown",
      "metadata": {
        "id": "d7V_8aPtKZQY"
      },
      "source": [
        "# Topic Modeling\n",
        "\n",
        "- El *topic modeling* es una técnica para extraer los temas \"ocultos\" que hay en un conjunto de textos o corpus.\n",
        "\n",
        "- Es una técnica no supervisada.\n",
        "\n",
        "- Aplicaciones: selección de temas automático de diferentes elementos: tweets, artículos, etc.\n",
        "\n",
        "- La técnicas más usadas para extracción de temas son\n",
        "\n",
        "    - ***LSI:*** Latent Semantic Index\n",
        "\n",
        "    -***LDA***: Latent Dirichlet Allocation\n",
        "\n",
        "    - ***PLSI:*** Probabilistic Latent Semantic Index\n",
        "\n",
        "- Este método consiste en buscar factores que representen a las palbaras y documentos del corpus. A estos factores, se les da el nombre de **factores latentes**\n",
        "\n",
        "- Buscamos: \n",
        "\n",
        "   - Relación entre documentos\n",
        "\n",
        "   - Relación entre palabras\n",
        "\n",
        "   - Extraer los temas\n",
        "\n",
        "\n"
      ]
    },
    {
      "cell_type": "markdown",
      "metadata": {
        "id": "ef5XNsKiLk2B"
      },
      "source": [
        "Para hacer lo anterior debemos representar el corpus mediante una matriz, que como hemos visto, se hace por medio de una **bolsa de palabras** así:\n",
        "\n",
        "- **Fila:** representa cada documento.\n",
        "\n",
        "- **Columna:** representa cada palabra.\n",
        "\n",
        "- **Entrada $(i,j):$** número de veces que se repite la palabra en el documento.\n",
        "\n",
        "**Obs:** La matriz no necesariamente es cuadrada.\n",
        "\n",
        "Lo que buscamos es hacer una descomposición de la forma:\n",
        "\n",
        "$$\\begin{bmatrix}\n",
        " &  &  &  &  &  & \\\\ \n",
        " &  &  &  &  &  & \\\\ \n",
        " &  &  & Corpus &  &  & \\\\ \n",
        " &  &  & _{nxm} &  &  & \\\\ \n",
        " &  &  &  &  &  & \n",
        "\\end{bmatrix} =  \\begin{bmatrix}\n",
        "\\: \\\\ \n",
        "\\: \\\\ \n",
        "  Documentos\\\\ \n",
        "  _{nxK}\\\\ \n",
        "\\:\n",
        "\\end{bmatrix} \\cdot \\begin{bmatrix} \n",
        "  Palabras\\\\ \n",
        "  _{Kxm}\\\\ \n",
        "\\end{bmatrix}$$\n",
        "\n",
        "con\n",
        "\n",
        "$$\\left\\{ \\begin{matrix}\n",
        "n: Número \\: de \\: Documentos\\\\ \n",
        "m: Número \\: de \\: Palabras\\\\ \n",
        "K: Número \\: de \\: Factores \\: Latentes\n",
        "\\end{matrix}\\right.$$\n"
      ]
    },
    {
      "cell_type": "markdown",
      "metadata": {
        "id": "0shdLpG-Pwi7"
      },
      "source": [
        "# Vamos a ver un ejemplo numérico\n",
        "\n",
        "* Consideremos matriz que representa una Bolsa de Palabras con:\n",
        "\n",
        "    - Las filas representan a los documentos ($n$ documentos)\n",
        "\n",
        "    - Las columnas representan a las palabras ($m$ palabras)\n",
        "    \n",
        "    \n",
        "* Podemos descomponer esa matriz en tres matrices ***U***, ***S*** y ***V***, cuyo producto matricial es la matriz original ***A***.\n",
        "\n",
        "$$\\begin{bmatrix}\n",
        " &  &  &  &  &  & \\\\ \n",
        " &  &  &  &  &  & \\\\ \n",
        " &  &  & A &  &  & \\\\ \n",
        " &  &  & _{nxm} &  &  & \\\\ \n",
        " &  &  &  &  &  & \n",
        "\\end{bmatrix} =  \\begin{bmatrix}\n",
        " &  &  &  & \\\\ \n",
        " &  &  &  & \\\\ \n",
        " &  & U &  & \\\\ \n",
        " &  & _{nxn} &  & \\\\ \n",
        " &  &  &  & \n",
        "\\end{bmatrix} \\cdot \\begin{bmatrix}\n",
        " &  &  &  &  &  & \\\\ \n",
        " &  &  &  &  &  & \\\\ \n",
        " &  &  & S &  &  & \\\\ \n",
        " &  &  & _{nxm} &  &  & \\\\ \n",
        " &  &  &  &  &  & \n",
        "\\end{bmatrix} \\cdot \\begin{bmatrix}\n",
        " &  &  &  &  &  & \\\\ \n",
        " &  &  &  &  &  & \\\\ \n",
        " &  &  & V^{t} &  &  & \\\\ \n",
        " &  &  & _{mxm} &  &  & \\\\ \n",
        " &  &  &  &  &  & \\\\ \n",
        " &  &  &  &  &  & \\\\ \n",
        " &  &  &  &  &  & \n",
        "\\end{bmatrix} $$\n",
        "\n",
        "\n",
        "* Cada una de estas matrices contiene la siguiente información:\n",
        "\n",
        "    * ***Matriz U***: Contiene los valores de los ***factores latentes de las palabras***.\n",
        "    * ***Matriz V***: Contiene los valores de los ***factores latentes de los documentos***.\n",
        "    * ***Matriz S***: Matriz en cuya diagonal estan los llamados ***Valores singulares*** que tienen que ser valores decrecientes y no negativos. Los valores de la diagonal representan la importancia que tienen cada uno de los factores latentes de las palabras y de los documentos.\n",
        "\n",
        "<hr>\n",
        "\n",
        "# Cálculo Analítico: de las matrices U, S y V\n",
        "\n",
        "### Para calcular la matriz U.\n",
        "\n",
        "1. Se multiplica la matriz ***A*** por su traspuesta (***$A. A^{T}$***) para obtener una matriz cuadrada de dimensión ***nxn***\n",
        "\n",
        "\n",
        "2. Se calculan los autovalores de la matriz cuadrada (***$A_1 = A. A^{T}$***) usando el polínomio característico:\n",
        "\n",
        "$$det(A_{1}-\\lambda I) = 0$$\n",
        "\n",
        "\n",
        "3. Se calculan los autovectores asociados a cada autovalor (en orden decreciente por autovalor)\n",
        "\n",
        "\n",
        "### Para calcular la matriz $S$\n",
        "\n",
        "\n",
        "1. Una vez hayamos calculado los autovalores de $A_1$, se pone en la diagonal de la matriz ***$S$*** la raiz cuadrada del los autovalores en orden decreciente. El resto de elementos de la matriz ***$S$*** tendrán valor ***$0$***\n",
        "\n",
        "\n",
        "### Cálculo de la matriz V\n",
        "\n",
        "1. Se multiplica ***$A_2 = A^{T}A$*** para obtener una matriz cuadrada de dimensión ***mxm***\n",
        "\n",
        "\n",
        "2. Se calculan los autovectores asociados a cada autovalor (ya calculados) en orden descendente.\n",
        "\n",
        "$$det(A_{2}-\\lambda I) = 0$$\n",
        "\n",
        "<hr>\n"
      ]
    },
    {
      "cell_type": "markdown",
      "metadata": {
        "id": "dVRqBuYuRUGr"
      },
      "source": [
        "# Ejemplo \n",
        "Hallar $U$ , $V$ y $S$\n",
        "\n",
        "$$A = \\begin{bmatrix}\n",
        "2 & 3 & 0 \\\\\n",
        "1 & 0 & 1\n",
        "\\end{bmatrix}$$\n"
      ]
    },
    {
      "cell_type": "markdown",
      "metadata": {
        "id": "WE0al5K6Rize"
      },
      "source": [
        "# Ejemplo de ilustración básico\n",
        "\n",
        "Consideremos los siguientes documentos\n",
        "\n",
        "- **doc1:** petro petro reforma ovnis\n",
        "\n",
        "- **doc1:** petro reforma reforma reforma\n",
        "\n",
        "- **doc1:** marzo marzo universo ovnis\n",
        "\n",
        "- **doc1:** universo universo marzo"
      ]
    },
    {
      "cell_type": "code",
      "execution_count": 1,
      "metadata": {
        "colab": {
          "base_uri": "https://localhost:8080/",
          "height": 175
        },
        "id": "xEDLzKb5RsDy",
        "outputId": "ad15bcc1-3402-474a-cc66-7031539a2e47"
      },
      "outputs": [
        {
          "data": {
            "text/html": [
              "<div>\n",
              "<style scoped>\n",
              "    .dataframe tbody tr th:only-of-type {\n",
              "        vertical-align: middle;\n",
              "    }\n",
              "\n",
              "    .dataframe tbody tr th {\n",
              "        vertical-align: top;\n",
              "    }\n",
              "\n",
              "    .dataframe thead th {\n",
              "        text-align: right;\n",
              "    }\n",
              "</style>\n",
              "<table border=\"1\" class=\"dataframe\">\n",
              "  <thead>\n",
              "    <tr style=\"text-align: right;\">\n",
              "      <th></th>\n",
              "      <th>marzo</th>\n",
              "      <th>ovnis</th>\n",
              "      <th>petro</th>\n",
              "      <th>reforma</th>\n",
              "      <th>universo</th>\n",
              "    </tr>\n",
              "  </thead>\n",
              "  <tbody>\n",
              "    <tr>\n",
              "      <th>doc 1</th>\n",
              "      <td>0</td>\n",
              "      <td>1</td>\n",
              "      <td>2</td>\n",
              "      <td>1</td>\n",
              "      <td>0</td>\n",
              "    </tr>\n",
              "    <tr>\n",
              "      <th>doc 2</th>\n",
              "      <td>0</td>\n",
              "      <td>0</td>\n",
              "      <td>1</td>\n",
              "      <td>3</td>\n",
              "      <td>0</td>\n",
              "    </tr>\n",
              "    <tr>\n",
              "      <th>doc 3</th>\n",
              "      <td>2</td>\n",
              "      <td>1</td>\n",
              "      <td>0</td>\n",
              "      <td>0</td>\n",
              "      <td>1</td>\n",
              "    </tr>\n",
              "    <tr>\n",
              "      <th>doc 4</th>\n",
              "      <td>1</td>\n",
              "      <td>0</td>\n",
              "      <td>0</td>\n",
              "      <td>0</td>\n",
              "      <td>2</td>\n",
              "    </tr>\n",
              "  </tbody>\n",
              "</table>\n",
              "</div>"
            ],
            "text/plain": [
              "       marzo  ovnis  petro  reforma  universo\n",
              "doc 1      0      1      2        1         0\n",
              "doc 2      0      0      1        3         0\n",
              "doc 3      2      1      0        0         1\n",
              "doc 4      1      0      0        0         2"
            ]
          },
          "execution_count": 1,
          "metadata": {},
          "output_type": "execute_result"
        }
      ],
      "source": [
        "import pandas as pd\n",
        "from sklearn.feature_extraction.text import CountVectorizer\n",
        "\n",
        "documentos = ['petro petro reforma ovnis',\n",
        "             'petro reforma reforma reforma',\n",
        "             'marzo marzo universo ovnis',\n",
        "             'universo universo marzo']\n",
        "\n",
        "# vamos a vectorizar\n",
        "vectorizer = CountVectorizer()\n",
        "matrix = vectorizer.fit_transform(documentos)\n",
        "\n",
        "# Creamos el data.frame\n",
        "pd.DataFrame(matrix.toarray(), index=['doc 1', 'doc 2', 'doc 3', 'doc 4'], columns=vectorizer.get_feature_names_out()).head()\n"
      ]
    },
    {
      "cell_type": "markdown",
      "metadata": {
        "id": "NEYo_UwGRnfZ"
      },
      "source": [
        "- Para obtener los *factores latentes* vamos a realizar la ***SVD*** (descomposición en valores singulares).\n",
        "\n",
        "- Cuando aplicamos este método tenemos tres matrices: $U$, $V$, $S$.\n",
        "\n",
        "- Aplicamos los siguiente:\n",
        "\n",
        "   - ***Factores latentes de los documentos*** = $U · S$\n",
        "\n",
        "   - ***Factores latentes de las palabras*** = $S · V$"
      ]
    },
    {
      "cell_type": "code",
      "execution_count": 2,
      "metadata": {
        "colab": {
          "base_uri": "https://localhost:8080/",
          "height": 175
        },
        "id": "NyqUAzMyRv_Q",
        "outputId": "23736d7f-bc6f-4161-f9c3-47878c4933f8"
      },
      "outputs": [
        {
          "data": {
            "text/html": [
              "<div>\n",
              "<style scoped>\n",
              "    .dataframe tbody tr th:only-of-type {\n",
              "        vertical-align: middle;\n",
              "    }\n",
              "\n",
              "    .dataframe tbody tr th {\n",
              "        vertical-align: top;\n",
              "    }\n",
              "\n",
              "    .dataframe thead th {\n",
              "        text-align: right;\n",
              "    }\n",
              "</style>\n",
              "<table border=\"1\" class=\"dataframe\">\n",
              "  <thead>\n",
              "    <tr style=\"text-align: right;\">\n",
              "      <th></th>\n",
              "      <th>Factor 1</th>\n",
              "      <th>Factor 2</th>\n",
              "    </tr>\n",
              "  </thead>\n",
              "  <tbody>\n",
              "    <tr>\n",
              "      <th>doc 1</th>\n",
              "      <td>2.07</td>\n",
              "      <td>0.04</td>\n",
              "    </tr>\n",
              "    <tr>\n",
              "      <th>doc 2</th>\n",
              "      <td>3.00</td>\n",
              "      <td>-0.43</td>\n",
              "    </tr>\n",
              "    <tr>\n",
              "      <th>doc 3</th>\n",
              "      <td>0.37</td>\n",
              "      <td>2.29</td>\n",
              "    </tr>\n",
              "    <tr>\n",
              "      <th>doc 4</th>\n",
              "      <td>0.18</td>\n",
              "      <td>2.02</td>\n",
              "    </tr>\n",
              "  </tbody>\n",
              "</table>\n",
              "</div>"
            ],
            "text/plain": [
              "       Factor 1  Factor 2\n",
              "doc 1      2.07      0.04\n",
              "doc 2      3.00     -0.43\n",
              "doc 3      0.37      2.29\n",
              "doc 4      0.18      2.02"
            ]
          },
          "execution_count": 2,
          "metadata": {},
          "output_type": "execute_result"
        }
      ],
      "source": [
        "from sklearn.decomposition import TruncatedSVD\n",
        "# para colocar solo dos decimales\n",
        "pd.options.display.float_format = '{:,.2f}'.format\n",
        "\n",
        "svd = TruncatedSVD(n_components=2)\n",
        "U_S = svd.fit_transform(matrix)\n",
        "\n",
        "# Resultados\n",
        "pd.DataFrame(U_S, index=['doc 1', 'doc 2', 'doc 3', 'doc 4'], columns=['Factor 1', 'Factor 2']).head()"
      ]
    },
    {
      "cell_type": "markdown",
      "metadata": {
        "id": "DeGgBow5R7My"
      },
      "source": [
        "¿Qué podemos decir?"
      ]
    },
    {
      "cell_type": "code",
      "execution_count": 3,
      "metadata": {
        "colab": {
          "base_uri": "https://localhost:8080/",
          "height": 112
        },
        "id": "bhx9eMVlSBfJ",
        "outputId": "ac144ccd-16d2-4254-d705-90c086a07946"
      },
      "outputs": [
        {
          "data": {
            "text/html": [
              "<div>\n",
              "<style scoped>\n",
              "    .dataframe tbody tr th:only-of-type {\n",
              "        vertical-align: middle;\n",
              "    }\n",
              "\n",
              "    .dataframe tbody tr th {\n",
              "        vertical-align: top;\n",
              "    }\n",
              "\n",
              "    .dataframe thead th {\n",
              "        text-align: right;\n",
              "    }\n",
              "</style>\n",
              "<table border=\"1\" class=\"dataframe\">\n",
              "  <thead>\n",
              "    <tr style=\"text-align: right;\">\n",
              "      <th></th>\n",
              "      <th>marzo</th>\n",
              "      <th>ovnis</th>\n",
              "      <th>petro</th>\n",
              "      <th>reforma</th>\n",
              "      <th>universo</th>\n",
              "    </tr>\n",
              "  </thead>\n",
              "  <tbody>\n",
              "    <tr>\n",
              "      <th>Factor 1</th>\n",
              "      <td>0.25</td>\n",
              "      <td>0.67</td>\n",
              "      <td>1.95</td>\n",
              "      <td>3.02</td>\n",
              "      <td>0.20</td>\n",
              "    </tr>\n",
              "    <tr>\n",
              "      <th>Factor 2</th>\n",
              "      <td>2.14</td>\n",
              "      <td>0.76</td>\n",
              "      <td>-0.11</td>\n",
              "      <td>-0.41</td>\n",
              "      <td>2.05</td>\n",
              "    </tr>\n",
              "  </tbody>\n",
              "</table>\n",
              "</div>"
            ],
            "text/plain": [
              "          marzo  ovnis  petro  reforma  universo\n",
              "Factor 1   0.25   0.67   1.95     3.02      0.20\n",
              "Factor 2   2.14   0.76  -0.11    -0.41      2.05"
            ]
          },
          "execution_count": 3,
          "metadata": {},
          "output_type": "execute_result"
        }
      ],
      "source": [
        "\n",
        "import numpy as np\n",
        "\n",
        "V_S = np.dot(np.diag(svd.singular_values_), svd.components_)\n",
        "\n",
        "# Resultados\n",
        "pd.DataFrame(V_S, index=['Factor 1', 'Factor 2'], columns=vectorizer.get_feature_names_out()).head()"
      ]
    },
    {
      "cell_type": "markdown",
      "metadata": {
        "id": "gWC_kDD7SCxC"
      },
      "source": [
        "¿Qué podemos decir?"
      ]
    },
    {
      "cell_type": "markdown",
      "metadata": {
        "id": "xipA6oi3SJEu"
      },
      "source": [
        "# Método LSI :  Latent Semantic Index\n",
        "\n",
        "El ***LSI*** es una técnica de factorización matricial que se aplica en Procesamiento de Lenguaje Natural que busca analizar  las relaciones entre los documentos de un corpus y las palabras. \n",
        "\n",
        "\n",
        "* El ***LSI*** asume que las palabras que tienen un significado similar, aparecerán en partes de documentos similares.\n",
        "\n",
        "\n",
        "* El ***LSI*** tiene como finalidad extraer una serie de factores latentes que caractericen a los documentos y las palabras del corpus.\n",
        "\n",
        "\n",
        "* Necesitaremos una matriz de frecuencias que represente el número de veces que aparecen las palabras en los documentos:\n",
        "\n",
        "    - ***Filas***: Cada fila representa a una palabra.\n",
        "\n",
        "    - ***Columnas***: Cada columna representa a un documento.\n",
        "  \n",
        "    - ***Entrada $(i,j)$***: Cada entrada $(i,j)$ representa el número de veces que aparece la palabra en el documento.\n",
        "    \n",
        "    \n",
        "* El LSI descompone una matriz **$A$** (de frecuencias); que esta formada por el número de apariciones de cada palabra en cada documento, en tres matrices **$U$** , **$V$**, **$S$** cuyo producto matricial es igual a la matriz original **$A$**: \n",
        "\n",
        "\n",
        "$$ SVD(A) = U \\cdot S \\cdot V^{t}$$\n",
        "\n",
        "\n",
        "* Donde cada una de estas matrices contiene la siguiente información:\n",
        "\n",
        "    - ***Matriz $U$*** contiene los valores de los ***factores latentes de las palabras***. \n",
        "\n",
        "    - ***Matriz $V$*** contiene los valores de los ***factores latentes de los documentos***.\n",
        "\n",
        "    - ***Matriz $S$*** es una matriz en cuya diagonal están los llamados valores singulares que son decrecientes y no negativos. Esta matriz representa la ***importancia que tiene cada uno de los factores latentes de las palabras y de los documentos***. \n",
        "    \n",
        "    \n",
        "<center><img src=\"https://github.com/Fabian830348/cursos/blob/master/Imagen/lsi.png?raw=true\" alt=\"centered image\" width=\"500\" height=\"150\"></center>\n",
        "\n",
        "\n",
        "* Como la matriz ***$S$*** nos informa de la importancia que tiene cada uno de los factores latentes, podemos coger solo los ***K-factores más importantes*** para caracterizar cada una de las palabras y de los items. \n",
        "\n",
        "\n",
        "* De esta forma se trabaja con matrices más reducidas lo que nos permite comprimir la información de la matriz de apariciones.\n",
        "\n",
        "\n",
        "* El SVD tiene una propiedad muy importante que viene dada por el ***teorema de Eckart-Young***, que afirma que la mejor aproximación a la matriz ***$A$*** la obtenemos poniendo a ceros los ***$k$*** valores singulares de menor a mayor valor; es decir, reduciendo la matriz ***$S$***. Por tanto si multiplicamos las submatrices ***$U$*** , ***$S$*** y ***$V$*** obtenemos matriz ***$A'$*** de rango ***$k$*** que mejor aproxima (de acuerdo con la norma de Frobenius) a la matriz ***$A$***.\n",
        "\n",
        "$$\\|A \\|_{F}= \\left( \\sum \\limits_{i=1}^{m} \\sum \\limits_{j=1}^{n} |a_{ij}|^2 \\right)^{1/2} $$\n",
        "\n",
        "<img src=\"./imgs/016_LSI_Matrix_reduc.png\" style=\"width: 800px;\"/>\n",
        "\n",
        "* El valor de ***$k$***, va a representar el número de temas en que vamos a dividir (o Clusterizar) nuestro corpus, por lo tanto la selección del número de temas es un valor que tenemos que definir previamente \n",
        "\n",
        "* Para poder trabajar en la extracción de tópicos y ver las relaciones entre los documentos y las palabras, vamos trabajar con las matrices:\n",
        "\n",
        "    - ***$U_k$***: Estudiar las relaciones entre palabras\n",
        "    - ***$V_k$***: Estudiar las relaciones entre documentos\n",
        "    - ***$k$***: Número de temas que tendrá a priori el Corpus\n",
        "    "
      ]
    },
    {
      "cell_type": "markdown",
      "metadata": {
        "id": "7PfNfAsYBmtH"
      },
      "source": [
        "# Ejemplo\n",
        "\n",
        "Tenemos el siguiente documento"
      ]
    },
    {
      "cell_type": "code",
      "execution_count": 4,
      "metadata": {
        "id": "BeF3PjYwFG2c"
      },
      "outputs": [],
      "source": [
        "documento = [\"juego juego juego soccer soccer campeonato campeonato campeonato ronaldo ronaldo ronaldo ronaldo ronaldo messi\",\n",
        "      \"soccer soccer soccer soccer soccer ronaldo ronaldo ronaldo ronaldo messi messi\",\n",
        "      \"juego juego soccer soccer soccer soccer soccer soccer soccer messi messi messi messi messi\",\n",
        "      \"educacion educacion educacion educacion MEN MEN MEN MEN MEN MEN gaviria gaviria gaviria gaviria gaviria\",\n",
        "      \"educacion educacion educacion educacion MEN MEN MEN deuda deuda deuda deuda colegios colegios colegios gaviria\",\n",
        "      \"educacion educacion educacion educacion deuda deuda deuda deuda deuda deuda colegios colegios colegios colegios colegios\",\n",
        "      \"dinero fmi fmi fmi fmi fmi ue ue ue ue pib pib pib ibex ibex\",\n",
        "      \"colegios gaviria dinero dinero dinero dinero fmi fmi fmi fmi ue ue ue ue pib\",\n",
        "      \"MEN deuda colegios gaviria dinero dinero dinero dinero fmi fmi fmi fmi ue ue ue \",\n",
        "      \"soccer educacion pib\",\n",
        "      \"soccer colegios campeonato gaviria\"]\n"
      ]
    },
    {
      "cell_type": "markdown",
      "metadata": {
        "id": "X62RZKLtph6K"
      },
      "source": [
        "este trata tres temas a saber: soccer, educación, economía"
      ]
    },
    {
      "cell_type": "code",
      "execution_count": 5,
      "metadata": {
        "colab": {
          "base_uri": "https://localhost:8080/"
        },
        "id": "B0xi5O12FcqA",
        "outputId": "42191497-c86b-4b83-83df-5a6a0281c2e3"
      },
      "outputs": [
        {
          "name": "stdout",
          "output_type": "stream",
          "text": [
            "Diccionario:\n",
            "{'MEN': 5,\n",
            " 'campeonato': 0,\n",
            " 'colegios': 8,\n",
            " 'deuda': 9,\n",
            " 'dinero': 10,\n",
            " 'educacion': 6,\n",
            " 'fmi': 11,\n",
            " 'gaviria': 7,\n",
            " 'ibex': 12,\n",
            " 'juego': 1,\n",
            " 'messi': 2,\n",
            " 'pib': 13,\n",
            " 'ronaldo': 3,\n",
            " 'soccer': 4,\n",
            " 'ue': 14}\n",
            "\n",
            "Bolsa de Palabras:\n",
            "[[(0, 3), (1, 3), (2, 1), (3, 5), (4, 2)],\n",
            " [(2, 2), (3, 4), (4, 5)],\n",
            " [(1, 2), (2, 5), (4, 7)],\n",
            " [(5, 6), (6, 4), (7, 5)],\n",
            " [(5, 3), (6, 4), (7, 1), (8, 3), (9, 4)],\n",
            " [(6, 4), (8, 5), (9, 6)],\n",
            " [(10, 1), (11, 5), (12, 2), (13, 3), (14, 4)],\n",
            " [(7, 1), (8, 1), (10, 4), (11, 4), (13, 1), (14, 4)],\n",
            " [(5, 1), (7, 1), (8, 1), (9, 1), (10, 4), (11, 4), (14, 3)],\n",
            " [(4, 1), (6, 1), (13, 1)],\n",
            " [(0, 1), (4, 1), (7, 1), (8, 1)]]\n"
          ]
        }
      ],
      "source": [
        "# para imprimir de otra forma\n",
        "from pprint import pprint\n",
        "# diccionario de gensim\n",
        "from gensim import corpora\n",
        "from collections import defaultdict\n",
        "\n",
        "# Tokenizamos\n",
        "documents = [word.split() for word in documento]\n",
        "\n",
        "# Creamos el diccionario (vocabulario)\n",
        "frequency = defaultdict(int)\n",
        "for doc in documents:\n",
        "    for token in doc:\n",
        "        frequency[token] += 1\n",
        "        \n",
        "documents = [[token for token in doc] for doc in documents]\n",
        "dictionary = corpora.Dictionary(documents)\n",
        "print('Diccionario:')\n",
        "pprint(dictionary.token2id)\n",
        "\n",
        "# Creamos la Bolsa de Palabras\n",
        "corpus = [dictionary.doc2bow(doc) for doc in documents]\n",
        "print('\\nBolsa de Palabras:')\n",
        "pprint(corpus)"
      ]
    },
    {
      "cell_type": "markdown",
      "metadata": {
        "id": "9eJrvZqREb3t"
      },
      "source": [
        "# Creación del modelo\n",
        "\n",
        "- La librería Gensim tiene ***LSI*** en **LSiModel**\n",
        "\n",
        "- Requerimos\n",
        "\n",
        "   - Corpus\n",
        "\n",
        "   - Número de temas\n",
        "\n",
        "   - Diccionario o vocabulario del corpus"
      ]
    },
    {
      "cell_type": "code",
      "execution_count": 6,
      "metadata": {
        "id": "yCAjICK0FpMC"
      },
      "outputs": [],
      "source": [
        "from gensim.models import LsiModel\n",
        "lsi_model = LsiModel(corpus=corpus, num_topics=3, id2word=dictionary)"
      ]
    },
    {
      "cell_type": "markdown",
      "metadata": {
        "id": "iY99yYcuE0_U"
      },
      "source": [
        "- Vamos a ver la matriz ***$U$***\n",
        "\n",
        "- Esta matriz tiene los ***factores latentes de cada una de las palabras***"
      ]
    },
    {
      "cell_type": "code",
      "execution_count": 7,
      "metadata": {
        "colab": {
          "base_uri": "https://localhost:8080/"
        },
        "id": "JS0iHg4UFtDa",
        "outputId": "2296d536-0e81-4421-a5c2-1f6f71229a63"
      },
      "outputs": [
        {
          "data": {
            "text/plain": [
              "array([[ 0.0080157 , -0.12147793, -0.00477548],\n",
              "       [ 0.00764122, -0.23838329, -0.01351154],\n",
              "       [ 0.01436787, -0.44343298, -0.02506618],\n",
              "       [ 0.01216459, -0.38311209, -0.02178312],\n",
              "       [ 0.03238081, -0.76194106, -0.03952318],\n",
              "       [ 0.34610872,  0.00491806,  0.20925565],\n",
              "       [ 0.45080378, -0.00342558,  0.35923484],\n",
              "       [ 0.26841352,  0.00105663,  0.07889487],\n",
              "       [ 0.37700371,  0.00176928,  0.1817653 ],\n",
              "       [ 0.42300698,  0.00545779,  0.28893431],\n",
              "       [ 0.25466521,  0.03058342, -0.36521087],\n",
              "       [ 0.34588865,  0.04406739, -0.55200635],\n",
              "       [ 0.04561172,  0.00674199, -0.09339774],\n",
              "       [ 0.09993979,  0.00781257, -0.18348589],\n",
              "       [ 0.29289059,  0.03742915, -0.47017643]])"
            ]
          },
          "execution_count": 7,
          "metadata": {},
          "output_type": "execute_result"
        }
      ],
      "source": [
        "U_matrix = lsi_model.projection.u\n",
        "U_matrix"
      ]
    },
    {
      "cell_type": "markdown",
      "metadata": {
        "id": "4ZvyYnCzFEr7"
      },
      "source": [
        "Podemos ver los factores asociados a cada palabra"
      ]
    },
    {
      "cell_type": "code",
      "execution_count": 8,
      "metadata": {
        "colab": {
          "base_uri": "https://localhost:8080/",
          "height": 519
        },
        "id": "6ijThR6cFwd0",
        "outputId": "8775738c-d877-4294-8105-82f8fc7d1665"
      },
      "outputs": [
        {
          "data": {
            "text/html": [
              "<div>\n",
              "<style scoped>\n",
              "    .dataframe tbody tr th:only-of-type {\n",
              "        vertical-align: middle;\n",
              "    }\n",
              "\n",
              "    .dataframe tbody tr th {\n",
              "        vertical-align: top;\n",
              "    }\n",
              "\n",
              "    .dataframe thead th {\n",
              "        text-align: right;\n",
              "    }\n",
              "</style>\n",
              "<table border=\"1\" class=\"dataframe\">\n",
              "  <thead>\n",
              "    <tr style=\"text-align: right;\">\n",
              "      <th></th>\n",
              "      <th>Topic 1</th>\n",
              "      <th>Topic 2</th>\n",
              "      <th>Topic 3</th>\n",
              "    </tr>\n",
              "  </thead>\n",
              "  <tbody>\n",
              "    <tr>\n",
              "      <th>campeonato</th>\n",
              "      <td>0.01</td>\n",
              "      <td>-0.12</td>\n",
              "      <td>-0.00</td>\n",
              "    </tr>\n",
              "    <tr>\n",
              "      <th>juego</th>\n",
              "      <td>0.01</td>\n",
              "      <td>-0.24</td>\n",
              "      <td>-0.01</td>\n",
              "    </tr>\n",
              "    <tr>\n",
              "      <th>messi</th>\n",
              "      <td>0.01</td>\n",
              "      <td>-0.44</td>\n",
              "      <td>-0.03</td>\n",
              "    </tr>\n",
              "    <tr>\n",
              "      <th>ronaldo</th>\n",
              "      <td>0.01</td>\n",
              "      <td>-0.38</td>\n",
              "      <td>-0.02</td>\n",
              "    </tr>\n",
              "    <tr>\n",
              "      <th>soccer</th>\n",
              "      <td>0.03</td>\n",
              "      <td>-0.76</td>\n",
              "      <td>-0.04</td>\n",
              "    </tr>\n",
              "    <tr>\n",
              "      <th>MEN</th>\n",
              "      <td>0.35</td>\n",
              "      <td>0.00</td>\n",
              "      <td>0.21</td>\n",
              "    </tr>\n",
              "    <tr>\n",
              "      <th>educacion</th>\n",
              "      <td>0.45</td>\n",
              "      <td>-0.00</td>\n",
              "      <td>0.36</td>\n",
              "    </tr>\n",
              "    <tr>\n",
              "      <th>gaviria</th>\n",
              "      <td>0.27</td>\n",
              "      <td>0.00</td>\n",
              "      <td>0.08</td>\n",
              "    </tr>\n",
              "    <tr>\n",
              "      <th>colegios</th>\n",
              "      <td>0.38</td>\n",
              "      <td>0.00</td>\n",
              "      <td>0.18</td>\n",
              "    </tr>\n",
              "    <tr>\n",
              "      <th>deuda</th>\n",
              "      <td>0.42</td>\n",
              "      <td>0.01</td>\n",
              "      <td>0.29</td>\n",
              "    </tr>\n",
              "    <tr>\n",
              "      <th>dinero</th>\n",
              "      <td>0.25</td>\n",
              "      <td>0.03</td>\n",
              "      <td>-0.37</td>\n",
              "    </tr>\n",
              "    <tr>\n",
              "      <th>fmi</th>\n",
              "      <td>0.35</td>\n",
              "      <td>0.04</td>\n",
              "      <td>-0.55</td>\n",
              "    </tr>\n",
              "    <tr>\n",
              "      <th>ibex</th>\n",
              "      <td>0.05</td>\n",
              "      <td>0.01</td>\n",
              "      <td>-0.09</td>\n",
              "    </tr>\n",
              "    <tr>\n",
              "      <th>pib</th>\n",
              "      <td>0.10</td>\n",
              "      <td>0.01</td>\n",
              "      <td>-0.18</td>\n",
              "    </tr>\n",
              "    <tr>\n",
              "      <th>ue</th>\n",
              "      <td>0.29</td>\n",
              "      <td>0.04</td>\n",
              "      <td>-0.47</td>\n",
              "    </tr>\n",
              "  </tbody>\n",
              "</table>\n",
              "</div>"
            ],
            "text/plain": [
              "            Topic 1  Topic 2  Topic 3\n",
              "campeonato     0.01    -0.12    -0.00\n",
              "juego          0.01    -0.24    -0.01\n",
              "messi          0.01    -0.44    -0.03\n",
              "ronaldo        0.01    -0.38    -0.02\n",
              "soccer         0.03    -0.76    -0.04\n",
              "MEN            0.35     0.00     0.21\n",
              "educacion      0.45    -0.00     0.36\n",
              "gaviria        0.27     0.00     0.08\n",
              "colegios       0.38     0.00     0.18\n",
              "deuda          0.42     0.01     0.29\n",
              "dinero         0.25     0.03    -0.37\n",
              "fmi            0.35     0.04    -0.55\n",
              "ibex           0.05     0.01    -0.09\n",
              "pib            0.10     0.01    -0.18\n",
              "ue             0.29     0.04    -0.47"
            ]
          },
          "execution_count": 8,
          "metadata": {},
          "output_type": "execute_result"
        }
      ],
      "source": [
        "import pandas as pd\n",
        "pd.DataFrame(U_matrix, columns=['Topic 1', 'Topic 2', 'Topic 3'], \n",
        "             index=dictionary.token2id.keys()).head(15)"
      ]
    },
    {
      "cell_type": "markdown",
      "metadata": {
        "id": "tn57hRiJFo-Y"
      },
      "source": [
        "Ahora, veamos la matriz ***$S$***, la cual nos da la importancia de los **factores latentes**"
      ]
    },
    {
      "cell_type": "code",
      "execution_count": 9,
      "metadata": {
        "colab": {
          "base_uri": "https://localhost:8080/"
        },
        "id": "Kdmpec0cF2BG",
        "outputId": "4533a1fd-23bf-46d0-bc32-790e2ca3bea2"
      },
      "outputs": [
        {
          "data": {
            "text/plain": [
              "array([12.47067133, 11.39302903, 11.08980301])"
            ]
          },
          "execution_count": 9,
          "metadata": {},
          "output_type": "execute_result"
        }
      ],
      "source": [
        "S_matrix = lsi_model.projection.s\n",
        "S_matrix"
      ]
    },
    {
      "cell_type": "markdown",
      "metadata": {
        "id": "yFNWPFQRF2JI"
      },
      "source": [
        "Luego, la matriz ***$V$*** que tiene los **fcatores latentes de cada documento del corpus**."
      ]
    },
    {
      "cell_type": "code",
      "execution_count": 10,
      "metadata": {
        "colab": {
          "base_uri": "https://localhost:8080/"
        },
        "id": "iJrTkeUuF5ZK",
        "outputId": "d93b2a90-af69-4196-eb32-b0a81c721dc8"
      },
      "outputs": [
        {
          "data": {
            "text/plain": [
              "array([[ 0.01498903, -0.43556977, -0.02415635],\n",
              "       [ 0.01918888, -0.54673956, -0.03019718],\n",
              "       [ 0.02516204, -0.70459921, -0.03868565],\n",
              "       [ 0.41873726,  0.00185106,  0.27835911],\n",
              "       [ 0.47575577,  0.00256714,  0.34668193],\n",
              "       [ 0.49927348,  0.00244806,  0.36784891],\n",
              "       [ 0.28440438,  0.03840583, -0.51788127],\n",
              "       [ 0.3463434 ,  0.04028414, -0.49346234],\n",
              "       [ 0.37651704,  0.03722386, -0.38959647],\n",
              "       [ 0.04675966, -0.06649277,  0.01228388],\n",
              "       [ 0.05499413, -0.07729227,  0.01950995]])"
            ]
          },
          "execution_count": 10,
          "metadata": {},
          "output_type": "execute_result"
        }
      ],
      "source": [
        "from gensim.matutils import corpus2dense\n",
        "V_matrix = corpus2dense(lsi_model[corpus], len(lsi_model.projection.s)).T / lsi_model.projection.s \n",
        "V_matrix"
      ]
    },
    {
      "cell_type": "markdown",
      "metadata": {
        "id": "Uh42a8kZHaFV"
      },
      "source": [
        "De igual forma que con **$U$** hallamos los factores por documento"
      ]
    },
    {
      "cell_type": "code",
      "execution_count": 11,
      "metadata": {
        "colab": {
          "base_uri": "https://localhost:8080/",
          "height": 394
        },
        "id": "woieVvRtF8Jg",
        "outputId": "3e44d595-5331-4bab-c6e1-a17bedbfa3cf"
      },
      "outputs": [
        {
          "data": {
            "text/html": [
              "<div>\n",
              "<style scoped>\n",
              "    .dataframe tbody tr th:only-of-type {\n",
              "        vertical-align: middle;\n",
              "    }\n",
              "\n",
              "    .dataframe tbody tr th {\n",
              "        vertical-align: top;\n",
              "    }\n",
              "\n",
              "    .dataframe thead th {\n",
              "        text-align: right;\n",
              "    }\n",
              "</style>\n",
              "<table border=\"1\" class=\"dataframe\">\n",
              "  <thead>\n",
              "    <tr style=\"text-align: right;\">\n",
              "      <th></th>\n",
              "      <th>Topic 1</th>\n",
              "      <th>Topic 2</th>\n",
              "      <th>Topic 3</th>\n",
              "    </tr>\n",
              "  </thead>\n",
              "  <tbody>\n",
              "    <tr>\n",
              "      <th>doc 1</th>\n",
              "      <td>0.01</td>\n",
              "      <td>-0.44</td>\n",
              "      <td>-0.02</td>\n",
              "    </tr>\n",
              "    <tr>\n",
              "      <th>doc 2</th>\n",
              "      <td>0.02</td>\n",
              "      <td>-0.55</td>\n",
              "      <td>-0.03</td>\n",
              "    </tr>\n",
              "    <tr>\n",
              "      <th>doc 3</th>\n",
              "      <td>0.03</td>\n",
              "      <td>-0.70</td>\n",
              "      <td>-0.04</td>\n",
              "    </tr>\n",
              "    <tr>\n",
              "      <th>doc 4</th>\n",
              "      <td>0.42</td>\n",
              "      <td>0.00</td>\n",
              "      <td>0.28</td>\n",
              "    </tr>\n",
              "    <tr>\n",
              "      <th>doc 5</th>\n",
              "      <td>0.48</td>\n",
              "      <td>0.00</td>\n",
              "      <td>0.35</td>\n",
              "    </tr>\n",
              "    <tr>\n",
              "      <th>doc 6</th>\n",
              "      <td>0.50</td>\n",
              "      <td>0.00</td>\n",
              "      <td>0.37</td>\n",
              "    </tr>\n",
              "    <tr>\n",
              "      <th>doc 7</th>\n",
              "      <td>0.28</td>\n",
              "      <td>0.04</td>\n",
              "      <td>-0.52</td>\n",
              "    </tr>\n",
              "    <tr>\n",
              "      <th>doc 8</th>\n",
              "      <td>0.35</td>\n",
              "      <td>0.04</td>\n",
              "      <td>-0.49</td>\n",
              "    </tr>\n",
              "    <tr>\n",
              "      <th>doc 9</th>\n",
              "      <td>0.38</td>\n",
              "      <td>0.04</td>\n",
              "      <td>-0.39</td>\n",
              "    </tr>\n",
              "    <tr>\n",
              "      <th>doc 10</th>\n",
              "      <td>0.05</td>\n",
              "      <td>-0.07</td>\n",
              "      <td>0.01</td>\n",
              "    </tr>\n",
              "    <tr>\n",
              "      <th>doc 11</th>\n",
              "      <td>0.05</td>\n",
              "      <td>-0.08</td>\n",
              "      <td>0.02</td>\n",
              "    </tr>\n",
              "  </tbody>\n",
              "</table>\n",
              "</div>"
            ],
            "text/plain": [
              "        Topic 1  Topic 2  Topic 3\n",
              "doc 1      0.01    -0.44    -0.02\n",
              "doc 2      0.02    -0.55    -0.03\n",
              "doc 3      0.03    -0.70    -0.04\n",
              "doc 4      0.42     0.00     0.28\n",
              "doc 5      0.48     0.00     0.35\n",
              "doc 6      0.50     0.00     0.37\n",
              "doc 7      0.28     0.04    -0.52\n",
              "doc 8      0.35     0.04    -0.49\n",
              "doc 9      0.38     0.04    -0.39\n",
              "doc 10     0.05    -0.07     0.01\n",
              "doc 11     0.05    -0.08     0.02"
            ]
          },
          "execution_count": 11,
          "metadata": {},
          "output_type": "execute_result"
        }
      ],
      "source": [
        "index = ['doc {}'.format(i+1) for i,doc in enumerate(documents)]\n",
        "pd.DataFrame(V_matrix, index=index, columns=['Topic 1', 'Topic 2', 'Topic 3'])"
      ]
    },
    {
      "cell_type": "markdown",
      "metadata": {
        "id": "yQnawDMoHq_X"
      },
      "source": [
        "¿Que podemos indicar?\n",
        "\n",
        "- El valor de los factores guarda alguna relación con el tema que se trata en el documento. \n",
        "\n",
        "   - (doc4, doc5, doc6) guardan relación con el tópico 1 y están relacionados.\n",
        "\n",
        "   - (doc1, doc2, doc3) guardan relación con el tópico 2.\n",
        "\n",
        "- Palabras características de cada tema tienen valores latentes similares\n",
        "\n",
        "- Si graficamos factores latentes de palabras y documentos (factores 2 y 3) están muy cerca entre cada uno de ellos. \n"
      ]
    },
    {
      "cell_type": "markdown",
      "metadata": {
        "id": "qgluAzqyFlpA"
      },
      "source": [
        "Veamos la gráfica"
      ]
    },
    {
      "cell_type": "code",
      "execution_count": 12,
      "metadata": {
        "colab": {
          "base_uri": "https://localhost:8080/",
          "height": 394
        },
        "id": "_e4Gli6MH4ZS",
        "outputId": "6963b4a5-d46c-4978-ecf8-4fe242f53aed"
      },
      "outputs": [
        {
          "data": {
            "text/html": [
              "<div>\n",
              "<style scoped>\n",
              "    .dataframe tbody tr th:only-of-type {\n",
              "        vertical-align: middle;\n",
              "    }\n",
              "\n",
              "    .dataframe tbody tr th {\n",
              "        vertical-align: top;\n",
              "    }\n",
              "\n",
              "    .dataframe thead th {\n",
              "        text-align: right;\n",
              "    }\n",
              "</style>\n",
              "<table border=\"1\" class=\"dataframe\">\n",
              "  <thead>\n",
              "    <tr style=\"text-align: right;\">\n",
              "      <th></th>\n",
              "      <th>f2</th>\n",
              "      <th>f3</th>\n",
              "      <th>group</th>\n",
              "    </tr>\n",
              "  </thead>\n",
              "  <tbody>\n",
              "    <tr>\n",
              "      <th>0</th>\n",
              "      <td>-0.44</td>\n",
              "      <td>-0.02</td>\n",
              "      <td>Doc 1</td>\n",
              "    </tr>\n",
              "    <tr>\n",
              "      <th>1</th>\n",
              "      <td>-0.55</td>\n",
              "      <td>-0.03</td>\n",
              "      <td>Doc 2</td>\n",
              "    </tr>\n",
              "    <tr>\n",
              "      <th>2</th>\n",
              "      <td>-0.70</td>\n",
              "      <td>-0.04</td>\n",
              "      <td>Doc 3</td>\n",
              "    </tr>\n",
              "    <tr>\n",
              "      <th>3</th>\n",
              "      <td>0.00</td>\n",
              "      <td>0.28</td>\n",
              "      <td>Doc 4</td>\n",
              "    </tr>\n",
              "    <tr>\n",
              "      <th>4</th>\n",
              "      <td>0.00</td>\n",
              "      <td>0.35</td>\n",
              "      <td>Doc 5</td>\n",
              "    </tr>\n",
              "    <tr>\n",
              "      <th>5</th>\n",
              "      <td>0.00</td>\n",
              "      <td>0.37</td>\n",
              "      <td>Doc 6</td>\n",
              "    </tr>\n",
              "    <tr>\n",
              "      <th>6</th>\n",
              "      <td>0.04</td>\n",
              "      <td>-0.52</td>\n",
              "      <td>Doc 7</td>\n",
              "    </tr>\n",
              "    <tr>\n",
              "      <th>7</th>\n",
              "      <td>0.04</td>\n",
              "      <td>-0.49</td>\n",
              "      <td>Doc 8</td>\n",
              "    </tr>\n",
              "    <tr>\n",
              "      <th>8</th>\n",
              "      <td>0.04</td>\n",
              "      <td>-0.39</td>\n",
              "      <td>Doc 9</td>\n",
              "    </tr>\n",
              "    <tr>\n",
              "      <th>9</th>\n",
              "      <td>-0.07</td>\n",
              "      <td>0.01</td>\n",
              "      <td>Doc 10</td>\n",
              "    </tr>\n",
              "    <tr>\n",
              "      <th>10</th>\n",
              "      <td>-0.08</td>\n",
              "      <td>0.02</td>\n",
              "      <td>Doc 11</td>\n",
              "    </tr>\n",
              "  </tbody>\n",
              "</table>\n",
              "</div>"
            ],
            "text/plain": [
              "      f2    f3   group\n",
              "0  -0.44 -0.02   Doc 1\n",
              "1  -0.55 -0.03   Doc 2\n",
              "2  -0.70 -0.04   Doc 3\n",
              "3   0.00  0.28   Doc 4\n",
              "4   0.00  0.35   Doc 5\n",
              "5   0.00  0.37   Doc 6\n",
              "6   0.04 -0.52   Doc 7\n",
              "7   0.04 -0.49   Doc 8\n",
              "8   0.04 -0.39   Doc 9\n",
              "9  -0.07  0.01  Doc 10\n",
              "10 -0.08  0.02  Doc 11"
            ]
          },
          "execution_count": 12,
          "metadata": {},
          "output_type": "execute_result"
        }
      ],
      "source": [
        "import seaborn as sns\n",
        "import matplotlib.pyplot as plt\n",
        "%matplotlib inline\n",
        "\n",
        "df = pd.DataFrame({'f2': V_matrix[:,1], 'f3': V_matrix[:,2],\n",
        "                   'group': ['Doc {}'.format(i+1) for i,doc in enumerate(documents)]})\n",
        "\n",
        "df"
      ]
    },
    {
      "cell_type": "code",
      "execution_count": 13,
      "metadata": {
        "id": "Dqb6KscTurU3"
      },
      "outputs": [],
      "source": [
        "df = pd.DataFrame({'f2': V_matrix[:,1], 'f3': V_matrix[:,2],\n",
        "                   'group': ['Doc {}'.format(i+1) for i,doc in enumerate(documents)]})"
      ]
    },
    {
      "cell_type": "code",
      "execution_count": 14,
      "metadata": {
        "colab": {
          "base_uri": "https://localhost:8080/",
          "height": 394
        },
        "id": "KKXFCCj1usbG",
        "outputId": "f5f6c8fc-ed5e-44d8-d6f6-d1d0c37704c1"
      },
      "outputs": [
        {
          "data": {
            "text/html": [
              "<div>\n",
              "<style scoped>\n",
              "    .dataframe tbody tr th:only-of-type {\n",
              "        vertical-align: middle;\n",
              "    }\n",
              "\n",
              "    .dataframe tbody tr th {\n",
              "        vertical-align: top;\n",
              "    }\n",
              "\n",
              "    .dataframe thead th {\n",
              "        text-align: right;\n",
              "    }\n",
              "</style>\n",
              "<table border=\"1\" class=\"dataframe\">\n",
              "  <thead>\n",
              "    <tr style=\"text-align: right;\">\n",
              "      <th></th>\n",
              "      <th>f2</th>\n",
              "      <th>f3</th>\n",
              "      <th>group</th>\n",
              "    </tr>\n",
              "  </thead>\n",
              "  <tbody>\n",
              "    <tr>\n",
              "      <th>0</th>\n",
              "      <td>-0.44</td>\n",
              "      <td>-0.02</td>\n",
              "      <td>Doc 1</td>\n",
              "    </tr>\n",
              "    <tr>\n",
              "      <th>1</th>\n",
              "      <td>-0.55</td>\n",
              "      <td>-0.03</td>\n",
              "      <td>Doc 2</td>\n",
              "    </tr>\n",
              "    <tr>\n",
              "      <th>2</th>\n",
              "      <td>-0.70</td>\n",
              "      <td>-0.04</td>\n",
              "      <td>Doc 3</td>\n",
              "    </tr>\n",
              "    <tr>\n",
              "      <th>3</th>\n",
              "      <td>0.00</td>\n",
              "      <td>0.28</td>\n",
              "      <td>Doc 4</td>\n",
              "    </tr>\n",
              "    <tr>\n",
              "      <th>4</th>\n",
              "      <td>0.00</td>\n",
              "      <td>0.35</td>\n",
              "      <td>Doc 5</td>\n",
              "    </tr>\n",
              "    <tr>\n",
              "      <th>5</th>\n",
              "      <td>0.00</td>\n",
              "      <td>0.37</td>\n",
              "      <td>Doc 6</td>\n",
              "    </tr>\n",
              "    <tr>\n",
              "      <th>6</th>\n",
              "      <td>0.04</td>\n",
              "      <td>-0.52</td>\n",
              "      <td>Doc 7</td>\n",
              "    </tr>\n",
              "    <tr>\n",
              "      <th>7</th>\n",
              "      <td>0.04</td>\n",
              "      <td>-0.49</td>\n",
              "      <td>Doc 8</td>\n",
              "    </tr>\n",
              "    <tr>\n",
              "      <th>8</th>\n",
              "      <td>0.04</td>\n",
              "      <td>-0.39</td>\n",
              "      <td>Doc 9</td>\n",
              "    </tr>\n",
              "    <tr>\n",
              "      <th>9</th>\n",
              "      <td>-0.07</td>\n",
              "      <td>0.01</td>\n",
              "      <td>Doc 10</td>\n",
              "    </tr>\n",
              "    <tr>\n",
              "      <th>10</th>\n",
              "      <td>-0.08</td>\n",
              "      <td>0.02</td>\n",
              "      <td>Doc 11</td>\n",
              "    </tr>\n",
              "  </tbody>\n",
              "</table>\n",
              "</div>"
            ],
            "text/plain": [
              "      f2    f3   group\n",
              "0  -0.44 -0.02   Doc 1\n",
              "1  -0.55 -0.03   Doc 2\n",
              "2  -0.70 -0.04   Doc 3\n",
              "3   0.00  0.28   Doc 4\n",
              "4   0.00  0.35   Doc 5\n",
              "5   0.00  0.37   Doc 6\n",
              "6   0.04 -0.52   Doc 7\n",
              "7   0.04 -0.49   Doc 8\n",
              "8   0.04 -0.39   Doc 9\n",
              "9  -0.07  0.01  Doc 10\n",
              "10 -0.08  0.02  Doc 11"
            ]
          },
          "execution_count": 14,
          "metadata": {},
          "output_type": "execute_result"
        }
      ],
      "source": [
        "df"
      ]
    },
    {
      "cell_type": "code",
      "execution_count": 15,
      "metadata": {
        "colab": {
          "base_uri": "https://localhost:8080/",
          "height": 475
        },
        "id": "WiuTIIptGBvq",
        "outputId": "d346454c-351c-40b1-fe31-71f8910caf13"
      },
      "outputs": [
        {
          "data": {
            "image/png": "[encoded data removed]",
            "text/plain": [
              "<Figure size 864x432 with 1 Axes>"
            ]
          },
          "metadata": {
            "needs_background": "light"
          },
          "output_type": "display_data"
        }
      ],
      "source": [
        "import seaborn as sns\n",
        "import matplotlib.pyplot as plt\n",
        "%matplotlib inline\n",
        "\n",
        "df = pd.DataFrame({'f2': V_matrix[:,1], 'f3': V_matrix[:,2],\n",
        "                   'group': ['Doc {}'.format(i+1) for i,doc in enumerate(documents)]})\n",
        "\n",
        "sns.lmplot(data = df, x= \"f2\" , y = \"f3\", fit_reg=False, height=6, aspect=2)\n",
        "\n",
        "plt.title('Representación de los documentos (Factores 2 y 3)')\n",
        "plt.xlabel('Factor 2')\n",
        "plt.ylabel('Factor 3')\n",
        "\n",
        "def label_point(x, y, val, ax):\n",
        "    a = pd.concat({'x': x, 'y': y, 'val': val}, axis=1)\n",
        "    for i, point in a.iterrows():\n",
        "        ax.text(point['x']+.02, point['y'], str(point['val']))\n",
        "        \n",
        "label_point(df.f2, df.f3, df.group, plt.gca())"
      ]
    },
    {
      "cell_type": "code",
      "execution_count": 16,
      "metadata": {
        "colab": {
          "base_uri": "https://localhost:8080/",
          "height": 478
        },
        "id": "TE686fRoJur2",
        "outputId": "c0f97099-c572-4121-e24e-bfbc69b5c192"
      },
      "outputs": [
        {
          "data": {
            "image/png": "[encoded data removed]",
            "text/plain": [
              "<Figure size 864x432 with 1 Axes>"
            ]
          },
          "metadata": {
            "needs_background": "light"
          },
          "output_type": "display_data"
        }
      ],
      "source": [
        "df = pd.DataFrame({'f2': U_matrix[:,1], 'f3': U_matrix[:,2],\n",
        "                   'group': [word for word in dictionary.token2id.keys()]})\n",
        "\n",
        "sns.lmplot(data = df, x= \"f2\" , y = \"f3\", fit_reg=False, height=6, aspect=2)\n",
        "\n",
        "plt.title('Representación de los documentos (Factores 2 y 3)')\n",
        "plt.xlabel('Factor 2')\n",
        "plt.ylabel('Factor 3')\n",
        "\n",
        "def label_point(x, y, val, ax):\n",
        "    a = pd.concat({'x': x, 'y': y, 'val': val}, axis=1)\n",
        "    for i, point in a.iterrows():\n",
        "        ax.text(point['x']+.02, point['y'], str(point['val']))\n",
        "        \n",
        "label_point(df.f2, df.f3, df.group, plt.gca())"
      ]
    },
    {
      "cell_type": "markdown",
      "metadata": {
        "id": "8xG67Bl7JbXY"
      },
      "source": [
        "Gensim nos muestra una fórmula por tema.\n",
        "\n",
        "- Esta indica el grado de pertenencia a un determinado tema \n",
        "\n",
        "- El valor más grande hay más posibildidad de aparcer en ese tema"
      ]
    },
    {
      "cell_type": "code",
      "execution_count": 17,
      "metadata": {
        "colab": {
          "base_uri": "https://localhost:8080/"
        },
        "id": "j9jc7JDvJgv_",
        "outputId": "e809b7b9-f8e2-42c9-8140-41d75219fcf9"
      },
      "outputs": [
        {
          "data": {
            "text/plain": [
              "[(0,\n",
              "  '0.451*\"educacion\" + 0.423*\"deuda\" + 0.377*\"colegios\" + 0.346*\"MEN\" + 0.346*\"fmi\" + 0.293*\"ue\" + 0.268*\"gaviria\" + 0.255*\"dinero\" + 0.100*\"pib\" + 0.046*\"ibex\"'),\n",
              " (1,\n",
              "  '-0.762*\"soccer\" + -0.443*\"messi\" + -0.383*\"ronaldo\" + -0.238*\"juego\" + -0.121*\"campeonato\" + 0.044*\"fmi\" + 0.037*\"ue\" + 0.031*\"dinero\" + 0.008*\"pib\" + 0.007*\"ibex\"'),\n",
              " (2,\n",
              "  '-0.552*\"fmi\" + -0.470*\"ue\" + -0.365*\"dinero\" + 0.359*\"educacion\" + 0.289*\"deuda\" + 0.209*\"MEN\" + -0.183*\"pib\" + 0.182*\"colegios\" + -0.093*\"ibex\" + 0.079*\"gaviria\"')]"
            ]
          },
          "execution_count": 17,
          "metadata": {},
          "output_type": "execute_result"
        }
      ],
      "source": [
        "lsi_model.print_topics()"
      ]
    },
    {
      "cell_type": "markdown",
      "metadata": {
        "id": "hdh0kk-CJ-Ge"
      },
      "source": [
        "# Ejemplo\n",
        "\n",
        "- Podemos asignar un tema a un documento nuevo\n",
        "\n",
        "- Se debe calcular los fcatores latentes del nuevo documento en función del vector de apariciones de palabras y calcular la similaridad con el resto de documentos en función de sus factores latentes.\n",
        "\n",
        "- Usamos la fórmula\n",
        "\n",
        "$$FactoresLatentes(new) = VectorPalabras(new). U_k S^{-1}$$"
      ]
    },
    {
      "cell_type": "code",
      "execution_count": 18,
      "metadata": {
        "id": "B6nM0SnnL2Co"
      },
      "outputs": [],
      "source": [
        "new_doc = \"soccer soccer messi colegios educacion educacion educacion MEN\"\n",
        "new_vec = dictionary.doc2bow(new_doc.split())"
      ]
    },
    {
      "cell_type": "code",
      "execution_count": 19,
      "metadata": {
        "colab": {
          "base_uri": "https://localhost:8080/",
          "height": 143
        },
        "id": "PD6nknSAMHeV",
        "outputId": "31038d1d-7a54-4fcd-df65-1da6fa4be4c9"
      },
      "outputs": [
        {
          "data": {
            "text/html": [
              "<div>\n",
              "<style scoped>\n",
              "    .dataframe tbody tr th:only-of-type {\n",
              "        vertical-align: middle;\n",
              "    }\n",
              "\n",
              "    .dataframe tbody tr th {\n",
              "        vertical-align: top;\n",
              "    }\n",
              "\n",
              "    .dataframe thead th {\n",
              "        text-align: right;\n",
              "    }\n",
              "</style>\n",
              "<table border=\"1\" class=\"dataframe\">\n",
              "  <thead>\n",
              "    <tr style=\"text-align: right;\">\n",
              "      <th></th>\n",
              "      <th></th>\n",
              "      <th>Valor</th>\n",
              "    </tr>\n",
              "  </thead>\n",
              "  <tbody>\n",
              "    <tr>\n",
              "      <th>Topic 1</th>\n",
              "      <td>0</td>\n",
              "      <td>2.15</td>\n",
              "    </tr>\n",
              "    <tr>\n",
              "      <th>Topic 2</th>\n",
              "      <td>1</td>\n",
              "      <td>-1.97</td>\n",
              "    </tr>\n",
              "    <tr>\n",
              "      <th>Topic 3</th>\n",
              "      <td>2</td>\n",
              "      <td>1.36</td>\n",
              "    </tr>\n",
              "  </tbody>\n",
              "</table>\n",
              "</div>"
            ],
            "text/plain": [
              "            Valor\n",
              "Topic 1  0   2.15\n",
              "Topic 2  1  -1.97\n",
              "Topic 3  2   1.36"
            ]
          },
          "execution_count": 19,
          "metadata": {},
          "output_type": "execute_result"
        }
      ],
      "source": [
        "# Obtenemos los factores latentes del nuevo documento\n",
        "vec_lsi = lsi_model[new_vec]\n",
        "\n",
        "pd.DataFrame(vec_lsi, index=['Topic 1', 'Topic 2', 'Topic 3'], columns=['', 'Valor']).head()"
      ]
    },
    {
      "cell_type": "markdown",
      "metadata": {
        "id": "0UPh3ElAMNLb"
      },
      "source": [
        "Luego calculamos las similaridades entre documentos"
      ]
    },
    {
      "cell_type": "code",
      "execution_count": 20,
      "metadata": {
        "colab": {
          "base_uri": "https://localhost:8080/",
          "height": 431
        },
        "id": "IMje5GpSMQ-1",
        "outputId": "19dae844-e556-47bd-f092-af482c60a2e2"
      },
      "outputs": [
        {
          "data": {
            "text/html": [
              "<div>\n",
              "<style scoped>\n",
              "    .dataframe tbody tr th:only-of-type {\n",
              "        vertical-align: middle;\n",
              "    }\n",
              "\n",
              "    .dataframe tbody tr th {\n",
              "        vertical-align: top;\n",
              "    }\n",
              "\n",
              "    .dataframe thead th {\n",
              "        text-align: right;\n",
              "    }\n",
              "</style>\n",
              "<table border=\"1\" class=\"dataframe\">\n",
              "  <thead>\n",
              "    <tr style=\"text-align: right;\">\n",
              "      <th></th>\n",
              "      <th>Documento (indice)</th>\n",
              "      <th>Similaridad</th>\n",
              "    </tr>\n",
              "  </thead>\n",
              "  <tbody>\n",
              "    <tr>\n",
              "      <th>0</th>\n",
              "      <td>10</td>\n",
              "      <td>0.96</td>\n",
              "    </tr>\n",
              "    <tr>\n",
              "      <th>1</th>\n",
              "      <td>9</td>\n",
              "      <td>0.94</td>\n",
              "    </tr>\n",
              "    <tr>\n",
              "      <th>2</th>\n",
              "      <td>5</td>\n",
              "      <td>0.79</td>\n",
              "    </tr>\n",
              "    <tr>\n",
              "      <th>3</th>\n",
              "      <td>3</td>\n",
              "      <td>0.79</td>\n",
              "    </tr>\n",
              "    <tr>\n",
              "      <th>4</th>\n",
              "      <td>4</td>\n",
              "      <td>0.79</td>\n",
              "    </tr>\n",
              "    <tr>\n",
              "      <th>5</th>\n",
              "      <td>2</td>\n",
              "      <td>0.61</td>\n",
              "    </tr>\n",
              "    <tr>\n",
              "      <th>6</th>\n",
              "      <td>1</td>\n",
              "      <td>0.61</td>\n",
              "    </tr>\n",
              "    <tr>\n",
              "      <th>7</th>\n",
              "      <td>0</td>\n",
              "      <td>0.61</td>\n",
              "    </tr>\n",
              "    <tr>\n",
              "      <th>8</th>\n",
              "      <td>8</td>\n",
              "      <td>0.16</td>\n",
              "    </tr>\n",
              "    <tr>\n",
              "      <th>9</th>\n",
              "      <td>7</td>\n",
              "      <td>0.04</td>\n",
              "    </tr>\n",
              "    <tr>\n",
              "      <th>10</th>\n",
              "      <td>6</td>\n",
              "      <td>-0.05</td>\n",
              "    </tr>\n",
              "  </tbody>\n",
              "</table>\n",
              "</div>"
            ],
            "text/plain": [
              "    Documento (indice)  Similaridad\n",
              "0                   10         0.96\n",
              "1                    9         0.94\n",
              "2                    5         0.79\n",
              "3                    3         0.79\n",
              "4                    4         0.79\n",
              "5                    2         0.61\n",
              "6                    1         0.61\n",
              "7                    0         0.61\n",
              "8                    8         0.16\n",
              "9                    7         0.04\n",
              "10                   6        -0.05"
            ]
          },
          "execution_count": 20,
          "metadata": {},
          "output_type": "execute_result"
        }
      ],
      "source": [
        "from gensim import similarities\n",
        "\n",
        "# Calcular las similaridades\n",
        "index = similarities.MatrixSimilarity(lsi_model[corpus])\n",
        "sims = index[vec_lsi]\n",
        "sims = sorted(enumerate(sims), key=lambda item: -item[1])\n",
        "\n",
        "pd.DataFrame(sims, columns=['Documento (indice)', 'Similaridad']).head(11)"
      ]
    },
    {
      "cell_type": "markdown",
      "metadata": {
        "id": "YAm1w-xFMZME"
      },
      "source": [
        "Vemos que tiene mayor similaridad con los documentos 0, 1 y 2 que hablan de soccer."
      ]
    },
    {
      "cell_type": "markdown",
      "metadata": {
        "id": "pTessBr1qbtK"
      },
      "source": [
        "# LDA: Latent Dirichlet Allocation\n",
        "\n",
        "\n",
        "* El LDA, es un ***modelo probabilístico*** que se enmarca dentro de los ***modelos generativos*** ya que trata de describir como se crea un documento. (http://www.jmlr.org/papers/volume3/blei03a/blei03a.pdf)\n",
        "\n",
        "\n",
        "* El LDA propone que ***un documento se crea mediante la selección de los temas y las palabras de acuerdo a las representaciones probabilísticas del texto natural del documento***.\n",
        "\n",
        "\n",
        "* El LDA calcula **dos matrices de probabilidad P(w|z) y P(z|θ)**, donde:\n",
        "\n",
        "    - **P(w|z)**: es la probabilidad de que dado un tema salga una palabra\n",
        "    - **P(z|θ)**: es la probabilidad de que un documento pertenezca a un tema.\n",
        "    \n",
        "$$ P(w|\\theta) = \\sum_{z \\in  Z} P(w | z) \\cdot P(z|\\theta) $$\n",
        "\n",
        "\n",
        "* La representación en \"*Plate Notation*\" o notación de placas del LDA es la siguiente:\n",
        "\n",
        "<center><img src=\"https://github.com/Fabian830348/cursos/blob/master/Imagen/LDA.png?raw=true\" alt=\"centered image\" width=\"500\" height=\"300\"></center>\n",
        "\n",
        "* Donde\n",
        "\n",
        "    + ***$K$***: Número de temas. \n",
        "    + ***$N$***: Número de palabras\n",
        "    + ***$M$***: Número de documentos: \n",
        "    + ***$\\alpha$***: Parámetro de Dirichlet. Este parámetro es un vector de $K$ componentes que describe el conocimiento a priori que se tiene sobre como los temas se distribuyen en los documentos. \n",
        "        * Pocos temas -> Valor de $\\alpha$ pequeño\n",
        "        * Muchos temas  -> Valor de $\\alpha$ grande\n",
        "    + ***$\\beta$***: Parámetro de Dirichlet. Este parámetro es un vector de $N$ componentes que describe el conocimiento a priori que se tiene sobre como las palabras se distribuyen en cada tema. \n",
        "        * Tema con pocas palabras -> Valor de $\\beta$ cercano a cero\n",
        "        * Tema con muchas palabras -> Valor de $\\beta$ cercano a uno\n",
        "    + ***$\\theta$***: Distribución de probabilidad de que un documento pertenezca a un tema. \n",
        "    + ***$Z$***: Distribución de probabilidad de que una palabra pertenezca a un tema. \n",
        "    + ***$W$***: Identifica todas las palabras en todos los documentos.\n",
        "    + ***$\\varphi$***: Distribución de probabilidad de que dado un tema salga una palabra.\n",
        "    \n",
        "* Haciendo la comparación con el LSI, el ***LDA nos tienen que proporcionar***:\n",
        "    - Matriz de probabilidades \"***Temas-Palabras***\": Nos indica la probabilidad de que dado un tema, salga una palabra. \n",
        "    - Matriz de probabilidades \"***Documentos-Temas***\": Nos indica la probabilidad de que un documento pertenezca a un tema.\n",
        "    \n",
        "    \n",
        "* De esta manera podemos ver las relaciones entre palabras y entre documentos.\n",
        "\n",
        "\n",
        "* ***OBSERVACIÓN IMPORTANTE***: *El LDA trabaja con distribuciones de probabilidad que representan la probabilidad de pertenencia de cada palabra o documento a cada tema. Estas distribuciones de probabilidad no tienen que ser tratadas como vectores de factores latentes (como en el LSI) para calcular similaridades entre documentos, ya que al tratarse de distribuciones de probabilidad no hay que aplicar medidas de distancias para calcular similaridades; si no la ***Divergencia de Kullback-Liebler (KL)*** para estudiar las similaridades entre distribuciones de probabilidad.*\n",
        "\n",
        "\n",
        "$$ KL(p ||q) = \\sum_{i}p(i)ln \\frac{p(i)}{q(i)} $$"
      ]
    },
    {
      "attachments": {},
      "cell_type": "markdown",
      "metadata": {
        "id": "gbCvr0_itAr1"
      },
      "source": [
        "Vamos a revisar el ejemplo que hicimos con LSI, ahora con LDA es con probabilidades y la distancia de logaritmo, encambio LSI es con Frecuencias y distancia euclidiana."
      ]
    },
    {
      "cell_type": "code",
      "execution_count": 21,
      "metadata": {
        "id": "CKeTbkQ8tNXi"
      },
      "outputs": [],
      "source": [
        "documento = [\"juego juego juego soccer soccer campeonato campeonato campeonato ronaldo ronaldo ronaldo ronaldo ronaldo messi\",\n",
        "      \"soccer soccer soccer soccer soccer ronaldo ronaldo ronaldo ronaldo messi messi\",\n",
        "      \"juego juego soccer soccer soccer soccer soccer soccer soccer messi messi messi messi messi\",\n",
        "      \"educacion educacion educacion educacion MEN MEN MEN MEN MEN MEN gaviria gaviria gaviria gaviria gaviria\",\n",
        "      \"educacion educacion educacion educacion MEN MEN MEN deuda deuda deuda deuda colegios colegios colegios gaviria\",\n",
        "      \"educacion educacion educacion educacion deuda deuda deuda deuda deuda deuda colegios colegios colegios colegios colegios\",\n",
        "      \"dinero fmi fmi fmi fmi fmi ue ue ue ue pib pib pib ibex ibex\",\n",
        "      \"colegios gaviria dinero dinero dinero dinero fmi fmi fmi fmi ue ue ue ue pib\",\n",
        "      \"MEN deuda colegios gaviria dinero dinero dinero dinero fmi fmi fmi fmi ue ue ue \",\n",
        "      \"soccer educacion pib\",\n",
        "      \"soccer colegios campeonato gaviria\"]"
      ]
    },
    {
      "cell_type": "markdown",
      "metadata": {
        "id": "f-bst97ZtUWc"
      },
      "source": [
        "Bolsa de palabras"
      ]
    },
    {
      "cell_type": "code",
      "execution_count": 22,
      "metadata": {
        "colab": {
          "base_uri": "https://localhost:8080/"
        },
        "id": "GFnzQW9XtTzU",
        "outputId": "f526e86f-dbc1-476a-d50f-4ced671115f6"
      },
      "outputs": [
        {
          "name": "stdout",
          "output_type": "stream",
          "text": [
            "Diccionario:\n",
            "{'MEN': 5,\n",
            " 'campeonato': 0,\n",
            " 'colegios': 8,\n",
            " 'deuda': 9,\n",
            " 'dinero': 10,\n",
            " 'educacion': 6,\n",
            " 'fmi': 11,\n",
            " 'gaviria': 7,\n",
            " 'ibex': 12,\n",
            " 'juego': 1,\n",
            " 'messi': 2,\n",
            " 'pib': 13,\n",
            " 'ronaldo': 3,\n",
            " 'soccer': 4,\n",
            " 'ue': 14}\n",
            "\n",
            "Bolsa de Palabras:\n",
            "[[(0, 3), (1, 3), (2, 1), (3, 5), (4, 2)],\n",
            " [(2, 2), (3, 4), (4, 5)],\n",
            " [(1, 2), (2, 5), (4, 7)],\n",
            " [(5, 6), (6, 4), (7, 5)],\n",
            " [(5, 3), (6, 4), (7, 1), (8, 3), (9, 4)],\n",
            " [(6, 4), (8, 5), (9, 6)],\n",
            " [(10, 1), (11, 5), (12, 2), (13, 3), (14, 4)],\n",
            " [(7, 1), (8, 1), (10, 4), (11, 4), (13, 1), (14, 4)],\n",
            " [(5, 1), (7, 1), (8, 1), (9, 1), (10, 4), (11, 4), (14, 3)],\n",
            " [(4, 1), (6, 1), (13, 1)],\n",
            " [(0, 1), (4, 1), (7, 1), (8, 1)]]\n"
          ]
        }
      ],
      "source": [
        "# Tokenizamos\n",
        "document = [word.split() for word in documento]\n",
        "\n",
        "# Creamos el diccionario (vocabulario)\n",
        "frequency = defaultdict(int)\n",
        "for doc in documents:\n",
        "    for token in doc:\n",
        "        frequency[token] += 1\n",
        "        \n",
        "documents = [[token for token in doc] for doc in documents]\n",
        "dictionary = corpora.Dictionary(documents)\n",
        "print('Diccionario:')\n",
        "pprint(dictionary.token2id)\n",
        "\n",
        "# Creamos la Bolsa de Palabras\n",
        "corpus = [dictionary.doc2bow(doc) for doc in documents]\n",
        "print('\\nBolsa de Palabras:')\n",
        "pprint(corpus)"
      ]
    },
    {
      "cell_type": "markdown",
      "metadata": {
        "id": "YtRyx4CovlqG"
      },
      "source": [
        "## Generación del Modelo:\n",
        "\n",
        "* Gensim tiene implementado el LDA en la clase ***LdaModel***: https://radimrehurek.com/gensim/models/ldamodel.html\n",
        "\n",
        "\n",
        "* Como parámetros relevantes necesita:\n",
        "    1. Corpus\n",
        "    2. Número de Topics\n",
        "    3. Diccionario o Vocabulario del Corpus"
      ]
    },
    {
      "cell_type": "code",
      "execution_count": 23,
      "metadata": {
        "id": "gihWigz-vlZs"
      },
      "outputs": [],
      "source": [
        "from gensim.models import LdaModel\n",
        "\n",
        "lda_model = LdaModel(corpus=corpus, \n",
        "                     num_topics=3, \n",
        "                     id2word=dictionary, \n",
        "                     random_state=168)"
      ]
    },
    {
      "attachments": {},
      "cell_type": "markdown",
      "metadata": {
        "id": "6UbTgWMXv26J"
      },
      "source": [
        "## Matriz de probabilidades \"***Documentos-Temas***\" - Matriz U \n",
        "\n",
        "* Obtenemos la probabilidad de que cada documento pertenezca a uno de los 3 temas de la siguiente manera:"
      ]
    },
    {
      "cell_type": "code",
      "execution_count": 24,
      "metadata": {
        "id": "iKO41f5Pv8Hl"
      },
      "outputs": [
        {
          "data": {
            "text/plain": [
              "array([[0.9554735 , 0.02226917, 0.02225735],\n",
              "       [0.9443553 , 0.0278324 , 0.02781233],\n",
              "       [0.955479  , 0.02226874, 0.02225227],\n",
              "       [0.02358868, 0.95468956, 0.02172177],\n",
              "       [0.02161127, 0.9571557 , 0.02123299],\n",
              "       [0.02107015, 0.95780784, 0.02112204],\n",
              "       [0.02093267, 0.02089469, 0.9581726 ],\n",
              "       [0.02132919, 0.02236205, 0.9563087 ],\n",
              "       [0.02175598, 0.10594875, 0.87229526],\n",
              "       [0.47131318, 0.26471367, 0.26397318],\n",
              "       [0.66139346, 0.26845714, 0.07014938]], dtype=float32)"
            ]
          },
          "execution_count": 24,
          "metadata": {},
          "output_type": "execute_result"
        }
      ],
      "source": [
        "import numpy as np\n",
        "docs_topics = np.array([[tup[1] for tup in lst] for lst in lda_model[corpus]])\n",
        "docs_topics"
      ]
    },
    {
      "cell_type": "markdown",
      "metadata": {
        "id": "Vj7ZSI-XwGZc"
      },
      "source": [
        "Se puede observar que:\n",
        "\n",
        "- Devuelve para cada documento la probabilidad de que el documento pertenezca a cada tema y que es un vector de probabilidades ya que la suma de las probabilidades es igual a $1$.\n",
        "\n",
        "- Para ver los factores de cada una de las palabras se hace lo siguiente:"
      ]
    },
    {
      "cell_type": "code",
      "execution_count": 25,
      "metadata": {
        "id": "92XoIQFlwS74"
      },
      "outputs": [
        {
          "data": {
            "text/html": [
              "<div>\n",
              "<style scoped>\n",
              "    .dataframe tbody tr th:only-of-type {\n",
              "        vertical-align: middle;\n",
              "    }\n",
              "\n",
              "    .dataframe tbody tr th {\n",
              "        vertical-align: top;\n",
              "    }\n",
              "\n",
              "    .dataframe thead th {\n",
              "        text-align: right;\n",
              "    }\n",
              "</style>\n",
              "<table border=\"1\" class=\"dataframe\">\n",
              "  <thead>\n",
              "    <tr style=\"text-align: right;\">\n",
              "      <th></th>\n",
              "      <th>Topic 1</th>\n",
              "      <th>Topic 2</th>\n",
              "      <th>Topic 3</th>\n",
              "    </tr>\n",
              "  </thead>\n",
              "  <tbody>\n",
              "    <tr>\n",
              "      <th>Doc 1</th>\n",
              "      <td>0.96</td>\n",
              "      <td>0.02</td>\n",
              "      <td>0.02</td>\n",
              "    </tr>\n",
              "    <tr>\n",
              "      <th>Doc 2</th>\n",
              "      <td>0.94</td>\n",
              "      <td>0.03</td>\n",
              "      <td>0.03</td>\n",
              "    </tr>\n",
              "    <tr>\n",
              "      <th>Doc 3</th>\n",
              "      <td>0.96</td>\n",
              "      <td>0.02</td>\n",
              "      <td>0.02</td>\n",
              "    </tr>\n",
              "    <tr>\n",
              "      <th>Doc 4</th>\n",
              "      <td>0.02</td>\n",
              "      <td>0.95</td>\n",
              "      <td>0.02</td>\n",
              "    </tr>\n",
              "    <tr>\n",
              "      <th>Doc 5</th>\n",
              "      <td>0.02</td>\n",
              "      <td>0.96</td>\n",
              "      <td>0.02</td>\n",
              "    </tr>\n",
              "    <tr>\n",
              "      <th>Doc 6</th>\n",
              "      <td>0.02</td>\n",
              "      <td>0.96</td>\n",
              "      <td>0.02</td>\n",
              "    </tr>\n",
              "    <tr>\n",
              "      <th>Doc 7</th>\n",
              "      <td>0.02</td>\n",
              "      <td>0.02</td>\n",
              "      <td>0.96</td>\n",
              "    </tr>\n",
              "    <tr>\n",
              "      <th>Doc 8</th>\n",
              "      <td>0.02</td>\n",
              "      <td>0.02</td>\n",
              "      <td>0.96</td>\n",
              "    </tr>\n",
              "    <tr>\n",
              "      <th>Doc 9</th>\n",
              "      <td>0.02</td>\n",
              "      <td>0.11</td>\n",
              "      <td>0.87</td>\n",
              "    </tr>\n",
              "    <tr>\n",
              "      <th>Doc 10</th>\n",
              "      <td>0.47</td>\n",
              "      <td>0.26</td>\n",
              "      <td>0.26</td>\n",
              "    </tr>\n",
              "    <tr>\n",
              "      <th>Doc 11</th>\n",
              "      <td>0.66</td>\n",
              "      <td>0.27</td>\n",
              "      <td>0.07</td>\n",
              "    </tr>\n",
              "  </tbody>\n",
              "</table>\n",
              "</div>"
            ],
            "text/plain": [
              "        Topic 1  Topic 2  Topic 3\n",
              "Doc 1      0.96     0.02     0.02\n",
              "Doc 2      0.94     0.03     0.03\n",
              "Doc 3      0.96     0.02     0.02\n",
              "Doc 4      0.02     0.95     0.02\n",
              "Doc 5      0.02     0.96     0.02\n",
              "Doc 6      0.02     0.96     0.02\n",
              "Doc 7      0.02     0.02     0.96\n",
              "Doc 8      0.02     0.02     0.96\n",
              "Doc 9      0.02     0.11     0.87\n",
              "Doc 10     0.47     0.26     0.26\n",
              "Doc 11     0.66     0.27     0.07"
            ]
          },
          "execution_count": 25,
          "metadata": {},
          "output_type": "execute_result"
        }
      ],
      "source": [
        "import pandas as pd\n",
        "pd.options.display.float_format = '{:,.2f}'.format\n",
        "index = ['Doc {}'.format(i+1) for i,doc in enumerate(documents)]\n",
        "pd.DataFrame(docs_topics, index=index, columns=['Topic 1', 'Topic 2', 'Topic 3']).head(11)"
      ]
    },
    {
      "attachments": {},
      "cell_type": "markdown",
      "metadata": {},
      "source": [
        "*Tarea: Corran el LDA 2500 documentos de 50 o 100*"
      ]
    },
    {
      "attachments": {},
      "cell_type": "markdown",
      "metadata": {
        "id": "Q3SC2pscwZ6Y"
      },
      "source": [
        "## Matriz de probabilidades \"***Temas-Palabras***\" - Matriz V\n",
        "\n",
        "\n",
        "* Obtenemos la probabilidad de que dado uno de los 3 temas aparezca una de las 15 palabras. Al igual que en la matriz anterior la suma de todas las probabilidades de las palabras en un tema tiene que sumar $1$.\n",
        "\n",
        "\n",
        "* A continuación obtenemos la probabilidad de que dado un tema aparezca una palabra:"
      ]
    },
    {
      "cell_type": "code",
      "execution_count": 26,
      "metadata": {
        "id": "rrngE5s3whsg"
      },
      "outputs": [
        {
          "data": {
            "text/plain": [
              "array([[0.07191384, 0.08909308, 0.13870065, 0.15540095, 0.26856995,\n",
              "        0.06613762, 0.05746238, 0.08111635, 0.02175318, 0.00639754,\n",
              "        0.00625349, 0.00662618, 0.0057096 , 0.01868422, 0.00618097],\n",
              "       [0.00883434, 0.00860135, 0.00886778, 0.00929843, 0.01410442,\n",
              "        0.13715622, 0.24607542, 0.06816371, 0.20073204, 0.24763939,\n",
              "        0.0089917 , 0.009497  , 0.00826988, 0.01391835, 0.00985007],\n",
              "       [0.00720722, 0.00698804, 0.00781871, 0.00761892, 0.00916188,\n",
              "        0.02773269, 0.0079182 , 0.04699612, 0.04775178, 0.02722945,\n",
              "        0.18444683, 0.2632963 , 0.046198  , 0.08595766, 0.22367825]],\n",
              "      dtype=float32)"
            ]
          },
          "execution_count": 26,
          "metadata": {},
          "output_type": "execute_result"
        }
      ],
      "source": [
        "words_topics = lda_model.get_topics()\n",
        "words_topics"
      ]
    },
    {
      "cell_type": "markdown",
      "metadata": {
        "id": "xaE-F6IWwjw2"
      },
      "source": [
        "Colocamos los resultados en una tabla"
      ]
    },
    {
      "cell_type": "code",
      "execution_count": 27,
      "metadata": {
        "id": "JWRfv3cEwmQr"
      },
      "outputs": [
        {
          "data": {
            "text/html": [
              "<div>\n",
              "<style scoped>\n",
              "    .dataframe tbody tr th:only-of-type {\n",
              "        vertical-align: middle;\n",
              "    }\n",
              "\n",
              "    .dataframe tbody tr th {\n",
              "        vertical-align: top;\n",
              "    }\n",
              "\n",
              "    .dataframe thead th {\n",
              "        text-align: right;\n",
              "    }\n",
              "</style>\n",
              "<table border=\"1\" class=\"dataframe\">\n",
              "  <thead>\n",
              "    <tr style=\"text-align: right;\">\n",
              "      <th></th>\n",
              "      <th>campeonato</th>\n",
              "      <th>juego</th>\n",
              "      <th>messi</th>\n",
              "      <th>ronaldo</th>\n",
              "      <th>soccer</th>\n",
              "      <th>MEN</th>\n",
              "      <th>educacion</th>\n",
              "      <th>gaviria</th>\n",
              "      <th>colegios</th>\n",
              "      <th>deuda</th>\n",
              "      <th>dinero</th>\n",
              "      <th>fmi</th>\n",
              "      <th>ibex</th>\n",
              "      <th>pib</th>\n",
              "      <th>ue</th>\n",
              "    </tr>\n",
              "  </thead>\n",
              "  <tbody>\n",
              "    <tr>\n",
              "      <th>Topic 1</th>\n",
              "      <td>0.07</td>\n",
              "      <td>0.09</td>\n",
              "      <td>0.14</td>\n",
              "      <td>0.16</td>\n",
              "      <td>0.27</td>\n",
              "      <td>0.07</td>\n",
              "      <td>0.06</td>\n",
              "      <td>0.08</td>\n",
              "      <td>0.02</td>\n",
              "      <td>0.01</td>\n",
              "      <td>0.01</td>\n",
              "      <td>0.01</td>\n",
              "      <td>0.01</td>\n",
              "      <td>0.02</td>\n",
              "      <td>0.01</td>\n",
              "    </tr>\n",
              "    <tr>\n",
              "      <th>Topic 2</th>\n",
              "      <td>0.01</td>\n",
              "      <td>0.01</td>\n",
              "      <td>0.01</td>\n",
              "      <td>0.01</td>\n",
              "      <td>0.01</td>\n",
              "      <td>0.14</td>\n",
              "      <td>0.25</td>\n",
              "      <td>0.07</td>\n",
              "      <td>0.20</td>\n",
              "      <td>0.25</td>\n",
              "      <td>0.01</td>\n",
              "      <td>0.01</td>\n",
              "      <td>0.01</td>\n",
              "      <td>0.01</td>\n",
              "      <td>0.01</td>\n",
              "    </tr>\n",
              "    <tr>\n",
              "      <th>Topic 3</th>\n",
              "      <td>0.01</td>\n",
              "      <td>0.01</td>\n",
              "      <td>0.01</td>\n",
              "      <td>0.01</td>\n",
              "      <td>0.01</td>\n",
              "      <td>0.03</td>\n",
              "      <td>0.01</td>\n",
              "      <td>0.05</td>\n",
              "      <td>0.05</td>\n",
              "      <td>0.03</td>\n",
              "      <td>0.18</td>\n",
              "      <td>0.26</td>\n",
              "      <td>0.05</td>\n",
              "      <td>0.09</td>\n",
              "      <td>0.22</td>\n",
              "    </tr>\n",
              "  </tbody>\n",
              "</table>\n",
              "</div>"
            ],
            "text/plain": [
              "         campeonato  juego  messi  ronaldo  soccer  MEN  educacion  gaviria  \\\n",
              "Topic 1        0.07   0.09   0.14     0.16    0.27 0.07       0.06     0.08   \n",
              "Topic 2        0.01   0.01   0.01     0.01    0.01 0.14       0.25     0.07   \n",
              "Topic 3        0.01   0.01   0.01     0.01    0.01 0.03       0.01     0.05   \n",
              "\n",
              "         colegios  deuda  dinero  fmi  ibex  pib   ue  \n",
              "Topic 1      0.02   0.01    0.01 0.01  0.01 0.02 0.01  \n",
              "Topic 2      0.20   0.25    0.01 0.01  0.01 0.01 0.01  \n",
              "Topic 3      0.05   0.03    0.18 0.26  0.05 0.09 0.22  "
            ]
          },
          "execution_count": 27,
          "metadata": {},
          "output_type": "execute_result"
        }
      ],
      "source": [
        "pd.DataFrame(words_topics, index=['Topic 1', 'Topic 2', 'Topic 3'], columns=dictionary.token2id.keys()).head()"
      ]
    },
    {
      "cell_type": "markdown",
      "metadata": {
        "id": "ST3vHqs3wqeS"
      },
      "source": [
        "## Palabras (terminos) más representativas de un tema (topic)\n",
        "\n",
        "Dado que podemos obtener la probabilidad de que dada una palabra (termino) esta pertenezca a un tema (topic), podemos obtener las palabras más representativas por topic de la siguiente manera:"
      ]
    },
    {
      "cell_type": "code",
      "execution_count": 28,
      "metadata": {
        "id": "Euf8d11mwqSl"
      },
      "outputs": [
        {
          "name": "stdout",
          "output_type": "stream",
          "text": [
            "\n",
            "Topic 1\n",
            "['soccer', 'ronaldo', 'messi', 'juego', 'gaviria']\n",
            "\n",
            "Topic 2\n",
            "['deuda', 'educacion', 'colegios', 'MEN', 'gaviria']\n",
            "\n",
            "Topic 3\n",
            "['fmi', 'ue', 'dinero', 'pib', 'colegios']\n"
          ]
        }
      ],
      "source": [
        "dictionary.id2token\n",
        "for i in range(3):\n",
        "    print('\\nTopic {i}'.format(i=i+1))\n",
        "    pprint([dictionary.id2token[term[0]] for term in lda_model.get_topic_terms(i)[0:5]])"
      ]
    },
    {
      "cell_type": "markdown",
      "metadata": {
        "id": "Lm1t2y_tw-g2"
      },
      "source": [
        "## Temas y Palabras\n",
        "\n",
        "* Gensim nos devuelve un \"formula\" por tema (Topic) que aplicada a las apariciones de las palabras en los documentos nos indica la pertenencia del nuevo documento a ese tema. El que mayor valor tenga tras aplicar la fórmula del tema al documento significará que tiene mayor propensión a pertenecer a ese tema.\n",
        "\n",
        "* Esa fórmula la construye como el sumatorio de la aparición de la palabra en el documento, multiplicado por la probabilidad de que en ese temá aparezca esa palabra:"
      ]
    },
    {
      "cell_type": "code",
      "execution_count": 29,
      "metadata": {
        "id": "J-Ib1YKtxHoy"
      },
      "outputs": [
        {
          "data": {
            "text/plain": [
              "[(0,\n",
              "  '0.269*\"soccer\" + 0.155*\"ronaldo\" + 0.139*\"messi\" + 0.089*\"juego\" + 0.081*\"gaviria\" + 0.072*\"campeonato\" + 0.066*\"MEN\" + 0.057*\"educacion\" + 0.022*\"colegios\" + 0.019*\"pib\" + 0.007*\"fmi\" + 0.006*\"deuda\" + 0.006*\"dinero\" + 0.006*\"ue\" + 0.006*\"ibex\"'),\n",
              " (1,\n",
              "  '0.248*\"deuda\" + 0.246*\"educacion\" + 0.201*\"colegios\" + 0.137*\"MEN\" + 0.068*\"gaviria\" + 0.014*\"soccer\" + 0.014*\"pib\" + 0.010*\"ue\" + 0.009*\"fmi\" + 0.009*\"ronaldo\" + 0.009*\"dinero\" + 0.009*\"messi\" + 0.009*\"campeonato\" + 0.009*\"juego\" + 0.008*\"ibex\"'),\n",
              " (2,\n",
              "  '0.263*\"fmi\" + 0.224*\"ue\" + 0.184*\"dinero\" + 0.086*\"pib\" + 0.048*\"colegios\" + 0.047*\"gaviria\" + 0.046*\"ibex\" + 0.028*\"MEN\" + 0.027*\"deuda\" + 0.009*\"soccer\" + 0.008*\"educacion\" + 0.008*\"messi\" + 0.008*\"ronaldo\" + 0.007*\"campeonato\" + 0.007*\"juego\"')]"
            ]
          },
          "execution_count": 29,
          "metadata": {},
          "output_type": "execute_result"
        }
      ],
      "source": [
        "lda_model.print_topics(num_words=15)"
      ]
    },
    {
      "cell_type": "markdown",
      "metadata": {
        "id": "iX2DQddexJim"
      },
      "source": [
        "Vamos a ver la visualización de lo anterior"
      ]
    },
    {
      "cell_type": "markdown",
      "metadata": {
        "id": "qU4zi3POxOww"
      },
      "source": [
        "# Visualización\n",
        "\n",
        "* La librería llamada \"***pyLDAvis***\" nos permite visualizar las relaciones entre los temas (topic) y dentro de cada tema la importancia de sus palabras (terms).\n",
        "\n",
        "* La parte de visualización de esta librería nos permite ver:\n",
        "    - Parte Izquierda: Visualización de los temas en función de dos componentes (2 Dimensiones)\n",
        "    - Parte Derecha: Seleccionado un Topic, podemos ver las palabras (terms) más relevantes de ese tema y la frecuencia con la que aparecen tanto en el corpus como en el tema.\n",
        "    \n",
        "    * En esta visualización podemos apreciar como se distinguen los tres temas claramente ya que las dos componentes que las definen son claramente distintas."
      ]
    },
    {
      "cell_type": "code",
      "execution_count": 30,
      "metadata": {
        "id": "RBdaTgP6xbVn"
      },
      "outputs": [
        {
          "name": "stdout",
          "output_type": "stream",
          "text": [
            "Defaulting to user installation because normal site-packages is not writeable\n",
            "Collecting pyLDAvis\n",
            "Note: you may need to restart the kernel to use updated packages.\n"
          ]
        },
        {
          "name": "stderr",
          "output_type": "stream",
          "text": [
            "  WARNING: The script f2py.exe is installed in 'C:\\Users\\prestamour\\AppData\\Roaming\\Python\\Python39\\Scripts' which is not on PATH.\n",
            "  Consider adding this directory to PATH or, if you prefer to suppress this warning, use --no-warn-script-location.\n",
            "ERROR: pip's dependency resolver does not currently take into account all the packages that are installed. This behaviour is the source of the following dependency conflicts.\n",
            "daal4py 2021.5.0 requires daal==2021.4.0, which is not installed.\n",
            "numba 0.55.1 requires numpy<1.22,>=1.18, but you have numpy 1.22.4 which is incompatible.\n"
          ]
        },
        {
          "name": "stdout",
          "output_type": "stream",
          "text": [
            "  Downloading pyLDAvis-3.4.0-py3-none-any.whl (2.6 MB)\n",
            "Requirement already satisfied: scipy in c:\\programdata\\anaconda3\\lib\\site-packages (from pyLDAvis) (1.7.3)\n",
            "Requirement already satisfied: jinja2 in c:\\programdata\\anaconda3\\lib\\site-packages (from pyLDAvis) (2.11.3)\n",
            "Requirement already satisfied: pandas>=1.3.4 in c:\\programdata\\anaconda3\\lib\\site-packages (from pyLDAvis) (1.4.2)\n",
            "Requirement already satisfied: scikit-learn>=1.0.0 in c:\\programdata\\anaconda3\\lib\\site-packages (from pyLDAvis) (1.0.2)\n",
            "Collecting joblib>=1.2.0\n",
            "  Downloading joblib-1.2.0-py3-none-any.whl (297 kB)\n",
            "Collecting funcy\n",
            "  Downloading funcy-2.0-py2.py3-none-any.whl (30 kB)\n",
            "Requirement already satisfied: gensim in c:\\programdata\\anaconda3\\lib\\site-packages (from pyLDAvis) (4.1.2)\n",
            "Requirement already satisfied: setuptools in c:\\programdata\\anaconda3\\lib\\site-packages (from pyLDAvis) (61.2.0)\n",
            "Requirement already satisfied: numexpr in c:\\programdata\\anaconda3\\lib\\site-packages (from pyLDAvis) (2.8.1)\n",
            "Collecting numpy>=1.22.0\n",
            "  Downloading numpy-1.24.2-cp39-cp39-win_amd64.whl (14.9 MB)\n",
            "Requirement already satisfied: pytz>=2020.1 in c:\\programdata\\anaconda3\\lib\\site-packages (from pandas>=1.3.4->pyLDAvis) (2021.3)\n",
            "Requirement already satisfied: python-dateutil>=2.8.1 in c:\\programdata\\anaconda3\\lib\\site-packages (from pandas>=1.3.4->pyLDAvis) (2.8.2)\n",
            "Requirement already satisfied: six>=1.5 in c:\\programdata\\anaconda3\\lib\\site-packages (from python-dateutil>=2.8.1->pandas>=1.3.4->pyLDAvis) (1.16.0)\n",
            "Requirement already satisfied: threadpoolctl>=2.0.0 in c:\\programdata\\anaconda3\\lib\\site-packages (from scikit-learn>=1.0.0->pyLDAvis) (2.2.0)\n",
            "  Downloading numpy-1.22.4-cp39-cp39-win_amd64.whl (14.7 MB)\n",
            "Requirement already satisfied: smart-open>=1.8.1 in c:\\users\\prestamour\\appdata\\roaming\\python\\python39\\site-packages (from gensim->pyLDAvis) (6.3.0)\n",
            "Requirement already satisfied: MarkupSafe>=0.23 in c:\\programdata\\anaconda3\\lib\\site-packages (from jinja2->pyLDAvis) (2.0.1)\n",
            "Requirement already satisfied: packaging in c:\\programdata\\anaconda3\\lib\\site-packages (from numexpr->pyLDAvis) (21.3)\n",
            "Requirement already satisfied: pyparsing!=3.0.5,>=2.0.2 in c:\\programdata\\anaconda3\\lib\\site-packages (from packaging->numexpr->pyLDAvis) (3.0.4)\n",
            "Installing collected packages: numpy, joblib, funcy, pyLDAvis\n",
            "Successfully installed funcy-2.0 joblib-1.2.0 numpy-1.22.4 pyLDAvis-3.4.0\n"
          ]
        }
      ],
      "source": [
        "pip install pyLDAvis"
      ]
    },
    {
      "cell_type": "code",
      "execution_count": 31,
      "metadata": {
        "id": "StpZ_WrUxY3o"
      },
      "outputs": [
        {
          "name": "stderr",
          "output_type": "stream",
          "text": [
            "C:\\Users\\prestamour\\AppData\\Roaming\\Python\\Python39\\site-packages\\pyLDAvis\\_prepare.py:243: FutureWarning: In a future version of pandas all arguments of DataFrame.drop except for the argument 'labels' will be keyword-only.\n",
            "  default_term_info = default_term_info.sort_values(\n"
          ]
        },
        {
          "data": {
            "text/html": [
              "\n",
              "<link rel=\"stylesheet\" type=\"text/css\" href=\"https://cdn.jsdelivr.net/gh/bmabey/pyLDAvis@3.4.0/pyLDAvis/js/ldavis.v1.0.0.css\">\n",
              "\n",
              "\n",
              "<div id=\"ldavis_el1569224194158124642926691848\" style=\"background-color:white;\"></div>\n",
              "<script type=\"text/javascript\">\n",
              "\n",
              "var ldavis_el1569224194158124642926691848_data = {\"mdsDat\": {\"x\": [0.050884813314405246, -0.23711713696952488, 0.18623232365511966], \"y\": [-0.17938316974579058, 0.05734993824320733, 0.1220332315025833], \"topics\": [1, 2, 3], \"cluster\": [1, 1, 1], \"Freq\": [35.35304577769353, 32.9150542519056, 31.731899970400868]}, \"tinfo\": {\"Term\": [\"fmi\", \"soccer\", \"ue\", \"deuda\", \"dinero\", \"educacion\", \"ronaldo\", \"messi\", \"colegios\", \"juego\", \"campeonato\", \"pib\", \"MEN\", \"ibex\", \"gaviria\", \"deuda\", \"educacion\", \"colegios\", \"MEN\", \"gaviria\", \"ibex\", \"pib\", \"campeonato\", \"juego\", \"messi\", \"ronaldo\", \"soccer\", \"dinero\", \"ue\", \"fmi\", \"fmi\", \"ue\", \"dinero\", \"ibex\", \"pib\", \"gaviria\", \"colegios\", \"MEN\", \"deuda\", \"campeonato\", \"juego\", \"messi\", \"ronaldo\", \"soccer\", \"educacion\", \"soccer\", \"ronaldo\", \"messi\", \"juego\", \"campeonato\", \"gaviria\", \"MEN\", \"educacion\", \"pib\", \"ibex\", \"colegios\", \"dinero\", \"ue\", \"fmi\", \"deuda\"], \"Freq\": [12.0, 12.0, 10.0, 13.0, 8.0, 14.0, 7.0, 6.0, 12.0, 4.0, 3.0, 5.0, 10.0, 2.0, 8.0, 11.906537055756885, 11.831341334428302, 9.651224963313133, 6.594490519888055, 3.2773207867347978, 0.39761691769736895, 0.6691964521192131, 0.4247562658298212, 0.4135542125805256, 0.4263640243037905, 0.4470700100780163, 0.6781424940209102, 0.43232224600842306, 0.47359258435667506, 0.45661733260326054, 11.786320651875938, 10.012839035145884, 8.25666517387185, 2.068029304173812, 3.847849493618277, 2.1037564416502885, 2.1375835081583885, 1.2414393996560236, 1.2189120355191023, 0.3226275145404015, 0.31281583839001426, 0.35000023474537717, 0.34105711065132827, 0.41012658308532274, 0.35445407847219884, 11.590239210092363, 6.706387557639783, 5.985679799122839, 3.8448461661176694, 3.1034693231042842, 3.5006071826462195, 2.854194370058528, 2.479811216663955, 0.8063245127514826, 0.24639978783279248, 0.9387669536403321, 0.269871572117149, 0.26674225542593033, 0.28595552038487687, 0.2760880847200797], \"Total\": [12.0, 12.0, 10.0, 13.0, 8.0, 14.0, 7.0, 6.0, 12.0, 4.0, 3.0, 5.0, 10.0, 2.0, 8.0, 13.401537175996067, 14.665606629564454, 12.727575425111855, 10.690124289602606, 8.881684411031305, 2.7120460097039736, 5.323370458488972, 3.850853103474507, 4.571216217088209, 6.762044058172007, 7.494514678369127, 12.678508287198596, 8.958858991997422, 10.753173874928489, 12.528893504864074, 12.528893504864074, 10.753173874928489, 8.958858991997422, 2.7120460097039736, 5.323370458488972, 8.881684411031305, 12.727575425111855, 10.690124289602606, 13.401537175996067, 3.850853103474507, 4.571216217088209, 6.762044058172007, 7.494514678369127, 12.678508287198596, 14.665606629564454, 12.678508287198596, 7.494514678369127, 6.762044058172007, 4.571216217088209, 3.850853103474507, 8.881684411031305, 10.690124289602606, 14.665606629564454, 5.323370458488972, 2.7120460097039736, 12.727575425111855, 8.958858991997422, 10.753173874928489, 12.528893504864074, 13.401537175996067], \"Category\": [\"Default\", \"Default\", \"Default\", \"Default\", \"Default\", \"Default\", \"Default\", \"Default\", \"Default\", \"Default\", \"Default\", \"Default\", \"Default\", \"Default\", \"Default\", \"Topic1\", \"Topic1\", \"Topic1\", \"Topic1\", \"Topic1\", \"Topic1\", \"Topic1\", \"Topic1\", \"Topic1\", \"Topic1\", \"Topic1\", \"Topic1\", \"Topic1\", \"Topic1\", \"Topic1\", \"Topic2\", \"Topic2\", \"Topic2\", \"Topic2\", \"Topic2\", \"Topic2\", \"Topic2\", \"Topic2\", \"Topic2\", \"Topic2\", \"Topic2\", \"Topic2\", \"Topic2\", \"Topic2\", \"Topic2\", \"Topic3\", \"Topic3\", \"Topic3\", \"Topic3\", \"Topic3\", \"Topic3\", \"Topic3\", \"Topic3\", \"Topic3\", \"Topic3\", \"Topic3\", \"Topic3\", \"Topic3\", \"Topic3\", \"Topic3\"], \"logprob\": [15.0, 14.0, 13.0, 12.0, 11.0, 10.0, 9.0, 8.0, 7.0, 6.0, 5.0, 4.0, 3.0, 2.0, 1.0, -1.3958, -1.4021, -1.6058, -1.9866, -2.6858, -4.7951, -4.2745, -4.7291, -4.7558, -4.7253, -4.6779, -4.2613, -4.7115, -4.6203, -4.6568, -1.3345, -1.4975, -1.6904, -3.0748, -2.4539, -3.0577, -3.0417, -3.5851, -3.6035, -4.9327, -4.9636, -4.8512, -4.8771, -4.6927, -4.8386, -1.3146, -1.8617, -1.9754, -2.4181, -2.6323, -2.5119, -2.716, -2.8566, -3.9801, -5.1656, -3.828, -5.0746, -5.0863, -5.0167, -5.0518], \"loglift\": [15.0, 14.0, 13.0, 12.0, 11.0, 10.0, 9.0, 8.0, 7.0, 6.0, 5.0, 4.0, 3.0, 2.0, 1.0, 0.9215, 0.825, 0.7631, 0.5567, 0.0428, -0.8802, -1.034, -1.1647, -1.363, -1.724, -1.7794, -1.8885, -1.9914, -2.0828, -2.2722, 1.0501, 1.0399, 1.0296, 0.8401, 0.7866, -0.329, -0.6729, -1.0418, -1.2862, -1.3683, -1.5707, -1.8499, -1.9786, -2.32, -2.6114, 1.0581, 1.0367, 1.0259, 0.9748, 0.9321, 0.2168, -0.1727, -0.6295, -0.7395, -1.2507, -1.4591, -2.3546, -2.5488, -2.6321, -2.7346]}, \"token.table\": {\"Topic\": [1, 2, 3, 3, 1, 2, 3, 1, 2, 2, 1, 3, 2, 1, 2, 3, 2, 3, 3, 1, 2, 3, 3, 1, 3, 2], \"Freq\": [0.6548099732393493, 0.09354428189133561, 0.2806328456740068, 0.7790481535878873, 0.7856955992002786, 0.15713911984005574, 0.07856955992002787, 0.8954196703265946, 0.07461830586054956, 0.8929708579123825, 0.8182409567572304, 0.13637349279287173, 0.9577860962216063, 0.33777376690776295, 0.22518251127184197, 0.45036502254368393, 0.7374506158242886, 0.875040647836154, 0.8873056650302259, 0.18785091283762506, 0.7514036513505002, 0.18785091283762506, 0.9340164507521203, 0.07887363224029227, 0.9464835868835073, 0.9299579934548861], \"Term\": [\"MEN\", \"MEN\", \"MEN\", \"campeonato\", \"colegios\", \"colegios\", \"colegios\", \"deuda\", \"deuda\", \"dinero\", \"educacion\", \"educacion\", \"fmi\", \"gaviria\", \"gaviria\", \"gaviria\", \"ibex\", \"juego\", \"messi\", \"pib\", \"pib\", \"pib\", \"ronaldo\", \"soccer\", \"soccer\", \"ue\"]}, \"R\": 15, \"lambda.step\": 0.01, \"plot.opts\": {\"xlab\": \"PC1\", \"ylab\": \"PC2\"}, \"topic.order\": [2, 3, 1]};\n",
              "\n",
              "function LDAvis_load_lib(url, callback){\n",
              "  var s = document.createElement('script');\n",
              "  s.src = url;\n",
              "  s.async = true;\n",
              "  s.onreadystatechange = s.onload = callback;\n",
              "  s.onerror = function(){console.warn(\"failed to load library \" + url);};\n",
              "  document.getElementsByTagName(\"head\")[0].appendChild(s);\n",
              "}\n",
              "\n",
              "if(typeof(LDAvis) !== \"undefined\"){\n",
              "   // already loaded: just create the visualization\n",
              "   !function(LDAvis){\n",
              "       new LDAvis(\"#\" + \"ldavis_el1569224194158124642926691848\", ldavis_el1569224194158124642926691848_data);\n",
              "   }(LDAvis);\n",
              "}else if(typeof define === \"function\" && define.amd){\n",
              "   // require.js is available: use it to load d3/LDAvis\n",
              "   require.config({paths: {d3: \"https://d3js.org/d3.v5\"}});\n",
              "   require([\"d3\"], function(d3){\n",
              "      window.d3 = d3;\n",
              "      LDAvis_load_lib(\"https://cdn.jsdelivr.net/gh/bmabey/pyLDAvis@3.4.0/pyLDAvis/js/ldavis.v3.0.0.js\", function(){\n",
              "        new LDAvis(\"#\" + \"ldavis_el1569224194158124642926691848\", ldavis_el1569224194158124642926691848_data);\n",
              "      });\n",
              "    });\n",
              "}else{\n",
              "    // require.js not available: dynamically load d3 & LDAvis\n",
              "    LDAvis_load_lib(\"https://d3js.org/d3.v5.js\", function(){\n",
              "         LDAvis_load_lib(\"https://cdn.jsdelivr.net/gh/bmabey/pyLDAvis@3.4.0/pyLDAvis/js/ldavis.v3.0.0.js\", function(){\n",
              "                 new LDAvis(\"#\" + \"ldavis_el1569224194158124642926691848\", ldavis_el1569224194158124642926691848_data);\n",
              "            })\n",
              "         });\n",
              "}\n",
              "</script>"
            ],
            "text/plain": [
              "<IPython.core.display.HTML object>"
            ]
          },
          "execution_count": 31,
          "metadata": {},
          "output_type": "execute_result"
        }
      ],
      "source": [
        "import pyLDAvis\n",
        "import pyLDAvis.gensim\n",
        "\n",
        "vis = pyLDAvis.gensim.prepare(lda_model, corpus, dictionary)\n",
        "pyLDAvis.display(vis)"
      ]
    },
    {
      "cell_type": "markdown",
      "metadata": {
        "id": "b1LFXTy84O_z"
      },
      "source": [
        "# Selección del número óptimo de Topics (coherencia)\n",
        "\n",
        "* Dado que las técnicas de \"*Topic Modeling*\" (tanto LSI como LDA) ***generan automáticamente 'N' temas (Topics)*** a partir de los documentos del corpus ***de forma no supervisada***, tenemos que evaluar de alguna manera si los temas que genera son \"***Coherentes***\" entre sí; es decir, si hay dos o más temas que son tan similares entre sí que podrían formar un tema o si hay temas que son muy genéricos y que podrían dividirse en dos o más temas.\n",
        "\n",
        "* Este es un problema común que también tenemos las personas a la hora de asignar un tema a un texto ya que se trata de una tarea que en ocasiones puede ser muy subjetiva.\n",
        "\n",
        "* Por esta razón es necesario cuantificar un nivel de ***Coherencia*** sobre la segmentación realizada.\n",
        "\n",
        "* Para hacer una analogía con Clustering, la ***Coherencia*** en el Topic Modeling viene a ser como la ***Inercia*** en el K-Means.\n",
        "\n",
        "* La ***Coherencia*** es por tanto una medida que ***nos sirve para ver lo bien o mal que están definidos los temas (Topics) por sus palabras (Terms) más representativas del Topic***.\n",
        "\n",
        "* Para más información ver el siguiente artículo: http://svn.aksw.org/papers/2015/WSDM_Topic_Evaluation/public.pdf\n",
        "\n",
        "\n",
        "### ¿Como se calcula la Coherencia?\n",
        "\n",
        "\n",
        "* La coherencia de un modelo se calcula dadas las 'N' palabras más relevantes de un tema (Topic) como:\n",
        "\n",
        "\n",
        "$$ coherence = \\sum_{i>j} score(w_{i},w_{j})$$\n",
        "\n",
        "\n",
        "* Siendo w<sub>i</sub> y w<sub>j</sub> dos pares de palabras relevantes del tema (Topic).\n",
        "\n",
        "\n",
        "* Existen dos métodos para el cálculo del ***score*** de la coherencia que son:\n",
        "    - Extrinsic UCI measure\n",
        "    - Intrinsic UMass measure\n",
        "   \n",
        "   \n",
        "* Antes de explicar como se calcula el score definimos:\n",
        "\n",
        "    - **D**: Número de documentos del corpus.\n",
        "    - **D(w<sub>i</sub>)**: Número de documentos en el que aparece la palabra w<sub>i</sub> en el corpus.\n",
        "    - **D(w<sub>i</sub>, w<sub>j</sub>)**: Número de documentos en el que aparecen conjuntamente las palabras w<sub>i</sub> y w<sub>j</sub> en el corpus.\n",
        "    - **p(w<sub>i</sub>)**: Probabilidad de que aparezca la palabra w<sub>i</sub> en un documento del corpus:\n",
        "    \n",
        "    $$p(w_{i}) = \\frac{D(w_{i})}{D}$$\n",
        "    \n",
        "    - **p(w<sub>i</sub>, w<sub>i</sub>)**: Probabilidad de que aparezcan conjuntamente las palabras w<sub>i</sub> y w<sub>j</sub> en un documento del corpus:\n",
        "    \n",
        "    $$p(w_{i}, w_{j}) = \\frac{D(w_{i}, w_{j})}{D}$$\n",
        "    \n",
        "* ***Score: Extrinsic UCI measure***\n",
        "    \n",
        "    $$score_{c\\_uci} (w_{i}, w_{j}) = log \\frac{p(w_{i},w_{j})}{p(w_{i}) p(w_{j})}$$\n",
        "\n",
        "\n",
        "* ***Score: Intrinsic UMass measure***\n",
        "    \n",
        "    $$score_{c\\_mass} (w_{i}, w_{j}) = log \\frac{D(w_{i},w_{j}) + 1}{D(w_{i})}$$\n",
        "    \n",
        "    \n"
      ]
    },
    {
      "cell_type": "markdown",
      "metadata": {
        "id": "wTjbKVDYyDr_"
      },
      "source": [
        "# Taller para iniciar en clase\n",
        "\n",
        "\n",
        "* Vamos a considerar el siguiente conjunto de documentos ***obtener los temas (Topics) de una serie de artículos (noticias)*** que está etiquetados con un tema (el corpus tiene 20 temas).\n",
        "\n",
        "- El fichero en formato Json contiene una serie de documento en los que le asigna una temática.\n",
        "\n",
        "- Cada elemento del Json contiene:\n",
        "    - **content**: Contenido del artículo\n",
        "    - **target**: Identificador del target\n",
        "    - **target_names**: Nombre del target\n",
        "\n",
        "\n",
        "* ***IMPORTANTE***: *Esto es aprendizaje no supervisado, por lo que no tenemos que tener en cuentas los temas en los que alguien (un humano experto) ha clasificado estos textos. La idea del ejercicio es la de obtener los temas distintos de los que hablan los artículos (***Clusterizar artículos***) y nos es útil saber a priori el número de temas distintos que puede tener, pero en ningún caso el target de los artículos entraria al algoritmo de aprendizaje (LDA en este caso)*\n",
        "\n",
        "* Para realizar este ejercicio se seguirán los siguientes pasos\n",
        "\n",
        "1. Carga de datos\n",
        "2. Exploración de los datos y entendimiento del conjunto de datos\n",
        "3. Interprete el siguiente código\n",
        "\n",
        "```\n",
        "df.groupby(['target', 'target_names']).count()\n",
        "```\n",
        "4. Para la Normalización utilizar ***spaCy*** y realizar las siguientes acciones en una sola función\n",
        "\n",
        "    4.1. Pasar las frases a minúsculas.\n",
        "\n",
        "    4.2. Eliminar los signos de puntuación.\n",
        "\n",
        "    4.3. Eliminar las palabras con menos de 3 carácteres.\n",
        "\n",
        "    4.4. Eliminar las palabras con mas de 12 carácteres.\n",
        "\n",
        "    4.5. Eliminar las Stop-Words.\n",
        "\n",
        "    4.6. Eliminar los emails\n",
        "\n",
        "    4.7. Eliminar los saltos de línea\n",
        "\n",
        "    4.8. Eliminar las comillas simples\n",
        "\n",
        "    4.9. Filtrar las palabras que no sean Nombre, Adjetivo, Verbo o Adverbio\n",
        "\n",
        "    4.10. Pasar la palabra a su lema\n",
        "\n",
        "5. Crear del diccionario y la bolsa de palabras\n",
        "\n",
        "    5.1 Corpus tokenizado: \"*documents_tok*\"\n",
        "\n",
        "    5.2 Diccionario: \"*dictionary*\"\n",
        "\n",
        "    5.3 Corpus: \"*corpus*' que es la bolsa de palabras de gensim\n",
        "\n",
        "6. Creacción del modelo\n",
        "\n",
        "    6.1 Crear un modelo con 20 temas\n",
        "\n",
        "    6.2 Utilice la instrucción \"chunksize=100\". ¿Qué efecto tiene?\n",
        "\n",
        "7. Visualización. \n",
        "\n",
        "    7.1 Visualizar los resultados con la librería de *pyLDAvis*\n",
        "\n",
        "    7.2 ¿Qué puede concluir de la visualización?\n",
        "\n",
        "8. ¿Qué sucede si seleccionó 12, 15, 17 temas? Haga la visualización en estos casos. ¿Cuál es mejor?\n"
      ]
    },
    {
      "cell_type": "code",
      "execution_count": 32,
      "metadata": {
        "id": "4MlVZrSF0V1e"
      },
      "outputs": [],
      "source": [
        "url= \"https://raw.githubusercontent.com/Fabian830348/Bases_Datos/master/base_LDA.json\""
      ]
    }
  ],
  "metadata": {
    "colab": {
      "collapsed_sections": [
        "d7V_8aPtKZQY",
        "0shdLpG-Pwi7",
        "dVRqBuYuRUGr",
        "WE0al5K6Rize",
        "xipA6oi3SJEu"
      ],
      "provenance": []
    },
    "kernelspec": {
      "display_name": "Python 3",
      "name": "python3"
    },
    "language_info": {
      "codemirror_mode": {
        "name": "ipython",
        "version": 3
      },
      "file_extension": ".py",
      "mimetype": "text/x-python",
      "name": "python",
      "nbconvert_exporter": "python",
      "pygments_lexer": "ipython3",
      "version": "3.9.12"
    }
  },
  "nbformat": 4,
  "nbformat_minor": 0
}
