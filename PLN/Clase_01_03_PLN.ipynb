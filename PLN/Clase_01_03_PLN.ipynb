{
  "nbformat": 4,
  "nbformat_minor": 0,
  "metadata": {
    "colab": {
      "provenance": []
    },
    "kernelspec": {
      "name": "python3",
      "display_name": "Python 3"
    },
    "language_info": {
      "name": "python"
    }
  },
  "cells": [
    {
      "cell_type": "markdown",
      "source": [
        "# Generalidades de Spacy\n",
        "\n",
        "- Es una librería de python para Procesamiento de Lenguaje Natural.\n",
        "\n",
        "- Una ventaja respesto a NLTK es que trae modelos preentrenados para diferentes idiomas, entre ellos, el español.\n",
        "\n",
        "- Tiene mejor rendimiento que NTLK.\n",
        "\n",
        "- Algunas tareas que se pueden hacer con  Spacy:\n",
        "\n",
        "    - Tokenización\n",
        "\n",
        "    - Stop Words\n",
        "\n",
        "    - Part of Speech (PoS)\n",
        "\n",
        "    - Lematización\n",
        "\n",
        "- Para poder usar los modelos preentrenados de Spacy se deben descargar:\n",
        "\n",
        "     - es_core_news_md\n",
        "\n",
        "     - es_core_news_sm\n",
        "\n",
        "El primero más pesado que el segundo.\n",
        "\n",
        "- Para más información se puede consultar \n",
        "[Spacy](\"https://spacy.io/\")-\n",
        "\n"
      ],
      "metadata": {
        "id": "XzJgBR3zx2Eu"
      }
    },
    {
      "cell_type": "code",
      "source": [
        "pip install spacy"
      ],
      "metadata": {
        "id": "b6O-QXv8z4Ym"
      },
      "execution_count": null,
      "outputs": []
    },
    {
      "cell_type": "code",
      "execution_count": null,
      "metadata": {
        "id": "cDMYwlbQxyLG"
      },
      "outputs": [],
      "source": [
        "!python -m spacy download es_core_news_sm"
      ]
    },
    {
      "cell_type": "code",
      "source": [
        "import spacy\n",
        "nlp = spacy.load('es_core_news_sm')"
      ],
      "metadata": {
        "id": "YqLqIztqx0_u"
      },
      "execution_count": null,
      "outputs": []
    },
    {
      "cell_type": "code",
      "source": [
        "#para acceder a los datos del drive\n",
        "from google.colab import drive\n",
        "drive.mount('/content/drive')"
      ],
      "metadata": {
        "id": "HVtipgnY01q7"
      },
      "execution_count": null,
      "outputs": []
    },
    {
      "cell_type": "code",
      "source": [
        "doc_file = '/content/drive/MyDrive/3. PLN/MATERIAL CURSO OTROS/MATERIAL 2/data/corpus_mundo_today.csv'\n",
        "file_txt = open(doc_file, encoding=\"utf8\").read()"
      ],
      "metadata": {
        "id": "MpBguJCl1Zzu"
      },
      "execution_count": null,
      "outputs": []
    },
    {
      "cell_type": "code",
      "source": [
        "file_txt[0:100]"
      ],
      "metadata": {
        "id": "GwPs-weH1e3Q"
      },
      "execution_count": null,
      "outputs": []
    },
    {
      "cell_type": "markdown",
      "source": [
        "Hacemos una estructura de control para separar los párrafos y eliminar los \"||\""
      ],
      "metadata": {
        "id": "v78b76ou1sLc"
      }
    },
    {
      "cell_type": "code",
      "source": [
        "doc_list = list()\n",
        "for line in file_txt.split('\\n'):\n",
        "    line = line.split('||')\n",
        "    doc_list.append(line[1] + ' ' + line[2])\n",
        "doc_list = doc_list[1:] # Elimino la cabecera del fichero"
      ],
      "metadata": {
        "id": "XOF2o8Uu0_bE"
      },
      "execution_count": null,
      "outputs": []
    },
    {
      "cell_type": "code",
      "source": [
        "doc_list[0]"
      ],
      "metadata": {
        "id": "pJOpwQxW11rP"
      },
      "execution_count": null,
      "outputs": []
    },
    {
      "cell_type": "markdown",
      "source": [
        "## Algunos ejemplos con Spacy"
      ],
      "metadata": {
        "id": "ONJNMT1o0X7Q"
      }
    },
    {
      "cell_type": "code",
      "source": [
        "# Tokenización doc: tokeniza en spacy\n",
        "doc = nlp(doc_list[0])\n",
        "# imprimimos qué tipo de dato es:\n",
        "print('Tipo de dato: ' + str(type(doc)))\n",
        "# estructura de control para \n",
        "print([w for w in doc])\n",
        "print([w.text for w in doc])"
      ],
      "metadata": {
        "id": "0F5PLlA90bNi"
      },
      "execution_count": null,
      "outputs": []
    },
    {
      "cell_type": "code",
      "source": [
        "# Segmentación, es decir , dividir en las cadenas de texto en frases o párrafos usando: puntos, adiración, interrogante, etc.\n",
        "# se usa \"sentencier\"\n",
        "from spacy.pipeline import Sentencizer\n",
        "sentencizer = Sentencizer()\n",
        "doc = nlp(\"Fabián es Matemático. Todos estamos en el salón de clae! Pero tenemos hambre.\")\n",
        "print([frase.text for frase in doc.sents])"
      ],
      "metadata": {
        "id": "cnNaUY-f3J55"
      },
      "execution_count": null,
      "outputs": []
    },
    {
      "cell_type": "code",
      "source": [
        "# Lematización\n",
        "doc = nlp(\"Atentos : Todos en el río estaban pescando cuando de repente vieron un oso gigante que se comía un salmón\")\n",
        "for palabra in doc:  \n",
        "    print(palabra.text + \" - \" + palabra.lemma_)"
      ],
      "metadata": {
        "id": "eSmlPZ1v3zln"
      },
      "execution_count": null,
      "outputs": []
    },
    {
      "cell_type": "code",
      "source": [
        "# Stop Word o palabras de parada \n",
        "# No aportan al significado de la frase\n",
        "# hay 521 palabras en Español.\n",
        "# se usa : spacy.lang.es.stop_words.STOP_WORDS\n",
        "stopwords = spacy.lang.es.stop_words.STOP_WORDS\n",
        "print('Número de stop words: ' + str(len(stopwords)))\n",
        "print('Stop words: ' + str(list(stopwords)))"
      ],
      "metadata": {
        "id": "IwzjKzL94TDe"
      },
      "execution_count": null,
      "outputs": []
    },
    {
      "cell_type": "code",
      "source": [
        "# Los token en Spacy tienen un método denominado is_stop \n",
        "# es una variable lógica indicando si el token está o no en la lista \n",
        "doc = nlp(\"Atentos, Todos en el río estaban pescando cuando de repente vieron un oso gigante que se comía un salmón\")\n",
        "for palabra in doc:\n",
        "    if palabra.is_stop:\n",
        "        print(palabra)"
      ],
      "metadata": {
        "id": "56cNwPVn48DX"
      },
      "execution_count": null,
      "outputs": []
    },
    {
      "cell_type": "code",
      "source": [
        "# Tagging : Part of Speech - Categorizar las palabras en un texto (corpus) o etiquetado gramatical. \n",
        "# pos: etiqueta de más alto nivel (verbo, nombre)\n",
        "\n",
        "doc = nlp(\"Atentos, Todos en el río estaban pescando cuando de repente vieron un oso gigante que se comía un salmón\")\n",
        "pos = [[tk.text, tk.pos_] for tk in doc]\n",
        "\n",
        "# los podemos organizar en un Dataframe\n",
        "import pandas as pd\n",
        "pd.DataFrame(pos, columns=[\"Text\", \"PoS\"])"
      ],
      "metadata": {
        "id": "pkedZFUN5OmT"
      },
      "execution_count": null,
      "outputs": []
    },
    {
      "cell_type": "code",
      "source": [
        "from collections import Counter\n",
        "doc = nlp(\"Atentos, Todos en el río estaban pescando cuando de repente vieron un oso gigante que se comía un salmón\")\n",
        "parte_oracion = [palabra.pos_ for palabra in doc]\n",
        "Counter(parte_oracion).most_common()\n",
        "pd.DataFrame(Counter(parte_oracion).most_common(), columns=[\"Text\", \"PoS\"])"
      ],
      "metadata": {
        "id": "6oLTsvJz8LD1"
      },
      "execution_count": null,
      "outputs": []
    },
    {
      "cell_type": "code",
      "source": [
        "from collections import Counter\n",
        "doc = nlp(doc_list[0])\n",
        "parte_oracion = [palabra.pos_ for palabra in doc]\n",
        "Counter(parte_oracion).most_common()\n",
        "pd.DataFrame(Counter(parte_oracion).most_common(), columns=[\"Text\", \"PoS\"])"
      ],
      "metadata": {
        "id": "n5v8ns-z9sWn"
      },
      "execution_count": null,
      "outputs": []
    },
    {
      "cell_type": "markdown",
      "source": [
        "Finalmente,"
      ],
      "metadata": {
        "id": "1Rlyped8875R"
      }
    },
    {
      "cell_type": "code",
      "source": [
        "import spacy\n",
        "import pandas as pd\n",
        "\n",
        "nlp = spacy.load('es_core_news_sm')\n",
        "doc = nlp(\"Atentos, Todos en el río estaban pescando cuando de repente vieron un oso gigante que se comía 10 salmones\")\n",
        "\n",
        "resultado = [[tk.text, tk.lemma_, tk.pos_, tk.is_alpha, tk.is_stop] for tk in doc]\n",
        "pd.DataFrame(resultado, columns=[\"Text\", \"Lema\", \"PoS\", \"Alpha\", \"is Stop word\"])"
      ],
      "metadata": {
        "id": "SsFmrxH489NZ"
      },
      "execution_count": null,
      "outputs": []
    },
    {
      "cell_type": "code",
      "source": [
        "!python -m spacy download es_core_news_md"
      ],
      "metadata": {
        "id": "Q71OwJXm-GnG"
      },
      "execution_count": null,
      "outputs": []
    },
    {
      "cell_type": "code",
      "source": [
        "import es_core_news_md\n",
        "nlp_md = es_core_news_md.load()\n",
        "from spacy import displacy\n",
        "from IPython.display import SVG\n",
        "article_text = '''La ONG Fundación del Río explicó este Fabián viernes que la decisión de la Organización de la ONU para la Educación, la Ciencia y la Cultura (Unesco) de declarar como geoparque el río Coco, ubicado en el norte de Nicaragua, obliga a las autoridades nicaragüenses a proteger su ecosistema, ya que se encuentra en el área más deforestada de la cuenca. La Unesco está reconociendo la importancia del río Coco, pero también está haciendo un llamado al Gobierno a que actúe en la protección y la conservación de esos ecosistemas, dijo a Efe el presidente de la Fundación del Río, Amaru Ruiz.'''\n",
        "doc = nlp_md(article_text)\n",
        "SVG(data = displacy.render(doc, style=\"ent\"))"
      ],
      "metadata": {
        "id": "9PmAdXm6-Dk1"
      },
      "execution_count": null,
      "outputs": []
    },
    {
      "cell_type": "code",
      "source": [
        "# similitud de palabras\n",
        "tokens = nlp_md(\"perro gato banana manzana rey reina\")\n",
        "for token1 in tokens:\n",
        "    for token2 in tokens:\n",
        "        print(token1.text, token2.text, token1.similarity(token2))"
      ],
      "metadata": {
        "id": "fQFbWNt-_llW"
      },
      "execution_count": null,
      "outputs": []
    },
    {
      "cell_type": "markdown",
      "source": [
        "=============================================================================================================================="
      ],
      "metadata": {
        "id": "B__gPBkxAUba"
      }
    },
    {
      "cell_type": "markdown",
      "source": [
        "# Bag of Words (BoW) : Bolsa de Palabras\n",
        "\n",
        "- Es un modelo para generar como su nombre lo indica una bolsa de palabras que simplifique el contenido de documentos.\n",
        "\n",
        "- En los **BoW** se omiten la grámatica y el orden de las palabras.\n",
        "\n",
        "- Se concentra en la frecuencia de las palabras, es decir, en el número de veces que aparece en el texto."
      ],
      "metadata": {
        "id": "C14IL8HARSC8"
      }
    },
    {
      "cell_type": "code",
      "source": [
        "# Supongamos que tenemos un documento así:\n",
        "documento = [\"carlos juega mucho carlos carlos carro carro juega universidad universidad juega juega  mucho mucho carlos\",\n",
        "             \"conduce conduce conduce carro carro mucho mucho carro carro carro carro carro\",\n",
        "             \"universidad universidad MACC MACC MACC MACC MACC MACC UR UR UR UR UR UR UR\",\n",
        "             \"universidad universidad universidad carlos carlos conduce conduce carlos carlos carlos UR UR UR UR\",\n",
        "             \"universidad universidad carlos carlos carlos conduce conduce carro carro carro carro mucho mucho mucho\",\n",
        "             \"carlos juega universidad carro mucho juega mucho\"]"
      ],
      "metadata": {
        "id": "KskwjpufSRrI"
      },
      "execution_count": null,
      "outputs": []
    },
    {
      "cell_type": "code",
      "source": [
        "# el método split() divide las cadenas de texto y obtenemos listas con cada oración (elemento de documento)\n",
        "for doc in documento:\n",
        "  print(doc.split(\" \"))"
      ],
      "metadata": {
        "id": "wSJ7HDD7TreN"
      },
      "execution_count": null,
      "outputs": []
    },
    {
      "cell_type": "code",
      "source": [
        "# construimos la bolsa de palabras\n",
        "bow = dict()\n",
        "for doc in documento:\n",
        "  doc = doc.split(\" \")\n",
        "  for palabra in doc:\n",
        "    if palabra in bow:\n",
        "      bow[palabra] +=1\n",
        "    else:\n",
        "      bow[palabra]=1\n",
        "print(bow)      "
      ],
      "metadata": {
        "id": "0X9blhdrTOmG"
      },
      "execution_count": null,
      "outputs": []
    },
    {
      "cell_type": "markdown",
      "source": [
        "Observe que se genera un diccionario con la frecuencia de cada palabra. Sin embrago, cuando se construye una bolsa de palabras también es importante asignar un \"peso\" que determina cierto nivel de importancia en el documento o corpus.\n",
        "\n",
        "Existen varias formas de generar una bolsa de palabras.\n",
        "\n",
        "- Vectores de frecuencias\n",
        "\n",
        "- One Hot Encode\n",
        "\n",
        "- TF-IDF : Term Frequency-Inverse Document Frequency: Es una medida que pondera el uso de una determinada palabra dentro de un conjunto de documentos y que supone por lo tanto un elemento importante y relevante para la clasificación de documentos frente a la consulta de un usuario\n",
        "\n",
        "Para generar bolsas de palabras usaremos tres librerías diferentes:\n",
        "\n",
        "- **scikit**: aprendizaje automático\n",
        "\n",
        "- **NLTK** : procesamiento de lenguaje natural\n",
        "\n",
        "- **Gensim**: está específicamente diseñado para manejar grandes colecciones de texto, utilizando el flujo de datos y algoritmos incrementales eficientes. Se fundamenta en Numpy y Scipy"
      ],
      "metadata": {
        "id": "Kcqv0NOPT9r1"
      }
    },
    {
      "cell_type": "markdown",
      "source": [
        "## Vectores de Frecuencias\n",
        "\n",
        "- Es la forma más fácil de hacer una bolsa de palabras.\n",
        "\n",
        "- Consiste en contar cuantas palabras aparecen en el documento"
      ],
      "metadata": {
        "id": "PpY-Hqe_VCxP"
      }
    },
    {
      "cell_type": "code",
      "source": [
        "# Usando scikit tenemos : sklearn.feature_extraction.text\n",
        "from sklearn.feature_extraction.text import CountVectorizer\n",
        "vectorizar = CountVectorizer()\n",
        "vectores = vectorizar.fit_transform(documento)\n",
        "print(vectorizar.get_feature_names_out())\n",
        "print(vectores.toarray())"
      ],
      "metadata": {
        "id": "zy2b4iqjVQPo"
      },
      "execution_count": null,
      "outputs": []
    },
    {
      "cell_type": "code",
      "source": [
        "# usando NLTK : from collections import defaultdict\n",
        "import nltk\n",
        "nltk.download(\"all\")"
      ],
      "metadata": {
        "id": "RjAE4QvDVoBY"
      },
      "execution_count": null,
      "outputs": []
    },
    {
      "cell_type": "code",
      "source": [
        "# tarea construir una función que cuente, ver este ejemplo con una entreda.\n",
        "tokens = nltk.word_tokenize(documento[0])\n",
        "Freq_dist=nltk.FreqDist(tokens) ; Freq_dist"
      ],
      "metadata": {
        "id": "lWlEFSCqVzVs"
      },
      "execution_count": null,
      "outputs": []
    },
    {
      "cell_type": "code",
      "source": [
        "# Usando Gensim\n",
        "import gensim\n",
        "tokenizar = [nltk.word_tokenize(text) for text in documento]\n",
        "diccionario = gensim.corpora.Dictionary(tokenizar)\n",
        "vectores = [diccionario.doc2bow(token) for token in tokenizar]\n",
        "\n",
        "# Resultados\n",
        "print('\\nApariciones de las palabras en los documentos:')\n",
        "vectores"
      ],
      "metadata": {
        "id": "xdr_3NRNXDGl"
      },
      "execution_count": null,
      "outputs": []
    },
    {
      "cell_type": "markdown",
      "source": [
        "## One Hot Encode\n",
        "\n",
        "- Para construir una *bolsa de palabras* con este método lo que hacemos es asignar 0 y 1 : equivalentes a False o True según si una palabra está o no en el documento."
      ],
      "metadata": {
        "id": "i065MwvUaeMx"
      }
    },
    {
      "cell_type": "code",
      "source": [
        "# Usando scikit\n",
        "from sklearn.feature_extraction.text import CountVectorizer\n",
        "from sklearn.preprocessing import Binarizer\n",
        "\n",
        "vectorizar = CountVectorizer()\n",
        "corpus = vectorizar.fit_transform(documento)\n",
        "\n",
        "onehot = Binarizer()\n",
        "corpus = onehot.fit_transform(corpus.toarray())\n",
        "\n",
        "# Resultados\n",
        "print(vectorizar.get_feature_names_out())\n",
        "print(corpus)"
      ],
      "metadata": {
        "id": "gP0lAanZbR4s"
      },
      "execution_count": null,
      "outputs": []
    },
    {
      "cell_type": "code",
      "source": [
        "# usando NLTK\n",
        "# ejercicio hacer un diccionario key = palabra y el valor = true."
      ],
      "metadata": {
        "id": "TtcorUNcbxoU"
      },
      "execution_count": null,
      "outputs": []
    },
    {
      "cell_type": "code",
      "source": [
        "# Usando Gensim\n",
        "# la estructura es similar a la frecuencia de palabras, solo que ya no aparece la frecuencia sino uno.\n",
        "tokenize = [nltk.word_tokenize(text) for text in documento]\n",
        "dictionary = gensim.corpora.Dictionary(tokenize)\n",
        "vectors = [[(token[0], 1) for token in dictionary.doc2bow(doc)] for doc in tokenize]\n",
        "\n",
        "# Resultados\n",
        "print('Diccionario de palabras -> palabra: id\\n')\n",
        "print(dictionary.token2id)\n",
        "print('\\nApariciones de las palabras en los documentos (id, 1):')\n",
        "vectors"
      ],
      "metadata": {
        "id": "3RuY_RjdcHwG"
      },
      "execution_count": null,
      "outputs": []
    },
    {
      "cell_type": "markdown",
      "source": [
        "## TF-IDF : Frecuencia de Término-Frecuencia Inversa de Documento\n",
        "\n",
        "Es una medida que pondera el uso de una determinada palabra dentro de un conjunto de documentos y que supone por lo tanto un elemento importante y relevante para la clasificación de documentos frente a la consulta de un usuario.\n",
        "\n",
        "- Construir la Bolsa de Palabras con TF-IDF en vez de con frecuencias evita dar \"importancia\" a texto muy largos y con mucha repetición de palabras, frente a textos cortos y con pocas repeticiones de palabras.\n",
        "\n",
        "\n",
        "- ***TF-IDF*** tiene dos componentes que son:\n",
        "    \n",
        "    * ***TF*** (Term Frecuency): Es la frecuencia con la que aparece la palabra en un documento del corpus. Esta se define como:\n",
        "    \n",
        "    $$tf(t,d) = 1 + log(f_{t,d})$$\n",
        "    \n",
        "    * ***IDF*** (Inverse Document Frequency): La frecuencia inversa del documento nos indica lo común que es una palabra en el corpus.\n",
        "    \n",
        "    $$idf(t,D) = log(1 + \\frac{N}{n_t})$$\n",
        "    \n",
        "\n",
        "* ***TF-IDF*** queda definido como:\n",
        "$$tfidf(t,d,D) = tf(t,d) \\cdot idf(t,D)$$\n",
        "\n",
        "## Ejemplo\n",
        "\n",
        "* Supongamos un corpus de 2 documentos con las siguientes palabras:\n",
        "\n",
        "```\n",
        "corpus = [\"carro carro carro ur ur feliz\",\n",
        "          \"carro ur fabian fabian fabian\"]\n",
        "```\n",
        "\n",
        "* ***Ejemplo 1***: Calculamos el ***tf-idf*** de la palabra \"**carro**\" para el documento 1:\n",
        "    \n",
        "    * ***TF***:\n",
        "\n",
        "        - t: número de veces que aparece la palabra \"carro\" en el documento 1 es 3.\n",
        "        - d: número de palabras que tiene el documento 1 es 6\n",
        "\n",
        "        $$tf(t,d) = 1 + log(\\frac{3}{6}) =  0,69$$\n",
        "        \n",
        "    * ***IDF***:\n",
        "\n",
        "        - n<sub>t</sub>: número de documentos en los que aparece la palabra \"carro\" es 2.\n",
        "\n",
        "        - D: número total de documentos en el corpus es 2\n",
        "\n",
        "        $$idf(t,D) = log(1 + \\frac{2}{2}) = 0,3$$\n",
        "        \n",
        "    * ***TF-IDF***:\n",
        "    $$tfidf(t,d,D) = tf(t,d) \\cdot idf(t,D) = 0,69 * 0,3 = 0,21$$\n",
        "\n",
        "\n",
        "* ***Ejemplo 2***: Calculamos el ***tf-idf*** de la palabra \"**fabian**\" para el documento 2:\n",
        "    \n",
        "    * ***TF***:\n",
        "        - t: número de veces que aparece la palabra \"fabian\" en el documento 2 es 3\n",
        "        - d: número de palabras que tiene el documento 1 es 5\n",
        "\n",
        "        $$tf(t,d) = 1 + log(\\frac{3}{5}) =  0,78$$\n",
        "        \n",
        "    * ***IDF***:\n",
        "\n",
        "        - n<sub>t</sub>: número de documentos en los que aparece la palabra 'fabian' es 1\n",
        "        - D: número total de documentos en el corpus es 2\n",
        "\n",
        "        $$idf(t,D) = log(1 + \\frac{2}{1}) = 0,48$$\n",
        "        \n",
        "    * ***TF-IDF***:\n",
        "\n",
        "    $$tfidf(t,d,D) = tf(t,d) \\cdot idf(t,D) = 0,78 * 0,48 = 0,37$$\n",
        "\n",
        "\n",
        "**Observación:** \n",
        "\n",
        "- Las implementaciones del ***TF-IDF*** de **Scikit** y **Gensim** estan pensadas para corpus con un número relevante de documentos y de palabras, por tanto la implementación del ***TF-IDF*** acepta una serie de parámetros para no tener en cuenta Stop Words, palabras irrelevantes, etc. \n",
        "\n",
        "- Si se realiza una implementación del ***TF-IDF*** no van a conincidir los resultados de esa implementación con los resultados de las librerías de **Scikit** y **Gensim** a no ser que se modifiquen los parámetros de las funciones del ***TF-IDF***.\n",
        "\n"
      ],
      "metadata": {
        "id": "H00xqXSrcfx1"
      }
    },
    {
      "cell_type": "code",
      "source": [
        "# en Scikit\n",
        "from sklearn.feature_extraction.text import TfidfVectorizer\n",
        "\n",
        "tfidf = TfidfVectorizer()\n",
        "corpus = tfidf.fit_transform(documento)\n",
        "\n",
        "# Resultados\n",
        "print(tfidf.get_feature_names_out ())\n",
        "print(corpus.toarray())"
      ],
      "metadata": {
        "id": "LgRs5SuginSN"
      },
      "execution_count": null,
      "outputs": []
    },
    {
      "cell_type": "code",
      "source": [
        "# en Gensim\n",
        "tokenize = [nltk.word_tokenize(text) for text in documento]\n",
        "dictionary = gensim.corpora.Dictionary(tokenize)\n",
        "tfidf = gensim.models.TfidfModel(dictionary=dictionary, normalize=True)\n",
        "vectors = [tfidf[dictionary.doc2bow(doc)] for doc in tokenize]\n",
        "\n",
        "# Resultados\n",
        "print('Diccionario de palabras -> palabra: id\\n')\n",
        "print(dictionary.token2id)\n",
        "print('\\nApariciones de las palabras en los documentos (id, tfidf):')\n",
        "vectors"
      ],
      "metadata": {
        "id": "MN2-sp7FjT4q"
      },
      "execution_count": null,
      "outputs": []
    },
    {
      "cell_type": "markdown",
      "source": [
        "## ETIQUETADO MORFOLÓGICO : (*part-of-speech tagging*)\n",
        "\n",
        "NLTK nos da algunas herramientas para crear etiquetadores morfológicos, es decir, identificar si una palabra es verbo, sustantivo, adjetivo , etc.\n",
        "\n",
        "CC : coodinate conjunction\n",
        "\n",
        "CD : cardinal number\n",
        "\n",
        "DT : determiner\n",
        "\n",
        "EX ; existencial there\n",
        "\n",
        "FW : foeign word\n",
        "\n",
        "IN : preprosition or subordinating\n",
        "\n",
        "JJ : adjetive\n",
        "\n",
        "JJR : adjetive, comparative\n",
        "\n",
        "JJS : adjetive superlative\n",
        "...\n",
        "BV : verbo forma base\n",
        "\n",
        "VBD : verbo pasado\n",
        "\n",
        "VBG : verb gerundio\n",
        "\n",
        "ver\n",
        "\n",
        "[TAGGING](https://pythonspot.com/nltk-speech-tagging/)\n",
        "\n",
        "Usaremos primer : nltk.pos_tag que es un etiquetador morfológico basado en aprendizaje automático. A partir de miles de ejemplos de oraciones etiquetadas manualmente, el sistema *ha aprendido*, calculando frecuencias y generalizando cuál es la categoría gramatical más probable para cada token. "
      ],
      "metadata": {
        "id": "kkuwrCz0pVUg"
      }
    },
    {
      "cell_type": "code",
      "source": [
        "# inicialmente usaremos una función de NLTK denominada : nltk.pos_tag\n",
        "\n",
        "oracion1 = \"This is the lost dog I found at the park\".split()\n",
        "oracion2 = \"The progress of the humankind as I progress\".split()\n",
        "oracion3 = \"When I went to the University, I played soccer\".split()\n",
        "print(nltk.pos_tag(oracion1))\n",
        "print(nltk.pos_tag(oracion2))\n",
        "print(nltk.pos_tag(oracion3))"
      ],
      "metadata": {
        "id": "APvBZtBBpj3q"
      },
      "execution_count": null,
      "outputs": []
    },
    {
      "cell_type": "markdown",
      "source": [
        "### Etiquetador basado en Expresiones Regulares\n",
        "\n",
        "- Las expresiones regulares nos permiten especificar cadenas de texto.\n",
        "\n",
        "- Esta nos permite identificar patrones en las palabras para poderlas clasificar\n",
        "\n",
        "- Vamos a crear nuestra propia lista para etiquetar. (tagging)\n",
        "\n",
        "- El primer elemento es la expresión regular y la segunda la categoría gramatical. \n",
        "\n",
        "- Usamos la instrucción `RegexpTagger`. \n",
        "\n",
        "- Este ejemplo lo haremos en inglés\n",
        "\n",
        "Usaremos Raw String Notation (r'texto') : una forma en la cual Python nos permite implementar expresiones regulares.\n",
        "\n",
        "- El método que usamos es **.tag**"
      ],
      "metadata": {
        "id": "hqwo-Apxp70r"
      }
    },
    {
      "cell_type": "code",
      "source": [
        "¿Cuál es el error?\n",
        "pattern = [(r'(March)$', \"TAG\")] # $ : final de palabra\n",
        "tagger=nltk.RegexpTagger(pattern)\n",
        "\n",
        "print(tagger.tag('He was born in March 1991'))"
      ],
      "metadata": {
        "id": "529kEnWZqD_v"
      },
      "execution_count": null,
      "outputs": []
    },
    {
      "cell_type": "code",
      "source": [
        "patrones = [\n",
        "    (r'[Aa]m$', 'VBP'),               # irregular forms of 'to be' \n",
        "    (r'[Aa]re$', 'VBP'),              #  \n",
        "    (r'[Ii]s$', 'VBZ'),               #  \n",
        "    (r'[Ww]as$', 'VBD'),              #  \n",
        "    (r'[Ww]ere$', 'VBD'),             #  \n",
        "    (r'[Bb]een$', 'VBN'),             #  \n",
        "\n",
        "    (r'[Hh]ave$', 'VBP'),             # irregular forms of 'to be' \n",
        "    (r'[Hh]as$', 'VBZ'),              #  \n",
        "    (r'[Hh]ad$', 'VBD'),              #\n",
        "\n",
        "    (r'^I$', 'PRP'),                  # personal pronouns\n",
        "    (r'[Yy]ou$', 'PRP'),              # \n",
        "    (r'[Hh]e$', 'PRP'),               # \n",
        "    (r'[Ss]he$', 'PRP'),              # \n",
        "    (r'[Ii]t$', 'PRP'),               # \n",
        "    (r'[Tt]hey$', 'PRP'),             # \n",
        "    (r'[Aa]n?$', 'AT'),               #  (? se repite el caracter una o cero vez)\n",
        "    (r'[Tt]he$', 'AT'),               # \n",
        "\n",
        "    (r'[wW]h.+$', 'WP'),              # wh- pronoun  (. es cualquier caracter y + que se repite una o más veces)\n",
        "\n",
        "    (r'.*ing$', 'VBG'),               # gerunds\n",
        "\n",
        "    (r'.*ed$', 'VBD'),                # simple past\n",
        "\n",
        "    (r'.*es$', 'VBZ'),                # 3rd singular present\n",
        "\n",
        "    (r'[Cc]an(not|n\\'t)?$', 'MD'),    # modals\n",
        "    (r'[Mm]ight$', 'MD'),             # \n",
        "    (r'[Mm]ay$', 'MD'),               # \n",
        "\n",
        "    (r'.+ould$', 'MD'),               # modals: could, should, would\n",
        "\n",
        "    (r'.*ly$', 'RB'),                 # adverbs (.* re repite un caracter cero o más veces)\n",
        "\n",
        "    (r'.*\\'s$', 'NN$'),               # possessive nouns\n",
        "\n",
        "    (r'.*s$', 'NNS'),                 # plural nouns\n",
        "\n",
        "    (r'-?[0-9]+(.[0-9]+)?$', 'CD'),   # cardinal numbers\n",
        "\n",
        "    (r'^to$', 'TO'),                  # to \n",
        "\n",
        "    (r'^in$', 'IN'),                  # in prep\n",
        "\n",
        "    (r'^[A-Z]+([a-z])*$', 'NNP'),     # proper nouns \n",
        "\n",
        "    (r'.*', 'NN')                     # nouns (default)\n",
        "]\n",
        "\n",
        "regexTagger = nltk.RegexpTagger(patrones)"
      ],
      "metadata": {
        "id": "cpJLE4JaqPuX"
      },
      "execution_count": null,
      "outputs": []
    },
    {
      "cell_type": "code",
      "source": [
        "print(regexTagger.tag(\"I was taking a sunbath in Alpedrete\".split()))\n",
        "\n",
        "print(regexTagger.tag(\"She would have found 100 dollars in the bag\".split()))\n",
        "\n",
        "print(regexTagger.tag(\"DSFdfdsfsd 1852 to dgdfgould fXXXdg in XXXfdg\".split()))"
      ],
      "metadata": {
        "id": "AxTCiqNkqXXu"
      },
      "execution_count": null,
      "outputs": []
    },
    {
      "cell_type": "markdown",
      "source": [
        "# Taller de normalización\n",
        "\n",
        "* Se comparte los siguientes datos (./data/corpus_mundo_today.csv). fuente: \"https://www.elmundotoday.com/ (artículo)\n",
        "\n",
        "\n",
        "* Este CSV esta formado por 3 campos que son:\n",
        "\n",
        "    - Tema\n",
        "    - Título\n",
        "    - Texto\n",
        "    \n",
        "* **Objetivo**: Normalizar el ***Corpus*** tomando el *título* y *texto* como contenido de cada documento y crear 3 ***Bolsa de Palabras*** de la tres formas.\n",
        "\n",
        "## Punto 1\n",
        "\n",
        "* Dada una lista en la que cada elemento de la misma tiene el contenido (título + texto) de cada documento del corpus se pide:\n",
        "\n",
        "1. **Crear una función que devuelva los documentos *Tokenizados* (una lista de listas) y con los tokens (palabras) en minúsculas.**\n",
        "        * **input**: lista de documentos (lista de Strings).\n",
        "        * **output**: lista de listas, en la que cada lista contiene los tokens del documento.\n",
        "\n",
        "\n",
        "2. **Crear una función que elimine los tokens que sean signos de puntuación y *Stop-Words*.**\n",
        "\n",
        "        - **input**: lista de listas, en la que cada lista contiene los tokens del documento.\n",
        "        - **output**: lista de listas, en la que cada lista contiene los tokens del documento.\n",
        "\n",
        "3. **Crear una función que transforme cada token a su lema (*Lematización*)**\n",
        "        - **input**: lista de listas, en la que cada lista contiene los tokens del documento.\n",
        "        - **output**: lista de listas, en la que cada lista contiene los tokens del documento.\n",
        "\n",
        "4. **Crear una función que elimine todos los tokens que no sean *Nombres* (NOUN, PROPN), *Verbos*, *Advervios* o *Adjetivos*.**\n",
        "        - **input**: lista de listas, en la que cada lista contiene los tokens del documento.\n",
        "        - **output**: lista de listas, en la que cada lista contiene los tokens del documento.\n",
        "     \n",
        "5. **Función que dada una lista de documentos, devuelva los documentos normalizados. Este ejercicio ya esta hecho y simplemente tiene que funcionar llamando a las 4 funciones anteriores.**\n",
        "        -  **input**: lista de documentos (lista de Strings).\n",
        "        - **output**: lista de listas, en la que cada lista contiene los tokens del documento normalizados.\n",
        "\n",
        "\n",
        "## Punto 2 \n",
        "\n",
        "Aprovechando la normalización realizada anteriormente se pide:\n",
        "\n",
        "6. **Crear una función que dada una lista de documentos (*corpus*) tokenizados, elimine del corpus aquellos tokens que aparecen menos de 'N' veces (N=10) en el corpus**\n",
        "        * **input**: lista de listas, en la que cada lista contiene los tokens del documento normalizados.\n",
        "        * **input**: 'N' -> Parámetro que nos indica el número mínimo de apariciones de la palabra en el corpus.\n",
        "        * **output**: lista de listas, en la que cada lista contiene los tokens del documento normalizados.\n",
        "\n",
        "\n",
        "7. **Dado el corpus, normalizado y con tokens que aparecen 10 veces o más en el corpus, se pide crear una bolsa de palabras en ONE-HOT-ENCODE con Gensim**\n",
        "\n",
        "\n",
        "8. **Dado el corpus, normalizado y con tokens que aparecen 10 veces o más en el corpus, se pide crear una bolsa de palabras aplicando el TF-IDF con Scikit**\n",
        "    \n"
      ],
      "metadata": {
        "id": "YMMMrNM9q1Ja"
      }
    },
    {
      "cell_type": "code",
      "source": [],
      "metadata": {
        "id": "brVX0MnHsuHy"
      },
      "execution_count": null,
      "outputs": []
    }
  ]
}