{
 "cells": [
  {
   "cell_type": "markdown",
   "metadata": {
    "id": "gqQeORvKV10f"
   },
   "source": [
    "# TIPOS DE DATOS EN PYTHON\n",
    "\n",
    "Tipos de datos:\n",
    "\n",
    "- Integer: Tipo de dato para números enteros, ya sean positivos o negativos.\n",
    "\n",
    "- Float: Tipo de dato para números con precisión decimal, pueden ser negativos o positivos.\n",
    "\n",
    "- String: Tipo de dato para cadena de texto con caracteres alfanuméricos. En Python se colocan entre comillas.\n",
    "\n",
    "- Boolean: Tipo de dato que solo puede tener dos valores, True (Verdadero) o False (Falso)\n",
    "\n",
    "Nota: La función type() regresa el tipo de dato de una variable o valor\n"
   ]
  },
  {
   "cell_type": "markdown",
   "metadata": {
    "id": "OWIZUbZoWDJq"
   },
   "source": [
    "Veamos algunos ejemplos"
   ]
  },
  {
   "cell_type": "code",
   "execution_count": null,
   "metadata": {
    "id": "pv91F1OQWHEi"
   },
   "outputs": [],
   "source": [
    "print(type(34))"
   ]
  },
  {
   "cell_type": "code",
   "execution_count": null,
   "metadata": {
    "id": "P4-jCwfYWNm3"
   },
   "outputs": [],
   "source": [
    "print(type(\"fabian\"))"
   ]
  },
  {
   "cell_type": "code",
   "execution_count": null,
   "metadata": {
    "id": "nlTyP07oWXa7"
   },
   "outputs": [],
   "source": [
    "print(type(\"67\"))"
   ]
  },
  {
   "cell_type": "code",
   "execution_count": null,
   "metadata": {
    "colab": {
     "base_uri": "https://localhost:8080/"
    },
    "executionInfo": {
     "elapsed": 393,
     "status": "ok",
     "timestamp": 1675881998393,
     "user": {
      "displayName": "FABIAN SANCHEZ SALAZAR",
      "userId": "13785856712232060994"
     },
     "user_tz": 300
    },
    "id": "Or54yzZEWaq7",
    "outputId": "072aaeb6-23c6-485f-d9f2-6b91fa33f692"
   },
   "outputs": [
    {
     "name": "stdout",
     "output_type": "stream",
     "text": [
      "<class 'float'>\n"
     ]
    }
   ],
   "source": [
    "print(type(45.9))"
   ]
  },
  {
   "cell_type": "markdown",
   "metadata": {
    "id": "rF3MtOOAWqMh"
   },
   "source": [
    "- Los datos booleanos están dados por : False y True.\n",
    "\n",
    "- Estas son palabras restringuidas. "
   ]
  },
  {
   "cell_type": "code",
   "execution_count": null,
   "metadata": {
    "colab": {
     "base_uri": "https://localhost:8080/"
    },
    "executionInfo": {
     "elapsed": 47,
     "status": "ok",
     "timestamp": 1675901747214,
     "user": {
      "displayName": "Andrés Felipe Higuera",
      "userId": "03050837638027751105"
     },
     "user_tz": 300
    },
    "id": "RON_jI4TWfIv",
    "outputId": "8b38ffe9-f373-4051-c6d0-f9a8e873afbb"
   },
   "outputs": [
    {
     "name": "stdout",
     "output_type": "stream",
     "text": [
      "<class 'bool'>\n"
     ]
    }
   ],
   "source": [
    "print(type(False))"
   ]
  },
  {
   "cell_type": "code",
   "execution_count": null,
   "metadata": {
    "id": "GUM-WYYLW1ZB"
   },
   "outputs": [],
   "source": [
    "print(type(True))"
   ]
  },
  {
   "cell_type": "markdown",
   "metadata": {
    "id": "Lc1F3iRNXRcK"
   },
   "source": [
    "# OPERADORES ARITMÉTICOS EN PYHTON\n",
    "\n",
    "- Suma : +\n",
    "\n",
    "- Resta: -\n",
    "\n",
    "- Multiplicación: *\n",
    "\n",
    "- División: /\n",
    "\n",
    "- Potencia: ** , ^\n",
    "\n",
    "- División entera: //\n",
    "\n",
    "- Residuo: %\n",
    "\n",
    "Veamos algunos ejemplos"
   ]
  },
  {
   "cell_type": "code",
   "execution_count": null,
   "metadata": {
    "colab": {
     "base_uri": "https://localhost:8080/"
    },
    "executionInfo": {
     "elapsed": 159,
     "status": "ok",
     "timestamp": 1675903594370,
     "user": {
      "displayName": "FABIAN SANCHEZ SALAZAR",
      "userId": "13785856712232060994"
     },
     "user_tz": 300
    },
    "id": "HTKCt1rSXweP",
    "outputId": "5c553118-53fe-4c46-c469-6c440e83320b"
   },
   "outputs": [
    {
     "name": "stdout",
     "output_type": "stream",
     "text": [
      "90\n",
      "7\n",
      "1156\n",
      "33.333333333333336\n",
      "4\n",
      "3\n"
     ]
    }
   ],
   "source": [
    "print(34+56)\n",
    "print(30-23)\n",
    "print(34*34)\n",
    "print(100/3)\n",
    "print(23//5)\n",
    "print(23%5)"
   ]
  },
  {
   "cell_type": "markdown",
   "metadata": {
    "id": "uQPtGDIvX_kr"
   },
   "source": [
    "La función de redondeo en Python es: round(número, decimales)"
   ]
  },
  {
   "cell_type": "code",
   "execution_count": null,
   "metadata": {
    "colab": {
     "base_uri": "https://localhost:8080/"
    },
    "executionInfo": {
     "elapsed": 155,
     "status": "ok",
     "timestamp": 1675903611417,
     "user": {
      "displayName": "FABIAN SANCHEZ SALAZAR",
      "userId": "13785856712232060994"
     },
     "user_tz": 300
    },
    "id": "-dF6CYPMX-rS",
    "outputId": "dc5bf86e-0cf1-4971-b4e0-558e9a1cb920"
   },
   "outputs": [
    {
     "data": {
      "text/plain": [
       "5"
      ]
     },
     "execution_count": 2,
     "metadata": {},
     "output_type": "execute_result"
    }
   ],
   "source": [
    "round(4.5689)"
   ]
  },
  {
   "cell_type": "code",
   "execution_count": null,
   "metadata": {
    "colab": {
     "base_uri": "https://localhost:8080/"
    },
    "executionInfo": {
     "elapsed": 140,
     "status": "ok",
     "timestamp": 1675882458842,
     "user": {
      "displayName": "FABIAN SANCHEZ SALAZAR",
      "userId": "13785856712232060994"
     },
     "user_tz": 300
    },
    "id": "4rGUsT1SYJNS",
    "outputId": "68ab0776-21d9-4086-8df1-49714fd020bf"
   },
   "outputs": [
    {
     "data": {
      "text/plain": [
       "4.457"
      ]
     },
     "execution_count": 17,
     "metadata": {},
     "output_type": "execute_result"
    }
   ],
   "source": [
    "round(4.456783,3)"
   ]
  },
  {
   "cell_type": "code",
   "execution_count": null,
   "metadata": {
    "colab": {
     "base_uri": "https://localhost:8080/"
    },
    "executionInfo": {
     "elapsed": 138,
     "status": "ok",
     "timestamp": 1675882529893,
     "user": {
      "displayName": "FABIAN SANCHEZ SALAZAR",
      "userId": "13785856712232060994"
     },
     "user_tz": 300
    },
    "id": "I-EvtVUVYb7a",
    "outputId": "5996ebe2-e579-42a5-c75a-5cc52e1dd814"
   },
   "outputs": [
    {
     "name": "stdout",
     "output_type": "stream",
     "text": [
      "fabianpython\n"
     ]
    }
   ],
   "source": [
    "print(\"fabian\"+\"python\")"
   ]
  },
  {
   "cell_type": "markdown",
   "metadata": {
    "id": "kXohUek2YiK-"
   },
   "source": [
    "Observe que el significado de la suma de cadenas de texto es la concatenación de las cadenas. Es decir, pegarlas.\n",
    "\n",
    "- Ahora, qué sucede si sumamos un número con una cadena de texto."
   ]
  },
  {
   "cell_type": "code",
   "execution_count": null,
   "metadata": {
    "id": "Ry510m2MYrjm"
   },
   "outputs": [],
   "source": [
    "print(\"fabian\"+ 6)"
   ]
  },
  {
   "cell_type": "code",
   "execution_count": null,
   "metadata": {
    "id": "erX9heq1Y22_"
   },
   "outputs": [],
   "source": [
    "print(\"56\"+56)"
   ]
  },
  {
   "cell_type": "markdown",
   "metadata": {
    "id": "P-cFrt1WY8oP"
   },
   "source": [
    "Lo anterior \"56\"+36 también produce error ya que una es cadena de texto y el otro es un valor numérico."
   ]
  },
  {
   "cell_type": "markdown",
   "metadata": {
    "id": "P9S__duiZVK-"
   },
   "source": [
    "OBSERVACIÓN DE LA FUNCIÓN *print*"
   ]
  },
  {
   "cell_type": "code",
   "execution_count": null,
   "metadata": {
    "colab": {
     "base_uri": "https://localhost:8080/"
    },
    "executionInfo": {
     "elapsed": 151,
     "status": "ok",
     "timestamp": 1675903973732,
     "user": {
      "displayName": "FABIAN SANCHEZ SALAZAR",
      "userId": "13785856712232060994"
     },
     "user_tz": 300
    },
    "id": "MzhIeOs4ZaRj",
    "outputId": "e93cd852-102a-479b-a3a6-ff256bdb38ad"
   },
   "outputs": [
    {
     "name": "stdout",
     "output_type": "stream",
     "text": [
      "Me llamo Hugo sanchez y tengo 24 años\n"
     ]
    }
   ],
   "source": [
    "name = \"Hugo\" # defino una variable\n",
    "apellido = \"sanchez\"\n",
    "edad = 24\n",
    "print(\"Me llamo\", name, apellido, \"y tengo\", edad, \"años\")"
   ]
  },
  {
   "cell_type": "code",
   "execution_count": null,
   "metadata": {
    "colab": {
     "base_uri": "https://localhost:8080/"
    },
    "executionInfo": {
     "elapsed": 174,
     "status": "ok",
     "timestamp": 1675903975450,
     "user": {
      "displayName": "FABIAN SANCHEZ SALAZAR",
      "userId": "13785856712232060994"
     },
     "user_tz": 300
    },
    "id": "dwP7RSECaskR",
    "outputId": "d17e886e-707a-4ec2-c1b2-67f10f0e7672"
   },
   "outputs": [
    {
     "name": "stdout",
     "output_type": "stream",
     "text": [
      "Me llamo Hugo sanchez y tengo 24 años\n"
     ]
    }
   ],
   "source": [
    "# metodo f de print\n",
    "print(f\"Me llamo {name} {apellido} y tengo {edad} años\")"
   ]
  },
  {
   "cell_type": "code",
   "execution_count": null,
   "metadata": {
    "id": "PIETiTpJa8Ml"
   },
   "outputs": [],
   "source": [
    "# método format de print\n",
    "print(\"Me llamo {} {} y tengo {} años\".format(name, apellido, edad))"
   ]
  },
  {
   "cell_type": "markdown",
   "metadata": {
    "id": "2EYhtND7jjKG"
   },
   "source": [
    "# Gestión de cadenas (*strings*)\n",
    "\n",
    "Si nuestro objetivo es aprende a programar en Python para procesar texto, las **cadenas de caracteres** van a ser el principal tipo de dato que vamos a manejar. Como hemos visto antes, las cadenas se identifican en Python porque se declaran entre comillas dobles (`\"cadena\"`) o simples (`'cadena'`) o, si las cadenas son muy largas y ocupan más de una línea, entre triples pares de comillas. \n",
    "\n",
    "Algunos ejemplos de cadenas:"
   ]
  },
  {
   "cell_type": "code",
   "execution_count": 1,
   "metadata": {
    "executionInfo": {
     "elapsed": 3,
     "status": "ok",
     "timestamp": 1676036441522,
     "user": {
      "displayName": "FABIAN SANCHEZ SALAZAR",
      "userId": "13785856712232060994"
     },
     "user_tz": 300
    },
    "id": "JEP8sdcJjlop"
   },
   "outputs": [],
   "source": [
    "nombre = \"Godofredo de Orléans\"\n",
    "\n",
    "oracion = 'GREEN COLORLESS IDEAS SLEEP FURIOUSLY'\n",
    "\n",
    "parrafo = '''En un lugar de la Mancha, de cuyo nombre no quiero acordarme, \n",
    "no ha mucho tiempo que vivía un \"hidalgo\" de los de lanza en astillero, \n",
    "adarga antigua, rocín flaco y galgo corredor. Una olla de algo más vaca \n",
    "que carnero, salpicón las más noches, duelos y quebrantos los sábados, \n",
    "lentejas los viernes, algún palomino de añadidura los domingos, consumían \n",
    "las tres partes de su hacienda.'''"
   ]
  },
  {
   "cell_type": "code",
   "execution_count": null,
   "metadata": {
    "id": "19xWDFlQjqD9"
   },
   "outputs": [],
   "source": [
    "numero1 = 45852236\n",
    "numero2 = '45852236'\n",
    "\n",
    "# podemos realizar operaciones aritméticas entre números\n",
    "print(numero1 + 1)\n",
    "\n",
    "# pero no entre cadenas y números: esto da un error\n",
    "print(numero2 + 1)"
   ]
  },
  {
   "cell_type": "code",
   "execution_count": null,
   "metadata": {
    "id": "fCIFe3aQjs-m"
   },
   "outputs": [],
   "source": [
    "# sin embargo, sí puedo utilizar el operador '+' para concatenar varias cadenas\n",
    "print(numero2 + '1')\n",
    "print('¡Hola' + ' ' + 'amigo!')\n",
    "\n",
    "print(\"otra\", \"vez \" * 3)\n",
    "print(\"otra\" + \"vez\" * 3)"
   ]
  },
  {
   "cell_type": "code",
   "execution_count": null,
   "metadata": {
    "id": "WsNIC7MOj17O"
   },
   "outputs": [],
   "source": [
    "## Conversión ente cadenas y enteros\n",
    "\n",
    "Otra manera de generar cadenas de texto es utilizando la función `str()` con un argumento que no sea una cadena. Fíjate en los ejemplos:"
   ]
  },
  {
   "cell_type": "code",
   "execution_count": null,
   "metadata": {
    "id": "lNk6M77Vj3nm"
   },
   "outputs": [],
   "source": [
    "# guardamos en numero1 un entero\n",
    "numero1 = 45852236\n",
    "# en numero2, guardamos el valor de numero1 convertido a cadena de texto con la función str()\n",
    "numero2 = str(numero1)\n",
    "\n",
    "# con la función type() imprimimos por pantalla el tipo de dato que guarda una variable\n",
    "print(type(numero1)) # es un entero: int\n",
    "print(type(numero2)) # es una cadena: str\n",
    "\n",
    "\n",
    "print(\"\\nOtros tipos de datos son:\")\n",
    "print(type(2.3))\n",
    "print(type(True))\n",
    "print(type(\"\"))"
   ]
  },
  {
   "cell_type": "markdown",
   "metadata": {
    "id": "44ldn4ljj9Pm"
   },
   "source": [
    "Para hacer el paso contrario, es decir, transformar cadenas en enteros, podemos utilizar la función `int()`."
   ]
  },
  {
   "cell_type": "code",
   "execution_count": null,
   "metadata": {
    "id": "iyaS_LK9j-Ra"
   },
   "outputs": [],
   "source": [
    "# guardamos en numero1 una cadena\n",
    "numero1 = '45852236'\n",
    "# en numero2, guardamos el valor de numero1 convertido a entero con la función int()\n",
    "numero2 = int(numero1)\n",
    "\n",
    "# con la función type() imprimimos por pantalla el tipo de dato que guarda una variable\n",
    "\n",
    "print(type(numero1)) # es una cadena: str\n",
    "print(type(numero2)) # es un entero: int\n",
    "\n",
    "# esto no va a funcionar :-/ no podemos convertir cadenas a enteros\n",
    "otracosa = \"hola amigo\"\n",
    "print(int(otracosa))"
   ]
  },
  {
   "cell_type": "code",
   "execution_count": null,
   "metadata": {
    "id": "SdD4yEKkj8Bu"
   },
   "outputs": [],
   "source": [
    "Para hacer el paso contrario, es decir, transformar cadenas en enteros, podemos utilizar la función `int()`."
   ]
  },
  {
   "cell_type": "code",
   "execution_count": null,
   "metadata": {
    "id": "td7OmE4dbL0m"
   },
   "outputs": [],
   "source": [
    "oracion = \"Todos los carros rojos tienen una alta probabilidad de venderse por encima del precio del mercado\"\n",
    "print(len(oracion))\n",
    "print(\"por\" in oracion)\n",
    "print(oracion.startswith(\"Todos\"))\n",
    "print(oracion.endswith(\"Mercado\"))\n",
    "print(oracion.endswith(\"mercado\"))\n"
   ]
  },
  {
   "cell_type": "markdown",
   "metadata": {
    "id": "_2b8gR_RckCL"
   },
   "source": [
    "## TRANSFORMACIÓN DE TEXTO\n",
    "\n",
    "- cadena.upper() : cambia todo a mayúscula\n",
    "\n",
    "- cadena.lower() : cambia todo a minúscula\n",
    "\n",
    "- cadena.capitalize() : Cambia la primera letra a mayúcula\n",
    "\n",
    "- cadena. title() : cambia cada letra inicial a mayúscula\n",
    "\n",
    "- cadena.replace(\"a\", \"b\") : cambia la cadena \"a\" por la cadena \"b\""
   ]
  },
  {
   "cell_type": "code",
   "execution_count": null,
   "metadata": {
    "colab": {
     "base_uri": "https://localhost:8080/"
    },
    "executionInfo": {
     "elapsed": 499,
     "status": "ok",
     "timestamp": 1675883804875,
     "user": {
      "displayName": "FABIAN SANCHEZ SALAZAR",
      "userId": "13785856712232060994"
     },
     "user_tz": 300
    },
    "id": "aHgLX9LBc-zN",
    "outputId": "02d46cd9-a2a3-47bb-e2f8-ae94d1b149ae"
   },
   "outputs": [
    {
     "name": "stdout",
     "output_type": "stream",
     "text": [
      "TODOS LOS CARROS ROJOS TIENEN UNA ALTA PROBABILIDAD DE VENDERSE POR ENCIMA DEL PRECIO DEL MERCADO\n",
      "todos los carros rojos tienen una alta probabilidad de venderse por encima del precio del mercado\n",
      "Todos los carros rojos tienen una alta probabilidad de venderse por encima del precio del mercado\n",
      "Todos Los Carros Rojos Tienen Una Alta Probabilidad De Venderse Por Encima Del Precio Del Mercado\n",
      "Todos**los**carros**rojos**tienen**una**alta**probabilidad**de**venderse**por**encima**del**precio**del**mercado\n"
     ]
    }
   ],
   "source": [
    "print(oracion.upper())\n",
    "print(oracion.lower())\n",
    "print(oracion.capitalize())\n",
    "print(oracion.title())\n",
    "print(oracion.replace(\" \", \"**\"))"
   ]
  },
  {
   "cell_type": "markdown",
   "metadata": {
    "id": "r7VYdfFydptE"
   },
   "source": [
    "# LISTAS EN PYTHON\n",
    "\n",
    "- Las listas son objetos que permiten almacenar más de un dato.\n",
    "\n",
    "- Hacen parte de los **arrays** : son arreglos unidimensionales\n",
    "\n",
    "- Almacenan información de una sola variable\n",
    "\n",
    "- Para generar una lista usamos : [] o *list([])*"
   ]
  },
  {
   "cell_type": "code",
   "execution_count": null,
   "metadata": {
    "id": "S2PHsmiugVKd"
   },
   "outputs": [],
   "source": [
    "lista1 = [4,6,7,1,2,3,4,10]\n",
    "print(lista1)"
   ]
  },
  {
   "cell_type": "code",
   "execution_count": null,
   "metadata": {
    "id": "nYj8auGRga6q"
   },
   "outputs": [],
   "source": [
    "lista2 = list([3,6,7,1,2,5,9,0,18])\n",
    "print(lista2)"
   ]
  },
  {
   "cell_type": "code",
   "execution_count": null,
   "metadata": {
    "id": "zvkG16b2gr79"
   },
   "outputs": [],
   "source": [
    "print(len(lista1))\n",
    "print(len(lista2))\n",
    "print(type(lista1))"
   ]
  },
  {
   "cell_type": "code",
   "execution_count": null,
   "metadata": {
    "id": "28IWsRkGg0v2"
   },
   "outputs": [],
   "source": [
    "lista3 = [1,3,4, \"34\" , \"fabian\" , 4.7]\n",
    "print(lista3)"
   ]
  },
  {
   "cell_type": "markdown",
   "metadata": {
    "id": "ez8ZEhV8hFHR"
   },
   "source": [
    "## ACCEDER A LOS ELEMENTOS DE LA LISTA\n",
    "\n",
    "Para acceder a los elementos de la lista usamos lista[n]"
   ]
  },
  {
   "cell_type": "code",
   "execution_count": null,
   "metadata": {
    "id": "Gmw0QapzhNfJ"
   },
   "outputs": [],
   "source": [
    "print(lista3[0])\n",
    "print(lista3[1])\n",
    "print(lista3[2])\n",
    "print(lista3[3])\n",
    "print(lista3[4])\n",
    "print(lista3[5])\n"
   ]
  },
  {
   "cell_type": "code",
   "execution_count": null,
   "metadata": {
    "id": "XPxl40AKhZ_f"
   },
   "outputs": [],
   "source": [
    "# si colocamos negativos se cuenta de atrás hacia adelante\n",
    "print(lista3[-1])\n",
    "print(lista3[-2])"
   ]
  },
  {
   "cell_type": "markdown",
   "metadata": {
    "id": "Lj3YCGuQhuz2"
   },
   "source": [
    "## RECORRIENDO LAS LISTAS CON ESTRUCTURAS DE CONTROL\n",
    "\n",
    "- La estructura de control básica \"for\" tiene la siguiente forma\n",
    "\n",
    "for() --- in ---:\n",
    "\n",
    "     print(---)"
   ]
  },
  {
   "cell_type": "code",
   "execution_count": null,
   "metadata": {
    "id": "kCXUJyUyhEty"
   },
   "outputs": [],
   "source": [
    "# Recorriendo los elementos\n",
    "for elemento in lista3:\n",
    "  print(elemento)"
   ]
  },
  {
   "cell_type": "code",
   "execution_count": null,
   "metadata": {
    "id": "C9zHLVDciOyC"
   },
   "outputs": [],
   "source": [
    "# Recorriendo los índices\n",
    "for i in range(len(lista3)):\n",
    "  print(lista3[i])"
   ]
  },
  {
   "cell_type": "markdown",
   "metadata": {
    "id": "9Gs7LUr5ilZJ"
   },
   "source": [
    "MÁS INSTRUCCIÓNES CON LISTAS\n",
    "\n",
    "- append() : agregar elementos en la última posición.\n",
    "\n",
    "- pop() o remove() : eliminar elementos de la lista"
   ]
  },
  {
   "cell_type": "code",
   "execution_count": null,
   "metadata": {
    "id": "j8Dr-CnaizxH"
   },
   "outputs": [],
   "source": [
    "# agregar con append\n",
    "lista5 = [3,5,\"fabian\"]\n",
    "lista5.append(\"Hola\")\n",
    "print(lista5)"
   ]
  },
  {
   "cell_type": "code",
   "execution_count": null,
   "metadata": {
    "id": "DotY0RX8l3JV"
   },
   "outputs": [],
   "source": [
    "# quitar un elemento de acuerdo con el índice deseado\n",
    "lista6 = list([\"fabian\", \"carlos\", \"er\" , \"23\"])\n",
    "lista6.pop(2)\n",
    "print(lista6)"
   ]
  },
  {
   "cell_type": "code",
   "execution_count": null,
   "metadata": {
    "id": "d15eK5pPmL4i"
   },
   "outputs": [],
   "source": [
    "# quitar con remove de acuerdo a un elemento de la lista\n",
    "lista7 = [\"carro\" , \"casa\" , \"beca\"]\n",
    "lista7.remove(\"beca\")\n",
    "print(lista7)"
   ]
  },
  {
   "cell_type": "code",
   "execution_count": null,
   "metadata": {
    "id": "CAqd1P-ZjYGc"
   },
   "outputs": [],
   "source": [
    "lista3.pop()"
   ]
  },
  {
   "cell_type": "code",
   "execution_count": null,
   "metadata": {
    "id": "g9DRNlqhjFVH"
   },
   "outputs": [],
   "source": [
    "print(lista3)"
   ]
  },
  {
   "cell_type": "code",
   "execution_count": null,
   "metadata": {
    "colab": {
     "base_uri": "https://localhost:8080/"
    },
    "executionInfo": {
     "elapsed": 132,
     "status": "ok",
     "timestamp": 1675886944840,
     "user": {
      "displayName": "FABIAN SANCHEZ SALAZAR",
      "userId": "13785856712232060994"
     },
     "user_tz": 300
    },
    "id": "LUCYv5LdpHep",
    "outputId": "c0095f16-a69c-4e77-f3ed-c8f673a78c59"
   },
   "outputs": [
    {
     "name": "stdout",
     "output_type": "stream",
     "text": [
      "['carlos', 'andrea', 34, 'hola', 45]\n"
     ]
    }
   ],
   "source": [
    "# para cambiar los elementos de una lista\n",
    "lista8 = [\"fabian\", \"andrea\" , 34 , \"hola\" , 45]\n",
    "lista8[0] = \"carlos\"\n",
    "print(lista8)"
   ]
  },
  {
   "cell_type": "code",
   "execution_count": null,
   "metadata": {
    "id": "qPvkEKh_pgc1"
   },
   "outputs": [],
   "source": [
    "l=[1,4]\n",
    "for elemento in l:\n",
    "  print(lista8[elemento])"
   ]
  },
  {
   "cell_type": "markdown",
   "metadata": {
    "id": "0rQ8PkZhm8P0"
   },
   "source": [
    "## PARA ANALIZAR ESTA ESTRUCTURA DE CONTROL"
   ]
  },
  {
   "cell_type": "code",
   "execution_count": null,
   "metadata": {
    "id": "Yium__tImugW"
   },
   "outputs": [],
   "source": [
    "nombres = []\n",
    "identificaciones = []\n",
    "\n",
    "# Definimos un tamaño para las listas\n",
    "# Lo puedes cambiar si quieres\n",
    "tamaño = 3\n",
    "\n",
    "# Leemos los datos y los agregamos a la lista\n",
    "for i in range(tamaño):\n",
    "    print(\"Ingrese los datos de la persona\", i + 1)\n",
    "    nombre = input(\"Nombre: \")\n",
    "    identificación = input(\"Identificación: \")\n",
    "\n",
    "    nombres.append(nombre)\n",
    "    identificaciones.append(identificación)\n",
    "\n",
    "# Ahora mostremos las listas\n",
    "for i in range(tamaño):\n",
    "    print(\"Mostrando los datos de la persona\", i + 1)\n",
    "\n",
    "    print(\"Nombre:\", nombres[i])\n",
    "    print(\"Identificación:\", identificaciones[i])"
   ]
  },
  {
   "cell_type": "code",
   "execution_count": null,
   "metadata": {
    "colab": {
     "base_uri": "https://localhost:8080/"
    },
    "executionInfo": {
     "elapsed": 233,
     "status": "ok",
     "timestamp": 1675988810853,
     "user": {
      "displayName": "FABIAN SANCHEZ SALAZAR",
      "userId": "13785856712232060994"
     },
     "user_tz": 300
    },
    "id": "Bs0jWDgKtprQ",
    "outputId": "d4cdfe51-e1cb-4711-e33a-aca99d961d71"
   },
   "outputs": [
    {
     "name": "stdout",
     "output_type": "stream",
     "text": [
      "[3, 5, 6, 7, 2]\n"
     ]
    }
   ],
   "source": [
    "l=[3,5,6,7,2,4,6,7,90]\n",
    "print(l[0:5])\n"
   ]
  },
  {
   "cell_type": "code",
   "execution_count": null,
   "metadata": {
    "id": "CDwvXIV4ngMe"
   },
   "outputs": [],
   "source": [
    "# se puede crear usando la instrucción dict([])\n",
    "d2 = dict([(\"Nombre\", \"fabian\"),(\"Edad\", 24),(\"Sexo\", \"Masculino\"),(\"Cédula\", 80097865)])\n",
    "print(d2)"
   ]
  },
  {
   "cell_type": "code",
   "execution_count": null,
   "metadata": {
    "colab": {
     "base_uri": "https://localhost:8080/"
    },
    "executionInfo": {
     "elapsed": 199,
     "status": "ok",
     "timestamp": 1675987120271,
     "user": {
      "displayName": "FABIAN SANCHEZ SALAZAR",
      "userId": "13785856712232060994"
     },
     "user_tz": 300
    },
    "id": "HpBFcq9qoGuA",
    "outputId": "8f649534-c22c-47b6-c97a-fe8f2f88e33d"
   },
   "outputs": [
    {
     "name": "stdout",
     "output_type": "stream",
     "text": [
      "{'Nombre': 'Fabian', 'Edad': 24, 'Sexo': 'Masculino', 'Cédula': 80987656}\n"
     ]
    }
   ],
   "source": [
    "# se puede crear usando dict() así:\n",
    "d3 = dict(Nombre = \"Fabian\",\n",
    "          Edad = 24,\n",
    "          Sexo = \"Masculino\",\n",
    "          Cédula = 80987656)\n",
    "print(d3)"
   ]
  },
  {
   "cell_type": "code",
   "execution_count": null,
   "metadata": {
    "colab": {
     "base_uri": "https://localhost:8080/"
    },
    "executionInfo": {
     "elapsed": 209,
     "status": "ok",
     "timestamp": 1675987401999,
     "user": {
      "displayName": "FABIAN SANCHEZ SALAZAR",
      "userId": "13785856712232060994"
     },
     "user_tz": 300
    },
    "id": "3SDYU4QjoYKr",
    "outputId": "74119d11-d4fe-4f00-c9bf-65c5dae8d2f1"
   },
   "outputs": [
    {
     "name": "stdout",
     "output_type": "stream",
     "text": [
      "{'Nombre': ['fabian', 'andres', 'carlos'], 'Edad': [23, 34, 45]}\n"
     ]
    }
   ],
   "source": [
    "d4 = dict(Nombre = [\"fabian\", \"andres\", \"carlos\"],\n",
    "          Edad = [23,34,45])\n",
    "print(d4)"
   ]
  },
  {
   "cell_type": "code",
   "execution_count": null,
   "metadata": {
    "colab": {
     "base_uri": "https://localhost:8080/",
     "height": 36
    },
    "executionInfo": {
     "elapsed": 3,
     "status": "ok",
     "timestamp": 1675987823187,
     "user": {
      "displayName": "FABIAN SANCHEZ SALAZAR",
      "userId": "13785856712232060994"
     },
     "user_tz": 300
    },
    "id": "2r95oMdoqCTR",
    "outputId": "13cfd5ae-45c1-41be-a503-d2042db6a611"
   },
   "outputs": [
    {
     "data": {
      "application/vnd.google.colaboratory.intrinsic+json": {
       "type": "string"
      },
      "text/plain": [
       "'carlos'"
      ]
     },
     "execution_count": 13,
     "metadata": {},
     "output_type": "execute_result"
    }
   ],
   "source": [
    "d4[\"Nombre\"][2]"
   ]
  },
  {
   "cell_type": "markdown",
   "metadata": {
    "id": "KuSK4ufmokDW"
   },
   "source": [
    "## ACCEDER Y MODIFICAR ELEMENTOS DEL DICCIONARIO\n",
    "\n",
    "- Para acceder a un elemento del diccionario usamos la instrucción"
   ]
  },
  {
   "cell_type": "code",
   "execution_count": null,
   "metadata": {
    "colab": {
     "base_uri": "https://localhost:8080/"
    },
    "executionInfo": {
     "elapsed": 4,
     "status": "ok",
     "timestamp": 1675987538452,
     "user": {
      "displayName": "FABIAN SANCHEZ SALAZAR",
      "userId": "13785856712232060994"
     },
     "user_tz": 300
    },
    "id": "zQXHXm3Lr3CV",
    "outputId": "def7aae0-89be-4647-8980-e88cba66e236"
   },
   "outputs": [
    {
     "name": "stdout",
     "output_type": "stream",
     "text": [
      "Fabian\n"
     ]
    }
   ],
   "source": [
    "print(d3[\"Nombre\"])"
   ]
  },
  {
   "cell_type": "code",
   "execution_count": null,
   "metadata": {
    "colab": {
     "base_uri": "https://localhost:8080/"
    },
    "executionInfo": {
     "elapsed": 175,
     "status": "ok",
     "timestamp": 1675987668632,
     "user": {
      "displayName": "FABIAN SANCHEZ SALAZAR",
      "userId": "13785856712232060994"
     },
     "user_tz": 300
    },
    "id": "OKfSFffor9d_",
    "outputId": "0d422bed-6544-4f66-949b-cb88e92f8efe"
   },
   "outputs": [
    {
     "name": "stdout",
     "output_type": "stream",
     "text": [
      "['fabian', 'andres', 'carlos']\n"
     ]
    }
   ],
   "source": [
    "print(d4[\"Nombre\"])"
   ]
  },
  {
   "cell_type": "code",
   "execution_count": null,
   "metadata": {
    "id": "Jya-0VFUsCMP"
   },
   "outputs": [],
   "source": [
    "d4[\"Nombre\"][1] = \"Hugo\"\n",
    "print(d4)"
   ]
  },
  {
   "cell_type": "code",
   "execution_count": null,
   "metadata": {
    "colab": {
     "base_uri": "https://localhost:8080/"
    },
    "executionInfo": {
     "elapsed": 166,
     "status": "ok",
     "timestamp": 1675988018614,
     "user": {
      "displayName": "FABIAN SANCHEZ SALAZAR",
      "userId": "13785856712232060994"
     },
     "user_tz": 300
    },
    "id": "-VZNc1dRsmfV",
    "outputId": "e5603758-f1e8-497b-aecf-a3638de4decc"
   },
   "outputs": [
    {
     "name": "stdout",
     "output_type": "stream",
     "text": [
      "Nombre\n",
      "Edad\n",
      "Sexo\n",
      "Cédula\n"
     ]
    }
   ],
   "source": [
    "# ¿Qué hace la siguiente estructura?\n",
    "for elemento in d3:\n",
    "  print(elemento)"
   ]
  },
  {
   "cell_type": "code",
   "execution_count": null,
   "metadata": {
    "colab": {
     "base_uri": "https://localhost:8080/"
    },
    "executionInfo": {
     "elapsed": 193,
     "status": "ok",
     "timestamp": 1675988141062,
     "user": {
      "displayName": "FABIAN SANCHEZ SALAZAR",
      "userId": "13785856712232060994"
     },
     "user_tz": 300
    },
    "id": "nRBW46GpszWy",
    "outputId": "f9b75ced-8b69-447d-e704-e46fc940c605"
   },
   "outputs": [
    {
     "name": "stdout",
     "output_type": "stream",
     "text": [
      "Fabian\n",
      "24\n",
      "Masculino\n",
      "80987656\n"
     ]
    }
   ],
   "source": [
    "# ¿Qué hace la siguiente estructura?\n",
    "for elemento in d3:\n",
    "  print(d3[elemento])"
   ]
  },
  {
   "cell_type": "markdown",
   "metadata": {
    "id": "Dr0hjyBJs_3w"
   },
   "source": [
    "# DATA.FRAME\n",
    "\n",
    "- Son arreglos bidimensionales: fila y columna\n",
    "\n",
    "Algunas instrucciones útiles:\n",
    "\n",
    "**df.info()** : Devuelve información (número de filas, número de columnas, índices, tipo de las columnas y memoria usado) sobre el DataFrame df.\n",
    "\n",
    "**df.shape** : Devuelve una tupla con el número de filas y columnas del DataFrame df.\n",
    "\n",
    "**df.size** : Devuelve el número de elementos del DataFrame.\n",
    "\n",
    "**df.columns** : Devuelve una lista con los nombres de las columnas del DataFrame df.\n",
    "\n",
    "**df.index** : Devuelve una lista con los nombres de las filas del DataFrame df.\n",
    "\n",
    "**df.dtypes** : Devuelve una serie con los tipos de datos de las columnas del DataFrame df.\n",
    "\n",
    "**df.head(n)** : Devuelve las n primeras filas del DataFrame df.\n",
    "\n",
    "**df.tail(n)** : Devuelve las n últimas filas del DataFrame df.\n"
   ]
  },
  {
   "cell_type": "markdown",
   "metadata": {
    "id": "oUIHFeJAtsnO"
   },
   "source": [
    "<center><FONT SIZE=8 COLOR=\"Green\"> Carga de Datos </FONT></center>\n",
    "\n",
    "Vamos a cargar datos desde el drive en diferentes formatos."
   ]
  },
  {
   "cell_type": "code",
   "execution_count": 20,
   "metadata": {
    "colab": {
     "base_uri": "https://localhost:8080/"
    },
    "executionInfo": {
     "elapsed": 15750,
     "status": "ok",
     "timestamp": 1676040855360,
     "user": {
      "displayName": "FABIAN SANCHEZ SALAZAR",
      "userId": "13785856712232060994"
     },
     "user_tz": 300
    },
    "id": "6YlbAh8NtX8t",
    "outputId": "a3b09fad-f3d7-4925-cb02-72f22cf73c2e"
   },
   "outputs": [
    {
     "name": "stdout",
     "output_type": "stream",
     "text": [
      "Mounted at /content/drive\n"
     ]
    }
   ],
   "source": [
    "#para acceder a los datos del drive\n",
    "from google.colab import drive\n",
    "drive.mount('/content/drive')"
   ]
  },
  {
   "cell_type": "code",
   "execution_count": null,
   "metadata": {
    "id": "bbo-ky5BuKxx"
   },
   "outputs": [],
   "source": [
    "#para importar la librería pandas.\n",
    "import pandas as pd"
   ]
  },
  {
   "cell_type": "code",
   "execution_count": null,
   "metadata": {
    "id": "dxn9f2QiuPqa"
   },
   "outputs": [],
   "source": [
    "datos1 = pd.read_csv(\"/content/drive/MyDrive/2. Sesión 1. Python. Fundamentos/APARTAMENTOS.csv\")\n"
   ]
  },
  {
   "cell_type": "code",
   "execution_count": null,
   "metadata": {
    "colab": {
     "base_uri": "https://localhost:8080/",
     "height": 468
    },
    "executionInfo": {
     "elapsed": 164,
     "status": "ok",
     "timestamp": 1675990359152,
     "user": {
      "displayName": "FABIAN SANCHEZ SALAZAR",
      "userId": "13785856712232060994"
     },
     "user_tz": 300
    },
    "id": "Tfnqsub7zIfO",
    "outputId": "3d8db709-224a-4425-ba73-24f89075da73"
   },
   "outputs": [
    {
     "data": {
      "text/html": [
       "\n",
       "  <div id=\"df-b88fa9df-0299-4a9f-84d5-8bfeaa975e56\">\n",
       "    <div class=\"colab-df-container\">\n",
       "      <div>\n",
       "<style scoped>\n",
       "    .dataframe tbody tr th:only-of-type {\n",
       "        vertical-align: middle;\n",
       "    }\n",
       "\n",
       "    .dataframe tbody tr th {\n",
       "        vertical-align: top;\n",
       "    }\n",
       "\n",
       "    .dataframe thead th {\n",
       "        text-align: right;\n",
       "    }\n",
       "</style>\n",
       "<table border=\"1\" class=\"dataframe\">\n",
       "  <thead>\n",
       "    <tr style=\"text-align: right;\">\n",
       "      <th></th>\n",
       "      <th>Unnamed: 0</th>\n",
       "      <th>precio</th>\n",
       "      <th>mt2</th>\n",
       "      <th>ubicacion</th>\n",
       "      <th>estrato</th>\n",
       "      <th>alcobas</th>\n",
       "      <th>banos</th>\n",
       "      <th>balcon</th>\n",
       "      <th>parqueadero</th>\n",
       "      <th>administracion</th>\n",
       "      <th>avaluo</th>\n",
       "      <th>terminado</th>\n",
       "    </tr>\n",
       "  </thead>\n",
       "  <tbody>\n",
       "    <tr>\n",
       "      <th>0</th>\n",
       "      <td>1</td>\n",
       "      <td>79.0</td>\n",
       "      <td>43.16</td>\n",
       "      <td>norte</td>\n",
       "      <td>3</td>\n",
       "      <td>3</td>\n",
       "      <td>1</td>\n",
       "      <td>si</td>\n",
       "      <td>si</td>\n",
       "      <td>0.050</td>\n",
       "      <td>14.923002</td>\n",
       "      <td>no</td>\n",
       "    </tr>\n",
       "    <tr>\n",
       "      <th>1</th>\n",
       "      <td>2</td>\n",
       "      <td>93.0</td>\n",
       "      <td>56.92</td>\n",
       "      <td>norte</td>\n",
       "      <td>2</td>\n",
       "      <td>2</td>\n",
       "      <td>1</td>\n",
       "      <td>si</td>\n",
       "      <td>si</td>\n",
       "      <td>0.069</td>\n",
       "      <td>27.000000</td>\n",
       "      <td>si</td>\n",
       "    </tr>\n",
       "    <tr>\n",
       "      <th>2</th>\n",
       "      <td>3</td>\n",
       "      <td>100.0</td>\n",
       "      <td>66.40</td>\n",
       "      <td>norte</td>\n",
       "      <td>3</td>\n",
       "      <td>2</td>\n",
       "      <td>2</td>\n",
       "      <td>no</td>\n",
       "      <td>no</td>\n",
       "      <td>0.000</td>\n",
       "      <td>15.738427</td>\n",
       "      <td>no</td>\n",
       "    </tr>\n",
       "    <tr>\n",
       "      <th>3</th>\n",
       "      <td>4</td>\n",
       "      <td>123.0</td>\n",
       "      <td>61.85</td>\n",
       "      <td>norte</td>\n",
       "      <td>2</td>\n",
       "      <td>3</td>\n",
       "      <td>2</td>\n",
       "      <td>si</td>\n",
       "      <td>si</td>\n",
       "      <td>0.130</td>\n",
       "      <td>27.000000</td>\n",
       "      <td>no</td>\n",
       "    </tr>\n",
       "    <tr>\n",
       "      <th>4</th>\n",
       "      <td>5</td>\n",
       "      <td>135.0</td>\n",
       "      <td>89.80</td>\n",
       "      <td>norte</td>\n",
       "      <td>4</td>\n",
       "      <td>3</td>\n",
       "      <td>2</td>\n",
       "      <td>si</td>\n",
       "      <td>no</td>\n",
       "      <td>0.000</td>\n",
       "      <td>39.567000</td>\n",
       "      <td>si</td>\n",
       "    </tr>\n",
       "    <tr>\n",
       "      <th>...</th>\n",
       "      <td>...</td>\n",
       "      <td>...</td>\n",
       "      <td>...</td>\n",
       "      <td>...</td>\n",
       "      <td>...</td>\n",
       "      <td>...</td>\n",
       "      <td>...</td>\n",
       "      <td>...</td>\n",
       "      <td>...</td>\n",
       "      <td>...</td>\n",
       "      <td>...</td>\n",
       "      <td>...</td>\n",
       "    </tr>\n",
       "    <tr>\n",
       "      <th>689</th>\n",
       "      <td>690</td>\n",
       "      <td>498.0</td>\n",
       "      <td>180.00</td>\n",
       "      <td>laureles</td>\n",
       "      <td>5</td>\n",
       "      <td>4</td>\n",
       "      <td>3</td>\n",
       "      <td>si</td>\n",
       "      <td>si</td>\n",
       "      <td>0.570</td>\n",
       "      <td>233.784000</td>\n",
       "      <td>si</td>\n",
       "    </tr>\n",
       "    <tr>\n",
       "      <th>690</th>\n",
       "      <td>691</td>\n",
       "      <td>508.0</td>\n",
       "      <td>209.00</td>\n",
       "      <td>laureles</td>\n",
       "      <td>6</td>\n",
       "      <td>4</td>\n",
       "      <td>3</td>\n",
       "      <td>si</td>\n",
       "      <td>si</td>\n",
       "      <td>0.450</td>\n",
       "      <td>258.850000</td>\n",
       "      <td>si</td>\n",
       "    </tr>\n",
       "    <tr>\n",
       "      <th>691</th>\n",
       "      <td>692</td>\n",
       "      <td>550.0</td>\n",
       "      <td>149.00</td>\n",
       "      <td>laureles</td>\n",
       "      <td>6</td>\n",
       "      <td>3</td>\n",
       "      <td>4</td>\n",
       "      <td>no</td>\n",
       "      <td>si</td>\n",
       "      <td>0.747</td>\n",
       "      <td>326.157000</td>\n",
       "      <td>si</td>\n",
       "    </tr>\n",
       "    <tr>\n",
       "      <th>692</th>\n",
       "      <td>693</td>\n",
       "      <td>630.0</td>\n",
       "      <td>179.00</td>\n",
       "      <td>laureles</td>\n",
       "      <td>5</td>\n",
       "      <td>3</td>\n",
       "      <td>3</td>\n",
       "      <td>si</td>\n",
       "      <td>si</td>\n",
       "      <td>0.340</td>\n",
       "      <td>324.114000</td>\n",
       "      <td>si</td>\n",
       "    </tr>\n",
       "    <tr>\n",
       "      <th>693</th>\n",
       "      <td>694</td>\n",
       "      <td>1350.0</td>\n",
       "      <td>494.00</td>\n",
       "      <td>laureles</td>\n",
       "      <td>5</td>\n",
       "      <td>3</td>\n",
       "      <td>4</td>\n",
       "      <td>si</td>\n",
       "      <td>si</td>\n",
       "      <td>1.600</td>\n",
       "      <td>320.000000</td>\n",
       "      <td>si</td>\n",
       "    </tr>\n",
       "  </tbody>\n",
       "</table>\n",
       "<p>694 rows × 12 columns</p>\n",
       "</div>\n",
       "      <button class=\"colab-df-convert\" onclick=\"convertToInteractive('df-b88fa9df-0299-4a9f-84d5-8bfeaa975e56')\"\n",
       "              title=\"Convert this dataframe to an interactive table.\"\n",
       "              style=\"display:none;\">\n",
       "        \n",
       "  <svg xmlns=\"http://www.w3.org/2000/svg\" height=\"24px\"viewBox=\"0 0 24 24\"\n",
       "       width=\"24px\">\n",
       "    <path d=\"M0 0h24v24H0V0z\" fill=\"none\"/>\n",
       "    <path d=\"M18.56 5.44l.94 2.06.94-2.06 2.06-.94-2.06-.94-.94-2.06-.94 2.06-2.06.94zm-11 1L8.5 8.5l.94-2.06 2.06-.94-2.06-.94L8.5 2.5l-.94 2.06-2.06.94zm10 10l.94 2.06.94-2.06 2.06-.94-2.06-.94-.94-2.06-.94 2.06-2.06.94z\"/><path d=\"M17.41 7.96l-1.37-1.37c-.4-.4-.92-.59-1.43-.59-.52 0-1.04.2-1.43.59L10.3 9.45l-7.72 7.72c-.78.78-.78 2.05 0 2.83L4 21.41c.39.39.9.59 1.41.59.51 0 1.02-.2 1.41-.59l7.78-7.78 2.81-2.81c.8-.78.8-2.07 0-2.86zM5.41 20L4 18.59l7.72-7.72 1.47 1.35L5.41 20z\"/>\n",
       "  </svg>\n",
       "      </button>\n",
       "      \n",
       "  <style>\n",
       "    .colab-df-container {\n",
       "      display:flex;\n",
       "      flex-wrap:wrap;\n",
       "      gap: 12px;\n",
       "    }\n",
       "\n",
       "    .colab-df-convert {\n",
       "      background-color: #E8F0FE;\n",
       "      border: none;\n",
       "      border-radius: 50%;\n",
       "      cursor: pointer;\n",
       "      display: none;\n",
       "      fill: #1967D2;\n",
       "      height: 32px;\n",
       "      padding: 0 0 0 0;\n",
       "      width: 32px;\n",
       "    }\n",
       "\n",
       "    .colab-df-convert:hover {\n",
       "      background-color: #E2EBFA;\n",
       "      box-shadow: 0px 1px 2px rgba(60, 64, 67, 0.3), 0px 1px 3px 1px rgba(60, 64, 67, 0.15);\n",
       "      fill: #174EA6;\n",
       "    }\n",
       "\n",
       "    [theme=dark] .colab-df-convert {\n",
       "      background-color: #3B4455;\n",
       "      fill: #D2E3FC;\n",
       "    }\n",
       "\n",
       "    [theme=dark] .colab-df-convert:hover {\n",
       "      background-color: #434B5C;\n",
       "      box-shadow: 0px 1px 3px 1px rgba(0, 0, 0, 0.15);\n",
       "      filter: drop-shadow(0px 1px 2px rgba(0, 0, 0, 0.3));\n",
       "      fill: #FFFFFF;\n",
       "    }\n",
       "  </style>\n",
       "\n",
       "      <script>\n",
       "        const buttonEl =\n",
       "          document.querySelector('#df-b88fa9df-0299-4a9f-84d5-8bfeaa975e56 button.colab-df-convert');\n",
       "        buttonEl.style.display =\n",
       "          google.colab.kernel.accessAllowed ? 'block' : 'none';\n",
       "\n",
       "        async function convertToInteractive(key) {\n",
       "          const element = document.querySelector('#df-b88fa9df-0299-4a9f-84d5-8bfeaa975e56');\n",
       "          const dataTable =\n",
       "            await google.colab.kernel.invokeFunction('convertToInteractive',\n",
       "                                                     [key], {});\n",
       "          if (!dataTable) return;\n",
       "\n",
       "          const docLinkHtml = 'Like what you see? Visit the ' +\n",
       "            '<a target=\"_blank\" href=https://colab.research.google.com/notebooks/data_table.ipynb>data table notebook</a>'\n",
       "            + ' to learn more about interactive tables.';\n",
       "          element.innerHTML = '';\n",
       "          dataTable['output_type'] = 'display_data';\n",
       "          await google.colab.output.renderOutput(dataTable, element);\n",
       "          const docLink = document.createElement('div');\n",
       "          docLink.innerHTML = docLinkHtml;\n",
       "          element.appendChild(docLink);\n",
       "        }\n",
       "      </script>\n",
       "    </div>\n",
       "  </div>\n",
       "  "
      ],
      "text/plain": [
       "     Unnamed: 0  precio     mt2 ubicacion  estrato  alcobas  banos balcon  \\\n",
       "0             1    79.0   43.16     norte        3        3      1     si   \n",
       "1             2    93.0   56.92     norte        2        2      1     si   \n",
       "2             3   100.0   66.40     norte        3        2      2     no   \n",
       "3             4   123.0   61.85     norte        2        3      2     si   \n",
       "4             5   135.0   89.80     norte        4        3      2     si   \n",
       "..          ...     ...     ...       ...      ...      ...    ...    ...   \n",
       "689         690   498.0  180.00  laureles        5        4      3     si   \n",
       "690         691   508.0  209.00  laureles        6        4      3     si   \n",
       "691         692   550.0  149.00  laureles        6        3      4     no   \n",
       "692         693   630.0  179.00  laureles        5        3      3     si   \n",
       "693         694  1350.0  494.00  laureles        5        3      4     si   \n",
       "\n",
       "    parqueadero  administracion      avaluo terminado  \n",
       "0            si           0.050   14.923002        no  \n",
       "1            si           0.069   27.000000        si  \n",
       "2            no           0.000   15.738427        no  \n",
       "3            si           0.130   27.000000        no  \n",
       "4            no           0.000   39.567000        si  \n",
       "..          ...             ...         ...       ...  \n",
       "689          si           0.570  233.784000        si  \n",
       "690          si           0.450  258.850000        si  \n",
       "691          si           0.747  326.157000        si  \n",
       "692          si           0.340  324.114000        si  \n",
       "693          si           1.600  320.000000        si  \n",
       "\n",
       "[694 rows x 12 columns]"
      ]
     },
     "execution_count": 32,
     "metadata": {},
     "output_type": "execute_result"
    }
   ],
   "source": [
    "# no es recomendable imprimir todo el data.frame\n",
    "datos1"
   ]
  },
  {
   "cell_type": "code",
   "execution_count": null,
   "metadata": {
    "colab": {
     "base_uri": "https://localhost:8080/",
     "height": 250
    },
    "executionInfo": {
     "elapsed": 213,
     "status": "ok",
     "timestamp": 1675990576675,
     "user": {
      "displayName": "FABIAN SANCHEZ SALAZAR",
      "userId": "13785856712232060994"
     },
     "user_tz": 300
    },
    "id": "tHFR3JpT0gbr",
    "outputId": "6d2e48dc-ce5a-4385-aa48-ad440b0856c6"
   },
   "outputs": [
    {
     "data": {
      "text/html": [
       "\n",
       "  <div id=\"df-c3a0c3a4-5d25-4fdf-b899-f74df4d9bce0\">\n",
       "    <div class=\"colab-df-container\">\n",
       "      <div>\n",
       "<style scoped>\n",
       "    .dataframe tbody tr th:only-of-type {\n",
       "        vertical-align: middle;\n",
       "    }\n",
       "\n",
       "    .dataframe tbody tr th {\n",
       "        vertical-align: top;\n",
       "    }\n",
       "\n",
       "    .dataframe thead th {\n",
       "        text-align: right;\n",
       "    }\n",
       "</style>\n",
       "<table border=\"1\" class=\"dataframe\">\n",
       "  <thead>\n",
       "    <tr style=\"text-align: right;\">\n",
       "      <th></th>\n",
       "      <th>Unnamed: 0</th>\n",
       "      <th>precio</th>\n",
       "      <th>mt2</th>\n",
       "      <th>ubicacion</th>\n",
       "      <th>estrato</th>\n",
       "      <th>alcobas</th>\n",
       "      <th>banos</th>\n",
       "      <th>balcon</th>\n",
       "      <th>parqueadero</th>\n",
       "      <th>administracion</th>\n",
       "      <th>avaluo</th>\n",
       "      <th>terminado</th>\n",
       "    </tr>\n",
       "  </thead>\n",
       "  <tbody>\n",
       "    <tr>\n",
       "      <th>0</th>\n",
       "      <td>1</td>\n",
       "      <td>79.0</td>\n",
       "      <td>43.16</td>\n",
       "      <td>norte</td>\n",
       "      <td>3</td>\n",
       "      <td>3</td>\n",
       "      <td>1</td>\n",
       "      <td>si</td>\n",
       "      <td>si</td>\n",
       "      <td>0.050</td>\n",
       "      <td>14.923002</td>\n",
       "      <td>no</td>\n",
       "    </tr>\n",
       "    <tr>\n",
       "      <th>1</th>\n",
       "      <td>2</td>\n",
       "      <td>93.0</td>\n",
       "      <td>56.92</td>\n",
       "      <td>norte</td>\n",
       "      <td>2</td>\n",
       "      <td>2</td>\n",
       "      <td>1</td>\n",
       "      <td>si</td>\n",
       "      <td>si</td>\n",
       "      <td>0.069</td>\n",
       "      <td>27.000000</td>\n",
       "      <td>si</td>\n",
       "    </tr>\n",
       "    <tr>\n",
       "      <th>2</th>\n",
       "      <td>3</td>\n",
       "      <td>100.0</td>\n",
       "      <td>66.40</td>\n",
       "      <td>norte</td>\n",
       "      <td>3</td>\n",
       "      <td>2</td>\n",
       "      <td>2</td>\n",
       "      <td>no</td>\n",
       "      <td>no</td>\n",
       "      <td>0.000</td>\n",
       "      <td>15.738427</td>\n",
       "      <td>no</td>\n",
       "    </tr>\n",
       "    <tr>\n",
       "      <th>3</th>\n",
       "      <td>4</td>\n",
       "      <td>123.0</td>\n",
       "      <td>61.85</td>\n",
       "      <td>norte</td>\n",
       "      <td>2</td>\n",
       "      <td>3</td>\n",
       "      <td>2</td>\n",
       "      <td>si</td>\n",
       "      <td>si</td>\n",
       "      <td>0.130</td>\n",
       "      <td>27.000000</td>\n",
       "      <td>no</td>\n",
       "    </tr>\n",
       "    <tr>\n",
       "      <th>4</th>\n",
       "      <td>5</td>\n",
       "      <td>135.0</td>\n",
       "      <td>89.80</td>\n",
       "      <td>norte</td>\n",
       "      <td>4</td>\n",
       "      <td>3</td>\n",
       "      <td>2</td>\n",
       "      <td>si</td>\n",
       "      <td>no</td>\n",
       "      <td>0.000</td>\n",
       "      <td>39.567000</td>\n",
       "      <td>si</td>\n",
       "    </tr>\n",
       "  </tbody>\n",
       "</table>\n",
       "</div>\n",
       "      <button class=\"colab-df-convert\" onclick=\"convertToInteractive('df-c3a0c3a4-5d25-4fdf-b899-f74df4d9bce0')\"\n",
       "              title=\"Convert this dataframe to an interactive table.\"\n",
       "              style=\"display:none;\">\n",
       "        \n",
       "  <svg xmlns=\"http://www.w3.org/2000/svg\" height=\"24px\"viewBox=\"0 0 24 24\"\n",
       "       width=\"24px\">\n",
       "    <path d=\"M0 0h24v24H0V0z\" fill=\"none\"/>\n",
       "    <path d=\"M18.56 5.44l.94 2.06.94-2.06 2.06-.94-2.06-.94-.94-2.06-.94 2.06-2.06.94zm-11 1L8.5 8.5l.94-2.06 2.06-.94-2.06-.94L8.5 2.5l-.94 2.06-2.06.94zm10 10l.94 2.06.94-2.06 2.06-.94-2.06-.94-.94-2.06-.94 2.06-2.06.94z\"/><path d=\"M17.41 7.96l-1.37-1.37c-.4-.4-.92-.59-1.43-.59-.52 0-1.04.2-1.43.59L10.3 9.45l-7.72 7.72c-.78.78-.78 2.05 0 2.83L4 21.41c.39.39.9.59 1.41.59.51 0 1.02-.2 1.41-.59l7.78-7.78 2.81-2.81c.8-.78.8-2.07 0-2.86zM5.41 20L4 18.59l7.72-7.72 1.47 1.35L5.41 20z\"/>\n",
       "  </svg>\n",
       "      </button>\n",
       "      \n",
       "  <style>\n",
       "    .colab-df-container {\n",
       "      display:flex;\n",
       "      flex-wrap:wrap;\n",
       "      gap: 12px;\n",
       "    }\n",
       "\n",
       "    .colab-df-convert {\n",
       "      background-color: #E8F0FE;\n",
       "      border: none;\n",
       "      border-radius: 50%;\n",
       "      cursor: pointer;\n",
       "      display: none;\n",
       "      fill: #1967D2;\n",
       "      height: 32px;\n",
       "      padding: 0 0 0 0;\n",
       "      width: 32px;\n",
       "    }\n",
       "\n",
       "    .colab-df-convert:hover {\n",
       "      background-color: #E2EBFA;\n",
       "      box-shadow: 0px 1px 2px rgba(60, 64, 67, 0.3), 0px 1px 3px 1px rgba(60, 64, 67, 0.15);\n",
       "      fill: #174EA6;\n",
       "    }\n",
       "\n",
       "    [theme=dark] .colab-df-convert {\n",
       "      background-color: #3B4455;\n",
       "      fill: #D2E3FC;\n",
       "    }\n",
       "\n",
       "    [theme=dark] .colab-df-convert:hover {\n",
       "      background-color: #434B5C;\n",
       "      box-shadow: 0px 1px 3px 1px rgba(0, 0, 0, 0.15);\n",
       "      filter: drop-shadow(0px 1px 2px rgba(0, 0, 0, 0.3));\n",
       "      fill: #FFFFFF;\n",
       "    }\n",
       "  </style>\n",
       "\n",
       "      <script>\n",
       "        const buttonEl =\n",
       "          document.querySelector('#df-c3a0c3a4-5d25-4fdf-b899-f74df4d9bce0 button.colab-df-convert');\n",
       "        buttonEl.style.display =\n",
       "          google.colab.kernel.accessAllowed ? 'block' : 'none';\n",
       "\n",
       "        async function convertToInteractive(key) {\n",
       "          const element = document.querySelector('#df-c3a0c3a4-5d25-4fdf-b899-f74df4d9bce0');\n",
       "          const dataTable =\n",
       "            await google.colab.kernel.invokeFunction('convertToInteractive',\n",
       "                                                     [key], {});\n",
       "          if (!dataTable) return;\n",
       "\n",
       "          const docLinkHtml = 'Like what you see? Visit the ' +\n",
       "            '<a target=\"_blank\" href=https://colab.research.google.com/notebooks/data_table.ipynb>data table notebook</a>'\n",
       "            + ' to learn more about interactive tables.';\n",
       "          element.innerHTML = '';\n",
       "          dataTable['output_type'] = 'display_data';\n",
       "          await google.colab.output.renderOutput(dataTable, element);\n",
       "          const docLink = document.createElement('div');\n",
       "          docLink.innerHTML = docLinkHtml;\n",
       "          element.appendChild(docLink);\n",
       "        }\n",
       "      </script>\n",
       "    </div>\n",
       "  </div>\n",
       "  "
      ],
      "text/plain": [
       "   Unnamed: 0  precio    mt2 ubicacion  estrato  alcobas  banos balcon  \\\n",
       "0           1    79.0  43.16     norte        3        3      1     si   \n",
       "1           2    93.0  56.92     norte        2        2      1     si   \n",
       "2           3   100.0  66.40     norte        3        2      2     no   \n",
       "3           4   123.0  61.85     norte        2        3      2     si   \n",
       "4           5   135.0  89.80     norte        4        3      2     si   \n",
       "\n",
       "  parqueadero  administracion     avaluo terminado  \n",
       "0          si           0.050  14.923002        no  \n",
       "1          si           0.069  27.000000        si  \n",
       "2          no           0.000  15.738427        no  \n",
       "3          si           0.130  27.000000        no  \n",
       "4          no           0.000  39.567000        si  "
      ]
     },
     "execution_count": 34,
     "metadata": {},
     "output_type": "execute_result"
    }
   ],
   "source": [
    "datos1.head()"
   ]
  },
  {
   "cell_type": "code",
   "execution_count": null,
   "metadata": {
    "id": "lo4z-mMByuAl"
   },
   "outputs": [],
   "source": [
    "# la inscrucción .head() permite mostrar la cabeza del dataframe.\n",
    "datos1.head(10)"
   ]
  },
  {
   "cell_type": "markdown",
   "metadata": {
    "id": "t7I641ucyIcD"
   },
   "source": [
    "<center><FONT SIZE=8 COLOR=\"blue\"> Exploración de Datos </FONT></center>\n",
    "\n",
    "Vamos a usar algunas instrucciones para exploración de data.frames."
   ]
  },
  {
   "cell_type": "code",
   "execution_count": null,
   "metadata": {
    "id": "cdwzwAmnvNZZ"
   },
   "outputs": [],
   "source": [
    "datos2 = pd.read_json(\"/content/drive/MyDrive/Colab Notebooks/espectro.json\")\n",
    "datos2.head(7)"
   ]
  },
  {
   "cell_type": "code",
   "execution_count": null,
   "metadata": {
    "colab": {
     "base_uri": "https://localhost:8080/",
     "height": 237
    },
    "executionInfo": {
     "elapsed": 235,
     "status": "ok",
     "timestamp": 1675991876979,
     "user": {
      "displayName": "FABIAN SANCHEZ SALAZAR",
      "userId": "13785856712232060994"
     },
     "user_tz": 300
    },
    "id": "1sT8-EUnvqKU",
    "outputId": "7460a4dd-8334-41e2-9247-bdda6f7a8fe5"
   },
   "outputs": [
    {
     "data": {
      "text/html": [
       "\n",
       "  <div id=\"df-fbccf137-2cdc-4d70-a2b2-eebb4b10031e\">\n",
       "    <div class=\"colab-df-container\">\n",
       "      <div>\n",
       "<style scoped>\n",
       "    .dataframe tbody tr th:only-of-type {\n",
       "        vertical-align: middle;\n",
       "    }\n",
       "\n",
       "    .dataframe tbody tr th {\n",
       "        vertical-align: top;\n",
       "    }\n",
       "\n",
       "    .dataframe thead th {\n",
       "        text-align: right;\n",
       "    }\n",
       "</style>\n",
       "<table border=\"1\" class=\"dataframe\">\n",
       "  <thead>\n",
       "    <tr style=\"text-align: right;\">\n",
       "      <th></th>\n",
       "      <th>PERSONA</th>\n",
       "      <th>EDAD</th>\n",
       "      <th>SEXO</th>\n",
       "      <th>ESTATURA</th>\n",
       "      <th>NIVEL_ESCOLAR</th>\n",
       "      <th>MARCA_DE_AUTO</th>\n",
       "      <th>NUMERO_DE_HIJOS</th>\n",
       "      <th>SALARIO</th>\n",
       "    </tr>\n",
       "  </thead>\n",
       "  <tbody>\n",
       "    <tr>\n",
       "      <th>0</th>\n",
       "      <td>PERSONA_1</td>\n",
       "      <td>21.0</td>\n",
       "      <td>M</td>\n",
       "      <td>1,54</td>\n",
       "      <td>MAESTRIA</td>\n",
       "      <td>AUDI</td>\n",
       "      <td>0.0</td>\n",
       "      <td>1200000.0</td>\n",
       "    </tr>\n",
       "    <tr>\n",
       "      <th>1</th>\n",
       "      <td>PERSONA_2</td>\n",
       "      <td>26.0</td>\n",
       "      <td>F</td>\n",
       "      <td>1,55</td>\n",
       "      <td>PROFESIONAL</td>\n",
       "      <td>RENAULT</td>\n",
       "      <td>5.0</td>\n",
       "      <td>1250000.0</td>\n",
       "    </tr>\n",
       "    <tr>\n",
       "      <th>2</th>\n",
       "      <td>PERSONA_3</td>\n",
       "      <td>30.0</td>\n",
       "      <td>F</td>\n",
       "      <td>1,6</td>\n",
       "      <td>DOCTORADO</td>\n",
       "      <td>BMW</td>\n",
       "      <td>2.0</td>\n",
       "      <td>900000.0</td>\n",
       "    </tr>\n",
       "    <tr>\n",
       "      <th>3</th>\n",
       "      <td>PERSONA_4</td>\n",
       "      <td>31.0</td>\n",
       "      <td>F</td>\n",
       "      <td>1,7</td>\n",
       "      <td>PROFESIONAL</td>\n",
       "      <td>RENAULT</td>\n",
       "      <td>2.0</td>\n",
       "      <td>800000.0</td>\n",
       "    </tr>\n",
       "    <tr>\n",
       "      <th>4</th>\n",
       "      <td>PERSONA_5</td>\n",
       "      <td>35.0</td>\n",
       "      <td>M</td>\n",
       "      <td>1,71</td>\n",
       "      <td>MAESTRIA</td>\n",
       "      <td>AUDI</td>\n",
       "      <td>1.0</td>\n",
       "      <td>950000.0</td>\n",
       "    </tr>\n",
       "    <tr>\n",
       "      <th>5</th>\n",
       "      <td>PERSONA_6</td>\n",
       "      <td>65.0</td>\n",
       "      <td>M</td>\n",
       "      <td>1,8</td>\n",
       "      <td>MAESTRIA</td>\n",
       "      <td>AUDI</td>\n",
       "      <td>1.0</td>\n",
       "      <td>2000000.0</td>\n",
       "    </tr>\n",
       "  </tbody>\n",
       "</table>\n",
       "</div>\n",
       "      <button class=\"colab-df-convert\" onclick=\"convertToInteractive('df-fbccf137-2cdc-4d70-a2b2-eebb4b10031e')\"\n",
       "              title=\"Convert this dataframe to an interactive table.\"\n",
       "              style=\"display:none;\">\n",
       "        \n",
       "  <svg xmlns=\"http://www.w3.org/2000/svg\" height=\"24px\"viewBox=\"0 0 24 24\"\n",
       "       width=\"24px\">\n",
       "    <path d=\"M0 0h24v24H0V0z\" fill=\"none\"/>\n",
       "    <path d=\"M18.56 5.44l.94 2.06.94-2.06 2.06-.94-2.06-.94-.94-2.06-.94 2.06-2.06.94zm-11 1L8.5 8.5l.94-2.06 2.06-.94-2.06-.94L8.5 2.5l-.94 2.06-2.06.94zm10 10l.94 2.06.94-2.06 2.06-.94-2.06-.94-.94-2.06-.94 2.06-2.06.94z\"/><path d=\"M17.41 7.96l-1.37-1.37c-.4-.4-.92-.59-1.43-.59-.52 0-1.04.2-1.43.59L10.3 9.45l-7.72 7.72c-.78.78-.78 2.05 0 2.83L4 21.41c.39.39.9.59 1.41.59.51 0 1.02-.2 1.41-.59l7.78-7.78 2.81-2.81c.8-.78.8-2.07 0-2.86zM5.41 20L4 18.59l7.72-7.72 1.47 1.35L5.41 20z\"/>\n",
       "  </svg>\n",
       "      </button>\n",
       "      \n",
       "  <style>\n",
       "    .colab-df-container {\n",
       "      display:flex;\n",
       "      flex-wrap:wrap;\n",
       "      gap: 12px;\n",
       "    }\n",
       "\n",
       "    .colab-df-convert {\n",
       "      background-color: #E8F0FE;\n",
       "      border: none;\n",
       "      border-radius: 50%;\n",
       "      cursor: pointer;\n",
       "      display: none;\n",
       "      fill: #1967D2;\n",
       "      height: 32px;\n",
       "      padding: 0 0 0 0;\n",
       "      width: 32px;\n",
       "    }\n",
       "\n",
       "    .colab-df-convert:hover {\n",
       "      background-color: #E2EBFA;\n",
       "      box-shadow: 0px 1px 2px rgba(60, 64, 67, 0.3), 0px 1px 3px 1px rgba(60, 64, 67, 0.15);\n",
       "      fill: #174EA6;\n",
       "    }\n",
       "\n",
       "    [theme=dark] .colab-df-convert {\n",
       "      background-color: #3B4455;\n",
       "      fill: #D2E3FC;\n",
       "    }\n",
       "\n",
       "    [theme=dark] .colab-df-convert:hover {\n",
       "      background-color: #434B5C;\n",
       "      box-shadow: 0px 1px 3px 1px rgba(0, 0, 0, 0.15);\n",
       "      filter: drop-shadow(0px 1px 2px rgba(0, 0, 0, 0.3));\n",
       "      fill: #FFFFFF;\n",
       "    }\n",
       "  </style>\n",
       "\n",
       "      <script>\n",
       "        const buttonEl =\n",
       "          document.querySelector('#df-fbccf137-2cdc-4d70-a2b2-eebb4b10031e button.colab-df-convert');\n",
       "        buttonEl.style.display =\n",
       "          google.colab.kernel.accessAllowed ? 'block' : 'none';\n",
       "\n",
       "        async function convertToInteractive(key) {\n",
       "          const element = document.querySelector('#df-fbccf137-2cdc-4d70-a2b2-eebb4b10031e');\n",
       "          const dataTable =\n",
       "            await google.colab.kernel.invokeFunction('convertToInteractive',\n",
       "                                                     [key], {});\n",
       "          if (!dataTable) return;\n",
       "\n",
       "          const docLinkHtml = 'Like what you see? Visit the ' +\n",
       "            '<a target=\"_blank\" href=https://colab.research.google.com/notebooks/data_table.ipynb>data table notebook</a>'\n",
       "            + ' to learn more about interactive tables.';\n",
       "          element.innerHTML = '';\n",
       "          dataTable['output_type'] = 'display_data';\n",
       "          await google.colab.output.renderOutput(dataTable, element);\n",
       "          const docLink = document.createElement('div');\n",
       "          docLink.innerHTML = docLinkHtml;\n",
       "          element.appendChild(docLink);\n",
       "        }\n",
       "      </script>\n",
       "    </div>\n",
       "  </div>\n",
       "  "
      ],
      "text/plain": [
       "     PERSONA  EDAD SEXO ESTATURA NIVEL_ESCOLAR MARCA_DE_AUTO  NUMERO_DE_HIJOS  \\\n",
       "0  PERSONA_1  21.0    M     1,54      MAESTRIA          AUDI              0.0   \n",
       "1  PERSONA_2  26.0    F     1,55   PROFESIONAL       RENAULT              5.0   \n",
       "2  PERSONA_3  30.0    F      1,6     DOCTORADO           BMW              2.0   \n",
       "3  PERSONA_4  31.0    F      1,7   PROFESIONAL       RENAULT              2.0   \n",
       "4  PERSONA_5  35.0    M     1,71      MAESTRIA          AUDI              1.0   \n",
       "5  PERSONA_6  65.0    M      1,8      MAESTRIA          AUDI              1.0   \n",
       "\n",
       "     SALARIO  \n",
       "0  1200000.0  \n",
       "1  1250000.0  \n",
       "2   900000.0  \n",
       "3   800000.0  \n",
       "4   950000.0  \n",
       "5  2000000.0  "
      ]
     },
     "execution_count": 46,
     "metadata": {},
     "output_type": "execute_result"
    }
   ],
   "source": [
    "datos3 = pd.read_csv(\"/content/drive/MyDrive/2. Sesión 1. Python. Fundamentos/TABLA_PERSONAS.txt\", sep = \"\\t\")\n",
    "datos3.head(6)"
   ]
  },
  {
   "cell_type": "code",
   "execution_count": null,
   "metadata": {
    "colab": {
     "base_uri": "https://localhost:8080/"
    },
    "executionInfo": {
     "elapsed": 175,
     "status": "ok",
     "timestamp": 1675991308833,
     "user": {
      "displayName": "FABIAN SANCHEZ SALAZAR",
      "userId": "13785856712232060994"
     },
     "user_tz": 300
    },
    "id": "An4LeSMFxALn",
    "outputId": "242e3d12-132b-4ea8-ef42-71221f515980"
   },
   "outputs": [
    {
     "data": {
      "text/plain": [
       "pandas.core.frame.DataFrame"
      ]
     },
     "execution_count": 40,
     "metadata": {},
     "output_type": "execute_result"
    }
   ],
   "source": [
    "# tipo de elemento\n",
    "type(datos1)"
   ]
  },
  {
   "cell_type": "code",
   "execution_count": null,
   "metadata": {
    "colab": {
     "base_uri": "https://localhost:8080/"
    },
    "executionInfo": {
     "elapsed": 193,
     "status": "ok",
     "timestamp": 1675991377931,
     "user": {
      "displayName": "FABIAN SANCHEZ SALAZAR",
      "userId": "13785856712232060994"
     },
     "user_tz": 300
    },
    "id": "PPpo-2RFxD0v",
    "outputId": "c0c31e4f-06a0-4da4-9a16-fd0537ec1d5a"
   },
   "outputs": [
    {
     "data": {
      "text/plain": [
       "(694, 12)"
      ]
     },
     "execution_count": 41,
     "metadata": {},
     "output_type": "execute_result"
    }
   ],
   "source": [
    "# para ver la dimensión del conjunto de datos usamos .shape : filas x columnas\n",
    "datos1.shape"
   ]
  },
  {
   "cell_type": "code",
   "execution_count": null,
   "metadata": {
    "colab": {
     "base_uri": "https://localhost:8080/",
     "height": 313
    },
    "executionInfo": {
     "elapsed": 186,
     "status": "ok",
     "timestamp": 1675991437250,
     "user": {
      "displayName": "FABIAN SANCHEZ SALAZAR",
      "userId": "13785856712232060994"
     },
     "user_tz": 300
    },
    "id": "RVAOjY1rxL3X",
    "outputId": "b76443c4-2614-4a31-b603-58ab2be42d24"
   },
   "outputs": [
    {
     "data": {
      "text/html": [
       "\n",
       "  <div id=\"df-8498fea6-dffc-4685-b03f-8e7b5716789e\">\n",
       "    <div class=\"colab-df-container\">\n",
       "      <div>\n",
       "<style scoped>\n",
       "    .dataframe tbody tr th:only-of-type {\n",
       "        vertical-align: middle;\n",
       "    }\n",
       "\n",
       "    .dataframe tbody tr th {\n",
       "        vertical-align: top;\n",
       "    }\n",
       "\n",
       "    .dataframe thead th {\n",
       "        text-align: right;\n",
       "    }\n",
       "</style>\n",
       "<table border=\"1\" class=\"dataframe\">\n",
       "  <thead>\n",
       "    <tr style=\"text-align: right;\">\n",
       "      <th></th>\n",
       "      <th>Unnamed: 0</th>\n",
       "      <th>precio</th>\n",
       "      <th>mt2</th>\n",
       "      <th>ubicacion</th>\n",
       "      <th>estrato</th>\n",
       "      <th>alcobas</th>\n",
       "      <th>banos</th>\n",
       "      <th>balcon</th>\n",
       "      <th>parqueadero</th>\n",
       "      <th>administracion</th>\n",
       "      <th>avaluo</th>\n",
       "      <th>terminado</th>\n",
       "    </tr>\n",
       "  </thead>\n",
       "  <tbody>\n",
       "    <tr>\n",
       "      <th>0</th>\n",
       "      <td>1</td>\n",
       "      <td>79.0</td>\n",
       "      <td>43.16</td>\n",
       "      <td>norte</td>\n",
       "      <td>3</td>\n",
       "      <td>3</td>\n",
       "      <td>1</td>\n",
       "      <td>si</td>\n",
       "      <td>si</td>\n",
       "      <td>0.050</td>\n",
       "      <td>14.923002</td>\n",
       "      <td>no</td>\n",
       "    </tr>\n",
       "    <tr>\n",
       "      <th>1</th>\n",
       "      <td>2</td>\n",
       "      <td>93.0</td>\n",
       "      <td>56.92</td>\n",
       "      <td>norte</td>\n",
       "      <td>2</td>\n",
       "      <td>2</td>\n",
       "      <td>1</td>\n",
       "      <td>si</td>\n",
       "      <td>si</td>\n",
       "      <td>0.069</td>\n",
       "      <td>27.000000</td>\n",
       "      <td>si</td>\n",
       "    </tr>\n",
       "    <tr>\n",
       "      <th>2</th>\n",
       "      <td>3</td>\n",
       "      <td>100.0</td>\n",
       "      <td>66.40</td>\n",
       "      <td>norte</td>\n",
       "      <td>3</td>\n",
       "      <td>2</td>\n",
       "      <td>2</td>\n",
       "      <td>no</td>\n",
       "      <td>no</td>\n",
       "      <td>0.000</td>\n",
       "      <td>15.738427</td>\n",
       "      <td>no</td>\n",
       "    </tr>\n",
       "    <tr>\n",
       "      <th>3</th>\n",
       "      <td>4</td>\n",
       "      <td>123.0</td>\n",
       "      <td>61.85</td>\n",
       "      <td>norte</td>\n",
       "      <td>2</td>\n",
       "      <td>3</td>\n",
       "      <td>2</td>\n",
       "      <td>si</td>\n",
       "      <td>si</td>\n",
       "      <td>0.130</td>\n",
       "      <td>27.000000</td>\n",
       "      <td>no</td>\n",
       "    </tr>\n",
       "    <tr>\n",
       "      <th>4</th>\n",
       "      <td>5</td>\n",
       "      <td>135.0</td>\n",
       "      <td>89.80</td>\n",
       "      <td>norte</td>\n",
       "      <td>4</td>\n",
       "      <td>3</td>\n",
       "      <td>2</td>\n",
       "      <td>si</td>\n",
       "      <td>no</td>\n",
       "      <td>0.000</td>\n",
       "      <td>39.567000</td>\n",
       "      <td>si</td>\n",
       "    </tr>\n",
       "    <tr>\n",
       "      <th>5</th>\n",
       "      <td>6</td>\n",
       "      <td>140.0</td>\n",
       "      <td>71.00</td>\n",
       "      <td>norte</td>\n",
       "      <td>3</td>\n",
       "      <td>3</td>\n",
       "      <td>2</td>\n",
       "      <td>no</td>\n",
       "      <td>si</td>\n",
       "      <td>0.120</td>\n",
       "      <td>31.145508</td>\n",
       "      <td>si</td>\n",
       "    </tr>\n",
       "    <tr>\n",
       "      <th>6</th>\n",
       "      <td>7</td>\n",
       "      <td>145.0</td>\n",
       "      <td>54.83</td>\n",
       "      <td>norte</td>\n",
       "      <td>3</td>\n",
       "      <td>2</td>\n",
       "      <td>2</td>\n",
       "      <td>si</td>\n",
       "      <td>si</td>\n",
       "      <td>0.140</td>\n",
       "      <td>27.000000</td>\n",
       "      <td>si</td>\n",
       "    </tr>\n",
       "  </tbody>\n",
       "</table>\n",
       "</div>\n",
       "      <button class=\"colab-df-convert\" onclick=\"convertToInteractive('df-8498fea6-dffc-4685-b03f-8e7b5716789e')\"\n",
       "              title=\"Convert this dataframe to an interactive table.\"\n",
       "              style=\"display:none;\">\n",
       "        \n",
       "  <svg xmlns=\"http://www.w3.org/2000/svg\" height=\"24px\"viewBox=\"0 0 24 24\"\n",
       "       width=\"24px\">\n",
       "    <path d=\"M0 0h24v24H0V0z\" fill=\"none\"/>\n",
       "    <path d=\"M18.56 5.44l.94 2.06.94-2.06 2.06-.94-2.06-.94-.94-2.06-.94 2.06-2.06.94zm-11 1L8.5 8.5l.94-2.06 2.06-.94-2.06-.94L8.5 2.5l-.94 2.06-2.06.94zm10 10l.94 2.06.94-2.06 2.06-.94-2.06-.94-.94-2.06-.94 2.06-2.06.94z\"/><path d=\"M17.41 7.96l-1.37-1.37c-.4-.4-.92-.59-1.43-.59-.52 0-1.04.2-1.43.59L10.3 9.45l-7.72 7.72c-.78.78-.78 2.05 0 2.83L4 21.41c.39.39.9.59 1.41.59.51 0 1.02-.2 1.41-.59l7.78-7.78 2.81-2.81c.8-.78.8-2.07 0-2.86zM5.41 20L4 18.59l7.72-7.72 1.47 1.35L5.41 20z\"/>\n",
       "  </svg>\n",
       "      </button>\n",
       "      \n",
       "  <style>\n",
       "    .colab-df-container {\n",
       "      display:flex;\n",
       "      flex-wrap:wrap;\n",
       "      gap: 12px;\n",
       "    }\n",
       "\n",
       "    .colab-df-convert {\n",
       "      background-color: #E8F0FE;\n",
       "      border: none;\n",
       "      border-radius: 50%;\n",
       "      cursor: pointer;\n",
       "      display: none;\n",
       "      fill: #1967D2;\n",
       "      height: 32px;\n",
       "      padding: 0 0 0 0;\n",
       "      width: 32px;\n",
       "    }\n",
       "\n",
       "    .colab-df-convert:hover {\n",
       "      background-color: #E2EBFA;\n",
       "      box-shadow: 0px 1px 2px rgba(60, 64, 67, 0.3), 0px 1px 3px 1px rgba(60, 64, 67, 0.15);\n",
       "      fill: #174EA6;\n",
       "    }\n",
       "\n",
       "    [theme=dark] .colab-df-convert {\n",
       "      background-color: #3B4455;\n",
       "      fill: #D2E3FC;\n",
       "    }\n",
       "\n",
       "    [theme=dark] .colab-df-convert:hover {\n",
       "      background-color: #434B5C;\n",
       "      box-shadow: 0px 1px 3px 1px rgba(0, 0, 0, 0.15);\n",
       "      filter: drop-shadow(0px 1px 2px rgba(0, 0, 0, 0.3));\n",
       "      fill: #FFFFFF;\n",
       "    }\n",
       "  </style>\n",
       "\n",
       "      <script>\n",
       "        const buttonEl =\n",
       "          document.querySelector('#df-8498fea6-dffc-4685-b03f-8e7b5716789e button.colab-df-convert');\n",
       "        buttonEl.style.display =\n",
       "          google.colab.kernel.accessAllowed ? 'block' : 'none';\n",
       "\n",
       "        async function convertToInteractive(key) {\n",
       "          const element = document.querySelector('#df-8498fea6-dffc-4685-b03f-8e7b5716789e');\n",
       "          const dataTable =\n",
       "            await google.colab.kernel.invokeFunction('convertToInteractive',\n",
       "                                                     [key], {});\n",
       "          if (!dataTable) return;\n",
       "\n",
       "          const docLinkHtml = 'Like what you see? Visit the ' +\n",
       "            '<a target=\"_blank\" href=https://colab.research.google.com/notebooks/data_table.ipynb>data table notebook</a>'\n",
       "            + ' to learn more about interactive tables.';\n",
       "          element.innerHTML = '';\n",
       "          dataTable['output_type'] = 'display_data';\n",
       "          await google.colab.output.renderOutput(dataTable, element);\n",
       "          const docLink = document.createElement('div');\n",
       "          docLink.innerHTML = docLinkHtml;\n",
       "          element.appendChild(docLink);\n",
       "        }\n",
       "      </script>\n",
       "    </div>\n",
       "  </div>\n",
       "  "
      ],
      "text/plain": [
       "   Unnamed: 0  precio    mt2 ubicacion  estrato  alcobas  banos balcon  \\\n",
       "0           1    79.0  43.16     norte        3        3      1     si   \n",
       "1           2    93.0  56.92     norte        2        2      1     si   \n",
       "2           3   100.0  66.40     norte        3        2      2     no   \n",
       "3           4   123.0  61.85     norte        2        3      2     si   \n",
       "4           5   135.0  89.80     norte        4        3      2     si   \n",
       "5           6   140.0  71.00     norte        3        3      2     no   \n",
       "6           7   145.0  54.83     norte        3        2      2     si   \n",
       "\n",
       "  parqueadero  administracion     avaluo terminado  \n",
       "0          si           0.050  14.923002        no  \n",
       "1          si           0.069  27.000000        si  \n",
       "2          no           0.000  15.738427        no  \n",
       "3          si           0.130  27.000000        no  \n",
       "4          no           0.000  39.567000        si  \n",
       "5          si           0.120  31.145508        si  \n",
       "6          si           0.140  27.000000        si  "
      ]
     },
     "execution_count": 42,
     "metadata": {},
     "output_type": "execute_result"
    }
   ],
   "source": [
    "# para ver la cabeza de los datos\n",
    "datos1.head(7)"
   ]
  },
  {
   "cell_type": "code",
   "execution_count": null,
   "metadata": {
    "colab": {
     "base_uri": "https://localhost:8080/",
     "height": 313
    },
    "executionInfo": {
     "elapsed": 182,
     "status": "ok",
     "timestamp": 1675991500225,
     "user": {
      "displayName": "FABIAN SANCHEZ SALAZAR",
      "userId": "13785856712232060994"
     },
     "user_tz": 300
    },
    "id": "NklKXIQIxTJs",
    "outputId": "b9815a19-f9a6-4888-d741-591aec1b6852"
   },
   "outputs": [
    {
     "data": {
      "text/html": [
       "\n",
       "  <div id=\"df-0538fe2a-da98-43d7-927e-258a3d8c81a3\">\n",
       "    <div class=\"colab-df-container\">\n",
       "      <div>\n",
       "<style scoped>\n",
       "    .dataframe tbody tr th:only-of-type {\n",
       "        vertical-align: middle;\n",
       "    }\n",
       "\n",
       "    .dataframe tbody tr th {\n",
       "        vertical-align: top;\n",
       "    }\n",
       "\n",
       "    .dataframe thead th {\n",
       "        text-align: right;\n",
       "    }\n",
       "</style>\n",
       "<table border=\"1\" class=\"dataframe\">\n",
       "  <thead>\n",
       "    <tr style=\"text-align: right;\">\n",
       "      <th></th>\n",
       "      <th>Unnamed: 0</th>\n",
       "      <th>precio</th>\n",
       "      <th>mt2</th>\n",
       "      <th>ubicacion</th>\n",
       "      <th>estrato</th>\n",
       "      <th>alcobas</th>\n",
       "      <th>banos</th>\n",
       "      <th>balcon</th>\n",
       "      <th>parqueadero</th>\n",
       "      <th>administracion</th>\n",
       "      <th>avaluo</th>\n",
       "      <th>terminado</th>\n",
       "    </tr>\n",
       "  </thead>\n",
       "  <tbody>\n",
       "    <tr>\n",
       "      <th>687</th>\n",
       "      <td>688</td>\n",
       "      <td>450.0</td>\n",
       "      <td>204.0</td>\n",
       "      <td>laureles</td>\n",
       "      <td>5</td>\n",
       "      <td>4</td>\n",
       "      <td>4</td>\n",
       "      <td>no</td>\n",
       "      <td>si</td>\n",
       "      <td>0.3800</td>\n",
       "      <td>280.000</td>\n",
       "      <td>si</td>\n",
       "    </tr>\n",
       "    <tr>\n",
       "      <th>688</th>\n",
       "      <td>689</td>\n",
       "      <td>470.0</td>\n",
       "      <td>248.0</td>\n",
       "      <td>laureles</td>\n",
       "      <td>5</td>\n",
       "      <td>3</td>\n",
       "      <td>2</td>\n",
       "      <td>no</td>\n",
       "      <td>si</td>\n",
       "      <td>0.4809</td>\n",
       "      <td>345.376</td>\n",
       "      <td>si</td>\n",
       "    </tr>\n",
       "    <tr>\n",
       "      <th>689</th>\n",
       "      <td>690</td>\n",
       "      <td>498.0</td>\n",
       "      <td>180.0</td>\n",
       "      <td>laureles</td>\n",
       "      <td>5</td>\n",
       "      <td>4</td>\n",
       "      <td>3</td>\n",
       "      <td>si</td>\n",
       "      <td>si</td>\n",
       "      <td>0.5700</td>\n",
       "      <td>233.784</td>\n",
       "      <td>si</td>\n",
       "    </tr>\n",
       "    <tr>\n",
       "      <th>690</th>\n",
       "      <td>691</td>\n",
       "      <td>508.0</td>\n",
       "      <td>209.0</td>\n",
       "      <td>laureles</td>\n",
       "      <td>6</td>\n",
       "      <td>4</td>\n",
       "      <td>3</td>\n",
       "      <td>si</td>\n",
       "      <td>si</td>\n",
       "      <td>0.4500</td>\n",
       "      <td>258.850</td>\n",
       "      <td>si</td>\n",
       "    </tr>\n",
       "    <tr>\n",
       "      <th>691</th>\n",
       "      <td>692</td>\n",
       "      <td>550.0</td>\n",
       "      <td>149.0</td>\n",
       "      <td>laureles</td>\n",
       "      <td>6</td>\n",
       "      <td>3</td>\n",
       "      <td>4</td>\n",
       "      <td>no</td>\n",
       "      <td>si</td>\n",
       "      <td>0.7470</td>\n",
       "      <td>326.157</td>\n",
       "      <td>si</td>\n",
       "    </tr>\n",
       "    <tr>\n",
       "      <th>692</th>\n",
       "      <td>693</td>\n",
       "      <td>630.0</td>\n",
       "      <td>179.0</td>\n",
       "      <td>laureles</td>\n",
       "      <td>5</td>\n",
       "      <td>3</td>\n",
       "      <td>3</td>\n",
       "      <td>si</td>\n",
       "      <td>si</td>\n",
       "      <td>0.3400</td>\n",
       "      <td>324.114</td>\n",
       "      <td>si</td>\n",
       "    </tr>\n",
       "    <tr>\n",
       "      <th>693</th>\n",
       "      <td>694</td>\n",
       "      <td>1350.0</td>\n",
       "      <td>494.0</td>\n",
       "      <td>laureles</td>\n",
       "      <td>5</td>\n",
       "      <td>3</td>\n",
       "      <td>4</td>\n",
       "      <td>si</td>\n",
       "      <td>si</td>\n",
       "      <td>1.6000</td>\n",
       "      <td>320.000</td>\n",
       "      <td>si</td>\n",
       "    </tr>\n",
       "  </tbody>\n",
       "</table>\n",
       "</div>\n",
       "      <button class=\"colab-df-convert\" onclick=\"convertToInteractive('df-0538fe2a-da98-43d7-927e-258a3d8c81a3')\"\n",
       "              title=\"Convert this dataframe to an interactive table.\"\n",
       "              style=\"display:none;\">\n",
       "        \n",
       "  <svg xmlns=\"http://www.w3.org/2000/svg\" height=\"24px\"viewBox=\"0 0 24 24\"\n",
       "       width=\"24px\">\n",
       "    <path d=\"M0 0h24v24H0V0z\" fill=\"none\"/>\n",
       "    <path d=\"M18.56 5.44l.94 2.06.94-2.06 2.06-.94-2.06-.94-.94-2.06-.94 2.06-2.06.94zm-11 1L8.5 8.5l.94-2.06 2.06-.94-2.06-.94L8.5 2.5l-.94 2.06-2.06.94zm10 10l.94 2.06.94-2.06 2.06-.94-2.06-.94-.94-2.06-.94 2.06-2.06.94z\"/><path d=\"M17.41 7.96l-1.37-1.37c-.4-.4-.92-.59-1.43-.59-.52 0-1.04.2-1.43.59L10.3 9.45l-7.72 7.72c-.78.78-.78 2.05 0 2.83L4 21.41c.39.39.9.59 1.41.59.51 0 1.02-.2 1.41-.59l7.78-7.78 2.81-2.81c.8-.78.8-2.07 0-2.86zM5.41 20L4 18.59l7.72-7.72 1.47 1.35L5.41 20z\"/>\n",
       "  </svg>\n",
       "      </button>\n",
       "      \n",
       "  <style>\n",
       "    .colab-df-container {\n",
       "      display:flex;\n",
       "      flex-wrap:wrap;\n",
       "      gap: 12px;\n",
       "    }\n",
       "\n",
       "    .colab-df-convert {\n",
       "      background-color: #E8F0FE;\n",
       "      border: none;\n",
       "      border-radius: 50%;\n",
       "      cursor: pointer;\n",
       "      display: none;\n",
       "      fill: #1967D2;\n",
       "      height: 32px;\n",
       "      padding: 0 0 0 0;\n",
       "      width: 32px;\n",
       "    }\n",
       "\n",
       "    .colab-df-convert:hover {\n",
       "      background-color: #E2EBFA;\n",
       "      box-shadow: 0px 1px 2px rgba(60, 64, 67, 0.3), 0px 1px 3px 1px rgba(60, 64, 67, 0.15);\n",
       "      fill: #174EA6;\n",
       "    }\n",
       "\n",
       "    [theme=dark] .colab-df-convert {\n",
       "      background-color: #3B4455;\n",
       "      fill: #D2E3FC;\n",
       "    }\n",
       "\n",
       "    [theme=dark] .colab-df-convert:hover {\n",
       "      background-color: #434B5C;\n",
       "      box-shadow: 0px 1px 3px 1px rgba(0, 0, 0, 0.15);\n",
       "      filter: drop-shadow(0px 1px 2px rgba(0, 0, 0, 0.3));\n",
       "      fill: #FFFFFF;\n",
       "    }\n",
       "  </style>\n",
       "\n",
       "      <script>\n",
       "        const buttonEl =\n",
       "          document.querySelector('#df-0538fe2a-da98-43d7-927e-258a3d8c81a3 button.colab-df-convert');\n",
       "        buttonEl.style.display =\n",
       "          google.colab.kernel.accessAllowed ? 'block' : 'none';\n",
       "\n",
       "        async function convertToInteractive(key) {\n",
       "          const element = document.querySelector('#df-0538fe2a-da98-43d7-927e-258a3d8c81a3');\n",
       "          const dataTable =\n",
       "            await google.colab.kernel.invokeFunction('convertToInteractive',\n",
       "                                                     [key], {});\n",
       "          if (!dataTable) return;\n",
       "\n",
       "          const docLinkHtml = 'Like what you see? Visit the ' +\n",
       "            '<a target=\"_blank\" href=https://colab.research.google.com/notebooks/data_table.ipynb>data table notebook</a>'\n",
       "            + ' to learn more about interactive tables.';\n",
       "          element.innerHTML = '';\n",
       "          dataTable['output_type'] = 'display_data';\n",
       "          await google.colab.output.renderOutput(dataTable, element);\n",
       "          const docLink = document.createElement('div');\n",
       "          docLink.innerHTML = docLinkHtml;\n",
       "          element.appendChild(docLink);\n",
       "        }\n",
       "      </script>\n",
       "    </div>\n",
       "  </div>\n",
       "  "
      ],
      "text/plain": [
       "     Unnamed: 0  precio    mt2 ubicacion  estrato  alcobas  banos balcon  \\\n",
       "687         688   450.0  204.0  laureles        5        4      4     no   \n",
       "688         689   470.0  248.0  laureles        5        3      2     no   \n",
       "689         690   498.0  180.0  laureles        5        4      3     si   \n",
       "690         691   508.0  209.0  laureles        6        4      3     si   \n",
       "691         692   550.0  149.0  laureles        6        3      4     no   \n",
       "692         693   630.0  179.0  laureles        5        3      3     si   \n",
       "693         694  1350.0  494.0  laureles        5        3      4     si   \n",
       "\n",
       "    parqueadero  administracion   avaluo terminado  \n",
       "687          si          0.3800  280.000        si  \n",
       "688          si          0.4809  345.376        si  \n",
       "689          si          0.5700  233.784        si  \n",
       "690          si          0.4500  258.850        si  \n",
       "691          si          0.7470  326.157        si  \n",
       "692          si          0.3400  324.114        si  \n",
       "693          si          1.6000  320.000        si  "
      ]
     },
     "execution_count": 43,
     "metadata": {},
     "output_type": "execute_result"
    }
   ],
   "source": [
    "# para ver la cola de los datos\n",
    "datos1.tail(7)"
   ]
  },
  {
   "cell_type": "code",
   "execution_count": null,
   "metadata": {
    "colab": {
     "base_uri": "https://localhost:8080/"
    },
    "executionInfo": {
     "elapsed": 161,
     "status": "ok",
     "timestamp": 1675991559241,
     "user": {
      "displayName": "FABIAN SANCHEZ SALAZAR",
      "userId": "13785856712232060994"
     },
     "user_tz": 300
    },
    "id": "PD4CZdE0yE0r",
    "outputId": "cdefe9a4-31a9-4b02-db9f-557eacf4b62c"
   },
   "outputs": [
    {
     "data": {
      "text/plain": [
       "Index(['Unnamed: 0', 'precio', 'mt2', 'ubicacion', 'estrato', 'alcobas',\n",
       "       'banos', 'balcon', 'parqueadero', 'administracion', 'avaluo',\n",
       "       'terminado'],\n",
       "      dtype='object')"
      ]
     },
     "execution_count": 44,
     "metadata": {},
     "output_type": "execute_result"
    }
   ],
   "source": [
    "# para ver el nombre de las columnas usamos .columns\n",
    "datos1.columns"
   ]
  },
  {
   "cell_type": "code",
   "execution_count": null,
   "metadata": {
    "colab": {
     "base_uri": "https://localhost:8080/"
    },
    "executionInfo": {
     "elapsed": 189,
     "status": "ok",
     "timestamp": 1675991635469,
     "user": {
      "displayName": "FABIAN SANCHEZ SALAZAR",
      "userId": "13785856712232060994"
     },
     "user_tz": 300
    },
    "id": "b-Rw7JgEx6za",
    "outputId": "1dd4e5f7-1af3-44ab-9d40-faab4ec7ed41"
   },
   "outputs": [
    {
     "data": {
      "text/plain": [
       "Unnamed: 0          int64\n",
       "precio            float64\n",
       "mt2               float64\n",
       "ubicacion          object\n",
       "estrato             int64\n",
       "alcobas             int64\n",
       "banos               int64\n",
       "balcon             object\n",
       "parqueadero        object\n",
       "administracion    float64\n",
       "avaluo            float64\n",
       "terminado          object\n",
       "dtype: object"
      ]
     },
     "execution_count": 45,
     "metadata": {},
     "output_type": "execute_result"
    }
   ],
   "source": [
    "# podemos ver que tipos de elementos tiene el conjunto de datos con .dtypes\n",
    "datos1.dtypes"
   ]
  },
  {
   "cell_type": "code",
   "execution_count": null,
   "metadata": {
    "colab": {
     "base_uri": "https://localhost:8080/"
    },
    "executionInfo": {
     "elapsed": 423,
     "status": "ok",
     "timestamp": 1675992218147,
     "user": {
      "displayName": "FABIAN SANCHEZ SALAZAR",
      "userId": "13785856712232060994"
     },
     "user_tz": 300
    },
    "id": "5aUdr0cVx9YW",
    "outputId": "51595dd5-83d3-4eb8-f61a-6de0a1a1a482"
   },
   "outputs": [
    {
     "name": "stdout",
     "output_type": "stream",
     "text": [
      "<class 'pandas.core.frame.DataFrame'>\n",
      "RangeIndex: 694 entries, 0 to 693\n",
      "Data columns (total 12 columns):\n",
      " #   Column          Non-Null Count  Dtype  \n",
      "---  ------          --------------  -----  \n",
      " 0   Unnamed: 0      694 non-null    int64  \n",
      " 1   precio          694 non-null    float64\n",
      " 2   mt2             694 non-null    float64\n",
      " 3   ubicacion       694 non-null    object \n",
      " 4   estrato         694 non-null    int64  \n",
      " 5   alcobas         694 non-null    int64  \n",
      " 6   banos           694 non-null    int64  \n",
      " 7   balcon          694 non-null    object \n",
      " 8   parqueadero     694 non-null    object \n",
      " 9   administracion  694 non-null    float64\n",
      " 10  avaluo          694 non-null    float64\n",
      " 11  terminado       694 non-null    object \n",
      "dtypes: float64(4), int64(4), object(4)\n",
      "memory usage: 65.2+ KB\n"
     ]
    }
   ],
   "source": [
    "# es un resumen de las variables y su clasificación. Además, podemos identificar datos faltantes (NA) en cada una de ellas.\n",
    "datos1.info()"
   ]
  },
  {
   "cell_type": "code",
   "execution_count": null,
   "metadata": {
    "colab": {
     "base_uri": "https://localhost:8080/",
     "height": 300
    },
    "executionInfo": {
     "elapsed": 173,
     "status": "ok",
     "timestamp": 1675992598994,
     "user": {
      "displayName": "FABIAN SANCHEZ SALAZAR",
      "userId": "13785856712232060994"
     },
     "user_tz": 300
    },
    "id": "vzj0jM7MyA8K",
    "outputId": "edc65487-79d8-4e08-dc19-442fa1623e83"
   },
   "outputs": [
    {
     "data": {
      "text/html": [
       "\n",
       "  <div id=\"df-0a0b6081-7e2d-4e0b-89fe-7bd1d94aaec3\">\n",
       "    <div class=\"colab-df-container\">\n",
       "      <div>\n",
       "<style scoped>\n",
       "    .dataframe tbody tr th:only-of-type {\n",
       "        vertical-align: middle;\n",
       "    }\n",
       "\n",
       "    .dataframe tbody tr th {\n",
       "        vertical-align: top;\n",
       "    }\n",
       "\n",
       "    .dataframe thead th {\n",
       "        text-align: right;\n",
       "    }\n",
       "</style>\n",
       "<table border=\"1\" class=\"dataframe\">\n",
       "  <thead>\n",
       "    <tr style=\"text-align: right;\">\n",
       "      <th></th>\n",
       "      <th>Unnamed: 0</th>\n",
       "      <th>precio</th>\n",
       "      <th>mt2</th>\n",
       "      <th>estrato</th>\n",
       "      <th>alcobas</th>\n",
       "      <th>banos</th>\n",
       "      <th>administracion</th>\n",
       "      <th>avaluo</th>\n",
       "    </tr>\n",
       "  </thead>\n",
       "  <tbody>\n",
       "    <tr>\n",
       "      <th>count</th>\n",
       "      <td>694.000000</td>\n",
       "      <td>694.000000</td>\n",
       "      <td>694.000000</td>\n",
       "      <td>694.000000</td>\n",
       "      <td>694.000000</td>\n",
       "      <td>694.000000</td>\n",
       "      <td>694.000000</td>\n",
       "      <td>694.000000</td>\n",
       "    </tr>\n",
       "    <tr>\n",
       "      <th>mean</th>\n",
       "      <td>347.500000</td>\n",
       "      <td>317.762739</td>\n",
       "      <td>120.943818</td>\n",
       "      <td>4.651297</td>\n",
       "      <td>2.910663</td>\n",
       "      <td>2.289625</td>\n",
       "      <td>0.263556</td>\n",
       "      <td>182.636593</td>\n",
       "    </tr>\n",
       "    <tr>\n",
       "      <th>std</th>\n",
       "      <td>200.484829</td>\n",
       "      <td>247.614914</td>\n",
       "      <td>74.695493</td>\n",
       "      <td>1.208205</td>\n",
       "      <td>0.763962</td>\n",
       "      <td>0.795718</td>\n",
       "      <td>0.251586</td>\n",
       "      <td>169.082384</td>\n",
       "    </tr>\n",
       "    <tr>\n",
       "      <th>min</th>\n",
       "      <td>1.000000</td>\n",
       "      <td>25.000000</td>\n",
       "      <td>26.000000</td>\n",
       "      <td>2.000000</td>\n",
       "      <td>1.000000</td>\n",
       "      <td>1.000000</td>\n",
       "      <td>0.000000</td>\n",
       "      <td>0.149000</td>\n",
       "    </tr>\n",
       "    <tr>\n",
       "      <th>25%</th>\n",
       "      <td>174.250000</td>\n",
       "      <td>160.000000</td>\n",
       "      <td>71.000000</td>\n",
       "      <td>4.000000</td>\n",
       "      <td>3.000000</td>\n",
       "      <td>2.000000</td>\n",
       "      <td>0.090000</td>\n",
       "      <td>73.000000</td>\n",
       "    </tr>\n",
       "    <tr>\n",
       "      <th>50%</th>\n",
       "      <td>347.500000</td>\n",
       "      <td>245.000000</td>\n",
       "      <td>97.500000</td>\n",
       "      <td>5.000000</td>\n",
       "      <td>3.000000</td>\n",
       "      <td>2.000000</td>\n",
       "      <td>0.201000</td>\n",
       "      <td>131.431500</td>\n",
       "    </tr>\n",
       "    <tr>\n",
       "      <th>75%</th>\n",
       "      <td>520.750000</td>\n",
       "      <td>380.000000</td>\n",
       "      <td>141.750000</td>\n",
       "      <td>6.000000</td>\n",
       "      <td>3.000000</td>\n",
       "      <td>3.000000</td>\n",
       "      <td>0.375000</td>\n",
       "      <td>234.051000</td>\n",
       "    </tr>\n",
       "    <tr>\n",
       "      <th>max</th>\n",
       "      <td>694.000000</td>\n",
       "      <td>1700.000000</td>\n",
       "      <td>500.000000</td>\n",
       "      <td>6.000000</td>\n",
       "      <td>14.000000</td>\n",
       "      <td>6.000000</td>\n",
       "      <td>2.280000</td>\n",
       "      <td>1540.620000</td>\n",
       "    </tr>\n",
       "  </tbody>\n",
       "</table>\n",
       "</div>\n",
       "      <button class=\"colab-df-convert\" onclick=\"convertToInteractive('df-0a0b6081-7e2d-4e0b-89fe-7bd1d94aaec3')\"\n",
       "              title=\"Convert this dataframe to an interactive table.\"\n",
       "              style=\"display:none;\">\n",
       "        \n",
       "  <svg xmlns=\"http://www.w3.org/2000/svg\" height=\"24px\"viewBox=\"0 0 24 24\"\n",
       "       width=\"24px\">\n",
       "    <path d=\"M0 0h24v24H0V0z\" fill=\"none\"/>\n",
       "    <path d=\"M18.56 5.44l.94 2.06.94-2.06 2.06-.94-2.06-.94-.94-2.06-.94 2.06-2.06.94zm-11 1L8.5 8.5l.94-2.06 2.06-.94-2.06-.94L8.5 2.5l-.94 2.06-2.06.94zm10 10l.94 2.06.94-2.06 2.06-.94-2.06-.94-.94-2.06-.94 2.06-2.06.94z\"/><path d=\"M17.41 7.96l-1.37-1.37c-.4-.4-.92-.59-1.43-.59-.52 0-1.04.2-1.43.59L10.3 9.45l-7.72 7.72c-.78.78-.78 2.05 0 2.83L4 21.41c.39.39.9.59 1.41.59.51 0 1.02-.2 1.41-.59l7.78-7.78 2.81-2.81c.8-.78.8-2.07 0-2.86zM5.41 20L4 18.59l7.72-7.72 1.47 1.35L5.41 20z\"/>\n",
       "  </svg>\n",
       "      </button>\n",
       "      \n",
       "  <style>\n",
       "    .colab-df-container {\n",
       "      display:flex;\n",
       "      flex-wrap:wrap;\n",
       "      gap: 12px;\n",
       "    }\n",
       "\n",
       "    .colab-df-convert {\n",
       "      background-color: #E8F0FE;\n",
       "      border: none;\n",
       "      border-radius: 50%;\n",
       "      cursor: pointer;\n",
       "      display: none;\n",
       "      fill: #1967D2;\n",
       "      height: 32px;\n",
       "      padding: 0 0 0 0;\n",
       "      width: 32px;\n",
       "    }\n",
       "\n",
       "    .colab-df-convert:hover {\n",
       "      background-color: #E2EBFA;\n",
       "      box-shadow: 0px 1px 2px rgba(60, 64, 67, 0.3), 0px 1px 3px 1px rgba(60, 64, 67, 0.15);\n",
       "      fill: #174EA6;\n",
       "    }\n",
       "\n",
       "    [theme=dark] .colab-df-convert {\n",
       "      background-color: #3B4455;\n",
       "      fill: #D2E3FC;\n",
       "    }\n",
       "\n",
       "    [theme=dark] .colab-df-convert:hover {\n",
       "      background-color: #434B5C;\n",
       "      box-shadow: 0px 1px 3px 1px rgba(0, 0, 0, 0.15);\n",
       "      filter: drop-shadow(0px 1px 2px rgba(0, 0, 0, 0.3));\n",
       "      fill: #FFFFFF;\n",
       "    }\n",
       "  </style>\n",
       "\n",
       "      <script>\n",
       "        const buttonEl =\n",
       "          document.querySelector('#df-0a0b6081-7e2d-4e0b-89fe-7bd1d94aaec3 button.colab-df-convert');\n",
       "        buttonEl.style.display =\n",
       "          google.colab.kernel.accessAllowed ? 'block' : 'none';\n",
       "\n",
       "        async function convertToInteractive(key) {\n",
       "          const element = document.querySelector('#df-0a0b6081-7e2d-4e0b-89fe-7bd1d94aaec3');\n",
       "          const dataTable =\n",
       "            await google.colab.kernel.invokeFunction('convertToInteractive',\n",
       "                                                     [key], {});\n",
       "          if (!dataTable) return;\n",
       "\n",
       "          const docLinkHtml = 'Like what you see? Visit the ' +\n",
       "            '<a target=\"_blank\" href=https://colab.research.google.com/notebooks/data_table.ipynb>data table notebook</a>'\n",
       "            + ' to learn more about interactive tables.';\n",
       "          element.innerHTML = '';\n",
       "          dataTable['output_type'] = 'display_data';\n",
       "          await google.colab.output.renderOutput(dataTable, element);\n",
       "          const docLink = document.createElement('div');\n",
       "          docLink.innerHTML = docLinkHtml;\n",
       "          element.appendChild(docLink);\n",
       "        }\n",
       "      </script>\n",
       "    </div>\n",
       "  </div>\n",
       "  "
      ],
      "text/plain": [
       "       Unnamed: 0       precio         mt2     estrato     alcobas  \\\n",
       "count  694.000000   694.000000  694.000000  694.000000  694.000000   \n",
       "mean   347.500000   317.762739  120.943818    4.651297    2.910663   \n",
       "std    200.484829   247.614914   74.695493    1.208205    0.763962   \n",
       "min      1.000000    25.000000   26.000000    2.000000    1.000000   \n",
       "25%    174.250000   160.000000   71.000000    4.000000    3.000000   \n",
       "50%    347.500000   245.000000   97.500000    5.000000    3.000000   \n",
       "75%    520.750000   380.000000  141.750000    6.000000    3.000000   \n",
       "max    694.000000  1700.000000  500.000000    6.000000   14.000000   \n",
       "\n",
       "            banos  administracion       avaluo  \n",
       "count  694.000000      694.000000   694.000000  \n",
       "mean     2.289625        0.263556   182.636593  \n",
       "std      0.795718        0.251586   169.082384  \n",
       "min      1.000000        0.000000     0.149000  \n",
       "25%      2.000000        0.090000    73.000000  \n",
       "50%      2.000000        0.201000   131.431500  \n",
       "75%      3.000000        0.375000   234.051000  \n",
       "max      6.000000        2.280000  1540.620000  "
      ]
     },
     "execution_count": 48,
     "metadata": {},
     "output_type": "execute_result"
    }
   ],
   "source": [
    "# podemos revisar las estadísticas generales de las variables cuantitativas (numéricas)\n",
    "datos1.describe()"
   ]
  },
  {
   "cell_type": "markdown",
   "metadata": {
    "id": "IqbGTvP-ycu6"
   },
   "source": [
    "## ACCEDER A ELEMENTOS DEL DATAFRAME\n",
    "\n",
    "Usamos la instrucción iloc o loc. La primera para acceder por la posición y la segunda para acceder por el nombre de la columna.\n",
    "\n",
    "- datos.iloc[i,j] : elemento de la fila i y columna j.\n",
    "\n",
    "- datos.iloc[i] : devuelve la fila i\n",
    "\n",
    "- datos.iloc[lista i , lista j] : devuelve un data.frame con las filas en lista i y columnas en columna j. \n",
    "\n",
    "- datos.iloc[:, j] : devuelve toda columna j.\n",
    "\n",
    "Si usamos la instrucción .loc\n",
    "\n",
    "- datos.loc[name fila , name column]: es lo mismo anterior pero con los nombres.\n",
    "\n",
    "- datos[name column] : devuelve las columnas en name columnas\n",
    "\n",
    "- datos.columna : otra forma para acceder a una columna que en el nombre no tenga espacios en blanco."
   ]
  },
  {
   "cell_type": "code",
   "execution_count": null,
   "metadata": {
    "colab": {
     "base_uri": "https://localhost:8080/",
     "height": 281
    },
    "executionInfo": {
     "elapsed": 296,
     "status": "ok",
     "timestamp": 1675993734221,
     "user": {
      "displayName": "FABIAN SANCHEZ SALAZAR",
      "userId": "13785856712232060994"
     },
     "user_tz": 300
    },
    "id": "kejOdQMAmZhq",
    "outputId": "52c27d99-b4f1-4edf-9f11-4f71855ac5a2"
   },
   "outputs": [
    {
     "data": {
      "text/html": [
       "\n",
       "  <div id=\"df-e65f795f-1234-4f57-a7c0-b874b14bf3d6\">\n",
       "    <div class=\"colab-df-container\">\n",
       "      <div>\n",
       "<style scoped>\n",
       "    .dataframe tbody tr th:only-of-type {\n",
       "        vertical-align: middle;\n",
       "    }\n",
       "\n",
       "    .dataframe tbody tr th {\n",
       "        vertical-align: top;\n",
       "    }\n",
       "\n",
       "    .dataframe thead th {\n",
       "        text-align: right;\n",
       "    }\n",
       "</style>\n",
       "<table border=\"1\" class=\"dataframe\">\n",
       "  <thead>\n",
       "    <tr style=\"text-align: right;\">\n",
       "      <th></th>\n",
       "      <th>Unnamed: 0</th>\n",
       "      <th>precio</th>\n",
       "      <th>mt2</th>\n",
       "      <th>ubicacion</th>\n",
       "      <th>estrato</th>\n",
       "      <th>alcobas</th>\n",
       "      <th>banos</th>\n",
       "      <th>balcon</th>\n",
       "      <th>parqueadero</th>\n",
       "      <th>administracion</th>\n",
       "      <th>avaluo</th>\n",
       "      <th>terminado</th>\n",
       "    </tr>\n",
       "  </thead>\n",
       "  <tbody>\n",
       "    <tr>\n",
       "      <th>0</th>\n",
       "      <td>1</td>\n",
       "      <td>79.0</td>\n",
       "      <td>43.16</td>\n",
       "      <td>norte</td>\n",
       "      <td>3</td>\n",
       "      <td>3</td>\n",
       "      <td>1</td>\n",
       "      <td>si</td>\n",
       "      <td>si</td>\n",
       "      <td>0.050</td>\n",
       "      <td>14.923002</td>\n",
       "      <td>no</td>\n",
       "    </tr>\n",
       "    <tr>\n",
       "      <th>1</th>\n",
       "      <td>2</td>\n",
       "      <td>93.0</td>\n",
       "      <td>56.92</td>\n",
       "      <td>norte</td>\n",
       "      <td>2</td>\n",
       "      <td>2</td>\n",
       "      <td>1</td>\n",
       "      <td>si</td>\n",
       "      <td>si</td>\n",
       "      <td>0.069</td>\n",
       "      <td>27.000000</td>\n",
       "      <td>si</td>\n",
       "    </tr>\n",
       "    <tr>\n",
       "      <th>2</th>\n",
       "      <td>3</td>\n",
       "      <td>100.0</td>\n",
       "      <td>66.40</td>\n",
       "      <td>norte</td>\n",
       "      <td>3</td>\n",
       "      <td>2</td>\n",
       "      <td>2</td>\n",
       "      <td>no</td>\n",
       "      <td>no</td>\n",
       "      <td>0.000</td>\n",
       "      <td>15.738427</td>\n",
       "      <td>no</td>\n",
       "    </tr>\n",
       "    <tr>\n",
       "      <th>3</th>\n",
       "      <td>4</td>\n",
       "      <td>123.0</td>\n",
       "      <td>61.85</td>\n",
       "      <td>norte</td>\n",
       "      <td>2</td>\n",
       "      <td>3</td>\n",
       "      <td>2</td>\n",
       "      <td>si</td>\n",
       "      <td>si</td>\n",
       "      <td>0.130</td>\n",
       "      <td>27.000000</td>\n",
       "      <td>no</td>\n",
       "    </tr>\n",
       "    <tr>\n",
       "      <th>4</th>\n",
       "      <td>5</td>\n",
       "      <td>135.0</td>\n",
       "      <td>89.80</td>\n",
       "      <td>norte</td>\n",
       "      <td>4</td>\n",
       "      <td>3</td>\n",
       "      <td>2</td>\n",
       "      <td>si</td>\n",
       "      <td>no</td>\n",
       "      <td>0.000</td>\n",
       "      <td>39.567000</td>\n",
       "      <td>si</td>\n",
       "    </tr>\n",
       "    <tr>\n",
       "      <th>5</th>\n",
       "      <td>6</td>\n",
       "      <td>140.0</td>\n",
       "      <td>71.00</td>\n",
       "      <td>norte</td>\n",
       "      <td>3</td>\n",
       "      <td>3</td>\n",
       "      <td>2</td>\n",
       "      <td>no</td>\n",
       "      <td>si</td>\n",
       "      <td>0.120</td>\n",
       "      <td>31.145508</td>\n",
       "      <td>si</td>\n",
       "    </tr>\n",
       "  </tbody>\n",
       "</table>\n",
       "</div>\n",
       "      <button class=\"colab-df-convert\" onclick=\"convertToInteractive('df-e65f795f-1234-4f57-a7c0-b874b14bf3d6')\"\n",
       "              title=\"Convert this dataframe to an interactive table.\"\n",
       "              style=\"display:none;\">\n",
       "        \n",
       "  <svg xmlns=\"http://www.w3.org/2000/svg\" height=\"24px\"viewBox=\"0 0 24 24\"\n",
       "       width=\"24px\">\n",
       "    <path d=\"M0 0h24v24H0V0z\" fill=\"none\"/>\n",
       "    <path d=\"M18.56 5.44l.94 2.06.94-2.06 2.06-.94-2.06-.94-.94-2.06-.94 2.06-2.06.94zm-11 1L8.5 8.5l.94-2.06 2.06-.94-2.06-.94L8.5 2.5l-.94 2.06-2.06.94zm10 10l.94 2.06.94-2.06 2.06-.94-2.06-.94-.94-2.06-.94 2.06-2.06.94z\"/><path d=\"M17.41 7.96l-1.37-1.37c-.4-.4-.92-.59-1.43-.59-.52 0-1.04.2-1.43.59L10.3 9.45l-7.72 7.72c-.78.78-.78 2.05 0 2.83L4 21.41c.39.39.9.59 1.41.59.51 0 1.02-.2 1.41-.59l7.78-7.78 2.81-2.81c.8-.78.8-2.07 0-2.86zM5.41 20L4 18.59l7.72-7.72 1.47 1.35L5.41 20z\"/>\n",
       "  </svg>\n",
       "      </button>\n",
       "      \n",
       "  <style>\n",
       "    .colab-df-container {\n",
       "      display:flex;\n",
       "      flex-wrap:wrap;\n",
       "      gap: 12px;\n",
       "    }\n",
       "\n",
       "    .colab-df-convert {\n",
       "      background-color: #E8F0FE;\n",
       "      border: none;\n",
       "      border-radius: 50%;\n",
       "      cursor: pointer;\n",
       "      display: none;\n",
       "      fill: #1967D2;\n",
       "      height: 32px;\n",
       "      padding: 0 0 0 0;\n",
       "      width: 32px;\n",
       "    }\n",
       "\n",
       "    .colab-df-convert:hover {\n",
       "      background-color: #E2EBFA;\n",
       "      box-shadow: 0px 1px 2px rgba(60, 64, 67, 0.3), 0px 1px 3px 1px rgba(60, 64, 67, 0.15);\n",
       "      fill: #174EA6;\n",
       "    }\n",
       "\n",
       "    [theme=dark] .colab-df-convert {\n",
       "      background-color: #3B4455;\n",
       "      fill: #D2E3FC;\n",
       "    }\n",
       "\n",
       "    [theme=dark] .colab-df-convert:hover {\n",
       "      background-color: #434B5C;\n",
       "      box-shadow: 0px 1px 3px 1px rgba(0, 0, 0, 0.15);\n",
       "      filter: drop-shadow(0px 1px 2px rgba(0, 0, 0, 0.3));\n",
       "      fill: #FFFFFF;\n",
       "    }\n",
       "  </style>\n",
       "\n",
       "      <script>\n",
       "        const buttonEl =\n",
       "          document.querySelector('#df-e65f795f-1234-4f57-a7c0-b874b14bf3d6 button.colab-df-convert');\n",
       "        buttonEl.style.display =\n",
       "          google.colab.kernel.accessAllowed ? 'block' : 'none';\n",
       "\n",
       "        async function convertToInteractive(key) {\n",
       "          const element = document.querySelector('#df-e65f795f-1234-4f57-a7c0-b874b14bf3d6');\n",
       "          const dataTable =\n",
       "            await google.colab.kernel.invokeFunction('convertToInteractive',\n",
       "                                                     [key], {});\n",
       "          if (!dataTable) return;\n",
       "\n",
       "          const docLinkHtml = 'Like what you see? Visit the ' +\n",
       "            '<a target=\"_blank\" href=https://colab.research.google.com/notebooks/data_table.ipynb>data table notebook</a>'\n",
       "            + ' to learn more about interactive tables.';\n",
       "          element.innerHTML = '';\n",
       "          dataTable['output_type'] = 'display_data';\n",
       "          await google.colab.output.renderOutput(dataTable, element);\n",
       "          const docLink = document.createElement('div');\n",
       "          docLink.innerHTML = docLinkHtml;\n",
       "          element.appendChild(docLink);\n",
       "        }\n",
       "      </script>\n",
       "    </div>\n",
       "  </div>\n",
       "  "
      ],
      "text/plain": [
       "   Unnamed: 0  precio    mt2 ubicacion  estrato  alcobas  banos balcon  \\\n",
       "0           1    79.0  43.16     norte        3        3      1     si   \n",
       "1           2    93.0  56.92     norte        2        2      1     si   \n",
       "2           3   100.0  66.40     norte        3        2      2     no   \n",
       "3           4   123.0  61.85     norte        2        3      2     si   \n",
       "4           5   135.0  89.80     norte        4        3      2     si   \n",
       "5           6   140.0  71.00     norte        3        3      2     no   \n",
       "\n",
       "  parqueadero  administracion     avaluo terminado  \n",
       "0          si           0.050  14.923002        no  \n",
       "1          si           0.069  27.000000        si  \n",
       "2          no           0.000  15.738427        no  \n",
       "3          si           0.130  27.000000        no  \n",
       "4          no           0.000  39.567000        si  \n",
       "5          si           0.120  31.145508        si  "
      ]
     },
     "execution_count": 49,
     "metadata": {},
     "output_type": "execute_result"
    }
   ],
   "source": [
    "datos1.head(6)"
   ]
  },
  {
   "cell_type": "code",
   "execution_count": null,
   "metadata": {
    "colab": {
     "base_uri": "https://localhost:8080/"
    },
    "executionInfo": {
     "elapsed": 182,
     "status": "ok",
     "timestamp": 1675993821711,
     "user": {
      "displayName": "FABIAN SANCHEZ SALAZAR",
      "userId": "13785856712232060994"
     },
     "user_tz": 300
    },
    "id": "rVJydZoInBub",
    "outputId": "290ece36-0926-4d6b-c0b5-0607988e83b5"
   },
   "outputs": [
    {
     "data": {
      "text/plain": [
       "56.92"
      ]
     },
     "execution_count": 50,
     "metadata": {},
     "output_type": "execute_result"
    }
   ],
   "source": [
    "datos1.iloc[1,2]"
   ]
  },
  {
   "cell_type": "code",
   "execution_count": null,
   "metadata": {
    "colab": {
     "base_uri": "https://localhost:8080/"
    },
    "executionInfo": {
     "elapsed": 163,
     "status": "ok",
     "timestamp": 1675993982381,
     "user": {
      "displayName": "FABIAN SANCHEZ SALAZAR",
      "userId": "13785856712232060994"
     },
     "user_tz": 300
    },
    "id": "hx7ftnQXBcC5",
    "outputId": "c8b30225-f363-432d-e8bb-370a4ca218ce"
   },
   "outputs": [
    {
     "data": {
      "text/plain": [
       "0.13"
      ]
     },
     "execution_count": 51,
     "metadata": {},
     "output_type": "execute_result"
    }
   ],
   "source": [
    "datos1.iloc[3,9]"
   ]
  },
  {
   "cell_type": "code",
   "execution_count": null,
   "metadata": {
    "colab": {
     "base_uri": "https://localhost:8080/"
    },
    "executionInfo": {
     "elapsed": 182,
     "status": "ok",
     "timestamp": 1675994074916,
     "user": {
      "displayName": "FABIAN SANCHEZ SALAZAR",
      "userId": "13785856712232060994"
     },
     "user_tz": 300
    },
    "id": "3ocgWhfRyhUO",
    "outputId": "f1d0d26d-813e-45de-cc10-f01e6adae5dd"
   },
   "outputs": [
    {
     "data": {
      "text/plain": [
       "Unnamed: 0                3\n",
       "precio                100.0\n",
       "mt2                    66.4\n",
       "ubicacion             norte\n",
       "estrato                   3\n",
       "alcobas                   2\n",
       "banos                     2\n",
       "balcon                   no\n",
       "parqueadero              no\n",
       "administracion          0.0\n",
       "avaluo            15.738427\n",
       "terminado                no\n",
       "Name: 2, dtype: object"
      ]
     },
     "execution_count": 54,
     "metadata": {},
     "output_type": "execute_result"
    }
   ],
   "source": [
    "# con la instrucción iloc podemos acceder a las filas y columnas por medio de los indices así\n",
    "datos1.iloc[2] #datos de la fila"
   ]
  },
  {
   "cell_type": "code",
   "execution_count": null,
   "metadata": {
    "id": "CwmUCtLuy9MU"
   },
   "outputs": [],
   "source": [
    "datos1.iloc[5]"
   ]
  },
  {
   "cell_type": "code",
   "execution_count": null,
   "metadata": {
    "colab": {
     "base_uri": "https://localhost:8080/",
     "height": 112
    },
    "executionInfo": {
     "elapsed": 204,
     "status": "ok",
     "timestamp": 1675994269408,
     "user": {
      "displayName": "FABIAN SANCHEZ SALAZAR",
      "userId": "13785856712232060994"
     },
     "user_tz": 300
    },
    "id": "7u4BJbzyncP3",
    "outputId": "d9cb7459-3a9f-4955-c77d-1e7c11024e16"
   },
   "outputs": [
    {
     "data": {
      "text/html": [
       "\n",
       "  <div id=\"df-4e0604bf-919e-4f1a-af29-fa6614e5e5ae\">\n",
       "    <div class=\"colab-df-container\">\n",
       "      <div>\n",
       "<style scoped>\n",
       "    .dataframe tbody tr th:only-of-type {\n",
       "        vertical-align: middle;\n",
       "    }\n",
       "\n",
       "    .dataframe tbody tr th {\n",
       "        vertical-align: top;\n",
       "    }\n",
       "\n",
       "    .dataframe thead th {\n",
       "        text-align: right;\n",
       "    }\n",
       "</style>\n",
       "<table border=\"1\" class=\"dataframe\">\n",
       "  <thead>\n",
       "    <tr style=\"text-align: right;\">\n",
       "      <th></th>\n",
       "      <th>estrato</th>\n",
       "      <th>alcobas</th>\n",
       "    </tr>\n",
       "  </thead>\n",
       "  <tbody>\n",
       "    <tr>\n",
       "      <th>2</th>\n",
       "      <td>3</td>\n",
       "      <td>2</td>\n",
       "    </tr>\n",
       "    <tr>\n",
       "      <th>8</th>\n",
       "      <td>4</td>\n",
       "      <td>4</td>\n",
       "    </tr>\n",
       "  </tbody>\n",
       "</table>\n",
       "</div>\n",
       "      <button class=\"colab-df-convert\" onclick=\"convertToInteractive('df-4e0604bf-919e-4f1a-af29-fa6614e5e5ae')\"\n",
       "              title=\"Convert this dataframe to an interactive table.\"\n",
       "              style=\"display:none;\">\n",
       "        \n",
       "  <svg xmlns=\"http://www.w3.org/2000/svg\" height=\"24px\"viewBox=\"0 0 24 24\"\n",
       "       width=\"24px\">\n",
       "    <path d=\"M0 0h24v24H0V0z\" fill=\"none\"/>\n",
       "    <path d=\"M18.56 5.44l.94 2.06.94-2.06 2.06-.94-2.06-.94-.94-2.06-.94 2.06-2.06.94zm-11 1L8.5 8.5l.94-2.06 2.06-.94-2.06-.94L8.5 2.5l-.94 2.06-2.06.94zm10 10l.94 2.06.94-2.06 2.06-.94-2.06-.94-.94-2.06-.94 2.06-2.06.94z\"/><path d=\"M17.41 7.96l-1.37-1.37c-.4-.4-.92-.59-1.43-.59-.52 0-1.04.2-1.43.59L10.3 9.45l-7.72 7.72c-.78.78-.78 2.05 0 2.83L4 21.41c.39.39.9.59 1.41.59.51 0 1.02-.2 1.41-.59l7.78-7.78 2.81-2.81c.8-.78.8-2.07 0-2.86zM5.41 20L4 18.59l7.72-7.72 1.47 1.35L5.41 20z\"/>\n",
       "  </svg>\n",
       "      </button>\n",
       "      \n",
       "  <style>\n",
       "    .colab-df-container {\n",
       "      display:flex;\n",
       "      flex-wrap:wrap;\n",
       "      gap: 12px;\n",
       "    }\n",
       "\n",
       "    .colab-df-convert {\n",
       "      background-color: #E8F0FE;\n",
       "      border: none;\n",
       "      border-radius: 50%;\n",
       "      cursor: pointer;\n",
       "      display: none;\n",
       "      fill: #1967D2;\n",
       "      height: 32px;\n",
       "      padding: 0 0 0 0;\n",
       "      width: 32px;\n",
       "    }\n",
       "\n",
       "    .colab-df-convert:hover {\n",
       "      background-color: #E2EBFA;\n",
       "      box-shadow: 0px 1px 2px rgba(60, 64, 67, 0.3), 0px 1px 3px 1px rgba(60, 64, 67, 0.15);\n",
       "      fill: #174EA6;\n",
       "    }\n",
       "\n",
       "    [theme=dark] .colab-df-convert {\n",
       "      background-color: #3B4455;\n",
       "      fill: #D2E3FC;\n",
       "    }\n",
       "\n",
       "    [theme=dark] .colab-df-convert:hover {\n",
       "      background-color: #434B5C;\n",
       "      box-shadow: 0px 1px 3px 1px rgba(0, 0, 0, 0.15);\n",
       "      filter: drop-shadow(0px 1px 2px rgba(0, 0, 0, 0.3));\n",
       "      fill: #FFFFFF;\n",
       "    }\n",
       "  </style>\n",
       "\n",
       "      <script>\n",
       "        const buttonEl =\n",
       "          document.querySelector('#df-4e0604bf-919e-4f1a-af29-fa6614e5e5ae button.colab-df-convert');\n",
       "        buttonEl.style.display =\n",
       "          google.colab.kernel.accessAllowed ? 'block' : 'none';\n",
       "\n",
       "        async function convertToInteractive(key) {\n",
       "          const element = document.querySelector('#df-4e0604bf-919e-4f1a-af29-fa6614e5e5ae');\n",
       "          const dataTable =\n",
       "            await google.colab.kernel.invokeFunction('convertToInteractive',\n",
       "                                                     [key], {});\n",
       "          if (!dataTable) return;\n",
       "\n",
       "          const docLinkHtml = 'Like what you see? Visit the ' +\n",
       "            '<a target=\"_blank\" href=https://colab.research.google.com/notebooks/data_table.ipynb>data table notebook</a>'\n",
       "            + ' to learn more about interactive tables.';\n",
       "          element.innerHTML = '';\n",
       "          dataTable['output_type'] = 'display_data';\n",
       "          await google.colab.output.renderOutput(dataTable, element);\n",
       "          const docLink = document.createElement('div');\n",
       "          docLink.innerHTML = docLinkHtml;\n",
       "          element.appendChild(docLink);\n",
       "        }\n",
       "      </script>\n",
       "    </div>\n",
       "  </div>\n",
       "  "
      ],
      "text/plain": [
       "   estrato  alcobas\n",
       "2        3        2\n",
       "8        4        4"
      ]
     },
     "execution_count": 56,
     "metadata": {},
     "output_type": "execute_result"
    }
   ],
   "source": [
    "# fila 2 y 8 con columna 4 y 5\n",
    "datos1.iloc[[2,8],[4,5]]"
   ]
  },
  {
   "cell_type": "code",
   "execution_count": null,
   "metadata": {
    "colab": {
     "base_uri": "https://localhost:8080/",
     "height": 143
    },
    "executionInfo": {
     "elapsed": 156,
     "status": "ok",
     "timestamp": 1675994331562,
     "user": {
      "displayName": "FABIAN SANCHEZ SALAZAR",
      "userId": "13785856712232060994"
     },
     "user_tz": 300
    },
    "id": "AqTNLUvsn9bc",
    "outputId": "fffedf12-714c-400b-dff5-9e2f2c837718"
   },
   "outputs": [
    {
     "data": {
      "text/html": [
       "\n",
       "  <div id=\"df-52699919-c84c-4260-884b-580eeb6113e9\">\n",
       "    <div class=\"colab-df-container\">\n",
       "      <div>\n",
       "<style scoped>\n",
       "    .dataframe tbody tr th:only-of-type {\n",
       "        vertical-align: middle;\n",
       "    }\n",
       "\n",
       "    .dataframe tbody tr th {\n",
       "        vertical-align: top;\n",
       "    }\n",
       "\n",
       "    .dataframe thead th {\n",
       "        text-align: right;\n",
       "    }\n",
       "</style>\n",
       "<table border=\"1\" class=\"dataframe\">\n",
       "  <thead>\n",
       "    <tr style=\"text-align: right;\">\n",
       "      <th></th>\n",
       "      <th>estrato</th>\n",
       "      <th>alcobas</th>\n",
       "      <th>banos</th>\n",
       "      <th>balcon</th>\n",
       "      <th>parqueadero</th>\n",
       "    </tr>\n",
       "  </thead>\n",
       "  <tbody>\n",
       "    <tr>\n",
       "      <th>2</th>\n",
       "      <td>3</td>\n",
       "      <td>2</td>\n",
       "      <td>2</td>\n",
       "      <td>no</td>\n",
       "      <td>no</td>\n",
       "    </tr>\n",
       "    <tr>\n",
       "      <th>3</th>\n",
       "      <td>2</td>\n",
       "      <td>3</td>\n",
       "      <td>2</td>\n",
       "      <td>si</td>\n",
       "      <td>si</td>\n",
       "    </tr>\n",
       "    <tr>\n",
       "      <th>4</th>\n",
       "      <td>4</td>\n",
       "      <td>3</td>\n",
       "      <td>2</td>\n",
       "      <td>si</td>\n",
       "      <td>no</td>\n",
       "    </tr>\n",
       "  </tbody>\n",
       "</table>\n",
       "</div>\n",
       "      <button class=\"colab-df-convert\" onclick=\"convertToInteractive('df-52699919-c84c-4260-884b-580eeb6113e9')\"\n",
       "              title=\"Convert this dataframe to an interactive table.\"\n",
       "              style=\"display:none;\">\n",
       "        \n",
       "  <svg xmlns=\"http://www.w3.org/2000/svg\" height=\"24px\"viewBox=\"0 0 24 24\"\n",
       "       width=\"24px\">\n",
       "    <path d=\"M0 0h24v24H0V0z\" fill=\"none\"/>\n",
       "    <path d=\"M18.56 5.44l.94 2.06.94-2.06 2.06-.94-2.06-.94-.94-2.06-.94 2.06-2.06.94zm-11 1L8.5 8.5l.94-2.06 2.06-.94-2.06-.94L8.5 2.5l-.94 2.06-2.06.94zm10 10l.94 2.06.94-2.06 2.06-.94-2.06-.94-.94-2.06-.94 2.06-2.06.94z\"/><path d=\"M17.41 7.96l-1.37-1.37c-.4-.4-.92-.59-1.43-.59-.52 0-1.04.2-1.43.59L10.3 9.45l-7.72 7.72c-.78.78-.78 2.05 0 2.83L4 21.41c.39.39.9.59 1.41.59.51 0 1.02-.2 1.41-.59l7.78-7.78 2.81-2.81c.8-.78.8-2.07 0-2.86zM5.41 20L4 18.59l7.72-7.72 1.47 1.35L5.41 20z\"/>\n",
       "  </svg>\n",
       "      </button>\n",
       "      \n",
       "  <style>\n",
       "    .colab-df-container {\n",
       "      display:flex;\n",
       "      flex-wrap:wrap;\n",
       "      gap: 12px;\n",
       "    }\n",
       "\n",
       "    .colab-df-convert {\n",
       "      background-color: #E8F0FE;\n",
       "      border: none;\n",
       "      border-radius: 50%;\n",
       "      cursor: pointer;\n",
       "      display: none;\n",
       "      fill: #1967D2;\n",
       "      height: 32px;\n",
       "      padding: 0 0 0 0;\n",
       "      width: 32px;\n",
       "    }\n",
       "\n",
       "    .colab-df-convert:hover {\n",
       "      background-color: #E2EBFA;\n",
       "      box-shadow: 0px 1px 2px rgba(60, 64, 67, 0.3), 0px 1px 3px 1px rgba(60, 64, 67, 0.15);\n",
       "      fill: #174EA6;\n",
       "    }\n",
       "\n",
       "    [theme=dark] .colab-df-convert {\n",
       "      background-color: #3B4455;\n",
       "      fill: #D2E3FC;\n",
       "    }\n",
       "\n",
       "    [theme=dark] .colab-df-convert:hover {\n",
       "      background-color: #434B5C;\n",
       "      box-shadow: 0px 1px 3px 1px rgba(0, 0, 0, 0.15);\n",
       "      filter: drop-shadow(0px 1px 2px rgba(0, 0, 0, 0.3));\n",
       "      fill: #FFFFFF;\n",
       "    }\n",
       "  </style>\n",
       "\n",
       "      <script>\n",
       "        const buttonEl =\n",
       "          document.querySelector('#df-52699919-c84c-4260-884b-580eeb6113e9 button.colab-df-convert');\n",
       "        buttonEl.style.display =\n",
       "          google.colab.kernel.accessAllowed ? 'block' : 'none';\n",
       "\n",
       "        async function convertToInteractive(key) {\n",
       "          const element = document.querySelector('#df-52699919-c84c-4260-884b-580eeb6113e9');\n",
       "          const dataTable =\n",
       "            await google.colab.kernel.invokeFunction('convertToInteractive',\n",
       "                                                     [key], {});\n",
       "          if (!dataTable) return;\n",
       "\n",
       "          const docLinkHtml = 'Like what you see? Visit the ' +\n",
       "            '<a target=\"_blank\" href=https://colab.research.google.com/notebooks/data_table.ipynb>data table notebook</a>'\n",
       "            + ' to learn more about interactive tables.';\n",
       "          element.innerHTML = '';\n",
       "          dataTable['output_type'] = 'display_data';\n",
       "          await google.colab.output.renderOutput(dataTable, element);\n",
       "          const docLink = document.createElement('div');\n",
       "          docLink.innerHTML = docLinkHtml;\n",
       "          element.appendChild(docLink);\n",
       "        }\n",
       "      </script>\n",
       "    </div>\n",
       "  </div>\n",
       "  "
      ],
      "text/plain": [
       "   estrato  alcobas  banos balcon parqueadero\n",
       "2        3        2      2     no          no\n",
       "3        2        3      2     si          si\n",
       "4        4        3      2     si          no"
      ]
     },
     "execution_count": 57,
     "metadata": {},
     "output_type": "execute_result"
    }
   ],
   "source": [
    "# filas de 2 a la 4 y columnas de la 4 a la 8\n",
    "datos1.iloc[2:5 , 4:9]"
   ]
  },
  {
   "cell_type": "code",
   "execution_count": null,
   "metadata": {
    "colab": {
     "base_uri": "https://localhost:8080/"
    },
    "executionInfo": {
     "elapsed": 162,
     "status": "ok",
     "timestamp": 1675994452504,
     "user": {
      "displayName": "FABIAN SANCHEZ SALAZAR",
      "userId": "13785856712232060994"
     },
     "user_tz": 300
    },
    "id": "cuFphFDFDaX1",
    "outputId": "b3e18152-0d90-44c6-b2e6-0ef814f32c77"
   },
   "outputs": [
    {
     "data": {
      "text/plain": [
       "Unnamed: 0               9\n",
       "precio               160.0\n",
       "mt2                   93.0\n",
       "ubicacion            norte\n",
       "estrato                  4\n",
       "alcobas                  4\n",
       "banos                    2\n",
       "balcon                  si\n",
       "parqueadero             no\n",
       "administracion         0.0\n",
       "avaluo            28.95622\n",
       "terminado               si\n",
       "Name: 8, dtype: object"
      ]
     },
     "execution_count": 58,
     "metadata": {},
     "output_type": "execute_result"
    }
   ],
   "source": [
    "datos1.iloc[8]"
   ]
  },
  {
   "cell_type": "code",
   "execution_count": null,
   "metadata": {
    "colab": {
     "base_uri": "https://localhost:8080/"
    },
    "executionInfo": {
     "elapsed": 203,
     "status": "ok",
     "timestamp": 1675994530976,
     "user": {
      "displayName": "FABIAN SANCHEZ SALAZAR",
      "userId": "13785856712232060994"
     },
     "user_tz": 300
    },
    "id": "0W86F-NVzaEh",
    "outputId": "ca482306-889b-4ae9-8e25-93ddde668402"
   },
   "outputs": [
    {
     "data": {
      "text/plain": [
       "0       43.16\n",
       "1       56.92\n",
       "2       66.40\n",
       "3       61.85\n",
       "4       89.80\n",
       "        ...  \n",
       "689    180.00\n",
       "690    209.00\n",
       "691    149.00\n",
       "692    179.00\n",
       "693    494.00\n",
       "Name: mt2, Length: 694, dtype: float64"
      ]
     },
     "execution_count": 61,
     "metadata": {},
     "output_type": "execute_result"
    }
   ],
   "source": [
    "# toda la columna 2\n",
    "datos1.iloc[: , 2 ]"
   ]
  },
  {
   "cell_type": "code",
   "execution_count": null,
   "metadata": {
    "colab": {
     "base_uri": "https://localhost:8080/",
     "height": 424
    },
    "executionInfo": {
     "elapsed": 228,
     "status": "ok",
     "timestamp": 1675994610824,
     "user": {
      "displayName": "FABIAN SANCHEZ SALAZAR",
      "userId": "13785856712232060994"
     },
     "user_tz": 300
    },
    "id": "7pVRVcCdzopN",
    "outputId": "626d85a9-407c-4fe6-9f19-8ff8bea7daaa"
   },
   "outputs": [
    {
     "data": {
      "text/html": [
       "\n",
       "  <div id=\"df-92ec71c8-9c2f-4a0a-8f8d-f49194c59347\">\n",
       "    <div class=\"colab-df-container\">\n",
       "      <div>\n",
       "<style scoped>\n",
       "    .dataframe tbody tr th:only-of-type {\n",
       "        vertical-align: middle;\n",
       "    }\n",
       "\n",
       "    .dataframe tbody tr th {\n",
       "        vertical-align: top;\n",
       "    }\n",
       "\n",
       "    .dataframe thead th {\n",
       "        text-align: right;\n",
       "    }\n",
       "</style>\n",
       "<table border=\"1\" class=\"dataframe\">\n",
       "  <thead>\n",
       "    <tr style=\"text-align: right;\">\n",
       "      <th></th>\n",
       "      <th>ubicacion</th>\n",
       "      <th>alcobas</th>\n",
       "      <th>balcon</th>\n",
       "      <th>administracion</th>\n",
       "    </tr>\n",
       "  </thead>\n",
       "  <tbody>\n",
       "    <tr>\n",
       "      <th>0</th>\n",
       "      <td>norte</td>\n",
       "      <td>3</td>\n",
       "      <td>si</td>\n",
       "      <td>0.050</td>\n",
       "    </tr>\n",
       "    <tr>\n",
       "      <th>1</th>\n",
       "      <td>norte</td>\n",
       "      <td>2</td>\n",
       "      <td>si</td>\n",
       "      <td>0.069</td>\n",
       "    </tr>\n",
       "    <tr>\n",
       "      <th>2</th>\n",
       "      <td>norte</td>\n",
       "      <td>2</td>\n",
       "      <td>no</td>\n",
       "      <td>0.000</td>\n",
       "    </tr>\n",
       "    <tr>\n",
       "      <th>3</th>\n",
       "      <td>norte</td>\n",
       "      <td>3</td>\n",
       "      <td>si</td>\n",
       "      <td>0.130</td>\n",
       "    </tr>\n",
       "    <tr>\n",
       "      <th>4</th>\n",
       "      <td>norte</td>\n",
       "      <td>3</td>\n",
       "      <td>si</td>\n",
       "      <td>0.000</td>\n",
       "    </tr>\n",
       "    <tr>\n",
       "      <th>...</th>\n",
       "      <td>...</td>\n",
       "      <td>...</td>\n",
       "      <td>...</td>\n",
       "      <td>...</td>\n",
       "    </tr>\n",
       "    <tr>\n",
       "      <th>689</th>\n",
       "      <td>laureles</td>\n",
       "      <td>4</td>\n",
       "      <td>si</td>\n",
       "      <td>0.570</td>\n",
       "    </tr>\n",
       "    <tr>\n",
       "      <th>690</th>\n",
       "      <td>laureles</td>\n",
       "      <td>4</td>\n",
       "      <td>si</td>\n",
       "      <td>0.450</td>\n",
       "    </tr>\n",
       "    <tr>\n",
       "      <th>691</th>\n",
       "      <td>laureles</td>\n",
       "      <td>3</td>\n",
       "      <td>no</td>\n",
       "      <td>0.747</td>\n",
       "    </tr>\n",
       "    <tr>\n",
       "      <th>692</th>\n",
       "      <td>laureles</td>\n",
       "      <td>3</td>\n",
       "      <td>si</td>\n",
       "      <td>0.340</td>\n",
       "    </tr>\n",
       "    <tr>\n",
       "      <th>693</th>\n",
       "      <td>laureles</td>\n",
       "      <td>3</td>\n",
       "      <td>si</td>\n",
       "      <td>1.600</td>\n",
       "    </tr>\n",
       "  </tbody>\n",
       "</table>\n",
       "<p>694 rows × 4 columns</p>\n",
       "</div>\n",
       "      <button class=\"colab-df-convert\" onclick=\"convertToInteractive('df-92ec71c8-9c2f-4a0a-8f8d-f49194c59347')\"\n",
       "              title=\"Convert this dataframe to an interactive table.\"\n",
       "              style=\"display:none;\">\n",
       "        \n",
       "  <svg xmlns=\"http://www.w3.org/2000/svg\" height=\"24px\"viewBox=\"0 0 24 24\"\n",
       "       width=\"24px\">\n",
       "    <path d=\"M0 0h24v24H0V0z\" fill=\"none\"/>\n",
       "    <path d=\"M18.56 5.44l.94 2.06.94-2.06 2.06-.94-2.06-.94-.94-2.06-.94 2.06-2.06.94zm-11 1L8.5 8.5l.94-2.06 2.06-.94-2.06-.94L8.5 2.5l-.94 2.06-2.06.94zm10 10l.94 2.06.94-2.06 2.06-.94-2.06-.94-.94-2.06-.94 2.06-2.06.94z\"/><path d=\"M17.41 7.96l-1.37-1.37c-.4-.4-.92-.59-1.43-.59-.52 0-1.04.2-1.43.59L10.3 9.45l-7.72 7.72c-.78.78-.78 2.05 0 2.83L4 21.41c.39.39.9.59 1.41.59.51 0 1.02-.2 1.41-.59l7.78-7.78 2.81-2.81c.8-.78.8-2.07 0-2.86zM5.41 20L4 18.59l7.72-7.72 1.47 1.35L5.41 20z\"/>\n",
       "  </svg>\n",
       "      </button>\n",
       "      \n",
       "  <style>\n",
       "    .colab-df-container {\n",
       "      display:flex;\n",
       "      flex-wrap:wrap;\n",
       "      gap: 12px;\n",
       "    }\n",
       "\n",
       "    .colab-df-convert {\n",
       "      background-color: #E8F0FE;\n",
       "      border: none;\n",
       "      border-radius: 50%;\n",
       "      cursor: pointer;\n",
       "      display: none;\n",
       "      fill: #1967D2;\n",
       "      height: 32px;\n",
       "      padding: 0 0 0 0;\n",
       "      width: 32px;\n",
       "    }\n",
       "\n",
       "    .colab-df-convert:hover {\n",
       "      background-color: #E2EBFA;\n",
       "      box-shadow: 0px 1px 2px rgba(60, 64, 67, 0.3), 0px 1px 3px 1px rgba(60, 64, 67, 0.15);\n",
       "      fill: #174EA6;\n",
       "    }\n",
       "\n",
       "    [theme=dark] .colab-df-convert {\n",
       "      background-color: #3B4455;\n",
       "      fill: #D2E3FC;\n",
       "    }\n",
       "\n",
       "    [theme=dark] .colab-df-convert:hover {\n",
       "      background-color: #434B5C;\n",
       "      box-shadow: 0px 1px 3px 1px rgba(0, 0, 0, 0.15);\n",
       "      filter: drop-shadow(0px 1px 2px rgba(0, 0, 0, 0.3));\n",
       "      fill: #FFFFFF;\n",
       "    }\n",
       "  </style>\n",
       "\n",
       "      <script>\n",
       "        const buttonEl =\n",
       "          document.querySelector('#df-92ec71c8-9c2f-4a0a-8f8d-f49194c59347 button.colab-df-convert');\n",
       "        buttonEl.style.display =\n",
       "          google.colab.kernel.accessAllowed ? 'block' : 'none';\n",
       "\n",
       "        async function convertToInteractive(key) {\n",
       "          const element = document.querySelector('#df-92ec71c8-9c2f-4a0a-8f8d-f49194c59347');\n",
       "          const dataTable =\n",
       "            await google.colab.kernel.invokeFunction('convertToInteractive',\n",
       "                                                     [key], {});\n",
       "          if (!dataTable) return;\n",
       "\n",
       "          const docLinkHtml = 'Like what you see? Visit the ' +\n",
       "            '<a target=\"_blank\" href=https://colab.research.google.com/notebooks/data_table.ipynb>data table notebook</a>'\n",
       "            + ' to learn more about interactive tables.';\n",
       "          element.innerHTML = '';\n",
       "          dataTable['output_type'] = 'display_data';\n",
       "          await google.colab.output.renderOutput(dataTable, element);\n",
       "          const docLink = document.createElement('div');\n",
       "          docLink.innerHTML = docLinkHtml;\n",
       "          element.appendChild(docLink);\n",
       "        }\n",
       "      </script>\n",
       "    </div>\n",
       "  </div>\n",
       "  "
      ],
      "text/plain": [
       "    ubicacion  alcobas balcon  administracion\n",
       "0       norte        3     si           0.050\n",
       "1       norte        2     si           0.069\n",
       "2       norte        2     no           0.000\n",
       "3       norte        3     si           0.130\n",
       "4       norte        3     si           0.000\n",
       "..        ...      ...    ...             ...\n",
       "689  laureles        4     si           0.570\n",
       "690  laureles        4     si           0.450\n",
       "691  laureles        3     no           0.747\n",
       "692  laureles        3     si           0.340\n",
       "693  laureles        3     si           1.600\n",
       "\n",
       "[694 rows x 4 columns]"
      ]
     },
     "execution_count": 62,
     "metadata": {},
     "output_type": "execute_result"
    }
   ],
   "source": [
    "# Podemos seleccionar varias columnas\n",
    "datos1.iloc[ : , [3,5,7,9] ]"
   ]
  },
  {
   "cell_type": "markdown",
   "metadata": {
    "id": "cWAxrTVCpuAU"
   },
   "source": [
    "# Veamos ejemplos con .loc"
   ]
  },
  {
   "cell_type": "code",
   "execution_count": null,
   "metadata": {
    "id": "vFGfMtKQEPxo"
   },
   "outputs": [],
   "source": [
    "datos1[\"precio\"]"
   ]
  },
  {
   "cell_type": "code",
   "execution_count": null,
   "metadata": {
    "id": "S88cUgcVFAUs"
   },
   "outputs": [],
   "source": [
    "datos1.precio"
   ]
  },
  {
   "cell_type": "code",
   "execution_count": null,
   "metadata": {
    "id": "SVfI8mj8EzGN"
   },
   "outputs": [],
   "source": [
    "datos1.loc[: , \"precio\"]"
   ]
  },
  {
   "cell_type": "code",
   "execution_count": null,
   "metadata": {
    "id": "bNR88z6tqCxJ"
   },
   "outputs": [],
   "source": [
    "# acceder al elemento posición 3 y variable \"precio\"\n",
    "datos1.loc[3, \"precio\"]"
   ]
  },
  {
   "cell_type": "code",
   "execution_count": null,
   "metadata": {
    "id": "sbFRBdpRq0f1"
   },
   "outputs": [],
   "source": [
    "datos1.loc[2:5 , \"balcon\"]"
   ]
  },
  {
   "cell_type": "code",
   "execution_count": null,
   "metadata": {
    "id": "hu_fscQ5q945"
   },
   "outputs": [],
   "source": [
    "# elementos 4 a 8 y unas variables.\n",
    "datos1.loc[4:8 , [\"precio\", \"mt2\", \"banos\"]]"
   ]
  },
  {
   "cell_type": "code",
   "execution_count": null,
   "metadata": {
    "id": "tKxOYoee0BWZ"
   },
   "outputs": [],
   "source": [
    "# Con la instrucción loc podemos acceder a las filas o columnas por el nombre o condición\n",
    "datos1.loc[: , \"precio\"]"
   ]
  },
  {
   "cell_type": "code",
   "execution_count": null,
   "metadata": {
    "id": "mI9DOqHW5wdK"
   },
   "outputs": [],
   "source": [
    "# seleccionar varias variables del data frame\n",
    "datos1.loc[: , [\"precio\" , \"mt2\", \"balcon\"]]"
   ]
  },
  {
   "cell_type": "code",
   "execution_count": null,
   "metadata": {
    "colab": {
     "base_uri": "https://localhost:8080/"
    },
    "executionInfo": {
     "elapsed": 193,
     "status": "ok",
     "timestamp": 1675994720003,
     "user": {
      "displayName": "FABIAN SANCHEZ SALAZAR",
      "userId": "13785856712232060994"
     },
     "user_tz": 300
    },
    "id": "qtU0-NH4rrUQ",
    "outputId": "62397d41-00cc-4c47-cbd7-281038040886"
   },
   "outputs": [
    {
     "data": {
      "text/plain": [
       "0      3\n",
       "1      2\n",
       "2      3\n",
       "3      2\n",
       "4      4\n",
       "      ..\n",
       "689    5\n",
       "690    6\n",
       "691    6\n",
       "692    5\n",
       "693    5\n",
       "Name: estrato, Length: 694, dtype: int64"
      ]
     },
     "execution_count": 64,
     "metadata": {},
     "output_type": "execute_result"
    }
   ],
   "source": [
    "# una columna\n",
    "datos1[\"estrato\"]"
   ]
  },
  {
   "cell_type": "code",
   "execution_count": null,
   "metadata": {
    "id": "gkukUgtLr2Ak"
   },
   "outputs": [],
   "source": [
    "# varias columnas\n",
    "datos1[[\"estrato\", \"precio\", \"balcon\"]]"
   ]
  },
  {
   "cell_type": "code",
   "execution_count": null,
   "metadata": {
    "id": "nhVUUYqjsHm8"
   },
   "outputs": [],
   "source": [
    "# seleccionar una variable pero pilas sin espacio\n",
    "datos1.alcobas"
   ]
  },
  {
   "cell_type": "code",
   "execution_count": null,
   "metadata": {
    "id": "_X-xxCdksYr2"
   },
   "outputs": [],
   "source": [
    "datos1[\"precio\"] > 150"
   ]
  },
  {
   "cell_type": "code",
   "execution_count": null,
   "metadata": {
    "id": "kHZzi6fUtLOZ"
   },
   "outputs": [],
   "source": [
    "datos1[datos1[\"precio\"] > 150]"
   ]
  },
  {
   "cell_type": "code",
   "execution_count": null,
   "metadata": {
    "id": "CbrZKOFxtXF8"
   },
   "outputs": [],
   "source": [
    "datos1[(datos1.precio > 400) & (datos1.mt2 > 300)]"
   ]
  },
  {
   "cell_type": "code",
   "execution_count": null,
   "metadata": {
    "id": "jkv5O5_jty20"
   },
   "outputs": [],
   "source": [
    "datos1[(datos1.precio > 400) & (datos1.mt2 > 300)].shape"
   ]
  },
  {
   "cell_type": "code",
   "execution_count": null,
   "metadata": {
    "id": "VWywrRJn7fa7"
   },
   "outputs": [],
   "source": [
    "# ¿Qué efecto tiene la siguiente línea?\n",
    "datos1.loc[datos1.loc[: , \"balcon\"]==\"si\"].head(5)"
   ]
  },
  {
   "cell_type": "code",
   "execution_count": null,
   "metadata": {
    "id": "kjE1lPRfuJ2W"
   },
   "outputs": [],
   "source": [
    "datos1[datos1.balcon == \"si\"].shape"
   ]
  },
  {
   "cell_type": "code",
   "execution_count": null,
   "metadata": {
    "id": "5Zbhbh2v8VT-"
   },
   "outputs": [],
   "source": [
    "datos1[datos1[\"mt2\"] > 150]"
   ]
  },
  {
   "cell_type": "markdown",
   "metadata": {
    "id": "IB4kX7LUuqg-"
   },
   "source": [
    "## Renombrar una columna\n",
    "\n",
    "- Usamos la instrucción rename\n",
    "\n",
    "datos.rename(columns={key : value, key : value}, inplace=True)\n",
    "\n",
    "La instrucción inplace se usa para determinar si cambiamos el data.frame original.\n"
   ]
  },
  {
   "cell_type": "code",
   "execution_count": null,
   "metadata": {
    "id": "iBSP8h0O9p8j"
   },
   "outputs": [],
   "source": [
    "# renombrar una columna\n",
    "datos1.rename(columns={\"administracion\" : \"admon\"}, inplace=True)\n",
    "print(datos1.columns)\n",
    "datos1.head(5)"
   ]
  },
  {
   "cell_type": "code",
   "execution_count": null,
   "metadata": {
    "id": "8rCeumC2_Vpt"
   },
   "outputs": [],
   "source": [
    "# renombrar varias columnas\n",
    "datos1.rename(columns={\"terminado\" : \"fin\" , \"parqueadero\" : \"pk\"}, inplace=True)\n",
    "datos1.head(5)"
   ]
  },
  {
   "cell_type": "markdown",
   "metadata": {
    "id": "ouqcftrcwG3Z"
   },
   "source": [
    "## Eliminar una columna o una fila\n",
    "\n",
    "Para eliminar una columna usamos la instrucción .drop\n",
    "\n",
    "datos1.drop(\"fila\", axis = 1) : axis = 1 es por columna"
   ]
  },
  {
   "cell_type": "code",
   "execution_count": null,
   "metadata": {
    "id": "w5mhvu5iADSQ"
   },
   "outputs": [],
   "source": [
    "# quitamos la columna y no modificamos el data.frame\n",
    "datos1.drop(\"Unnamed: 0\", axis = 1, inplace = False)\n"
   ]
  },
  {
   "cell_type": "code",
   "execution_count": null,
   "metadata": {
    "id": "E2RN8wmAxIE9"
   },
   "outputs": [],
   "source": [
    "# quitamos varias columnas\n",
    "datos1.drop([\"mt2\",\"precio\"], axis = 1 , inplace = False)"
   ]
  },
  {
   "cell_type": "code",
   "execution_count": null,
   "metadata": {
    "id": "ZRRmo4ENEu4s"
   },
   "outputs": [],
   "source": [
    "# seleccionamos las columnas numéricas\n",
    "datos1.select_dtypes(exclude = object)"
   ]
  },
  {
   "cell_type": "code",
   "execution_count": null,
   "metadata": {
    "id": "QK5Xh94KxxWU"
   },
   "outputs": [],
   "source": [
    "# seleccionar los datos tipo object. \n",
    "datos1.select_dtypes(include = object)"
   ]
  },
  {
   "cell_type": "markdown",
   "metadata": {
    "id": "k-g8oKWsy058"
   },
   "source": [
    "## Añadir columnas a una DataFrame\n",
    "\n",
    "datos[\"nombre\"]= lista"
   ]
  },
  {
   "cell_type": "code",
   "execution_count": null,
   "metadata": {
    "colab": {
     "base_uri": "https://localhost:8080/",
     "height": 201
    },
    "executionInfo": {
     "elapsed": 205,
     "status": "ok",
     "timestamp": 1675973444843,
     "user": {
      "displayName": "FABIAN SANCHEZ SALAZAR",
      "userId": "13785856712232060994"
     },
     "user_tz": 300
    },
    "id": "b1SzQLlezCgG",
    "outputId": "059deac3-0c79-4cfb-f7ef-5fc981922289"
   },
   "outputs": [
    {
     "data": {
      "text/html": [
       "\n",
       "  <div id=\"df-96b09941-5aed-474d-8906-f4d57d570716\">\n",
       "    <div class=\"colab-df-container\">\n",
       "      <div>\n",
       "<style scoped>\n",
       "    .dataframe tbody tr th:only-of-type {\n",
       "        vertical-align: middle;\n",
       "    }\n",
       "\n",
       "    .dataframe tbody tr th {\n",
       "        vertical-align: top;\n",
       "    }\n",
       "\n",
       "    .dataframe thead th {\n",
       "        text-align: right;\n",
       "    }\n",
       "</style>\n",
       "<table border=\"1\" class=\"dataframe\">\n",
       "  <thead>\n",
       "    <tr style=\"text-align: right;\">\n",
       "      <th></th>\n",
       "      <th>Unnamed: 0</th>\n",
       "      <th>precio</th>\n",
       "      <th>mt2</th>\n",
       "      <th>ubicacion</th>\n",
       "      <th>estrato</th>\n",
       "      <th>alcobas</th>\n",
       "      <th>banos</th>\n",
       "      <th>balcon</th>\n",
       "      <th>pk</th>\n",
       "      <th>admon</th>\n",
       "      <th>avaluo</th>\n",
       "      <th>fin</th>\n",
       "      <th>nueva</th>\n",
       "    </tr>\n",
       "  </thead>\n",
       "  <tbody>\n",
       "    <tr>\n",
       "      <th>0</th>\n",
       "      <td>1</td>\n",
       "      <td>79.0</td>\n",
       "      <td>43.16</td>\n",
       "      <td>norte</td>\n",
       "      <td>3</td>\n",
       "      <td>3</td>\n",
       "      <td>1</td>\n",
       "      <td>si</td>\n",
       "      <td>si</td>\n",
       "      <td>0.050</td>\n",
       "      <td>14.923002</td>\n",
       "      <td>no</td>\n",
       "      <td>0.79</td>\n",
       "    </tr>\n",
       "    <tr>\n",
       "      <th>1</th>\n",
       "      <td>2</td>\n",
       "      <td>93.0</td>\n",
       "      <td>56.92</td>\n",
       "      <td>norte</td>\n",
       "      <td>2</td>\n",
       "      <td>2</td>\n",
       "      <td>1</td>\n",
       "      <td>si</td>\n",
       "      <td>si</td>\n",
       "      <td>0.069</td>\n",
       "      <td>27.000000</td>\n",
       "      <td>si</td>\n",
       "      <td>0.93</td>\n",
       "    </tr>\n",
       "    <tr>\n",
       "      <th>2</th>\n",
       "      <td>3</td>\n",
       "      <td>100.0</td>\n",
       "      <td>66.40</td>\n",
       "      <td>norte</td>\n",
       "      <td>3</td>\n",
       "      <td>2</td>\n",
       "      <td>2</td>\n",
       "      <td>no</td>\n",
       "      <td>no</td>\n",
       "      <td>0.000</td>\n",
       "      <td>15.738427</td>\n",
       "      <td>no</td>\n",
       "      <td>1.00</td>\n",
       "    </tr>\n",
       "    <tr>\n",
       "      <th>3</th>\n",
       "      <td>4</td>\n",
       "      <td>123.0</td>\n",
       "      <td>61.85</td>\n",
       "      <td>norte</td>\n",
       "      <td>2</td>\n",
       "      <td>3</td>\n",
       "      <td>2</td>\n",
       "      <td>si</td>\n",
       "      <td>si</td>\n",
       "      <td>0.130</td>\n",
       "      <td>27.000000</td>\n",
       "      <td>no</td>\n",
       "      <td>1.23</td>\n",
       "    </tr>\n",
       "    <tr>\n",
       "      <th>4</th>\n",
       "      <td>5</td>\n",
       "      <td>135.0</td>\n",
       "      <td>89.80</td>\n",
       "      <td>norte</td>\n",
       "      <td>4</td>\n",
       "      <td>3</td>\n",
       "      <td>2</td>\n",
       "      <td>si</td>\n",
       "      <td>no</td>\n",
       "      <td>0.000</td>\n",
       "      <td>39.567000</td>\n",
       "      <td>si</td>\n",
       "      <td>1.35</td>\n",
       "    </tr>\n",
       "  </tbody>\n",
       "</table>\n",
       "</div>\n",
       "      <button class=\"colab-df-convert\" onclick=\"convertToInteractive('df-96b09941-5aed-474d-8906-f4d57d570716')\"\n",
       "              title=\"Convert this dataframe to an interactive table.\"\n",
       "              style=\"display:none;\">\n",
       "        \n",
       "  <svg xmlns=\"http://www.w3.org/2000/svg\" height=\"24px\"viewBox=\"0 0 24 24\"\n",
       "       width=\"24px\">\n",
       "    <path d=\"M0 0h24v24H0V0z\" fill=\"none\"/>\n",
       "    <path d=\"M18.56 5.44l.94 2.06.94-2.06 2.06-.94-2.06-.94-.94-2.06-.94 2.06-2.06.94zm-11 1L8.5 8.5l.94-2.06 2.06-.94-2.06-.94L8.5 2.5l-.94 2.06-2.06.94zm10 10l.94 2.06.94-2.06 2.06-.94-2.06-.94-.94-2.06-.94 2.06-2.06.94z\"/><path d=\"M17.41 7.96l-1.37-1.37c-.4-.4-.92-.59-1.43-.59-.52 0-1.04.2-1.43.59L10.3 9.45l-7.72 7.72c-.78.78-.78 2.05 0 2.83L4 21.41c.39.39.9.59 1.41.59.51 0 1.02-.2 1.41-.59l7.78-7.78 2.81-2.81c.8-.78.8-2.07 0-2.86zM5.41 20L4 18.59l7.72-7.72 1.47 1.35L5.41 20z\"/>\n",
       "  </svg>\n",
       "      </button>\n",
       "      \n",
       "  <style>\n",
       "    .colab-df-container {\n",
       "      display:flex;\n",
       "      flex-wrap:wrap;\n",
       "      gap: 12px;\n",
       "    }\n",
       "\n",
       "    .colab-df-convert {\n",
       "      background-color: #E8F0FE;\n",
       "      border: none;\n",
       "      border-radius: 50%;\n",
       "      cursor: pointer;\n",
       "      display: none;\n",
       "      fill: #1967D2;\n",
       "      height: 32px;\n",
       "      padding: 0 0 0 0;\n",
       "      width: 32px;\n",
       "    }\n",
       "\n",
       "    .colab-df-convert:hover {\n",
       "      background-color: #E2EBFA;\n",
       "      box-shadow: 0px 1px 2px rgba(60, 64, 67, 0.3), 0px 1px 3px 1px rgba(60, 64, 67, 0.15);\n",
       "      fill: #174EA6;\n",
       "    }\n",
       "\n",
       "    [theme=dark] .colab-df-convert {\n",
       "      background-color: #3B4455;\n",
       "      fill: #D2E3FC;\n",
       "    }\n",
       "\n",
       "    [theme=dark] .colab-df-convert:hover {\n",
       "      background-color: #434B5C;\n",
       "      box-shadow: 0px 1px 3px 1px rgba(0, 0, 0, 0.15);\n",
       "      filter: drop-shadow(0px 1px 2px rgba(0, 0, 0, 0.3));\n",
       "      fill: #FFFFFF;\n",
       "    }\n",
       "  </style>\n",
       "\n",
       "      <script>\n",
       "        const buttonEl =\n",
       "          document.querySelector('#df-96b09941-5aed-474d-8906-f4d57d570716 button.colab-df-convert');\n",
       "        buttonEl.style.display =\n",
       "          google.colab.kernel.accessAllowed ? 'block' : 'none';\n",
       "\n",
       "        async function convertToInteractive(key) {\n",
       "          const element = document.querySelector('#df-96b09941-5aed-474d-8906-f4d57d570716');\n",
       "          const dataTable =\n",
       "            await google.colab.kernel.invokeFunction('convertToInteractive',\n",
       "                                                     [key], {});\n",
       "          if (!dataTable) return;\n",
       "\n",
       "          const docLinkHtml = 'Like what you see? Visit the ' +\n",
       "            '<a target=\"_blank\" href=https://colab.research.google.com/notebooks/data_table.ipynb>data table notebook</a>'\n",
       "            + ' to learn more about interactive tables.';\n",
       "          element.innerHTML = '';\n",
       "          dataTable['output_type'] = 'display_data';\n",
       "          await google.colab.output.renderOutput(dataTable, element);\n",
       "          const docLink = document.createElement('div');\n",
       "          docLink.innerHTML = docLinkHtml;\n",
       "          element.appendChild(docLink);\n",
       "        }\n",
       "      </script>\n",
       "    </div>\n",
       "  </div>\n",
       "  "
      ],
      "text/plain": [
       "   Unnamed: 0  precio    mt2 ubicacion  estrato  alcobas  banos balcon  pk  \\\n",
       "0           1    79.0  43.16     norte        3        3      1     si  si   \n",
       "1           2    93.0  56.92     norte        2        2      1     si  si   \n",
       "2           3   100.0  66.40     norte        3        2      2     no  no   \n",
       "3           4   123.0  61.85     norte        2        3      2     si  si   \n",
       "4           5   135.0  89.80     norte        4        3      2     si  no   \n",
       "\n",
       "   admon     avaluo fin  nueva  \n",
       "0  0.050  14.923002  no   0.79  \n",
       "1  0.069  27.000000  si   0.93  \n",
       "2  0.000  15.738427  no   1.00  \n",
       "3  0.130  27.000000  no   1.23  \n",
       "4  0.000  39.567000  si   1.35  "
      ]
     },
     "execution_count": 49,
     "metadata": {},
     "output_type": "execute_result"
    }
   ],
   "source": [
    "# añadir una columan en función de otras\n",
    "datos1[\"nueva\"] = datos1.precio/100\n",
    "datos1.head(5)"
   ]
  },
  {
   "cell_type": "markdown",
   "metadata": {
    "id": "U2p_96Lj0Xjj"
   },
   "source": [
    "## Operaciones con columnas\n",
    "\n",
    "- usaremos la instrucción df[columna].apply()\n",
    "\n",
    "- min()\n",
    "\n",
    "- max()\n",
    "\n",
    "- mean()\n",
    "\n",
    "- sum()\n",
    "\n",
    "- cumsum()\n",
    "\n",
    "- count() \n",
    "\n",
    "- value_counts()\n",
    "\n",
    "- var()\n",
    "\n",
    "- std()\n",
    "\n",
    "- describe() "
   ]
  },
  {
   "cell_type": "code",
   "execution_count": null,
   "metadata": {
    "id": "419TYkfi0WhO"
   },
   "outputs": [],
   "source": [
    "print(datos1.precio.min())\n",
    "print(datos1.precio.max())\n",
    "print(datos1.precio.mean())\n",
    "print(datos1.precio.var())\n",
    "print(datos1.precio.sum())"
   ]
  },
  {
   "cell_type": "code",
   "execution_count": null,
   "metadata": {
    "colab": {
     "base_uri": "https://localhost:8080/"
    },
    "executionInfo": {
     "elapsed": 405,
     "status": "ok",
     "timestamp": 1675974364436,
     "user": {
      "displayName": "FABIAN SANCHEZ SALAZAR",
      "userId": "13785856712232060994"
     },
     "user_tz": 300
    },
    "id": "hzgc0hfx2ZlM",
    "outputId": "b3ef1f5c-bc81-4a8e-bfcc-7242eb53891e"
   },
   "outputs": [
    {
     "data": {
      "text/plain": [
       "6    242\n",
       "3    161\n",
       "5    145\n",
       "4    138\n",
       "2      8\n",
       "Name: estrato, dtype: int64"
      ]
     },
     "execution_count": 71,
     "metadata": {},
     "output_type": "execute_result"
    }
   ],
   "source": [
    "datos1.estrato.value_counts()"
   ]
  },
  {
   "cell_type": "code",
   "execution_count": null,
   "metadata": {
    "colab": {
     "base_uri": "https://localhost:8080/",
     "height": 291
    },
    "executionInfo": {
     "elapsed": 10,
     "status": "ok",
     "timestamp": 1675974504367,
     "user": {
      "displayName": "FABIAN SANCHEZ SALAZAR",
      "userId": "13785856712232060994"
     },
     "user_tz": 300
    },
    "id": "BdbQdZdX3UTH",
    "outputId": "a4f7054a-1839-492b-b688-cc61e666135a"
   },
   "outputs": [
    {
     "data": {
      "text/html": [
       "\n",
       "  <div id=\"df-5d5bd766-f2cf-4c8a-8605-98ac229c5734\">\n",
       "    <div class=\"colab-df-container\">\n",
       "      <div>\n",
       "<style scoped>\n",
       "    .dataframe tbody tr th:only-of-type {\n",
       "        vertical-align: middle;\n",
       "    }\n",
       "\n",
       "    .dataframe tbody tr th {\n",
       "        vertical-align: top;\n",
       "    }\n",
       "\n",
       "    .dataframe thead th {\n",
       "        text-align: right;\n",
       "    }\n",
       "</style>\n",
       "<table border=\"1\" class=\"dataframe\">\n",
       "  <thead>\n",
       "    <tr style=\"text-align: right;\">\n",
       "      <th></th>\n",
       "      <th>Unnamed: 0</th>\n",
       "      <th>precio</th>\n",
       "      <th>mt2</th>\n",
       "      <th>estrato</th>\n",
       "      <th>alcobas</th>\n",
       "      <th>banos</th>\n",
       "      <th>admon</th>\n",
       "      <th>avaluo</th>\n",
       "      <th>nueva</th>\n",
       "    </tr>\n",
       "  </thead>\n",
       "  <tbody>\n",
       "    <tr>\n",
       "      <th>count</th>\n",
       "      <td>694.000000</td>\n",
       "      <td>694.000000</td>\n",
       "      <td>694.000000</td>\n",
       "      <td>694.000000</td>\n",
       "      <td>694.000000</td>\n",
       "      <td>694.000000</td>\n",
       "      <td>694.000000</td>\n",
       "      <td>694.000000</td>\n",
       "      <td>694.000000</td>\n",
       "    </tr>\n",
       "    <tr>\n",
       "      <th>mean</th>\n",
       "      <td>347.500000</td>\n",
       "      <td>317.762739</td>\n",
       "      <td>120.943818</td>\n",
       "      <td>4.651297</td>\n",
       "      <td>2.910663</td>\n",
       "      <td>2.289625</td>\n",
       "      <td>0.263556</td>\n",
       "      <td>182.636593</td>\n",
       "      <td>3.177627</td>\n",
       "    </tr>\n",
       "    <tr>\n",
       "      <th>std</th>\n",
       "      <td>200.484829</td>\n",
       "      <td>247.614914</td>\n",
       "      <td>74.695493</td>\n",
       "      <td>1.208205</td>\n",
       "      <td>0.763962</td>\n",
       "      <td>0.795718</td>\n",
       "      <td>0.251586</td>\n",
       "      <td>169.082384</td>\n",
       "      <td>2.476149</td>\n",
       "    </tr>\n",
       "    <tr>\n",
       "      <th>min</th>\n",
       "      <td>1.000000</td>\n",
       "      <td>25.000000</td>\n",
       "      <td>26.000000</td>\n",
       "      <td>2.000000</td>\n",
       "      <td>1.000000</td>\n",
       "      <td>1.000000</td>\n",
       "      <td>0.000000</td>\n",
       "      <td>0.149000</td>\n",
       "      <td>0.250000</td>\n",
       "    </tr>\n",
       "    <tr>\n",
       "      <th>25%</th>\n",
       "      <td>174.250000</td>\n",
       "      <td>160.000000</td>\n",
       "      <td>71.000000</td>\n",
       "      <td>4.000000</td>\n",
       "      <td>3.000000</td>\n",
       "      <td>2.000000</td>\n",
       "      <td>0.090000</td>\n",
       "      <td>73.000000</td>\n",
       "      <td>1.600000</td>\n",
       "    </tr>\n",
       "    <tr>\n",
       "      <th>50%</th>\n",
       "      <td>347.500000</td>\n",
       "      <td>245.000000</td>\n",
       "      <td>97.500000</td>\n",
       "      <td>5.000000</td>\n",
       "      <td>3.000000</td>\n",
       "      <td>2.000000</td>\n",
       "      <td>0.201000</td>\n",
       "      <td>131.431500</td>\n",
       "      <td>2.450000</td>\n",
       "    </tr>\n",
       "    <tr>\n",
       "      <th>75%</th>\n",
       "      <td>520.750000</td>\n",
       "      <td>380.000000</td>\n",
       "      <td>141.750000</td>\n",
       "      <td>6.000000</td>\n",
       "      <td>3.000000</td>\n",
       "      <td>3.000000</td>\n",
       "      <td>0.375000</td>\n",
       "      <td>234.051000</td>\n",
       "      <td>3.800000</td>\n",
       "    </tr>\n",
       "    <tr>\n",
       "      <th>max</th>\n",
       "      <td>694.000000</td>\n",
       "      <td>1700.000000</td>\n",
       "      <td>500.000000</td>\n",
       "      <td>6.000000</td>\n",
       "      <td>14.000000</td>\n",
       "      <td>6.000000</td>\n",
       "      <td>2.280000</td>\n",
       "      <td>1540.620000</td>\n",
       "      <td>17.000000</td>\n",
       "    </tr>\n",
       "  </tbody>\n",
       "</table>\n",
       "</div>\n",
       "      <button class=\"colab-df-convert\" onclick=\"convertToInteractive('df-5d5bd766-f2cf-4c8a-8605-98ac229c5734')\"\n",
       "              title=\"Convert this dataframe to an interactive table.\"\n",
       "              style=\"display:none;\">\n",
       "        \n",
       "  <svg xmlns=\"http://www.w3.org/2000/svg\" height=\"24px\"viewBox=\"0 0 24 24\"\n",
       "       width=\"24px\">\n",
       "    <path d=\"M0 0h24v24H0V0z\" fill=\"none\"/>\n",
       "    <path d=\"M18.56 5.44l.94 2.06.94-2.06 2.06-.94-2.06-.94-.94-2.06-.94 2.06-2.06.94zm-11 1L8.5 8.5l.94-2.06 2.06-.94-2.06-.94L8.5 2.5l-.94 2.06-2.06.94zm10 10l.94 2.06.94-2.06 2.06-.94-2.06-.94-.94-2.06-.94 2.06-2.06.94z\"/><path d=\"M17.41 7.96l-1.37-1.37c-.4-.4-.92-.59-1.43-.59-.52 0-1.04.2-1.43.59L10.3 9.45l-7.72 7.72c-.78.78-.78 2.05 0 2.83L4 21.41c.39.39.9.59 1.41.59.51 0 1.02-.2 1.41-.59l7.78-7.78 2.81-2.81c.8-.78.8-2.07 0-2.86zM5.41 20L4 18.59l7.72-7.72 1.47 1.35L5.41 20z\"/>\n",
       "  </svg>\n",
       "      </button>\n",
       "      \n",
       "  <style>\n",
       "    .colab-df-container {\n",
       "      display:flex;\n",
       "      flex-wrap:wrap;\n",
       "      gap: 12px;\n",
       "    }\n",
       "\n",
       "    .colab-df-convert {\n",
       "      background-color: #E8F0FE;\n",
       "      border: none;\n",
       "      border-radius: 50%;\n",
       "      cursor: pointer;\n",
       "      display: none;\n",
       "      fill: #1967D2;\n",
       "      height: 32px;\n",
       "      padding: 0 0 0 0;\n",
       "      width: 32px;\n",
       "    }\n",
       "\n",
       "    .colab-df-convert:hover {\n",
       "      background-color: #E2EBFA;\n",
       "      box-shadow: 0px 1px 2px rgba(60, 64, 67, 0.3), 0px 1px 3px 1px rgba(60, 64, 67, 0.15);\n",
       "      fill: #174EA6;\n",
       "    }\n",
       "\n",
       "    [theme=dark] .colab-df-convert {\n",
       "      background-color: #3B4455;\n",
       "      fill: #D2E3FC;\n",
       "    }\n",
       "\n",
       "    [theme=dark] .colab-df-convert:hover {\n",
       "      background-color: #434B5C;\n",
       "      box-shadow: 0px 1px 3px 1px rgba(0, 0, 0, 0.15);\n",
       "      filter: drop-shadow(0px 1px 2px rgba(0, 0, 0, 0.3));\n",
       "      fill: #FFFFFF;\n",
       "    }\n",
       "  </style>\n",
       "\n",
       "      <script>\n",
       "        const buttonEl =\n",
       "          document.querySelector('#df-5d5bd766-f2cf-4c8a-8605-98ac229c5734 button.colab-df-convert');\n",
       "        buttonEl.style.display =\n",
       "          google.colab.kernel.accessAllowed ? 'block' : 'none';\n",
       "\n",
       "        async function convertToInteractive(key) {\n",
       "          const element = document.querySelector('#df-5d5bd766-f2cf-4c8a-8605-98ac229c5734');\n",
       "          const dataTable =\n",
       "            await google.colab.kernel.invokeFunction('convertToInteractive',\n",
       "                                                     [key], {});\n",
       "          if (!dataTable) return;\n",
       "\n",
       "          const docLinkHtml = 'Like what you see? Visit the ' +\n",
       "            '<a target=\"_blank\" href=https://colab.research.google.com/notebooks/data_table.ipynb>data table notebook</a>'\n",
       "            + ' to learn more about interactive tables.';\n",
       "          element.innerHTML = '';\n",
       "          dataTable['output_type'] = 'display_data';\n",
       "          await google.colab.output.renderOutput(dataTable, element);\n",
       "          const docLink = document.createElement('div');\n",
       "          docLink.innerHTML = docLinkHtml;\n",
       "          element.appendChild(docLink);\n",
       "        }\n",
       "      </script>\n",
       "    </div>\n",
       "  </div>\n",
       "  "
      ],
      "text/plain": [
       "       Unnamed: 0       precio         mt2     estrato     alcobas  \\\n",
       "count  694.000000   694.000000  694.000000  694.000000  694.000000   \n",
       "mean   347.500000   317.762739  120.943818    4.651297    2.910663   \n",
       "std    200.484829   247.614914   74.695493    1.208205    0.763962   \n",
       "min      1.000000    25.000000   26.000000    2.000000    1.000000   \n",
       "25%    174.250000   160.000000   71.000000    4.000000    3.000000   \n",
       "50%    347.500000   245.000000   97.500000    5.000000    3.000000   \n",
       "75%    520.750000   380.000000  141.750000    6.000000    3.000000   \n",
       "max    694.000000  1700.000000  500.000000    6.000000   14.000000   \n",
       "\n",
       "            banos       admon       avaluo       nueva  \n",
       "count  694.000000  694.000000   694.000000  694.000000  \n",
       "mean     2.289625    0.263556   182.636593    3.177627  \n",
       "std      0.795718    0.251586   169.082384    2.476149  \n",
       "min      1.000000    0.000000     0.149000    0.250000  \n",
       "25%      2.000000    0.090000    73.000000    1.600000  \n",
       "50%      2.000000    0.201000   131.431500    2.450000  \n",
       "75%      3.000000    0.375000   234.051000    3.800000  \n",
       "max      6.000000    2.280000  1540.620000   17.000000  "
      ]
     },
     "execution_count": 72,
     "metadata": {},
     "output_type": "execute_result"
    }
   ],
   "source": [
    "datos1.describe()"
   ]
  },
  {
   "cell_type": "markdown",
   "metadata": {
    "id": "-vdwDcmY5d3v"
   },
   "source": [
    "## Ordenar por una columna\n",
    "\n",
    "- usamos la instrucción sort_values"
   ]
  },
  {
   "cell_type": "code",
   "execution_count": null,
   "metadata": {
    "colab": {
     "base_uri": "https://localhost:8080/",
     "height": 231
    },
    "executionInfo": {
     "elapsed": 230,
     "status": "ok",
     "timestamp": 1675975001746,
     "user": {
      "displayName": "FABIAN SANCHEZ SALAZAR",
      "userId": "13785856712232060994"
     },
     "user_tz": 300
    },
    "id": "qa7HLb2q5BXc",
    "outputId": "4ae952b2-aa82-4bd3-dd27-ba5e1d8e1c4a"
   },
   "outputs": [
    {
     "data": {
      "text/html": [
       "\n",
       "  <div id=\"df-41a79620-ad58-456b-acca-c5276fa09298\">\n",
       "    <div class=\"colab-df-container\">\n",
       "      <div>\n",
       "<style scoped>\n",
       "    .dataframe tbody tr th:only-of-type {\n",
       "        vertical-align: middle;\n",
       "    }\n",
       "\n",
       "    .dataframe tbody tr th {\n",
       "        vertical-align: top;\n",
       "    }\n",
       "\n",
       "    .dataframe thead th {\n",
       "        text-align: right;\n",
       "    }\n",
       "</style>\n",
       "<table border=\"1\" class=\"dataframe\">\n",
       "  <thead>\n",
       "    <tr style=\"text-align: right;\">\n",
       "      <th></th>\n",
       "      <th>Unnamed: 0</th>\n",
       "      <th>precio</th>\n",
       "      <th>mt2</th>\n",
       "      <th>ubicacion</th>\n",
       "      <th>estrato</th>\n",
       "      <th>alcobas</th>\n",
       "      <th>banos</th>\n",
       "      <th>balcon</th>\n",
       "      <th>pk</th>\n",
       "      <th>admon</th>\n",
       "      <th>avaluo</th>\n",
       "      <th>fin</th>\n",
       "      <th>nueva</th>\n",
       "    </tr>\n",
       "  </thead>\n",
       "  <tbody>\n",
       "    <tr>\n",
       "      <th>644</th>\n",
       "      <td>645</td>\n",
       "      <td>25.0</td>\n",
       "      <td>118.00</td>\n",
       "      <td>laureles</td>\n",
       "      <td>5</td>\n",
       "      <td>3</td>\n",
       "      <td>2</td>\n",
       "      <td>si</td>\n",
       "      <td>no</td>\n",
       "      <td>0.000</td>\n",
       "      <td>95.885</td>\n",
       "      <td>si</td>\n",
       "      <td>0.25</td>\n",
       "    </tr>\n",
       "    <tr>\n",
       "      <th>347</th>\n",
       "      <td>348</td>\n",
       "      <td>45.0</td>\n",
       "      <td>53.00</td>\n",
       "      <td>aburra sur</td>\n",
       "      <td>3</td>\n",
       "      <td>3</td>\n",
       "      <td>1</td>\n",
       "      <td>si</td>\n",
       "      <td>no</td>\n",
       "      <td>0.000</td>\n",
       "      <td>23.899</td>\n",
       "      <td>si</td>\n",
       "      <td>0.45</td>\n",
       "    </tr>\n",
       "    <tr>\n",
       "      <th>10</th>\n",
       "      <td>11</td>\n",
       "      <td>47.0</td>\n",
       "      <td>43.00</td>\n",
       "      <td>occidente</td>\n",
       "      <td>2</td>\n",
       "      <td>2</td>\n",
       "      <td>1</td>\n",
       "      <td>no</td>\n",
       "      <td>no</td>\n",
       "      <td>0.000</td>\n",
       "      <td>16.486</td>\n",
       "      <td>no</td>\n",
       "      <td>0.47</td>\n",
       "    </tr>\n",
       "    <tr>\n",
       "      <th>11</th>\n",
       "      <td>12</td>\n",
       "      <td>53.0</td>\n",
       "      <td>37.56</td>\n",
       "      <td>occidente</td>\n",
       "      <td>3</td>\n",
       "      <td>3</td>\n",
       "      <td>1</td>\n",
       "      <td>no</td>\n",
       "      <td>si</td>\n",
       "      <td>0.000</td>\n",
       "      <td>16.486</td>\n",
       "      <td>si</td>\n",
       "      <td>0.53</td>\n",
       "    </tr>\n",
       "    <tr>\n",
       "      <th>348</th>\n",
       "      <td>349</td>\n",
       "      <td>63.0</td>\n",
       "      <td>43.00</td>\n",
       "      <td>aburra sur</td>\n",
       "      <td>3</td>\n",
       "      <td>3</td>\n",
       "      <td>1</td>\n",
       "      <td>no</td>\n",
       "      <td>no</td>\n",
       "      <td>0.050</td>\n",
       "      <td>41.468</td>\n",
       "      <td>si</td>\n",
       "      <td>0.63</td>\n",
       "    </tr>\n",
       "    <tr>\n",
       "      <th>583</th>\n",
       "      <td>584</td>\n",
       "      <td>67.0</td>\n",
       "      <td>41.00</td>\n",
       "      <td>centro</td>\n",
       "      <td>3</td>\n",
       "      <td>2</td>\n",
       "      <td>1</td>\n",
       "      <td>no</td>\n",
       "      <td>no</td>\n",
       "      <td>0.072</td>\n",
       "      <td>32.045</td>\n",
       "      <td>si</td>\n",
       "      <td>0.67</td>\n",
       "    </tr>\n",
       "  </tbody>\n",
       "</table>\n",
       "</div>\n",
       "      <button class=\"colab-df-convert\" onclick=\"convertToInteractive('df-41a79620-ad58-456b-acca-c5276fa09298')\"\n",
       "              title=\"Convert this dataframe to an interactive table.\"\n",
       "              style=\"display:none;\">\n",
       "        \n",
       "  <svg xmlns=\"http://www.w3.org/2000/svg\" height=\"24px\"viewBox=\"0 0 24 24\"\n",
       "       width=\"24px\">\n",
       "    <path d=\"M0 0h24v24H0V0z\" fill=\"none\"/>\n",
       "    <path d=\"M18.56 5.44l.94 2.06.94-2.06 2.06-.94-2.06-.94-.94-2.06-.94 2.06-2.06.94zm-11 1L8.5 8.5l.94-2.06 2.06-.94-2.06-.94L8.5 2.5l-.94 2.06-2.06.94zm10 10l.94 2.06.94-2.06 2.06-.94-2.06-.94-.94-2.06-.94 2.06-2.06.94z\"/><path d=\"M17.41 7.96l-1.37-1.37c-.4-.4-.92-.59-1.43-.59-.52 0-1.04.2-1.43.59L10.3 9.45l-7.72 7.72c-.78.78-.78 2.05 0 2.83L4 21.41c.39.39.9.59 1.41.59.51 0 1.02-.2 1.41-.59l7.78-7.78 2.81-2.81c.8-.78.8-2.07 0-2.86zM5.41 20L4 18.59l7.72-7.72 1.47 1.35L5.41 20z\"/>\n",
       "  </svg>\n",
       "      </button>\n",
       "      \n",
       "  <style>\n",
       "    .colab-df-container {\n",
       "      display:flex;\n",
       "      flex-wrap:wrap;\n",
       "      gap: 12px;\n",
       "    }\n",
       "\n",
       "    .colab-df-convert {\n",
       "      background-color: #E8F0FE;\n",
       "      border: none;\n",
       "      border-radius: 50%;\n",
       "      cursor: pointer;\n",
       "      display: none;\n",
       "      fill: #1967D2;\n",
       "      height: 32px;\n",
       "      padding: 0 0 0 0;\n",
       "      width: 32px;\n",
       "    }\n",
       "\n",
       "    .colab-df-convert:hover {\n",
       "      background-color: #E2EBFA;\n",
       "      box-shadow: 0px 1px 2px rgba(60, 64, 67, 0.3), 0px 1px 3px 1px rgba(60, 64, 67, 0.15);\n",
       "      fill: #174EA6;\n",
       "    }\n",
       "\n",
       "    [theme=dark] .colab-df-convert {\n",
       "      background-color: #3B4455;\n",
       "      fill: #D2E3FC;\n",
       "    }\n",
       "\n",
       "    [theme=dark] .colab-df-convert:hover {\n",
       "      background-color: #434B5C;\n",
       "      box-shadow: 0px 1px 3px 1px rgba(0, 0, 0, 0.15);\n",
       "      filter: drop-shadow(0px 1px 2px rgba(0, 0, 0, 0.3));\n",
       "      fill: #FFFFFF;\n",
       "    }\n",
       "  </style>\n",
       "\n",
       "      <script>\n",
       "        const buttonEl =\n",
       "          document.querySelector('#df-41a79620-ad58-456b-acca-c5276fa09298 button.colab-df-convert');\n",
       "        buttonEl.style.display =\n",
       "          google.colab.kernel.accessAllowed ? 'block' : 'none';\n",
       "\n",
       "        async function convertToInteractive(key) {\n",
       "          const element = document.querySelector('#df-41a79620-ad58-456b-acca-c5276fa09298');\n",
       "          const dataTable =\n",
       "            await google.colab.kernel.invokeFunction('convertToInteractive',\n",
       "                                                     [key], {});\n",
       "          if (!dataTable) return;\n",
       "\n",
       "          const docLinkHtml = 'Like what you see? Visit the ' +\n",
       "            '<a target=\"_blank\" href=https://colab.research.google.com/notebooks/data_table.ipynb>data table notebook</a>'\n",
       "            + ' to learn more about interactive tables.';\n",
       "          element.innerHTML = '';\n",
       "          dataTable['output_type'] = 'display_data';\n",
       "          await google.colab.output.renderOutput(dataTable, element);\n",
       "          const docLink = document.createElement('div');\n",
       "          docLink.innerHTML = docLinkHtml;\n",
       "          element.appendChild(docLink);\n",
       "        }\n",
       "      </script>\n",
       "    </div>\n",
       "  </div>\n",
       "  "
      ],
      "text/plain": [
       "     Unnamed: 0  precio     mt2   ubicacion  estrato  alcobas  banos balcon  \\\n",
       "644         645    25.0  118.00    laureles        5        3      2     si   \n",
       "347         348    45.0   53.00  aburra sur        3        3      1     si   \n",
       "10           11    47.0   43.00   occidente        2        2      1     no   \n",
       "11           12    53.0   37.56   occidente        3        3      1     no   \n",
       "348         349    63.0   43.00  aburra sur        3        3      1     no   \n",
       "583         584    67.0   41.00      centro        3        2      1     no   \n",
       "\n",
       "     pk  admon  avaluo fin  nueva  \n",
       "644  no  0.000  95.885  si   0.25  \n",
       "347  no  0.000  23.899  si   0.45  \n",
       "10   no  0.000  16.486  no   0.47  \n",
       "11   si  0.000  16.486  si   0.53  \n",
       "348  no  0.050  41.468  si   0.63  \n",
       "583  no  0.072  32.045  si   0.67  "
      ]
     },
     "execution_count": 74,
     "metadata": {},
     "output_type": "execute_result"
    }
   ],
   "source": [
    "# ordenar por una columna\n",
    "datos1.sort_values(\"precio\", ascending = True).head(6)"
   ]
  },
  {
   "cell_type": "code",
   "execution_count": null,
   "metadata": {
    "colab": {
     "base_uri": "https://localhost:8080/",
     "height": 231
    },
    "executionInfo": {
     "elapsed": 317,
     "status": "ok",
     "timestamp": 1675975036812,
     "user": {
      "displayName": "FABIAN SANCHEZ SALAZAR",
      "userId": "13785856712232060994"
     },
     "user_tz": 300
    },
    "id": "pS108RXd5RYB",
    "outputId": "7da2b67b-14c4-4ee7-82a7-24b69a2360b7"
   },
   "outputs": [
    {
     "data": {
      "text/html": [
       "\n",
       "  <div id=\"df-c548d87d-34a5-4efe-b9d5-80353c272c28\">\n",
       "    <div class=\"colab-df-container\">\n",
       "      <div>\n",
       "<style scoped>\n",
       "    .dataframe tbody tr th:only-of-type {\n",
       "        vertical-align: middle;\n",
       "    }\n",
       "\n",
       "    .dataframe tbody tr th {\n",
       "        vertical-align: top;\n",
       "    }\n",
       "\n",
       "    .dataframe thead th {\n",
       "        text-align: right;\n",
       "    }\n",
       "</style>\n",
       "<table border=\"1\" class=\"dataframe\">\n",
       "  <thead>\n",
       "    <tr style=\"text-align: right;\">\n",
       "      <th></th>\n",
       "      <th>Unnamed: 0</th>\n",
       "      <th>precio</th>\n",
       "      <th>mt2</th>\n",
       "      <th>ubicacion</th>\n",
       "      <th>estrato</th>\n",
       "      <th>alcobas</th>\n",
       "      <th>banos</th>\n",
       "      <th>balcon</th>\n",
       "      <th>pk</th>\n",
       "      <th>admon</th>\n",
       "      <th>avaluo</th>\n",
       "      <th>fin</th>\n",
       "      <th>nueva</th>\n",
       "    </tr>\n",
       "  </thead>\n",
       "  <tbody>\n",
       "    <tr>\n",
       "      <th>615</th>\n",
       "      <td>616</td>\n",
       "      <td>210.0</td>\n",
       "      <td>210.0</td>\n",
       "      <td>centro</td>\n",
       "      <td>4</td>\n",
       "      <td>3</td>\n",
       "      <td>2</td>\n",
       "      <td>si</td>\n",
       "      <td>si</td>\n",
       "      <td>0.7591</td>\n",
       "      <td>1540.620</td>\n",
       "      <td>si</td>\n",
       "      <td>2.1</td>\n",
       "    </tr>\n",
       "    <tr>\n",
       "      <th>614</th>\n",
       "      <td>615</td>\n",
       "      <td>200.0</td>\n",
       "      <td>210.0</td>\n",
       "      <td>centro</td>\n",
       "      <td>5</td>\n",
       "      <td>3</td>\n",
       "      <td>2</td>\n",
       "      <td>si</td>\n",
       "      <td>no</td>\n",
       "      <td>0.5030</td>\n",
       "      <td>1518.140</td>\n",
       "      <td>si</td>\n",
       "      <td>2.0</td>\n",
       "    </tr>\n",
       "    <tr>\n",
       "      <th>486</th>\n",
       "      <td>487</td>\n",
       "      <td>260.0</td>\n",
       "      <td>93.0</td>\n",
       "      <td>aburra sur</td>\n",
       "      <td>5</td>\n",
       "      <td>3</td>\n",
       "      <td>2</td>\n",
       "      <td>si</td>\n",
       "      <td>si</td>\n",
       "      <td>0.2350</td>\n",
       "      <td>1260.000</td>\n",
       "      <td>si</td>\n",
       "      <td>2.6</td>\n",
       "    </tr>\n",
       "    <tr>\n",
       "      <th>333</th>\n",
       "      <td>334</td>\n",
       "      <td>1200.0</td>\n",
       "      <td>309.0</td>\n",
       "      <td>poblado</td>\n",
       "      <td>6</td>\n",
       "      <td>4</td>\n",
       "      <td>5</td>\n",
       "      <td>si</td>\n",
       "      <td>si</td>\n",
       "      <td>0.7260</td>\n",
       "      <td>726.445</td>\n",
       "      <td>si</td>\n",
       "      <td>12.0</td>\n",
       "    </tr>\n",
       "    <tr>\n",
       "      <th>341</th>\n",
       "      <td>342</td>\n",
       "      <td>1400.0</td>\n",
       "      <td>373.0</td>\n",
       "      <td>poblado</td>\n",
       "      <td>6</td>\n",
       "      <td>3</td>\n",
       "      <td>3</td>\n",
       "      <td>si</td>\n",
       "      <td>si</td>\n",
       "      <td>0.7490</td>\n",
       "      <td>713.786</td>\n",
       "      <td>si</td>\n",
       "      <td>14.0</td>\n",
       "    </tr>\n",
       "    <tr>\n",
       "      <th>329</th>\n",
       "      <td>330</td>\n",
       "      <td>1100.0</td>\n",
       "      <td>500.0</td>\n",
       "      <td>poblado</td>\n",
       "      <td>6</td>\n",
       "      <td>3</td>\n",
       "      <td>3</td>\n",
       "      <td>si</td>\n",
       "      <td>si</td>\n",
       "      <td>1.6000</td>\n",
       "      <td>713.130</td>\n",
       "      <td>si</td>\n",
       "      <td>11.0</td>\n",
       "    </tr>\n",
       "  </tbody>\n",
       "</table>\n",
       "</div>\n",
       "      <button class=\"colab-df-convert\" onclick=\"convertToInteractive('df-c548d87d-34a5-4efe-b9d5-80353c272c28')\"\n",
       "              title=\"Convert this dataframe to an interactive table.\"\n",
       "              style=\"display:none;\">\n",
       "        \n",
       "  <svg xmlns=\"http://www.w3.org/2000/svg\" height=\"24px\"viewBox=\"0 0 24 24\"\n",
       "       width=\"24px\">\n",
       "    <path d=\"M0 0h24v24H0V0z\" fill=\"none\"/>\n",
       "    <path d=\"M18.56 5.44l.94 2.06.94-2.06 2.06-.94-2.06-.94-.94-2.06-.94 2.06-2.06.94zm-11 1L8.5 8.5l.94-2.06 2.06-.94-2.06-.94L8.5 2.5l-.94 2.06-2.06.94zm10 10l.94 2.06.94-2.06 2.06-.94-2.06-.94-.94-2.06-.94 2.06-2.06.94z\"/><path d=\"M17.41 7.96l-1.37-1.37c-.4-.4-.92-.59-1.43-.59-.52 0-1.04.2-1.43.59L10.3 9.45l-7.72 7.72c-.78.78-.78 2.05 0 2.83L4 21.41c.39.39.9.59 1.41.59.51 0 1.02-.2 1.41-.59l7.78-7.78 2.81-2.81c.8-.78.8-2.07 0-2.86zM5.41 20L4 18.59l7.72-7.72 1.47 1.35L5.41 20z\"/>\n",
       "  </svg>\n",
       "      </button>\n",
       "      \n",
       "  <style>\n",
       "    .colab-df-container {\n",
       "      display:flex;\n",
       "      flex-wrap:wrap;\n",
       "      gap: 12px;\n",
       "    }\n",
       "\n",
       "    .colab-df-convert {\n",
       "      background-color: #E8F0FE;\n",
       "      border: none;\n",
       "      border-radius: 50%;\n",
       "      cursor: pointer;\n",
       "      display: none;\n",
       "      fill: #1967D2;\n",
       "      height: 32px;\n",
       "      padding: 0 0 0 0;\n",
       "      width: 32px;\n",
       "    }\n",
       "\n",
       "    .colab-df-convert:hover {\n",
       "      background-color: #E2EBFA;\n",
       "      box-shadow: 0px 1px 2px rgba(60, 64, 67, 0.3), 0px 1px 3px 1px rgba(60, 64, 67, 0.15);\n",
       "      fill: #174EA6;\n",
       "    }\n",
       "\n",
       "    [theme=dark] .colab-df-convert {\n",
       "      background-color: #3B4455;\n",
       "      fill: #D2E3FC;\n",
       "    }\n",
       "\n",
       "    [theme=dark] .colab-df-convert:hover {\n",
       "      background-color: #434B5C;\n",
       "      box-shadow: 0px 1px 3px 1px rgba(0, 0, 0, 0.15);\n",
       "      filter: drop-shadow(0px 1px 2px rgba(0, 0, 0, 0.3));\n",
       "      fill: #FFFFFF;\n",
       "    }\n",
       "  </style>\n",
       "\n",
       "      <script>\n",
       "        const buttonEl =\n",
       "          document.querySelector('#df-c548d87d-34a5-4efe-b9d5-80353c272c28 button.colab-df-convert');\n",
       "        buttonEl.style.display =\n",
       "          google.colab.kernel.accessAllowed ? 'block' : 'none';\n",
       "\n",
       "        async function convertToInteractive(key) {\n",
       "          const element = document.querySelector('#df-c548d87d-34a5-4efe-b9d5-80353c272c28');\n",
       "          const dataTable =\n",
       "            await google.colab.kernel.invokeFunction('convertToInteractive',\n",
       "                                                     [key], {});\n",
       "          if (!dataTable) return;\n",
       "\n",
       "          const docLinkHtml = 'Like what you see? Visit the ' +\n",
       "            '<a target=\"_blank\" href=https://colab.research.google.com/notebooks/data_table.ipynb>data table notebook</a>'\n",
       "            + ' to learn more about interactive tables.';\n",
       "          element.innerHTML = '';\n",
       "          dataTable['output_type'] = 'display_data';\n",
       "          await google.colab.output.renderOutput(dataTable, element);\n",
       "          const docLink = document.createElement('div');\n",
       "          docLink.innerHTML = docLinkHtml;\n",
       "          element.appendChild(docLink);\n",
       "        }\n",
       "      </script>\n",
       "    </div>\n",
       "  </div>\n",
       "  "
      ],
      "text/plain": [
       "     Unnamed: 0  precio    mt2   ubicacion  estrato  alcobas  banos balcon  \\\n",
       "615         616   210.0  210.0      centro        4        3      2     si   \n",
       "614         615   200.0  210.0      centro        5        3      2     si   \n",
       "486         487   260.0   93.0  aburra sur        5        3      2     si   \n",
       "333         334  1200.0  309.0     poblado        6        4      5     si   \n",
       "341         342  1400.0  373.0     poblado        6        3      3     si   \n",
       "329         330  1100.0  500.0     poblado        6        3      3     si   \n",
       "\n",
       "     pk   admon    avaluo fin  nueva  \n",
       "615  si  0.7591  1540.620  si    2.1  \n",
       "614  no  0.5030  1518.140  si    2.0  \n",
       "486  si  0.2350  1260.000  si    2.6  \n",
       "333  si  0.7260   726.445  si   12.0  \n",
       "341  si  0.7490   713.786  si   14.0  \n",
       "329  si  1.6000   713.130  si   11.0  "
      ]
     },
     "execution_count": 75,
     "metadata": {},
     "output_type": "execute_result"
    }
   ],
   "source": [
    "datos1.sort_values(\"avaluo\", ascending =False).head(6)"
   ]
  },
  {
   "cell_type": "code",
   "execution_count": null,
   "metadata": {
    "colab": {
     "base_uri": "https://localhost:8080/",
     "height": 231
    },
    "executionInfo": {
     "elapsed": 246,
     "status": "ok",
     "timestamp": 1675975125669,
     "user": {
      "displayName": "FABIAN SANCHEZ SALAZAR",
      "userId": "13785856712232060994"
     },
     "user_tz": 300
    },
    "id": "vn85zuLl5b2J",
    "outputId": "d918799c-7a62-4de3-b775-c6eee525bca1"
   },
   "outputs": [
    {
     "data": {
      "text/html": [
       "\n",
       "  <div id=\"df-d874a45e-f90f-4959-91e2-8c5999cab80d\">\n",
       "    <div class=\"colab-df-container\">\n",
       "      <div>\n",
       "<style scoped>\n",
       "    .dataframe tbody tr th:only-of-type {\n",
       "        vertical-align: middle;\n",
       "    }\n",
       "\n",
       "    .dataframe tbody tr th {\n",
       "        vertical-align: top;\n",
       "    }\n",
       "\n",
       "    .dataframe thead th {\n",
       "        text-align: right;\n",
       "    }\n",
       "</style>\n",
       "<table border=\"1\" class=\"dataframe\">\n",
       "  <thead>\n",
       "    <tr style=\"text-align: right;\">\n",
       "      <th></th>\n",
       "      <th>Unnamed: 0</th>\n",
       "      <th>precio</th>\n",
       "      <th>mt2</th>\n",
       "      <th>ubicacion</th>\n",
       "      <th>estrato</th>\n",
       "      <th>alcobas</th>\n",
       "      <th>banos</th>\n",
       "      <th>balcon</th>\n",
       "      <th>pk</th>\n",
       "      <th>admon</th>\n",
       "      <th>avaluo</th>\n",
       "      <th>fin</th>\n",
       "      <th>nueva</th>\n",
       "    </tr>\n",
       "  </thead>\n",
       "  <tbody>\n",
       "    <tr>\n",
       "      <th>419</th>\n",
       "      <td>420</td>\n",
       "      <td>175.0</td>\n",
       "      <td>65.0</td>\n",
       "      <td>aburra sur</td>\n",
       "      <td>3</td>\n",
       "      <td>3</td>\n",
       "      <td>2</td>\n",
       "      <td>si</td>\n",
       "      <td>si</td>\n",
       "      <td>0.154</td>\n",
       "      <td>46.291597</td>\n",
       "      <td>si</td>\n",
       "      <td>1.75</td>\n",
       "    </tr>\n",
       "    <tr>\n",
       "      <th>457</th>\n",
       "      <td>458</td>\n",
       "      <td>220.0</td>\n",
       "      <td>72.0</td>\n",
       "      <td>aburra sur</td>\n",
       "      <td>4</td>\n",
       "      <td>2</td>\n",
       "      <td>2</td>\n",
       "      <td>si</td>\n",
       "      <td>si</td>\n",
       "      <td>0.211</td>\n",
       "      <td>96.390800</td>\n",
       "      <td>si</td>\n",
       "      <td>2.20</td>\n",
       "    </tr>\n",
       "    <tr>\n",
       "      <th>458</th>\n",
       "      <td>459</td>\n",
       "      <td>220.0</td>\n",
       "      <td>73.0</td>\n",
       "      <td>aburra sur</td>\n",
       "      <td>4</td>\n",
       "      <td>3</td>\n",
       "      <td>2</td>\n",
       "      <td>si</td>\n",
       "      <td>si</td>\n",
       "      <td>0.000</td>\n",
       "      <td>96.390800</td>\n",
       "      <td>si</td>\n",
       "      <td>2.20</td>\n",
       "    </tr>\n",
       "    <tr>\n",
       "      <th>459</th>\n",
       "      <td>460</td>\n",
       "      <td>220.0</td>\n",
       "      <td>89.0</td>\n",
       "      <td>aburra sur</td>\n",
       "      <td>5</td>\n",
       "      <td>3</td>\n",
       "      <td>2</td>\n",
       "      <td>no</td>\n",
       "      <td>si</td>\n",
       "      <td>0.000</td>\n",
       "      <td>143.000000</td>\n",
       "      <td>si</td>\n",
       "      <td>2.20</td>\n",
       "    </tr>\n",
       "    <tr>\n",
       "      <th>460</th>\n",
       "      <td>461</td>\n",
       "      <td>225.0</td>\n",
       "      <td>100.0</td>\n",
       "      <td>aburra sur</td>\n",
       "      <td>3</td>\n",
       "      <td>4</td>\n",
       "      <td>3</td>\n",
       "      <td>si</td>\n",
       "      <td>si</td>\n",
       "      <td>2.280</td>\n",
       "      <td>108.600000</td>\n",
       "      <td>si</td>\n",
       "      <td>2.25</td>\n",
       "    </tr>\n",
       "    <tr>\n",
       "      <th>461</th>\n",
       "      <td>462</td>\n",
       "      <td>230.0</td>\n",
       "      <td>86.0</td>\n",
       "      <td>aburra sur</td>\n",
       "      <td>3</td>\n",
       "      <td>3</td>\n",
       "      <td>2</td>\n",
       "      <td>si</td>\n",
       "      <td>si</td>\n",
       "      <td>0.215</td>\n",
       "      <td>102.000000</td>\n",
       "      <td>si</td>\n",
       "      <td>2.30</td>\n",
       "    </tr>\n",
       "  </tbody>\n",
       "</table>\n",
       "</div>\n",
       "      <button class=\"colab-df-convert\" onclick=\"convertToInteractive('df-d874a45e-f90f-4959-91e2-8c5999cab80d')\"\n",
       "              title=\"Convert this dataframe to an interactive table.\"\n",
       "              style=\"display:none;\">\n",
       "        \n",
       "  <svg xmlns=\"http://www.w3.org/2000/svg\" height=\"24px\"viewBox=\"0 0 24 24\"\n",
       "       width=\"24px\">\n",
       "    <path d=\"M0 0h24v24H0V0z\" fill=\"none\"/>\n",
       "    <path d=\"M18.56 5.44l.94 2.06.94-2.06 2.06-.94-2.06-.94-.94-2.06-.94 2.06-2.06.94zm-11 1L8.5 8.5l.94-2.06 2.06-.94-2.06-.94L8.5 2.5l-.94 2.06-2.06.94zm10 10l.94 2.06.94-2.06 2.06-.94-2.06-.94-.94-2.06-.94 2.06-2.06.94z\"/><path d=\"M17.41 7.96l-1.37-1.37c-.4-.4-.92-.59-1.43-.59-.52 0-1.04.2-1.43.59L10.3 9.45l-7.72 7.72c-.78.78-.78 2.05 0 2.83L4 21.41c.39.39.9.59 1.41.59.51 0 1.02-.2 1.41-.59l7.78-7.78 2.81-2.81c.8-.78.8-2.07 0-2.86zM5.41 20L4 18.59l7.72-7.72 1.47 1.35L5.41 20z\"/>\n",
       "  </svg>\n",
       "      </button>\n",
       "      \n",
       "  <style>\n",
       "    .colab-df-container {\n",
       "      display:flex;\n",
       "      flex-wrap:wrap;\n",
       "      gap: 12px;\n",
       "    }\n",
       "\n",
       "    .colab-df-convert {\n",
       "      background-color: #E8F0FE;\n",
       "      border: none;\n",
       "      border-radius: 50%;\n",
       "      cursor: pointer;\n",
       "      display: none;\n",
       "      fill: #1967D2;\n",
       "      height: 32px;\n",
       "      padding: 0 0 0 0;\n",
       "      width: 32px;\n",
       "    }\n",
       "\n",
       "    .colab-df-convert:hover {\n",
       "      background-color: #E2EBFA;\n",
       "      box-shadow: 0px 1px 2px rgba(60, 64, 67, 0.3), 0px 1px 3px 1px rgba(60, 64, 67, 0.15);\n",
       "      fill: #174EA6;\n",
       "    }\n",
       "\n",
       "    [theme=dark] .colab-df-convert {\n",
       "      background-color: #3B4455;\n",
       "      fill: #D2E3FC;\n",
       "    }\n",
       "\n",
       "    [theme=dark] .colab-df-convert:hover {\n",
       "      background-color: #434B5C;\n",
       "      box-shadow: 0px 1px 3px 1px rgba(0, 0, 0, 0.15);\n",
       "      filter: drop-shadow(0px 1px 2px rgba(0, 0, 0, 0.3));\n",
       "      fill: #FFFFFF;\n",
       "    }\n",
       "  </style>\n",
       "\n",
       "      <script>\n",
       "        const buttonEl =\n",
       "          document.querySelector('#df-d874a45e-f90f-4959-91e2-8c5999cab80d button.colab-df-convert');\n",
       "        buttonEl.style.display =\n",
       "          google.colab.kernel.accessAllowed ? 'block' : 'none';\n",
       "\n",
       "        async function convertToInteractive(key) {\n",
       "          const element = document.querySelector('#df-d874a45e-f90f-4959-91e2-8c5999cab80d');\n",
       "          const dataTable =\n",
       "            await google.colab.kernel.invokeFunction('convertToInteractive',\n",
       "                                                     [key], {});\n",
       "          if (!dataTable) return;\n",
       "\n",
       "          const docLinkHtml = 'Like what you see? Visit the ' +\n",
       "            '<a target=\"_blank\" href=https://colab.research.google.com/notebooks/data_table.ipynb>data table notebook</a>'\n",
       "            + ' to learn more about interactive tables.';\n",
       "          element.innerHTML = '';\n",
       "          dataTable['output_type'] = 'display_data';\n",
       "          await google.colab.output.renderOutput(dataTable, element);\n",
       "          const docLink = document.createElement('div');\n",
       "          docLink.innerHTML = docLinkHtml;\n",
       "          element.appendChild(docLink);\n",
       "        }\n",
       "      </script>\n",
       "    </div>\n",
       "  </div>\n",
       "  "
      ],
      "text/plain": [
       "     Unnamed: 0  precio    mt2   ubicacion  estrato  alcobas  banos balcon  \\\n",
       "419         420   175.0   65.0  aburra sur        3        3      2     si   \n",
       "457         458   220.0   72.0  aburra sur        4        2      2     si   \n",
       "458         459   220.0   73.0  aburra sur        4        3      2     si   \n",
       "459         460   220.0   89.0  aburra sur        5        3      2     no   \n",
       "460         461   225.0  100.0  aburra sur        3        4      3     si   \n",
       "461         462   230.0   86.0  aburra sur        3        3      2     si   \n",
       "\n",
       "     pk  admon      avaluo fin  nueva  \n",
       "419  si  0.154   46.291597  si   1.75  \n",
       "457  si  0.211   96.390800  si   2.20  \n",
       "458  si  0.000   96.390800  si   2.20  \n",
       "459  si  0.000  143.000000  si   2.20  \n",
       "460  si  2.280  108.600000  si   2.25  \n",
       "461  si  0.215  102.000000  si   2.30  "
      ]
     },
     "execution_count": 76,
     "metadata": {},
     "output_type": "execute_result"
    }
   ],
   "source": [
    "datos1.sort_values(\"ubicacion\").head(6)"
   ]
  },
  {
   "cell_type": "markdown",
   "metadata": {
    "id": "owYiTth46GlU"
   },
   "source": [
    "## Agrupación en un DataFrame\n",
    "\n",
    "datos.groupby(columns).groups"
   ]
  },
  {
   "cell_type": "code",
   "execution_count": null,
   "metadata": {
    "colab": {
     "base_uri": "https://localhost:8080/"
    },
    "executionInfo": {
     "elapsed": 219,
     "status": "ok",
     "timestamp": 1675975298908,
     "user": {
      "displayName": "FABIAN SANCHEZ SALAZAR",
      "userId": "13785856712232060994"
     },
     "user_tz": 300
    },
    "id": "Odkfi6OS6QX7",
    "outputId": "e5d7f05f-cbf0-4675-9ef1-4104b45534e3"
   },
   "outputs": [
    {
     "data": {
      "text/plain": [
       "{'aburra sur': [347, 348, 349, 350, 351, 352, 353, 354, 355, 356, 357, 358, 359, 360, 361, 362, 363, 364, 365, 366, 367, 368, 369, 370, 371, 372, 373, 374, 375, 376, 377, 378, 379, 380, 381, 382, 383, 384, 385, 386, 387, 388, 389, 390, 391, 392, 393, 394, 395, 396, 397, 398, 399, 400, 401, 402, 403, 404, 405, 406, 407, 408, 409, 410, 411, 412, 413, 414, 415, 416, 417, 418, 419, 420, 421, 422, 423, 424, 425, 426, 427, 428, 429, 430, 431, 432, 433, 434, 435, 436, 437, 438, 439, 440, 441, 442, 443, 444, 445, 446, ...], 'belen guayabal': [516, 517, 518, 519, 520, 521, 522, 523, 524, 525, 526, 527, 528, 529, 530, 531, 532, 533, 534, 535, 536, 537, 538, 539, 540, 541, 542, 543, 544, 545, 546, 547, 548, 549, 550, 551, 552, 553, 554, 555, 556, 557, 558, 559, 560, 561, 562, 563, 564, 565, 566, 567, 568, 569, 570, 571, 572, 573, 574, 575, 576, 577, 578, 579, 580, 581, 582], 'centro': [583, 584, 585, 586, 587, 588, 589, 590, 591, 592, 593, 594, 595, 596, 597, 598, 599, 600, 601, 602, 603, 604, 605, 606, 607, 608, 609, 610, 611, 612, 613, 614, 615, 616, 617, 618, 619, 620], 'laureles': [621, 622, 623, 624, 625, 626, 627, 628, 629, 630, 631, 632, 633, 634, 635, 636, 637, 638, 639, 640, 641, 642, 643, 644, 645, 646, 647, 648, 649, 650, 651, 652, 653, 654, 655, 656, 657, 658, 659, 660, 661, 662, 663, 664, 665, 666, 667, 668, 669, 670, 671, 672, 673, 674, 675, 676, 677, 678, 679, 680, 681, 682, 683, 684, 685, 686, 687, 688, 689, 690, 691, 692, 693], 'norte': [0, 1, 2, 3, 4, 5, 6, 7, 8, 9], 'occidente': [10, 11, 12, 13, 14, 15, 16, 17, 18, 19, 20, 21, 22, 23, 24, 25, 26, 27, 28, 29, 30, 31, 32, 33, 34, 35, 36, 37, 38, 39, 40, 41, 42, 43, 44, 45, 46, 47, 48, 49, 50, 51, 52, 53, 54, 55, 56, 57, 58, 59, 60, 61, 62, 63, 64, 65, 66, 67, 68, 69, 70, 71, 72, 73, 74, 75, 76, 77, 78], 'poblado': [79, 80, 81, 82, 83, 84, 85, 86, 87, 88, 89, 90, 91, 92, 93, 94, 95, 96, 97, 98, 99, 100, 101, 102, 103, 104, 105, 106, 107, 108, 109, 110, 111, 112, 113, 114, 115, 116, 117, 118, 119, 120, 121, 122, 123, 124, 125, 126, 127, 128, 129, 130, 131, 132, 133, 134, 135, 136, 137, 138, 139, 140, 141, 142, 143, 144, 145, 146, 147, 148, 149, 150, 151, 152, 153, 154, 155, 156, 157, 158, 159, 160, 161, 162, 163, 164, 165, 166, 167, 168, 169, 170, 171, 172, 173, 174, 175, 176, 177, 178, ...]}"
      ]
     },
     "execution_count": 77,
     "metadata": {},
     "output_type": "execute_result"
    }
   ],
   "source": [
    "# agrupar por ubicación : diccionario con las key : datos\n",
    "datos1.groupby(\"ubicacion\").groups"
   ]
  },
  {
   "cell_type": "code",
   "execution_count": null,
   "metadata": {
    "colab": {
     "base_uri": "https://localhost:8080/",
     "height": 411
    },
    "executionInfo": {
     "elapsed": 230,
     "status": "ok",
     "timestamp": 1675975389632,
     "user": {
      "displayName": "FABIAN SANCHEZ SALAZAR",
      "userId": "13785856712232060994"
     },
     "user_tz": 300
    },
    "id": "T5jf84vz6jYW",
    "outputId": "7de39d2f-ebc5-4169-ee80-6a8eb849ad17"
   },
   "outputs": [
    {
     "data": {
      "text/html": [
       "\n",
       "  <div id=\"df-2e995984-52dd-4836-b1fa-5e3d44f4d7ca\">\n",
       "    <div class=\"colab-df-container\">\n",
       "      <div>\n",
       "<style scoped>\n",
       "    .dataframe tbody tr th:only-of-type {\n",
       "        vertical-align: middle;\n",
       "    }\n",
       "\n",
       "    .dataframe tbody tr th {\n",
       "        vertical-align: top;\n",
       "    }\n",
       "\n",
       "    .dataframe thead th {\n",
       "        text-align: right;\n",
       "    }\n",
       "</style>\n",
       "<table border=\"1\" class=\"dataframe\">\n",
       "  <thead>\n",
       "    <tr style=\"text-align: right;\">\n",
       "      <th></th>\n",
       "      <th>Unnamed: 0</th>\n",
       "      <th>precio</th>\n",
       "      <th>mt2</th>\n",
       "      <th>ubicacion</th>\n",
       "      <th>estrato</th>\n",
       "      <th>alcobas</th>\n",
       "      <th>banos</th>\n",
       "      <th>balcon</th>\n",
       "      <th>pk</th>\n",
       "      <th>admon</th>\n",
       "      <th>avaluo</th>\n",
       "      <th>fin</th>\n",
       "      <th>nueva</th>\n",
       "    </tr>\n",
       "  </thead>\n",
       "  <tbody>\n",
       "    <tr>\n",
       "      <th>621</th>\n",
       "      <td>622</td>\n",
       "      <td>135.0</td>\n",
       "      <td>66.0</td>\n",
       "      <td>laureles</td>\n",
       "      <td>5</td>\n",
       "      <td>2</td>\n",
       "      <td>1</td>\n",
       "      <td>si</td>\n",
       "      <td>no</td>\n",
       "      <td>0.000</td>\n",
       "      <td>55.076</td>\n",
       "      <td>no</td>\n",
       "      <td>1.35</td>\n",
       "    </tr>\n",
       "    <tr>\n",
       "      <th>622</th>\n",
       "      <td>623</td>\n",
       "      <td>140.0</td>\n",
       "      <td>65.0</td>\n",
       "      <td>laureles</td>\n",
       "      <td>4</td>\n",
       "      <td>2</td>\n",
       "      <td>1</td>\n",
       "      <td>no</td>\n",
       "      <td>si</td>\n",
       "      <td>0.112</td>\n",
       "      <td>55.000</td>\n",
       "      <td>no</td>\n",
       "      <td>1.40</td>\n",
       "    </tr>\n",
       "    <tr>\n",
       "      <th>623</th>\n",
       "      <td>624</td>\n",
       "      <td>165.0</td>\n",
       "      <td>44.0</td>\n",
       "      <td>laureles</td>\n",
       "      <td>5</td>\n",
       "      <td>2</td>\n",
       "      <td>1</td>\n",
       "      <td>si</td>\n",
       "      <td>si</td>\n",
       "      <td>0.173</td>\n",
       "      <td>68.398</td>\n",
       "      <td>si</td>\n",
       "      <td>1.65</td>\n",
       "    </tr>\n",
       "    <tr>\n",
       "      <th>624</th>\n",
       "      <td>625</td>\n",
       "      <td>170.0</td>\n",
       "      <td>93.0</td>\n",
       "      <td>laureles</td>\n",
       "      <td>4</td>\n",
       "      <td>3</td>\n",
       "      <td>3</td>\n",
       "      <td>si</td>\n",
       "      <td>si</td>\n",
       "      <td>0.105</td>\n",
       "      <td>107.342</td>\n",
       "      <td>si</td>\n",
       "      <td>1.70</td>\n",
       "    </tr>\n",
       "    <tr>\n",
       "      <th>625</th>\n",
       "      <td>626</td>\n",
       "      <td>180.0</td>\n",
       "      <td>91.0</td>\n",
       "      <td>laureles</td>\n",
       "      <td>5</td>\n",
       "      <td>3</td>\n",
       "      <td>2</td>\n",
       "      <td>no</td>\n",
       "      <td>si</td>\n",
       "      <td>0.241</td>\n",
       "      <td>129.000</td>\n",
       "      <td>no</td>\n",
       "      <td>1.80</td>\n",
       "    </tr>\n",
       "    <tr>\n",
       "      <th>...</th>\n",
       "      <td>...</td>\n",
       "      <td>...</td>\n",
       "      <td>...</td>\n",
       "      <td>...</td>\n",
       "      <td>...</td>\n",
       "      <td>...</td>\n",
       "      <td>...</td>\n",
       "      <td>...</td>\n",
       "      <td>...</td>\n",
       "      <td>...</td>\n",
       "      <td>...</td>\n",
       "      <td>...</td>\n",
       "      <td>...</td>\n",
       "    </tr>\n",
       "    <tr>\n",
       "      <th>689</th>\n",
       "      <td>690</td>\n",
       "      <td>498.0</td>\n",
       "      <td>180.0</td>\n",
       "      <td>laureles</td>\n",
       "      <td>5</td>\n",
       "      <td>4</td>\n",
       "      <td>3</td>\n",
       "      <td>si</td>\n",
       "      <td>si</td>\n",
       "      <td>0.570</td>\n",
       "      <td>233.784</td>\n",
       "      <td>si</td>\n",
       "      <td>4.98</td>\n",
       "    </tr>\n",
       "    <tr>\n",
       "      <th>690</th>\n",
       "      <td>691</td>\n",
       "      <td>508.0</td>\n",
       "      <td>209.0</td>\n",
       "      <td>laureles</td>\n",
       "      <td>6</td>\n",
       "      <td>4</td>\n",
       "      <td>3</td>\n",
       "      <td>si</td>\n",
       "      <td>si</td>\n",
       "      <td>0.450</td>\n",
       "      <td>258.850</td>\n",
       "      <td>si</td>\n",
       "      <td>5.08</td>\n",
       "    </tr>\n",
       "    <tr>\n",
       "      <th>691</th>\n",
       "      <td>692</td>\n",
       "      <td>550.0</td>\n",
       "      <td>149.0</td>\n",
       "      <td>laureles</td>\n",
       "      <td>6</td>\n",
       "      <td>3</td>\n",
       "      <td>4</td>\n",
       "      <td>no</td>\n",
       "      <td>si</td>\n",
       "      <td>0.747</td>\n",
       "      <td>326.157</td>\n",
       "      <td>si</td>\n",
       "      <td>5.50</td>\n",
       "    </tr>\n",
       "    <tr>\n",
       "      <th>692</th>\n",
       "      <td>693</td>\n",
       "      <td>630.0</td>\n",
       "      <td>179.0</td>\n",
       "      <td>laureles</td>\n",
       "      <td>5</td>\n",
       "      <td>3</td>\n",
       "      <td>3</td>\n",
       "      <td>si</td>\n",
       "      <td>si</td>\n",
       "      <td>0.340</td>\n",
       "      <td>324.114</td>\n",
       "      <td>si</td>\n",
       "      <td>6.30</td>\n",
       "    </tr>\n",
       "    <tr>\n",
       "      <th>693</th>\n",
       "      <td>694</td>\n",
       "      <td>1350.0</td>\n",
       "      <td>494.0</td>\n",
       "      <td>laureles</td>\n",
       "      <td>5</td>\n",
       "      <td>3</td>\n",
       "      <td>4</td>\n",
       "      <td>si</td>\n",
       "      <td>si</td>\n",
       "      <td>1.600</td>\n",
       "      <td>320.000</td>\n",
       "      <td>si</td>\n",
       "      <td>13.50</td>\n",
       "    </tr>\n",
       "  </tbody>\n",
       "</table>\n",
       "<p>73 rows × 13 columns</p>\n",
       "</div>\n",
       "      <button class=\"colab-df-convert\" onclick=\"convertToInteractive('df-2e995984-52dd-4836-b1fa-5e3d44f4d7ca')\"\n",
       "              title=\"Convert this dataframe to an interactive table.\"\n",
       "              style=\"display:none;\">\n",
       "        \n",
       "  <svg xmlns=\"http://www.w3.org/2000/svg\" height=\"24px\"viewBox=\"0 0 24 24\"\n",
       "       width=\"24px\">\n",
       "    <path d=\"M0 0h24v24H0V0z\" fill=\"none\"/>\n",
       "    <path d=\"M18.56 5.44l.94 2.06.94-2.06 2.06-.94-2.06-.94-.94-2.06-.94 2.06-2.06.94zm-11 1L8.5 8.5l.94-2.06 2.06-.94-2.06-.94L8.5 2.5l-.94 2.06-2.06.94zm10 10l.94 2.06.94-2.06 2.06-.94-2.06-.94-.94-2.06-.94 2.06-2.06.94z\"/><path d=\"M17.41 7.96l-1.37-1.37c-.4-.4-.92-.59-1.43-.59-.52 0-1.04.2-1.43.59L10.3 9.45l-7.72 7.72c-.78.78-.78 2.05 0 2.83L4 21.41c.39.39.9.59 1.41.59.51 0 1.02-.2 1.41-.59l7.78-7.78 2.81-2.81c.8-.78.8-2.07 0-2.86zM5.41 20L4 18.59l7.72-7.72 1.47 1.35L5.41 20z\"/>\n",
       "  </svg>\n",
       "      </button>\n",
       "      \n",
       "  <style>\n",
       "    .colab-df-container {\n",
       "      display:flex;\n",
       "      flex-wrap:wrap;\n",
       "      gap: 12px;\n",
       "    }\n",
       "\n",
       "    .colab-df-convert {\n",
       "      background-color: #E8F0FE;\n",
       "      border: none;\n",
       "      border-radius: 50%;\n",
       "      cursor: pointer;\n",
       "      display: none;\n",
       "      fill: #1967D2;\n",
       "      height: 32px;\n",
       "      padding: 0 0 0 0;\n",
       "      width: 32px;\n",
       "    }\n",
       "\n",
       "    .colab-df-convert:hover {\n",
       "      background-color: #E2EBFA;\n",
       "      box-shadow: 0px 1px 2px rgba(60, 64, 67, 0.3), 0px 1px 3px 1px rgba(60, 64, 67, 0.15);\n",
       "      fill: #174EA6;\n",
       "    }\n",
       "\n",
       "    [theme=dark] .colab-df-convert {\n",
       "      background-color: #3B4455;\n",
       "      fill: #D2E3FC;\n",
       "    }\n",
       "\n",
       "    [theme=dark] .colab-df-convert:hover {\n",
       "      background-color: #434B5C;\n",
       "      box-shadow: 0px 1px 3px 1px rgba(0, 0, 0, 0.15);\n",
       "      filter: drop-shadow(0px 1px 2px rgba(0, 0, 0, 0.3));\n",
       "      fill: #FFFFFF;\n",
       "    }\n",
       "  </style>\n",
       "\n",
       "      <script>\n",
       "        const buttonEl =\n",
       "          document.querySelector('#df-2e995984-52dd-4836-b1fa-5e3d44f4d7ca button.colab-df-convert');\n",
       "        buttonEl.style.display =\n",
       "          google.colab.kernel.accessAllowed ? 'block' : 'none';\n",
       "\n",
       "        async function convertToInteractive(key) {\n",
       "          const element = document.querySelector('#df-2e995984-52dd-4836-b1fa-5e3d44f4d7ca');\n",
       "          const dataTable =\n",
       "            await google.colab.kernel.invokeFunction('convertToInteractive',\n",
       "                                                     [key], {});\n",
       "          if (!dataTable) return;\n",
       "\n",
       "          const docLinkHtml = 'Like what you see? Visit the ' +\n",
       "            '<a target=\"_blank\" href=https://colab.research.google.com/notebooks/data_table.ipynb>data table notebook</a>'\n",
       "            + ' to learn more about interactive tables.';\n",
       "          element.innerHTML = '';\n",
       "          dataTable['output_type'] = 'display_data';\n",
       "          await google.colab.output.renderOutput(dataTable, element);\n",
       "          const docLink = document.createElement('div');\n",
       "          docLink.innerHTML = docLinkHtml;\n",
       "          element.appendChild(docLink);\n",
       "        }\n",
       "      </script>\n",
       "    </div>\n",
       "  </div>\n",
       "  "
      ],
      "text/plain": [
       "     Unnamed: 0  precio    mt2 ubicacion  estrato  alcobas  banos balcon  pk  \\\n",
       "621         622   135.0   66.0  laureles        5        2      1     si  no   \n",
       "622         623   140.0   65.0  laureles        4        2      1     no  si   \n",
       "623         624   165.0   44.0  laureles        5        2      1     si  si   \n",
       "624         625   170.0   93.0  laureles        4        3      3     si  si   \n",
       "625         626   180.0   91.0  laureles        5        3      2     no  si   \n",
       "..          ...     ...    ...       ...      ...      ...    ...    ...  ..   \n",
       "689         690   498.0  180.0  laureles        5        4      3     si  si   \n",
       "690         691   508.0  209.0  laureles        6        4      3     si  si   \n",
       "691         692   550.0  149.0  laureles        6        3      4     no  si   \n",
       "692         693   630.0  179.0  laureles        5        3      3     si  si   \n",
       "693         694  1350.0  494.0  laureles        5        3      4     si  si   \n",
       "\n",
       "     admon   avaluo fin  nueva  \n",
       "621  0.000   55.076  no   1.35  \n",
       "622  0.112   55.000  no   1.40  \n",
       "623  0.173   68.398  si   1.65  \n",
       "624  0.105  107.342  si   1.70  \n",
       "625  0.241  129.000  no   1.80  \n",
       "..     ...      ...  ..    ...  \n",
       "689  0.570  233.784  si   4.98  \n",
       "690  0.450  258.850  si   5.08  \n",
       "691  0.747  326.157  si   5.50  \n",
       "692  0.340  324.114  si   6.30  \n",
       "693  1.600  320.000  si  13.50  \n",
       "\n",
       "[73 rows x 13 columns]"
      ]
     },
     "execution_count": 78,
     "metadata": {},
     "output_type": "execute_result"
    }
   ],
   "source": [
    "# selección la categoría laureles de ubicación.\n",
    "datos1.groupby(\"ubicacion\").get_group(\"laureles\")"
   ]
  },
  {
   "cell_type": "code",
   "execution_count": null,
   "metadata": {
    "colab": {
     "base_uri": "https://localhost:8080/",
     "height": 411
    },
    "executionInfo": {
     "elapsed": 216,
     "status": "ok",
     "timestamp": 1675975439598,
     "user": {
      "displayName": "FABIAN SANCHEZ SALAZAR",
      "userId": "13785856712232060994"
     },
     "user_tz": 300
    },
    "id": "UhUnKAY06xT6",
    "outputId": "0be860c2-2e74-42b8-f798-e41dce07b64f"
   },
   "outputs": [
    {
     "data": {
      "text/html": [
       "\n",
       "  <div id=\"df-c2f9fff2-d0c7-48e1-acd2-5a8058901967\">\n",
       "    <div class=\"colab-df-container\">\n",
       "      <div>\n",
       "<style scoped>\n",
       "    .dataframe tbody tr th:only-of-type {\n",
       "        vertical-align: middle;\n",
       "    }\n",
       "\n",
       "    .dataframe tbody tr th {\n",
       "        vertical-align: top;\n",
       "    }\n",
       "\n",
       "    .dataframe thead th {\n",
       "        text-align: right;\n",
       "    }\n",
       "</style>\n",
       "<table border=\"1\" class=\"dataframe\">\n",
       "  <thead>\n",
       "    <tr style=\"text-align: right;\">\n",
       "      <th></th>\n",
       "      <th>Unnamed: 0</th>\n",
       "      <th>precio</th>\n",
       "      <th>mt2</th>\n",
       "      <th>ubicacion</th>\n",
       "      <th>estrato</th>\n",
       "      <th>alcobas</th>\n",
       "      <th>banos</th>\n",
       "      <th>balcon</th>\n",
       "      <th>pk</th>\n",
       "      <th>admon</th>\n",
       "      <th>avaluo</th>\n",
       "      <th>fin</th>\n",
       "      <th>nueva</th>\n",
       "    </tr>\n",
       "  </thead>\n",
       "  <tbody>\n",
       "    <tr>\n",
       "      <th>621</th>\n",
       "      <td>622</td>\n",
       "      <td>135.0</td>\n",
       "      <td>66.0</td>\n",
       "      <td>laureles</td>\n",
       "      <td>5</td>\n",
       "      <td>2</td>\n",
       "      <td>1</td>\n",
       "      <td>si</td>\n",
       "      <td>no</td>\n",
       "      <td>0.000</td>\n",
       "      <td>55.076</td>\n",
       "      <td>no</td>\n",
       "      <td>1.35</td>\n",
       "    </tr>\n",
       "    <tr>\n",
       "      <th>622</th>\n",
       "      <td>623</td>\n",
       "      <td>140.0</td>\n",
       "      <td>65.0</td>\n",
       "      <td>laureles</td>\n",
       "      <td>4</td>\n",
       "      <td>2</td>\n",
       "      <td>1</td>\n",
       "      <td>no</td>\n",
       "      <td>si</td>\n",
       "      <td>0.112</td>\n",
       "      <td>55.000</td>\n",
       "      <td>no</td>\n",
       "      <td>1.40</td>\n",
       "    </tr>\n",
       "    <tr>\n",
       "      <th>623</th>\n",
       "      <td>624</td>\n",
       "      <td>165.0</td>\n",
       "      <td>44.0</td>\n",
       "      <td>laureles</td>\n",
       "      <td>5</td>\n",
       "      <td>2</td>\n",
       "      <td>1</td>\n",
       "      <td>si</td>\n",
       "      <td>si</td>\n",
       "      <td>0.173</td>\n",
       "      <td>68.398</td>\n",
       "      <td>si</td>\n",
       "      <td>1.65</td>\n",
       "    </tr>\n",
       "    <tr>\n",
       "      <th>624</th>\n",
       "      <td>625</td>\n",
       "      <td>170.0</td>\n",
       "      <td>93.0</td>\n",
       "      <td>laureles</td>\n",
       "      <td>4</td>\n",
       "      <td>3</td>\n",
       "      <td>3</td>\n",
       "      <td>si</td>\n",
       "      <td>si</td>\n",
       "      <td>0.105</td>\n",
       "      <td>107.342</td>\n",
       "      <td>si</td>\n",
       "      <td>1.70</td>\n",
       "    </tr>\n",
       "    <tr>\n",
       "      <th>625</th>\n",
       "      <td>626</td>\n",
       "      <td>180.0</td>\n",
       "      <td>91.0</td>\n",
       "      <td>laureles</td>\n",
       "      <td>5</td>\n",
       "      <td>3</td>\n",
       "      <td>2</td>\n",
       "      <td>no</td>\n",
       "      <td>si</td>\n",
       "      <td>0.241</td>\n",
       "      <td>129.000</td>\n",
       "      <td>no</td>\n",
       "      <td>1.80</td>\n",
       "    </tr>\n",
       "    <tr>\n",
       "      <th>...</th>\n",
       "      <td>...</td>\n",
       "      <td>...</td>\n",
       "      <td>...</td>\n",
       "      <td>...</td>\n",
       "      <td>...</td>\n",
       "      <td>...</td>\n",
       "      <td>...</td>\n",
       "      <td>...</td>\n",
       "      <td>...</td>\n",
       "      <td>...</td>\n",
       "      <td>...</td>\n",
       "      <td>...</td>\n",
       "      <td>...</td>\n",
       "    </tr>\n",
       "    <tr>\n",
       "      <th>689</th>\n",
       "      <td>690</td>\n",
       "      <td>498.0</td>\n",
       "      <td>180.0</td>\n",
       "      <td>laureles</td>\n",
       "      <td>5</td>\n",
       "      <td>4</td>\n",
       "      <td>3</td>\n",
       "      <td>si</td>\n",
       "      <td>si</td>\n",
       "      <td>0.570</td>\n",
       "      <td>233.784</td>\n",
       "      <td>si</td>\n",
       "      <td>4.98</td>\n",
       "    </tr>\n",
       "    <tr>\n",
       "      <th>690</th>\n",
       "      <td>691</td>\n",
       "      <td>508.0</td>\n",
       "      <td>209.0</td>\n",
       "      <td>laureles</td>\n",
       "      <td>6</td>\n",
       "      <td>4</td>\n",
       "      <td>3</td>\n",
       "      <td>si</td>\n",
       "      <td>si</td>\n",
       "      <td>0.450</td>\n",
       "      <td>258.850</td>\n",
       "      <td>si</td>\n",
       "      <td>5.08</td>\n",
       "    </tr>\n",
       "    <tr>\n",
       "      <th>691</th>\n",
       "      <td>692</td>\n",
       "      <td>550.0</td>\n",
       "      <td>149.0</td>\n",
       "      <td>laureles</td>\n",
       "      <td>6</td>\n",
       "      <td>3</td>\n",
       "      <td>4</td>\n",
       "      <td>no</td>\n",
       "      <td>si</td>\n",
       "      <td>0.747</td>\n",
       "      <td>326.157</td>\n",
       "      <td>si</td>\n",
       "      <td>5.50</td>\n",
       "    </tr>\n",
       "    <tr>\n",
       "      <th>692</th>\n",
       "      <td>693</td>\n",
       "      <td>630.0</td>\n",
       "      <td>179.0</td>\n",
       "      <td>laureles</td>\n",
       "      <td>5</td>\n",
       "      <td>3</td>\n",
       "      <td>3</td>\n",
       "      <td>si</td>\n",
       "      <td>si</td>\n",
       "      <td>0.340</td>\n",
       "      <td>324.114</td>\n",
       "      <td>si</td>\n",
       "      <td>6.30</td>\n",
       "    </tr>\n",
       "    <tr>\n",
       "      <th>693</th>\n",
       "      <td>694</td>\n",
       "      <td>1350.0</td>\n",
       "      <td>494.0</td>\n",
       "      <td>laureles</td>\n",
       "      <td>5</td>\n",
       "      <td>3</td>\n",
       "      <td>4</td>\n",
       "      <td>si</td>\n",
       "      <td>si</td>\n",
       "      <td>1.600</td>\n",
       "      <td>320.000</td>\n",
       "      <td>si</td>\n",
       "      <td>13.50</td>\n",
       "    </tr>\n",
       "  </tbody>\n",
       "</table>\n",
       "<p>73 rows × 13 columns</p>\n",
       "</div>\n",
       "      <button class=\"colab-df-convert\" onclick=\"convertToInteractive('df-c2f9fff2-d0c7-48e1-acd2-5a8058901967')\"\n",
       "              title=\"Convert this dataframe to an interactive table.\"\n",
       "              style=\"display:none;\">\n",
       "        \n",
       "  <svg xmlns=\"http://www.w3.org/2000/svg\" height=\"24px\"viewBox=\"0 0 24 24\"\n",
       "       width=\"24px\">\n",
       "    <path d=\"M0 0h24v24H0V0z\" fill=\"none\"/>\n",
       "    <path d=\"M18.56 5.44l.94 2.06.94-2.06 2.06-.94-2.06-.94-.94-2.06-.94 2.06-2.06.94zm-11 1L8.5 8.5l.94-2.06 2.06-.94-2.06-.94L8.5 2.5l-.94 2.06-2.06.94zm10 10l.94 2.06.94-2.06 2.06-.94-2.06-.94-.94-2.06-.94 2.06-2.06.94z\"/><path d=\"M17.41 7.96l-1.37-1.37c-.4-.4-.92-.59-1.43-.59-.52 0-1.04.2-1.43.59L10.3 9.45l-7.72 7.72c-.78.78-.78 2.05 0 2.83L4 21.41c.39.39.9.59 1.41.59.51 0 1.02-.2 1.41-.59l7.78-7.78 2.81-2.81c.8-.78.8-2.07 0-2.86zM5.41 20L4 18.59l7.72-7.72 1.47 1.35L5.41 20z\"/>\n",
       "  </svg>\n",
       "      </button>\n",
       "      \n",
       "  <style>\n",
       "    .colab-df-container {\n",
       "      display:flex;\n",
       "      flex-wrap:wrap;\n",
       "      gap: 12px;\n",
       "    }\n",
       "\n",
       "    .colab-df-convert {\n",
       "      background-color: #E8F0FE;\n",
       "      border: none;\n",
       "      border-radius: 50%;\n",
       "      cursor: pointer;\n",
       "      display: none;\n",
       "      fill: #1967D2;\n",
       "      height: 32px;\n",
       "      padding: 0 0 0 0;\n",
       "      width: 32px;\n",
       "    }\n",
       "\n",
       "    .colab-df-convert:hover {\n",
       "      background-color: #E2EBFA;\n",
       "      box-shadow: 0px 1px 2px rgba(60, 64, 67, 0.3), 0px 1px 3px 1px rgba(60, 64, 67, 0.15);\n",
       "      fill: #174EA6;\n",
       "    }\n",
       "\n",
       "    [theme=dark] .colab-df-convert {\n",
       "      background-color: #3B4455;\n",
       "      fill: #D2E3FC;\n",
       "    }\n",
       "\n",
       "    [theme=dark] .colab-df-convert:hover {\n",
       "      background-color: #434B5C;\n",
       "      box-shadow: 0px 1px 3px 1px rgba(0, 0, 0, 0.15);\n",
       "      filter: drop-shadow(0px 1px 2px rgba(0, 0, 0, 0.3));\n",
       "      fill: #FFFFFF;\n",
       "    }\n",
       "  </style>\n",
       "\n",
       "      <script>\n",
       "        const buttonEl =\n",
       "          document.querySelector('#df-c2f9fff2-d0c7-48e1-acd2-5a8058901967 button.colab-df-convert');\n",
       "        buttonEl.style.display =\n",
       "          google.colab.kernel.accessAllowed ? 'block' : 'none';\n",
       "\n",
       "        async function convertToInteractive(key) {\n",
       "          const element = document.querySelector('#df-c2f9fff2-d0c7-48e1-acd2-5a8058901967');\n",
       "          const dataTable =\n",
       "            await google.colab.kernel.invokeFunction('convertToInteractive',\n",
       "                                                     [key], {});\n",
       "          if (!dataTable) return;\n",
       "\n",
       "          const docLinkHtml = 'Like what you see? Visit the ' +\n",
       "            '<a target=\"_blank\" href=https://colab.research.google.com/notebooks/data_table.ipynb>data table notebook</a>'\n",
       "            + ' to learn more about interactive tables.';\n",
       "          element.innerHTML = '';\n",
       "          dataTable['output_type'] = 'display_data';\n",
       "          await google.colab.output.renderOutput(dataTable, element);\n",
       "          const docLink = document.createElement('div');\n",
       "          docLink.innerHTML = docLinkHtml;\n",
       "          element.appendChild(docLink);\n",
       "        }\n",
       "      </script>\n",
       "    </div>\n",
       "  </div>\n",
       "  "
      ],
      "text/plain": [
       "     Unnamed: 0  precio    mt2 ubicacion  estrato  alcobas  banos balcon  pk  \\\n",
       "621         622   135.0   66.0  laureles        5        2      1     si  no   \n",
       "622         623   140.0   65.0  laureles        4        2      1     no  si   \n",
       "623         624   165.0   44.0  laureles        5        2      1     si  si   \n",
       "624         625   170.0   93.0  laureles        4        3      3     si  si   \n",
       "625         626   180.0   91.0  laureles        5        3      2     no  si   \n",
       "..          ...     ...    ...       ...      ...      ...    ...    ...  ..   \n",
       "689         690   498.0  180.0  laureles        5        4      3     si  si   \n",
       "690         691   508.0  209.0  laureles        6        4      3     si  si   \n",
       "691         692   550.0  149.0  laureles        6        3      4     no  si   \n",
       "692         693   630.0  179.0  laureles        5        3      3     si  si   \n",
       "693         694  1350.0  494.0  laureles        5        3      4     si  si   \n",
       "\n",
       "     admon   avaluo fin  nueva  \n",
       "621  0.000   55.076  no   1.35  \n",
       "622  0.112   55.000  no   1.40  \n",
       "623  0.173   68.398  si   1.65  \n",
       "624  0.105  107.342  si   1.70  \n",
       "625  0.241  129.000  no   1.80  \n",
       "..     ...      ...  ..    ...  \n",
       "689  0.570  233.784  si   4.98  \n",
       "690  0.450  258.850  si   5.08  \n",
       "691  0.747  326.157  si   5.50  \n",
       "692  0.340  324.114  si   6.30  \n",
       "693  1.600  320.000  si  13.50  \n",
       "\n",
       "[73 rows x 13 columns]"
      ]
     },
     "execution_count": 81,
     "metadata": {},
     "output_type": "execute_result"
    }
   ],
   "source": [
    "datos1[datos1.ubicacion == \"laureles\"]"
   ]
  },
  {
   "cell_type": "markdown",
   "metadata": {
    "id": "l87cfsGzjZa8"
   },
   "source": []
  },
  {
   "cell_type": "markdown",
   "metadata": {
    "id": "q5TAkbfCkrLD"
   },
   "source": [
    "Resumen NLTK: Acceso a corpus de texto y recursos léxicos\n",
    "\n",
    "Este resumen se corresponde con el capítulo 2 del NLTK Book Accessing Text Corpora and Lexical Resources. La lectura del capítulo es muy recomendable.\n",
    "\n",
    "Corpus no anotados: el Proyecto Gutenberg\n",
    "\n",
    "NLTK no da acceso directo a varias colecciones de textos. Para empezar, vamos a juguetear un poco con los libros del Proyecto Gutenberg, un repositorio público de libros libres y/o sin derechos de copyright en vigor. Antes de nada, necesitamos importar el módulo gutenberg que está en la librería nltk.corpus."
   ]
  },
  {
   "cell_type": "code",
   "execution_count": 4,
   "metadata": {
    "executionInfo": {
     "elapsed": 180,
     "status": "ok",
     "timestamp": 1676036803944,
     "user": {
      "displayName": "FABIAN SANCHEZ SALAZAR",
      "userId": "13785856712232060994"
     },
     "user_tz": 300
    },
    "id": "IKTsluhEkxCD"
   },
   "outputs": [],
   "source": [
    "from nltk.corpus import gutenberg"
   ]
  },
  {
   "cell_type": "markdown",
   "metadata": {
    "id": "Cmm4C_bck3JZ"
   },
   "source": [
    "Podemos listar el catálogo de libros del Proyecto Gutenberg disponibles desde NLTK a través del método `nltk.corpus.gutenberg.fileids`"
   ]
  },
  {
   "cell_type": "code",
   "execution_count": 6,
   "metadata": {
    "colab": {
     "base_uri": "https://localhost:8080/"
    },
    "executionInfo": {
     "elapsed": 42655,
     "status": "ok",
     "timestamp": 1676036893876,
     "user": {
      "displayName": "FABIAN SANCHEZ SALAZAR",
      "userId": "13785856712232060994"
     },
     "user_tz": 300
    },
    "id": "QdxWVZSflGOW",
    "outputId": "072a605d-01ec-47ce-ccd8-4e97074e5920"
   },
   "outputs": [
    {
     "name": "stderr",
     "output_type": "stream",
     "text": [
      "[nltk_data] Downloading collection 'all'\n",
      "[nltk_data]    | \n",
      "[nltk_data]    | Downloading package abc to /root/nltk_data...\n",
      "[nltk_data]    |   Unzipping corpora/abc.zip.\n",
      "[nltk_data]    | Downloading package alpino to /root/nltk_data...\n",
      "[nltk_data]    |   Unzipping corpora/alpino.zip.\n",
      "[nltk_data]    | Downloading package averaged_perceptron_tagger to\n",
      "[nltk_data]    |     /root/nltk_data...\n",
      "[nltk_data]    |   Unzipping taggers/averaged_perceptron_tagger.zip.\n",
      "[nltk_data]    | Downloading package averaged_perceptron_tagger_ru to\n",
      "[nltk_data]    |     /root/nltk_data...\n",
      "[nltk_data]    |   Unzipping\n",
      "[nltk_data]    |       taggers/averaged_perceptron_tagger_ru.zip.\n",
      "[nltk_data]    | Downloading package basque_grammars to\n",
      "[nltk_data]    |     /root/nltk_data...\n",
      "[nltk_data]    |   Unzipping grammars/basque_grammars.zip.\n",
      "[nltk_data]    | Downloading package bcp47 to /root/nltk_data...\n",
      "[nltk_data]    | Downloading package biocreative_ppi to\n",
      "[nltk_data]    |     /root/nltk_data...\n",
      "[nltk_data]    |   Unzipping corpora/biocreative_ppi.zip.\n",
      "[nltk_data]    | Downloading package bllip_wsj_no_aux to\n",
      "[nltk_data]    |     /root/nltk_data...\n",
      "[nltk_data]    |   Unzipping models/bllip_wsj_no_aux.zip.\n",
      "[nltk_data]    | Downloading package book_grammars to\n",
      "[nltk_data]    |     /root/nltk_data...\n",
      "[nltk_data]    |   Unzipping grammars/book_grammars.zip.\n",
      "[nltk_data]    | Downloading package brown to /root/nltk_data...\n",
      "[nltk_data]    |   Unzipping corpora/brown.zip.\n",
      "[nltk_data]    | Downloading package brown_tei to /root/nltk_data...\n",
      "[nltk_data]    |   Unzipping corpora/brown_tei.zip.\n",
      "[nltk_data]    | Downloading package cess_cat to /root/nltk_data...\n",
      "[nltk_data]    |   Unzipping corpora/cess_cat.zip.\n",
      "[nltk_data]    | Downloading package cess_esp to /root/nltk_data...\n",
      "[nltk_data]    |   Unzipping corpora/cess_esp.zip.\n",
      "[nltk_data]    | Downloading package chat80 to /root/nltk_data...\n",
      "[nltk_data]    |   Unzipping corpora/chat80.zip.\n",
      "[nltk_data]    | Downloading package city_database to\n",
      "[nltk_data]    |     /root/nltk_data...\n",
      "[nltk_data]    |   Unzipping corpora/city_database.zip.\n",
      "[nltk_data]    | Downloading package cmudict to /root/nltk_data...\n",
      "[nltk_data]    |   Unzipping corpora/cmudict.zip.\n",
      "[nltk_data]    | Downloading package comparative_sentences to\n",
      "[nltk_data]    |     /root/nltk_data...\n",
      "[nltk_data]    |   Unzipping corpora/comparative_sentences.zip.\n",
      "[nltk_data]    | Downloading package comtrans to /root/nltk_data...\n",
      "[nltk_data]    | Downloading package conll2000 to /root/nltk_data...\n",
      "[nltk_data]    |   Unzipping corpora/conll2000.zip.\n",
      "[nltk_data]    | Downloading package conll2002 to /root/nltk_data...\n",
      "[nltk_data]    |   Unzipping corpora/conll2002.zip.\n",
      "[nltk_data]    | Downloading package conll2007 to /root/nltk_data...\n",
      "[nltk_data]    | Downloading package crubadan to /root/nltk_data...\n",
      "[nltk_data]    |   Unzipping corpora/crubadan.zip.\n",
      "[nltk_data]    | Downloading package dependency_treebank to\n",
      "[nltk_data]    |     /root/nltk_data...\n",
      "[nltk_data]    |   Unzipping corpora/dependency_treebank.zip.\n",
      "[nltk_data]    | Downloading package dolch to /root/nltk_data...\n",
      "[nltk_data]    |   Unzipping corpora/dolch.zip.\n",
      "[nltk_data]    | Downloading package europarl_raw to\n",
      "[nltk_data]    |     /root/nltk_data...\n",
      "[nltk_data]    |   Unzipping corpora/europarl_raw.zip.\n",
      "[nltk_data]    | Downloading package extended_omw to\n",
      "[nltk_data]    |     /root/nltk_data...\n",
      "[nltk_data]    | Downloading package floresta to /root/nltk_data...\n",
      "[nltk_data]    |   Unzipping corpora/floresta.zip.\n",
      "[nltk_data]    | Downloading package framenet_v15 to\n",
      "[nltk_data]    |     /root/nltk_data...\n",
      "[nltk_data]    |   Unzipping corpora/framenet_v15.zip.\n",
      "[nltk_data]    | Downloading package framenet_v17 to\n",
      "[nltk_data]    |     /root/nltk_data...\n",
      "[nltk_data]    |   Unzipping corpora/framenet_v17.zip.\n",
      "[nltk_data]    | Downloading package gazetteers to /root/nltk_data...\n",
      "[nltk_data]    |   Unzipping corpora/gazetteers.zip.\n",
      "[nltk_data]    | Downloading package genesis to /root/nltk_data...\n",
      "[nltk_data]    |   Unzipping corpora/genesis.zip.\n",
      "[nltk_data]    | Downloading package gutenberg to /root/nltk_data...\n",
      "[nltk_data]    |   Unzipping corpora/gutenberg.zip.\n",
      "[nltk_data]    | Downloading package ieer to /root/nltk_data...\n",
      "[nltk_data]    |   Unzipping corpora/ieer.zip.\n",
      "[nltk_data]    | Downloading package inaugural to /root/nltk_data...\n",
      "[nltk_data]    |   Unzipping corpora/inaugural.zip.\n",
      "[nltk_data]    | Downloading package indian to /root/nltk_data...\n",
      "[nltk_data]    |   Unzipping corpora/indian.zip.\n",
      "[nltk_data]    | Downloading package jeita to /root/nltk_data...\n",
      "[nltk_data]    | Downloading package kimmo to /root/nltk_data...\n",
      "[nltk_data]    |   Unzipping corpora/kimmo.zip.\n",
      "[nltk_data]    | Downloading package knbc to /root/nltk_data...\n",
      "[nltk_data]    | Downloading package large_grammars to\n",
      "[nltk_data]    |     /root/nltk_data...\n",
      "[nltk_data]    |   Unzipping grammars/large_grammars.zip.\n",
      "[nltk_data]    | Downloading package lin_thesaurus to\n",
      "[nltk_data]    |     /root/nltk_data...\n",
      "[nltk_data]    |   Unzipping corpora/lin_thesaurus.zip.\n",
      "[nltk_data]    | Downloading package mac_morpho to /root/nltk_data...\n",
      "[nltk_data]    |   Unzipping corpora/mac_morpho.zip.\n",
      "[nltk_data]    | Downloading package machado to /root/nltk_data...\n",
      "[nltk_data]    | Downloading package masc_tagged to /root/nltk_data...\n",
      "[nltk_data]    | Downloading package maxent_ne_chunker to\n",
      "[nltk_data]    |     /root/nltk_data...\n",
      "[nltk_data]    |   Unzipping chunkers/maxent_ne_chunker.zip.\n",
      "[nltk_data]    | Downloading package maxent_treebank_pos_tagger to\n",
      "[nltk_data]    |     /root/nltk_data...\n",
      "[nltk_data]    |   Unzipping taggers/maxent_treebank_pos_tagger.zip.\n",
      "[nltk_data]    | Downloading package moses_sample to\n",
      "[nltk_data]    |     /root/nltk_data...\n",
      "[nltk_data]    |   Unzipping models/moses_sample.zip.\n",
      "[nltk_data]    | Downloading package movie_reviews to\n",
      "[nltk_data]    |     /root/nltk_data...\n",
      "[nltk_data]    |   Unzipping corpora/movie_reviews.zip.\n",
      "[nltk_data]    | Downloading package mte_teip5 to /root/nltk_data...\n",
      "[nltk_data]    |   Unzipping corpora/mte_teip5.zip.\n",
      "[nltk_data]    | Downloading package mwa_ppdb to /root/nltk_data...\n",
      "[nltk_data]    |   Unzipping misc/mwa_ppdb.zip.\n",
      "[nltk_data]    | Downloading package names to /root/nltk_data...\n",
      "[nltk_data]    |   Unzipping corpora/names.zip.\n",
      "[nltk_data]    | Downloading package nombank.1.0 to /root/nltk_data...\n",
      "[nltk_data]    | Downloading package nonbreaking_prefixes to\n",
      "[nltk_data]    |     /root/nltk_data...\n",
      "[nltk_data]    |   Unzipping corpora/nonbreaking_prefixes.zip.\n",
      "[nltk_data]    | Downloading package nps_chat to /root/nltk_data...\n",
      "[nltk_data]    |   Unzipping corpora/nps_chat.zip.\n",
      "[nltk_data]    | Downloading package omw to /root/nltk_data...\n",
      "[nltk_data]    | Downloading package omw-1.4 to /root/nltk_data...\n",
      "[nltk_data]    | Downloading package opinion_lexicon to\n",
      "[nltk_data]    |     /root/nltk_data...\n",
      "[nltk_data]    |   Unzipping corpora/opinion_lexicon.zip.\n",
      "[nltk_data]    | Downloading package panlex_swadesh to\n",
      "[nltk_data]    |     /root/nltk_data...\n",
      "[nltk_data]    | Downloading package paradigms to /root/nltk_data...\n",
      "[nltk_data]    |   Unzipping corpora/paradigms.zip.\n",
      "[nltk_data]    | Downloading package pe08 to /root/nltk_data...\n",
      "[nltk_data]    |   Unzipping corpora/pe08.zip.\n",
      "[nltk_data]    | Downloading package perluniprops to\n",
      "[nltk_data]    |     /root/nltk_data...\n",
      "[nltk_data]    |   Unzipping misc/perluniprops.zip.\n",
      "[nltk_data]    | Downloading package pil to /root/nltk_data...\n",
      "[nltk_data]    |   Unzipping corpora/pil.zip.\n",
      "[nltk_data]    | Downloading package pl196x to /root/nltk_data...\n",
      "[nltk_data]    |   Unzipping corpora/pl196x.zip.\n",
      "[nltk_data]    | Downloading package porter_test to /root/nltk_data...\n",
      "[nltk_data]    |   Unzipping stemmers/porter_test.zip.\n",
      "[nltk_data]    | Downloading package ppattach to /root/nltk_data...\n",
      "[nltk_data]    |   Unzipping corpora/ppattach.zip.\n",
      "[nltk_data]    | Downloading package problem_reports to\n",
      "[nltk_data]    |     /root/nltk_data...\n",
      "[nltk_data]    |   Unzipping corpora/problem_reports.zip.\n",
      "[nltk_data]    | Downloading package product_reviews_1 to\n",
      "[nltk_data]    |     /root/nltk_data...\n",
      "[nltk_data]    |   Unzipping corpora/product_reviews_1.zip.\n",
      "[nltk_data]    | Downloading package product_reviews_2 to\n",
      "[nltk_data]    |     /root/nltk_data...\n",
      "[nltk_data]    |   Unzipping corpora/product_reviews_2.zip.\n",
      "[nltk_data]    | Downloading package propbank to /root/nltk_data...\n",
      "[nltk_data]    | Downloading package pros_cons to /root/nltk_data...\n",
      "[nltk_data]    |   Unzipping corpora/pros_cons.zip.\n",
      "[nltk_data]    | Downloading package ptb to /root/nltk_data...\n",
      "[nltk_data]    |   Unzipping corpora/ptb.zip.\n",
      "[nltk_data]    | Downloading package punkt to /root/nltk_data...\n",
      "[nltk_data]    |   Unzipping tokenizers/punkt.zip.\n",
      "[nltk_data]    | Downloading package qc to /root/nltk_data...\n",
      "[nltk_data]    |   Unzipping corpora/qc.zip.\n",
      "[nltk_data]    | Downloading package reuters to /root/nltk_data...\n",
      "[nltk_data]    | Downloading package rslp to /root/nltk_data...\n",
      "[nltk_data]    |   Unzipping stemmers/rslp.zip.\n",
      "[nltk_data]    | Downloading package rte to /root/nltk_data...\n",
      "[nltk_data]    |   Unzipping corpora/rte.zip.\n",
      "[nltk_data]    | Downloading package sample_grammars to\n",
      "[nltk_data]    |     /root/nltk_data...\n",
      "[nltk_data]    |   Unzipping grammars/sample_grammars.zip.\n",
      "[nltk_data]    | Downloading package semcor to /root/nltk_data...\n",
      "[nltk_data]    | Downloading package senseval to /root/nltk_data...\n",
      "[nltk_data]    |   Unzipping corpora/senseval.zip.\n",
      "[nltk_data]    | Downloading package sentence_polarity to\n",
      "[nltk_data]    |     /root/nltk_data...\n",
      "[nltk_data]    |   Unzipping corpora/sentence_polarity.zip.\n",
      "[nltk_data]    | Downloading package sentiwordnet to\n",
      "[nltk_data]    |     /root/nltk_data...\n",
      "[nltk_data]    |   Unzipping corpora/sentiwordnet.zip.\n",
      "[nltk_data]    | Downloading package shakespeare to /root/nltk_data...\n",
      "[nltk_data]    |   Unzipping corpora/shakespeare.zip.\n",
      "[nltk_data]    | Downloading package sinica_treebank to\n",
      "[nltk_data]    |     /root/nltk_data...\n",
      "[nltk_data]    |   Unzipping corpora/sinica_treebank.zip.\n",
      "[nltk_data]    | Downloading package smultron to /root/nltk_data...\n",
      "[nltk_data]    |   Unzipping corpora/smultron.zip.\n",
      "[nltk_data]    | Downloading package snowball_data to\n",
      "[nltk_data]    |     /root/nltk_data...\n",
      "[nltk_data]    | Downloading package spanish_grammars to\n",
      "[nltk_data]    |     /root/nltk_data...\n",
      "[nltk_data]    |   Unzipping grammars/spanish_grammars.zip.\n",
      "[nltk_data]    | Downloading package state_union to /root/nltk_data...\n",
      "[nltk_data]    |   Unzipping corpora/state_union.zip.\n",
      "[nltk_data]    | Downloading package stopwords to /root/nltk_data...\n",
      "[nltk_data]    |   Unzipping corpora/stopwords.zip.\n",
      "[nltk_data]    | Downloading package subjectivity to\n",
      "[nltk_data]    |     /root/nltk_data...\n",
      "[nltk_data]    |   Unzipping corpora/subjectivity.zip.\n",
      "[nltk_data]    | Downloading package swadesh to /root/nltk_data...\n",
      "[nltk_data]    |   Unzipping corpora/swadesh.zip.\n",
      "[nltk_data]    | Downloading package switchboard to /root/nltk_data...\n",
      "[nltk_data]    |   Unzipping corpora/switchboard.zip.\n",
      "[nltk_data]    | Downloading package tagsets to /root/nltk_data...\n",
      "[nltk_data]    |   Unzipping help/tagsets.zip.\n",
      "[nltk_data]    | Downloading package timit to /root/nltk_data...\n",
      "[nltk_data]    |   Unzipping corpora/timit.zip.\n",
      "[nltk_data]    | Downloading package toolbox to /root/nltk_data...\n",
      "[nltk_data]    |   Unzipping corpora/toolbox.zip.\n",
      "[nltk_data]    | Downloading package treebank to /root/nltk_data...\n",
      "[nltk_data]    |   Unzipping corpora/treebank.zip.\n",
      "[nltk_data]    | Downloading package twitter_samples to\n",
      "[nltk_data]    |     /root/nltk_data...\n",
      "[nltk_data]    |   Unzipping corpora/twitter_samples.zip.\n",
      "[nltk_data]    | Downloading package udhr to /root/nltk_data...\n",
      "[nltk_data]    |   Unzipping corpora/udhr.zip.\n",
      "[nltk_data]    | Downloading package udhr2 to /root/nltk_data...\n",
      "[nltk_data]    |   Unzipping corpora/udhr2.zip.\n",
      "[nltk_data]    | Downloading package unicode_samples to\n",
      "[nltk_data]    |     /root/nltk_data...\n",
      "[nltk_data]    |   Unzipping corpora/unicode_samples.zip.\n",
      "[nltk_data]    | Downloading package universal_tagset to\n",
      "[nltk_data]    |     /root/nltk_data...\n",
      "[nltk_data]    |   Unzipping taggers/universal_tagset.zip.\n",
      "[nltk_data]    | Downloading package universal_treebanks_v20 to\n",
      "[nltk_data]    |     /root/nltk_data...\n",
      "[nltk_data]    | Downloading package vader_lexicon to\n",
      "[nltk_data]    |     /root/nltk_data...\n",
      "[nltk_data]    | Downloading package verbnet to /root/nltk_data...\n",
      "[nltk_data]    |   Unzipping corpora/verbnet.zip.\n",
      "[nltk_data]    | Downloading package verbnet3 to /root/nltk_data...\n",
      "[nltk_data]    |   Unzipping corpora/verbnet3.zip.\n",
      "[nltk_data]    | Downloading package webtext to /root/nltk_data...\n",
      "[nltk_data]    |   Unzipping corpora/webtext.zip.\n",
      "[nltk_data]    | Downloading package wmt15_eval to /root/nltk_data...\n",
      "[nltk_data]    |   Unzipping models/wmt15_eval.zip.\n",
      "[nltk_data]    | Downloading package word2vec_sample to\n",
      "[nltk_data]    |     /root/nltk_data...\n",
      "[nltk_data]    |   Unzipping models/word2vec_sample.zip.\n",
      "[nltk_data]    | Downloading package wordnet to /root/nltk_data...\n",
      "[nltk_data]    | Downloading package wordnet2021 to /root/nltk_data...\n",
      "[nltk_data]    | Downloading package wordnet2022 to /root/nltk_data...\n",
      "[nltk_data]    |   Unzipping corpora/wordnet2022.zip.\n",
      "[nltk_data]    | Downloading package wordnet31 to /root/nltk_data...\n",
      "[nltk_data]    | Downloading package wordnet_ic to /root/nltk_data...\n",
      "[nltk_data]    |   Unzipping corpora/wordnet_ic.zip.\n",
      "[nltk_data]    | Downloading package words to /root/nltk_data...\n",
      "[nltk_data]    |   Unzipping corpora/words.zip.\n",
      "[nltk_data]    | Downloading package ycoe to /root/nltk_data...\n",
      "[nltk_data]    |   Unzipping corpora/ycoe.zip.\n",
      "[nltk_data]    | \n",
      "[nltk_data]  Done downloading collection all\n"
     ]
    },
    {
     "data": {
      "text/plain": [
       "True"
      ]
     },
     "execution_count": 6,
     "metadata": {},
     "output_type": "execute_result"
    }
   ],
   "source": [
    "import nltk\n",
    "nltk.download(\"all\")"
   ]
  },
  {
   "cell_type": "code",
   "execution_count": 7,
   "metadata": {
    "colab": {
     "base_uri": "https://localhost:8080/"
    },
    "executionInfo": {
     "elapsed": 162,
     "status": "ok",
     "timestamp": 1676036899674,
     "user": {
      "displayName": "FABIAN SANCHEZ SALAZAR",
      "userId": "13785856712232060994"
     },
     "user_tz": 300
    },
    "id": "lekR7w-Fk2um",
    "outputId": "fb59162a-5753-4998-805b-65432c5959e0"
   },
   "outputs": [
    {
     "data": {
      "text/plain": [
       "['austen-emma.txt',\n",
       " 'austen-persuasion.txt',\n",
       " 'austen-sense.txt',\n",
       " 'bible-kjv.txt',\n",
       " 'blake-poems.txt',\n",
       " 'bryant-stories.txt',\n",
       " 'burgess-busterbrown.txt',\n",
       " 'carroll-alice.txt',\n",
       " 'chesterton-ball.txt',\n",
       " 'chesterton-brown.txt',\n",
       " 'chesterton-thursday.txt',\n",
       " 'edgeworth-parents.txt',\n",
       " 'melville-moby_dick.txt',\n",
       " 'milton-paradise.txt',\n",
       " 'shakespeare-caesar.txt',\n",
       " 'shakespeare-hamlet.txt',\n",
       " 'shakespeare-macbeth.txt',\n",
       " 'whitman-leaves.txt']"
      ]
     },
     "execution_count": 7,
     "metadata": {},
     "output_type": "execute_result"
    }
   ],
   "source": [
    "gutenberg.fileids()"
   ]
  },
  {
   "cell_type": "markdown",
   "metadata": {
    "id": "3V7s2bzolZsC"
   },
   "source": [
    "Para cargar alguno de estos libros en variables y poder manipularlos directamente, podemos utilizar varios métodos.\n",
    "\n",
    "- `gutenberg.raw` recupera el texto como una única cadena de caracteres.\n",
    "- `gutenberg.words` recupera el texto tokenizado en palabras. El método devuelve una lista palabras.\n",
    "- `gutenberg.sents` recupera el texto segmentado por oraciones. El método devuelve una lista de oraciones. Cada oración es a su vez una lista de palabras.\n",
    "- `gutenberg.paras` recupera el texto  segmentado por párrafos. El método devuelve una lista de párrafos.  Cada párrafo es una lista de oraciones, cada oración es a su vez una lista de palabras."
   ]
  },
  {
   "cell_type": "code",
   "execution_count": 22,
   "metadata": {
    "executionInfo": {
     "elapsed": 163,
     "status": "ok",
     "timestamp": 1676040926036,
     "user": {
      "displayName": "FABIAN SANCHEZ SALAZAR",
      "userId": "13785856712232060994"
     },
     "user_tz": 300
    },
    "id": "xQ8dQtuC0jGe"
   },
   "outputs": [],
   "source": [
    "import pandas as pd"
   ]
  },
  {
   "cell_type": "code",
   "execution_count": 33,
   "metadata": {
    "executionInfo": {
     "elapsed": 148,
     "status": "ok",
     "timestamp": 1676041139884,
     "user": {
      "displayName": "FABIAN SANCHEZ SALAZAR",
      "userId": "13785856712232060994"
     },
     "user_tz": 300
    },
    "id": "ZraZH9-k0m4y"
   },
   "outputs": [],
   "source": [
    "cuento = open(\"/content/drive/MyDrive/3. PLN/cuento.txt\", mode =\"r\")"
   ]
  },
  {
   "cell_type": "code",
   "execution_count": null,
   "metadata": {
    "id": "F7vCjFBj1GVT"
   },
   "outputs": [],
   "source": []
  },
  {
   "cell_type": "code",
   "execution_count": 8,
   "metadata": {
    "colab": {
     "base_uri": "https://localhost:8080/"
    },
    "executionInfo": {
     "elapsed": 234,
     "status": "ok",
     "timestamp": 1676036937074,
     "user": {
      "displayName": "FABIAN SANCHEZ SALAZAR",
      "userId": "13785856712232060994"
     },
     "user_tz": 300
    },
    "id": "4SLwtKPVlc_Y",
    "outputId": "f247a43c-ef71-46b5-b6c2-99f2a0fd03db"
   },
   "outputs": [
    {
     "name": "stdout",
     "output_type": "stream",
     "text": [
      "[Alice's Adventures in Wonderland by Lewis Carroll 1865]\n",
      "\n",
      "CHAPTER I. Down the Rabbit-Hole\n",
      "\n",
      "Alice was beginning to get very tired of sitting by her sister on the\n",
      "bank, and of having nothing to do: once\n",
      "[The King James Bible]\n",
      "\n",
      "The Old Testament of the King James Bible\n",
      "\n",
      "The First Book of Moses:  Called Genesis\n",
      "\n",
      "\n",
      "1:1 In the beginning God created the heaven and the earth.\n",
      "\n",
      "1:2 And the earth was without \n"
     ]
    }
   ],
   "source": [
    "# cargo la vesión 'cruda' de un par de libros. Como son libros del Proyecto Gutenberg, se trata de ficheros en texto plano\n",
    "alice = gutenberg.raw(\"carroll-alice.txt\")\n",
    "print(alice[:200]) # imprimo los primeros 200 caracteres del libro de Alicia\n",
    "\n",
    "bible = gutenberg.raw(\"bible-kjv.txt\")\n",
    "print(bible[:200]) # imprimo los primeros 200 caracteres de la Biblia"
   ]
  },
  {
   "cell_type": "code",
   "execution_count": 15,
   "metadata": {
    "colab": {
     "base_uri": "https://localhost:8080/"
    },
    "executionInfo": {
     "elapsed": 152,
     "status": "ok",
     "timestamp": 1676037291412,
     "user": {
      "displayName": "FABIAN SANCHEZ SALAZAR",
      "userId": "13785856712232060994"
     },
     "user_tz": 300
    },
    "id": "cNaou_XamcWQ",
    "outputId": "262954cc-7e80-4753-fd97-600655f3deba"
   },
   "outputs": [
    {
     "name": "stdout",
     "output_type": "stream",
     "text": [
      "['[', 'The', 'King', 'James', 'Bible', ']', 'The', 'Old', 'Testament', 'of', 'the', 'King', 'James', 'Bible', 'The', 'First', 'Book', 'of', 'Moses', ':', 'Called', 'Genesis', '1', ':', '1', 'In', 'the', 'beginning', 'God', 'created', 'the', 'heaven', 'and', 'the', 'earth', '.', '1', ':', '2', 'And', 'the', 'earth', 'was', 'without', 'form', ',', 'and', 'void', ';', 'and']\n"
     ]
    }
   ],
   "source": [
    "u = gutenberg.words(\"bible-kjv.txt\")\n",
    "print(u[:50])"
   ]
  },
  {
   "cell_type": "code",
   "execution_count": 9,
   "metadata": {
    "colab": {
     "base_uri": "https://localhost:8080/"
    },
    "executionInfo": {
     "elapsed": 765,
     "status": "ok",
     "timestamp": 1676037087066,
     "user": {
      "displayName": "FABIAN SANCHEZ SALAZAR",
      "userId": "13785856712232060994"
     },
     "user_tz": 300
    },
    "id": "1ZjykvOMlndH",
    "outputId": "cf3325a5-68e0-4e2f-b07b-e955326f9078"
   },
   "outputs": [
    {
     "name": "stdout",
     "output_type": "stream",
     "text": [
      "821133 1010654\n",
      "['[The', 'King', 'James', 'Bible]', 'The', 'Old', 'Testament', 'of', 'the', 'King', 'James', 'Bible', 'The', 'First', 'Book', 'of', 'Moses:', 'Called', 'Genesis', '1:1', 'In', 'the', 'beginning', 'God', 'created', 'the', 'heaven', 'and', 'the', 'earth.', '1:2', 'And', 'the', 'earth', 'was', 'without', 'form,', 'and', 'void;', 'and', 'darkness', 'was', 'upon', 'the', 'face', 'of', 'the', 'deep.', 'And', 'the', 'Spirit', 'of', 'God', 'moved', 'upon', 'the', 'face', 'of', 'the', 'waters.', '1:3', 'And', 'God', 'said,', 'Let', 'there', 'be', 'light:', 'and', 'there', 'was', 'light.', '1:4', 'And', 'God', 'saw', 'the', 'light,', 'that', 'it', 'was', 'good:', 'and', 'God', 'divided', 'the', 'light', 'from', 'the', 'darkness.', '1:5', 'And', 'God', 'called', 'the', 'light', 'Day,', 'and', 'the', 'darkness']\n",
      "-----------------------------------------------\n",
      "['[', 'The', 'King', 'James', 'Bible', ']', 'The', 'Old', 'Testament', 'of', 'the', 'King', 'James', 'Bible', 'The', 'First', 'Book', 'of', 'Moses', ':', 'Called', 'Genesis', '1', ':', '1', 'In', 'the', 'beginning', 'God', 'created', 'the', 'heaven', 'and', 'the', 'earth', '.', '1', ':', '2', 'And', 'the', 'earth', 'was', 'without', 'form', ',', 'and', 'void', ';', 'and', 'darkness', 'was', 'upon', 'the', 'face', 'of', 'the', 'deep', '.', 'And', 'the', 'Spirit', 'of', 'God', 'moved', 'upon', 'the', 'face', 'of', 'the', 'waters', '.', '1', ':', '3', 'And', 'God', 'said', ',', 'Let', 'there', 'be', 'light', ':', 'and', 'there', 'was', 'light', '.', '1', ':', '4', 'And', 'God', 'saw', 'the', 'light', ',', 'that', 'it']\n"
     ]
    }
   ],
   "source": [
    "# segmentamos el texto en palabras teniendo en cuenta los espacios \n",
    "bible_tokens = bible.split()\n",
    "# cargamos la versión de la Biblia segmentado en palabras\n",
    "bible_words = gutenberg.words(\"bible-kjv.txt\")\n",
    "\n",
    "# no da el mismo número de tokens\n",
    "print(len(bible_tokens), len(bible_words))\n",
    "\n",
    "print(bible_tokens[:100])\n",
    "print(\"-----------------------------------------------\")\n",
    "print(bible_words[:100])"
   ]
  },
  {
   "cell_type": "code",
   "execution_count": 16,
   "metadata": {
    "colab": {
     "base_uri": "https://localhost:8080/"
    },
    "executionInfo": {
     "elapsed": 340,
     "status": "ok",
     "timestamp": 1676037365034,
     "user": {
      "displayName": "FABIAN SANCHEZ SALAZAR",
      "userId": "13785856712232060994"
     },
     "user_tz": 300
    },
    "id": "J7LAvHBJnIqh",
    "outputId": "3cb6b6a3-544d-4401-8790-ffcc80584d10"
   },
   "outputs": [
    {
     "name": "stdout",
     "output_type": "stream",
     "text": [
      "['[', 'Alice', \"'\", 's', 'Adventures', 'in', 'Wonderland', 'by', 'Lewis', 'Carroll', '1865', ']', 'CHAPTER', 'I', '.', 'Down', 'the', 'Rabbit', '-', 'Hole']\n",
      "34110\n"
     ]
    }
   ],
   "source": [
    "# cargo la versión de Alicia segmentada en palabras\n",
    "alice_words = gutenberg.words(\"carroll-alice.txt\")\n",
    "print(alice_words[:20]) # imprimo las primeros 20 palabras\n",
    "print(len(alice_words))"
   ]
  },
  {
   "cell_type": "code",
   "execution_count": 17,
   "metadata": {
    "colab": {
     "base_uri": "https://localhost:8080/"
    },
    "executionInfo": {
     "elapsed": 3,
     "status": "ok",
     "timestamp": 1676037391711,
     "user": {
      "displayName": "FABIAN SANCHEZ SALAZAR",
      "userId": "13785856712232060994"
     },
     "user_tz": 300
    },
    "id": "GD4bCeJNnPoM",
    "outputId": "7a7fe464-760b-4730-a0e1-564407896094"
   },
   "outputs": [
    {
     "name": "stdout",
     "output_type": "stream",
     "text": [
      "Alice tiene 817 párrafos\n",
      "[['[', 'Alice', \"'\", 's', 'Adventures', 'in', 'Wonderland', 'by', 'Lewis', 'Carroll', '1865', ']']]\n",
      "-------------------\n",
      "[['CHAPTER', 'I', '.'], ['Down', 'the', 'Rabbit', '-', 'Hole']]\n",
      "-------------------\n",
      "[['Alice', 'was', 'beginning', 'to', 'get', 'very', 'tired', 'of', 'sitting', 'by', 'her', 'sister', 'on', 'the', 'bank', ',', 'and', 'of', 'having', 'nothing', 'to', 'do', ':', 'once', 'or', 'twice', 'she', 'had', 'peeped', 'into', 'the', 'book', 'her', 'sister', 'was', 'reading', ',', 'but', 'it', 'had', 'no', 'pictures', 'or', 'conversations', 'in', 'it', ',', \"'\", 'and', 'what', 'is', 'the', 'use', 'of', 'a', 'book', \",'\", 'thought', 'Alice', \"'\", 'without', 'pictures', 'or', 'conversation', \"?'\"]]\n",
      "-------------------\n",
      "[['So', 'she', 'was', 'considering', 'in', 'her', 'own', 'mind', '(', 'as', 'well', 'as', 'she', 'could', ',', 'for', 'the', 'hot', 'day', 'made', 'her', 'feel', 'very', 'sleepy', 'and', 'stupid', '),', 'whether', 'the', 'pleasure', 'of', 'making', 'a', 'daisy', '-', 'chain', 'would', 'be', 'worth', 'the', 'trouble', 'of', 'getting', 'up', 'and', 'picking', 'the', 'daisies', ',', 'when', 'suddenly', 'a', 'White', 'Rabbit', 'with', 'pink', 'eyes', 'ran', 'close', 'by', 'her', '.']]\n",
      "-------------------\n",
      "[['There', 'was', 'nothing', 'so', 'VERY', 'remarkable', 'in', 'that', ';', 'nor', 'did', 'Alice', 'think', 'it', 'so', 'VERY', 'much', 'out', 'of', 'the', 'way', 'to', 'hear', 'the', 'Rabbit', 'say', 'to', 'itself', ',', \"'\", 'Oh', 'dear', '!'], ['Oh', 'dear', '!'], ['I', 'shall', 'be', 'late', \"!'\"], ['(', 'when', 'she', 'thought', 'it', 'over', 'afterwards', ',', 'it', 'occurred', 'to', 'her', 'that', 'she', 'ought', 'to', 'have', 'wondered', 'at', 'this', ',', 'but', 'at', 'the', 'time', 'it', 'all', 'seemed', 'quite', 'natural', ');', 'but', 'when', 'the', 'Rabbit', 'actually', 'TOOK', 'A', 'WATCH', 'OUT', 'OF', 'ITS', 'WAISTCOAT', '-', 'POCKET', ',', 'and', 'looked', 'at', 'it', ',', 'and', 'then', 'hurried', 'on', ',', 'Alice', 'started', 'to', 'her', 'feet', ',', 'for', 'it', 'flashed', 'across', 'her', 'mind', 'that', 'she', 'had', 'never', 'before', 'seen', 'a', 'rabbit', 'with', 'either', 'a', 'waistcoat', '-', 'pocket', ',', 'or', 'a', 'watch', 'to', 'take', 'out', 'of', 'it', ',', 'and', 'burning', 'with', 'curiosity', ',', 'she', 'ran', 'across', 'the', 'field', 'after', 'it', ',', 'and', 'fortunately', 'was', 'just', 'in', 'time', 'to', 'see', 'it', 'pop', 'down', 'a', 'large', 'rabbit', '-', 'hole', 'under', 'the', 'hedge', '.']]\n",
      "-------------------\n"
     ]
    }
   ],
   "source": [
    "# cargo la versión de Alicia segmentada en párrafos\n",
    "alice_paras = gutenberg.paras(\"carroll-alice.txt\")\n",
    "print(\"Alice tiene\", len(alice_paras), \"párrafos\")\n",
    "\n",
    "# imprimo los cinco primeros\n",
    "for para in alice_paras[:5]:\n",
    "    print(para)\n",
    "    print(\"-------------------\")"
   ]
  }
 ],
 "metadata": {
  "colab": {
   "provenance": []
  },
  "kernelspec": {
   "display_name": "Python 3 (ipykernel)",
   "language": "python",
   "name": "python3"
  },
  "language_info": {
   "codemirror_mode": {
    "name": "ipython",
    "version": 3
   },
   "file_extension": ".py",
   "mimetype": "text/x-python",
   "name": "python",
   "nbconvert_exporter": "python",
   "pygments_lexer": "ipython3",
   "version": "3.9.12"
  }
 },
 "nbformat": 4,
 "nbformat_minor": 1
}
